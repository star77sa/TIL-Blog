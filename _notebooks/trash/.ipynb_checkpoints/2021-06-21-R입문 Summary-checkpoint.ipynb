{
 "cells": [
  {
   "cell_type": "markdown",
   "id": "extreme-aquatic",
   "metadata": {},
   "source": [
    "# R입문\n",
    "> 개인 공부용 요약노트. 상세한 설명은 없고, 코드위주로 작성\n",
    "\n",
    "- toc: true \n",
    "- badges: true\n",
    "- comments: true\n",
    "- categories: [jupyter, R]\n",
    "- image: images/chart-preview.png"
   ]
  },
  {
   "cell_type": "markdown",
   "id": "alternative-communist",
   "metadata": {},
   "source": [
    "---"
   ]
  },
  {
   "cell_type": "markdown",
   "id": "surprising-simpson",
   "metadata": {},
   "source": [
    "- R은 파이썬, C와 다르게 1부터 시작함"
   ]
  },
  {
   "cell_type": "markdown",
   "id": "transsexual-premiere",
   "metadata": {},
   "source": [
    "# 벡터"
   ]
  },
  {
   "cell_type": "markdown",
   "id": "infinite-building",
   "metadata": {},
   "source": [
    "```R\n",
    "era <-c(5,4,3,4,5,6)\n",
    "```"
   ]
  },
  {
   "cell_type": "markdown",
   "id": "raising-visit",
   "metadata": {},
   "source": [
    "- 벡터의 원소는 모두 같은 '형식'이나 '데이터 형'을 가진다."
   ]
  },
  {
   "cell_type": "markdown",
   "id": "median-afternoon",
   "metadata": {},
   "source": [
    "## 특수한 함수"
   ]
  },
  {
   "cell_type": "markdown",
   "id": "exempt-county",
   "metadata": {},
   "source": [
    "- seq()는 등차수열을 생성한다."
   ]
  },
  {
   "cell_type": "code",
   "execution_count": 25,
   "id": "patent-motion",
   "metadata": {
    "collapsed": true,
    "jupyter": {
     "outputs_hidden": true
    }
   },
   "outputs": [
    {
     "data": {
      "text/html": [
       "<ol class=list-inline>\n",
       "\t<li>0</li>\n",
       "\t<li>2.5</li>\n",
       "\t<li>5</li>\n",
       "\t<li>7.5</li>\n",
       "\t<li>10</li>\n",
       "</ol>\n"
      ],
      "text/latex": [
       "\\begin{enumerate*}\n",
       "\\item 0\n",
       "\\item 2.5\n",
       "\\item 5\n",
       "\\item 7.5\n",
       "\\item 10\n",
       "\\end{enumerate*}\n"
      ],
      "text/markdown": [
       "1. 0\n",
       "2. 2.5\n",
       "3. 5\n",
       "4. 7.5\n",
       "5. 10\n",
       "\n",
       "\n"
      ],
      "text/plain": [
       "[1]  0.0  2.5  5.0  7.5 10.0"
      ]
     },
     "metadata": {},
     "output_type": "display_data"
    }
   ],
   "source": [
    "seq(from = 0, to = 10, by = 2.5)"
   ]
  },
  {
   "cell_type": "code",
   "execution_count": 26,
   "id": "electric-banking",
   "metadata": {
    "collapsed": true,
    "jupyter": {
     "outputs_hidden": true
    }
   },
   "outputs": [
    {
     "data": {
      "text/html": [
       "<ol class=list-inline>\n",
       "\t<li>0</li>\n",
       "\t<li>1.11111111111111</li>\n",
       "\t<li>2.22222222222222</li>\n",
       "\t<li>3.33333333333333</li>\n",
       "\t<li>4.44444444444444</li>\n",
       "\t<li>5.55555555555556</li>\n",
       "\t<li>6.66666666666667</li>\n",
       "\t<li>7.77777777777778</li>\n",
       "\t<li>8.88888888888889</li>\n",
       "\t<li>10</li>\n",
       "</ol>\n"
      ],
      "text/latex": [
       "\\begin{enumerate*}\n",
       "\\item 0\n",
       "\\item 1.11111111111111\n",
       "\\item 2.22222222222222\n",
       "\\item 3.33333333333333\n",
       "\\item 4.44444444444444\n",
       "\\item 5.55555555555556\n",
       "\\item 6.66666666666667\n",
       "\\item 7.77777777777778\n",
       "\\item 8.88888888888889\n",
       "\\item 10\n",
       "\\end{enumerate*}\n"
      ],
      "text/markdown": [
       "1. 0\n",
       "2. 1.11111111111111\n",
       "3. 2.22222222222222\n",
       "4. 3.33333333333333\n",
       "5. 4.44444444444444\n",
       "6. 5.55555555555556\n",
       "7. 6.66666666666667\n",
       "8. 7.77777777777778\n",
       "9. 8.88888888888889\n",
       "10. 10\n",
       "\n",
       "\n"
      ],
      "text/plain": [
       " [1]  0.000000  1.111111  2.222222  3.333333  4.444444  5.555556  6.666667\n",
       " [8]  7.777778  8.888889 10.000000"
      ]
     },
     "metadata": {},
     "output_type": "display_data"
    }
   ],
   "source": [
    "seq(0, 10, length = 10)"
   ]
  },
  {
   "cell_type": "markdown",
   "id": "artificial-camel",
   "metadata": {},
   "source": [
    "- rep()는 값이 반복되는 벡터를 생성한다."
   ]
  },
  {
   "cell_type": "code",
   "execution_count": 27,
   "id": "coupled-prescription",
   "metadata": {
    "collapsed": true,
    "jupyter": {
     "outputs_hidden": true
    }
   },
   "outputs": [
    {
     "data": {
      "text/html": [
       "<ol class=list-inline>\n",
       "\t<li>0</li>\n",
       "\t<li>0</li>\n",
       "\t<li>0</li>\n",
       "\t<li>0</li>\n",
       "\t<li>0</li>\n",
       "\t<li>0</li>\n",
       "\t<li>0</li>\n",
       "\t<li>0</li>\n",
       "\t<li>0</li>\n",
       "\t<li>0</li>\n",
       "</ol>\n"
      ],
      "text/latex": [
       "\\begin{enumerate*}\n",
       "\\item 0\n",
       "\\item 0\n",
       "\\item 0\n",
       "\\item 0\n",
       "\\item 0\n",
       "\\item 0\n",
       "\\item 0\n",
       "\\item 0\n",
       "\\item 0\n",
       "\\item 0\n",
       "\\end{enumerate*}\n"
      ],
      "text/markdown": [
       "1. 0\n",
       "2. 0\n",
       "3. 0\n",
       "4. 0\n",
       "5. 0\n",
       "6. 0\n",
       "7. 0\n",
       "8. 0\n",
       "9. 0\n",
       "10. 0\n",
       "\n",
       "\n"
      ],
      "text/plain": [
       " [1] 0 0 0 0 0 0 0 0 0 0"
      ]
     },
     "metadata": {},
     "output_type": "display_data"
    }
   ],
   "source": [
    "rep(0, times = 10)"
   ]
  },
  {
   "cell_type": "code",
   "execution_count": 28,
   "id": "average-minute",
   "metadata": {
    "collapsed": true,
    "jupyter": {
     "outputs_hidden": true
    }
   },
   "outputs": [
    {
     "data": {
      "text/html": [
       "<ol class=list-inline>\n",
       "\t<li>1</li>\n",
       "\t<li>2</li>\n",
       "\t<li>3</li>\n",
       "\t<li>1</li>\n",
       "\t<li>2</li>\n",
       "\t<li>3</li>\n",
       "</ol>\n"
      ],
      "text/latex": [
       "\\begin{enumerate*}\n",
       "\\item 1\n",
       "\\item 2\n",
       "\\item 3\n",
       "\\item 1\n",
       "\\item 2\n",
       "\\item 3\n",
       "\\end{enumerate*}\n"
      ],
      "text/markdown": [
       "1. 1\n",
       "2. 2\n",
       "3. 3\n",
       "4. 1\n",
       "5. 2\n",
       "6. 3\n",
       "\n",
       "\n"
      ],
      "text/plain": [
       "[1] 1 2 3 1 2 3"
      ]
     },
     "metadata": {},
     "output_type": "display_data"
    }
   ],
   "source": [
    "rep(c(1,2,3), 2)"
   ]
  },
  {
   "cell_type": "code",
   "execution_count": 29,
   "id": "employed-truck",
   "metadata": {
    "collapsed": true,
    "jupyter": {
     "outputs_hidden": true
    }
   },
   "outputs": [
    {
     "data": {
      "text/html": [
       "<ol class=list-inline>\n",
       "\t<li>1</li>\n",
       "\t<li>2</li>\n",
       "\t<li>2</li>\n",
       "\t<li>3</li>\n",
       "\t<li>3</li>\n",
       "\t<li>3</li>\n",
       "</ol>\n"
      ],
      "text/latex": [
       "\\begin{enumerate*}\n",
       "\\item 1\n",
       "\\item 2\n",
       "\\item 2\n",
       "\\item 3\n",
       "\\item 3\n",
       "\\item 3\n",
       "\\end{enumerate*}\n"
      ],
      "text/markdown": [
       "1. 1\n",
       "2. 2\n",
       "3. 2\n",
       "4. 3\n",
       "5. 3\n",
       "6. 3\n",
       "\n",
       "\n"
      ],
      "text/plain": [
       "[1] 1 2 2 3 3 3"
      ]
     },
     "metadata": {},
     "output_type": "display_data"
    }
   ],
   "source": [
    "rep(c(1,2,3), c(1,2,3))"
   ]
  },
  {
   "cell_type": "code",
   "execution_count": 30,
   "id": "dutch-chase",
   "metadata": {
    "collapsed": true,
    "jupyter": {
     "outputs_hidden": true
    }
   },
   "outputs": [
    {
     "data": {
      "text/html": [
       "<ol class=list-inline>\n",
       "\t<li>1</li>\n",
       "\t<li>1</li>\n",
       "\t<li>1</li>\n",
       "\t<li>2</li>\n",
       "\t<li>2</li>\n",
       "\t<li>2</li>\n",
       "\t<li>3</li>\n",
       "\t<li>3</li>\n",
       "\t<li>3</li>\n",
       "</ol>\n"
      ],
      "text/latex": [
       "\\begin{enumerate*}\n",
       "\\item 1\n",
       "\\item 1\n",
       "\\item 1\n",
       "\\item 2\n",
       "\\item 2\n",
       "\\item 2\n",
       "\\item 3\n",
       "\\item 3\n",
       "\\item 3\n",
       "\\end{enumerate*}\n"
      ],
      "text/markdown": [
       "1. 1\n",
       "2. 1\n",
       "3. 1\n",
       "4. 2\n",
       "5. 2\n",
       "6. 2\n",
       "7. 3\n",
       "8. 3\n",
       "9. 3\n",
       "\n",
       "\n"
      ],
      "text/plain": [
       "[1] 1 1 1 2 2 2 3 3 3"
      ]
     },
     "metadata": {},
     "output_type": "display_data"
    }
   ],
   "source": [
    "rep(c(1,2,3), each = 3)"
   ]
  },
  {
   "cell_type": "markdown",
   "id": "continent-scanning",
   "metadata": {},
   "source": [
    "## 특수한 값"
   ]
  },
  {
   "cell_type": "markdown",
   "id": "optional-equivalent",
   "metadata": {},
   "source": [
    "- NA는 \"not available\" (결측)을 나타낸다."
   ]
  },
  {
   "cell_type": "markdown",
   "id": "early-space",
   "metadata": {},
   "source": [
    "mean(x, na.rm = TRUE)"
   ]
  },
  {
   "cell_type": "markdown",
   "id": "disturbed-parish",
   "metadata": {},
   "source": [
    "- NULL는 \"존재하지 않음\"을 나타낸다."
   ]
  },
  {
   "cell_type": "markdown",
   "id": "acceptable-visibility",
   "metadata": {},
   "source": [
    "## 필터링"
   ]
  },
  {
   "cell_type": "markdown",
   "id": "informative-standard",
   "metadata": {},
   "source": [
    "- 특정한 조건에 부합하는 데이터 값만 남기는 기법"
   ]
  },
  {
   "cell_type": "markdown",
   "id": "correct-symphony",
   "metadata": {
    "jupyter": {
     "outputs_hidden": true
    }
   },
   "source": [
    "```R\n",
    "z <- c(1,8,9,2,7,10,5,6,4,3)\n",
    "z[z %% 2 == 1]\n",
    "```"
   ]
  },
  {
   "cell_type": "markdown",
   "id": "worth-increase",
   "metadata": {},
   "source": [
    "## 유용한 함수들"
   ]
  },
  {
   "cell_type": "markdown",
   "id": "hollywood-conducting",
   "metadata": {},
   "source": [
    "- ifelse(test, yes, no)는 test가 TRUE이면 yes를 값으로 출력, False이면 no로 출력"
   ]
  },
  {
   "cell_type": "markdown",
   "id": "demographic-agenda",
   "metadata": {},
   "source": [
    "```R\n",
    "x.1 <- ifelse(x>0, x, 2*x)\n",
    "```"
   ]
  },
  {
   "cell_type": "markdown",
   "id": "animated-entry",
   "metadata": {},
   "source": [
    "- identical(x,y)는 x와 y가 동일한 벡터인가를 알려준다."
   ]
  },
  {
   "cell_type": "markdown",
   "id": "express-signature",
   "metadata": {},
   "source": [
    "- all()와 any()는 일부 혹은 모든 인수가 TRUE인지 알려준다."
   ]
  },
  {
   "cell_type": "markdown",
   "id": "fantastic-peripheral",
   "metadata": {},
   "source": [
    "- names()는 벡터의 개별 요소에 이름을 부여한다."
   ]
  },
  {
   "cell_type": "markdown",
   "id": "massive-family",
   "metadata": {},
   "source": [
    "- paste()는 2개의 문자열 벡터를 붙이는 기능을 한다."
   ]
  },
  {
   "cell_type": "markdown",
   "id": "controlling-charge",
   "metadata": {},
   "source": [
    "# 함수"
   ]
  },
  {
   "cell_type": "markdown",
   "id": "nuclear-director",
   "metadata": {},
   "source": [
    "```R \n",
    "sum.1 <- function(x) {\n",
    "  temp <- 0\n",
    "  for(i in 1:length) temp <- temp + x[i]\n",
    "  return(temp)\n",
    "} \n",
    "```"
   ]
  },
  {
   "cell_type": "markdown",
   "id": "acquired-receipt",
   "metadata": {},
   "source": [
    "# 행렬"
   ]
  },
  {
   "cell_type": "markdown",
   "id": "abroad-amendment",
   "metadata": {},
   "source": [
    "- cbind()는 같은 길이의 벡터를 열에 넣어 묶어주는 R함수"
   ]
  },
  {
   "cell_type": "markdown",
   "id": "endangered-kitty",
   "metadata": {},
   "source": [
    "```R\n",
    "stat <- cbind(year, game, era)\n",
    "```"
   ]
  },
  {
   "cell_type": "markdown",
   "id": "united-drawing",
   "metadata": {},
   "source": [
    "- rbind()는 같은 길이의 벡터를 행에 넣어 묶어주는 R함수"
   ]
  },
  {
   "cell_type": "markdown",
   "id": "informative-olympus",
   "metadata": {},
   "source": [
    "```R\n",
    "M <- rbind(e, f, g)\n",
    "```"
   ]
  },
  {
   "cell_type": "markdown",
   "id": "checked-overall",
   "metadata": {},
   "source": [
    "# 리스트"
   ]
  },
  {
   "cell_type": "markdown",
   "id": "conservative-consent",
   "metadata": {},
   "source": [
    "- p개의 벡터로 구성되는 데이터 객체"
   ]
  },
  {
   "cell_type": "markdown",
   "id": "exterior-binary",
   "metadata": {},
   "source": [
    "```R\n",
    "L <- list(game, era, e)\n",
    "L.1 <- list(game = game, era = era, player = e)\n",
    "```"
   ]
  },
  {
   "cell_type": "markdown",
   "id": "activated-diagram",
   "metadata": {},
   "source": [
    "- \"name\" 또는 $name 으로 인덱싱 가능"
   ]
  },
  {
   "cell_type": "markdown",
   "id": "periodic-exhibit",
   "metadata": {},
   "source": [
    "```R\n",
    "L.1$game\n",
    "L.1[\"game\"]\n",
    "```"
   ]
  },
  {
   "cell_type": "markdown",
   "id": "boolean-leisure",
   "metadata": {},
   "source": [
    "# 데이터프레임"
   ]
  },
  {
   "cell_type": "markdown",
   "id": "liberal-harassment",
   "metadata": {},
   "source": [
    "- p개의 벡터로 구성되는 데이터 객체"
   ]
  },
  {
   "cell_type": "markdown",
   "id": "greek-adventure",
   "metadata": {},
   "source": [
    "- 각 요소 벡터의 데이터 형태는 다를 수 있으나 길이는 같다."
   ]
  },
  {
   "cell_type": "markdown",
   "id": "quarterly-contrast",
   "metadata": {},
   "source": [
    "- 형태는 행렬과 같으나 열별로만 데이터 형이 같다."
   ]
  },
  {
   "cell_type": "markdown",
   "id": "miniature-pride",
   "metadata": {},
   "source": [
    "```R\n",
    "WS <- data.frame(year, winner, loser, wins, losses)\n",
    "```"
   ]
  },
  {
   "cell_type": "markdown",
   "id": "romantic-leader",
   "metadata": {},
   "source": [
    "- str() 함수는 데이터프레임의 구조를 파악하는 함수이다."
   ]
  },
  {
   "cell_type": "markdown",
   "id": "legislative-survey",
   "metadata": {},
   "source": [
    "```R\n",
    "\n",
    "str(WS)\n",
    "nrow(WS); ncol(WS); dim(WS), names(WS)  \n",
    "#행 갯수, 열 갯수, 행 열 갯수, 헤더 이름\n",
    "\n",
    "```"
   ]
  },
  {
   "cell_type": "markdown",
   "id": "existing-wireless",
   "metadata": {},
   "source": [
    "- 열(변수)인덱싱"
   ]
  },
  {
   "cell_type": "markdown",
   "id": "revised-stack",
   "metadata": {},
   "source": [
    "```R\n",
    "WS$winner\n",
    "WS[,2]\n",
    "WS[[2]]\n",
    "```"
   ]
  },
  {
   "cell_type": "markdown",
   "id": "floating-absorption",
   "metadata": {},
   "source": [
    "- 행(객체)인덱싱"
   ]
  },
  {
   "cell_type": "markdown",
   "id": "antique-elements",
   "metadata": {},
   "source": [
    "\"WS[3,]\n",
    "WS[\"3\",]"
   ]
  },
  {
   "cell_type": "markdown",
   "id": "completed-military",
   "metadata": {},
   "source": [
    "# 도움말"
   ]
  },
  {
   "cell_type": "markdown",
   "id": "korean-lighting",
   "metadata": {},
   "source": [
    "- R 함수에 대해 알고 싶은 경우"
   ]
  },
  {
   "cell_type": "markdown",
   "id": "final-stream",
   "metadata": {},
   "source": [
    "```R\n",
    "help(hist)\n",
    "?hist\n",
    "```"
   ]
  },
  {
   "cell_type": "markdown",
   "id": "australian-indie",
   "metadata": {},
   "source": [
    "---"
   ]
  },
  {
   "cell_type": "markdown",
   "id": "virgin-equivalent",
   "metadata": {},
   "source": [
    "# 1,2 장 까지 정리"
   ]
  }
 ],
 "metadata": {
  "kernelspec": {
   "display_name": "R",
   "language": "R",
   "name": "ir"
  },
  "language_info": {
   "codemirror_mode": "r",
   "file_extension": ".r",
   "mimetype": "text/x-r-source",
   "name": "R",
   "pygments_lexer": "r",
   "version": "3.6.1"
  }
 },
 "nbformat": 4,
 "nbformat_minor": 5
}
