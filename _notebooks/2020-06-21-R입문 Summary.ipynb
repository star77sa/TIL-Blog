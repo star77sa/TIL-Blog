{
 "cells": [
  {
   "cell_type": "markdown",
   "id": "right-confirmation",
   "metadata": {},
   "source": [
    "# R입문\n",
    "> 개인 공부용 요약노트. 상세한 설명은 없고, 코드위주로 작성\n",
    "\n",
    "- toc: true \n",
    "- badges: true\n",
    "- comments: true\n",
    "- categories: [jupyter, R]\n",
    "- image: images/chart-preview.png"
   ]
  },
  {
   "cell_type": "markdown",
   "id": "varied-savannah",
   "metadata": {},
   "source": [
    "---"
   ]
  },
  {
   "cell_type": "markdown",
   "id": "molecular-joshua",
   "metadata": {},
   "source": [
    "- R은 파이썬, C와 다르게 1부터 시작함"
   ]
  },
  {
   "cell_type": "markdown",
   "id": "offensive-engine",
   "metadata": {},
   "source": [
    "# 벡터"
   ]
  },
  {
   "cell_type": "markdown",
   "id": "dated-vitamin",
   "metadata": {},
   "source": [
    "```R\n",
    "era <-c(5,4,3,4,5,6)\n",
    "```"
   ]
  },
  {
   "cell_type": "markdown",
   "id": "indian-nitrogen",
   "metadata": {},
   "source": [
    "- 벡터의 원소는 모두 같은 '형식'이나 '데이터 형'을 가진다."
   ]
  },
  {
   "cell_type": "code",
   "execution_count": 12,
   "id": "sunset-mercy",
   "metadata": {},
   "outputs": [],
   "source": [
    "## 특수한 함수"
   ]
  },
  {
   "cell_type": "code",
   "execution_count": null,
   "id": "central-alarm",
   "metadata": {},
   "outputs": [],
   "source": [
    "- seq()는 등차수열을 생성한다."
   ]
  },
  {
   "cell_type": "code",
   "execution_count": 13,
   "id": "inappropriate-start",
   "metadata": {},
   "outputs": [
    {
     "data": {
      "text/html": [
       "<ol class=list-inline>\n",
       "\t<li>0</li>\n",
       "\t<li>2.5</li>\n",
       "\t<li>5</li>\n",
       "\t<li>7.5</li>\n",
       "\t<li>10</li>\n",
       "</ol>\n"
      ],
      "text/latex": [
       "\\begin{enumerate*}\n",
       "\\item 0\n",
       "\\item 2.5\n",
       "\\item 5\n",
       "\\item 7.5\n",
       "\\item 10\n",
       "\\end{enumerate*}\n"
      ],
      "text/markdown": [
       "1. 0\n",
       "2. 2.5\n",
       "3. 5\n",
       "4. 7.5\n",
       "5. 10\n",
       "\n",
       "\n"
      ],
      "text/plain": [
       "[1]  0.0  2.5  5.0  7.5 10.0"
      ]
     },
     "metadata": {},
     "output_type": "display_data"
    }
   ],
   "source": [
    "seq(from = 0, to = 10, by = 2.5)"
   ]
  },
  {
   "cell_type": "code",
   "execution_count": 14,
   "id": "sapphire-organic",
   "metadata": {},
   "outputs": [
    {
     "data": {
      "text/html": [
       "<ol class=list-inline>\n",
       "\t<li>0</li>\n",
       "\t<li>1.11111111111111</li>\n",
       "\t<li>2.22222222222222</li>\n",
       "\t<li>3.33333333333333</li>\n",
       "\t<li>4.44444444444444</li>\n",
       "\t<li>5.55555555555556</li>\n",
       "\t<li>6.66666666666667</li>\n",
       "\t<li>7.77777777777778</li>\n",
       "\t<li>8.88888888888889</li>\n",
       "\t<li>10</li>\n",
       "</ol>\n"
      ],
      "text/latex": [
       "\\begin{enumerate*}\n",
       "\\item 0\n",
       "\\item 1.11111111111111\n",
       "\\item 2.22222222222222\n",
       "\\item 3.33333333333333\n",
       "\\item 4.44444444444444\n",
       "\\item 5.55555555555556\n",
       "\\item 6.66666666666667\n",
       "\\item 7.77777777777778\n",
       "\\item 8.88888888888889\n",
       "\\item 10\n",
       "\\end{enumerate*}\n"
      ],
      "text/markdown": [
       "1. 0\n",
       "2. 1.11111111111111\n",
       "3. 2.22222222222222\n",
       "4. 3.33333333333333\n",
       "5. 4.44444444444444\n",
       "6. 5.55555555555556\n",
       "7. 6.66666666666667\n",
       "8. 7.77777777777778\n",
       "9. 8.88888888888889\n",
       "10. 10\n",
       "\n",
       "\n"
      ],
      "text/plain": [
       " [1]  0.000000  1.111111  2.222222  3.333333  4.444444  5.555556  6.666667\n",
       " [8]  7.777778  8.888889 10.000000"
      ]
     },
     "metadata": {},
     "output_type": "display_data"
    }
   ],
   "source": [
    "seq(0, 10, length = 10)"
   ]
  },
  {
   "cell_type": "code",
   "execution_count": null,
   "id": "abroad-devices",
   "metadata": {},
   "outputs": [],
   "source": [
    "- rep()는 값이 반복되는 벡터를 생성한다."
   ]
  },
  {
   "cell_type": "code",
   "execution_count": 15,
   "id": "reported-occupation",
   "metadata": {},
   "outputs": [
    {
     "data": {
      "text/html": [
       "<ol class=list-inline>\n",
       "\t<li>0</li>\n",
       "\t<li>0</li>\n",
       "\t<li>0</li>\n",
       "\t<li>0</li>\n",
       "\t<li>0</li>\n",
       "\t<li>0</li>\n",
       "\t<li>0</li>\n",
       "\t<li>0</li>\n",
       "\t<li>0</li>\n",
       "\t<li>0</li>\n",
       "</ol>\n"
      ],
      "text/latex": [
       "\\begin{enumerate*}\n",
       "\\item 0\n",
       "\\item 0\n",
       "\\item 0\n",
       "\\item 0\n",
       "\\item 0\n",
       "\\item 0\n",
       "\\item 0\n",
       "\\item 0\n",
       "\\item 0\n",
       "\\item 0\n",
       "\\end{enumerate*}\n"
      ],
      "text/markdown": [
       "1. 0\n",
       "2. 0\n",
       "3. 0\n",
       "4. 0\n",
       "5. 0\n",
       "6. 0\n",
       "7. 0\n",
       "8. 0\n",
       "9. 0\n",
       "10. 0\n",
       "\n",
       "\n"
      ],
      "text/plain": [
       " [1] 0 0 0 0 0 0 0 0 0 0"
      ]
     },
     "metadata": {},
     "output_type": "display_data"
    }
   ],
   "source": [
    "rep(0, times = 10)"
   ]
  },
  {
   "cell_type": "code",
   "execution_count": 16,
   "id": "global-arrest",
   "metadata": {},
   "outputs": [
    {
     "data": {
      "text/html": [
       "<ol class=list-inline>\n",
       "\t<li>1</li>\n",
       "\t<li>2</li>\n",
       "\t<li>3</li>\n",
       "\t<li>1</li>\n",
       "\t<li>2</li>\n",
       "\t<li>3</li>\n",
       "</ol>\n"
      ],
      "text/latex": [
       "\\begin{enumerate*}\n",
       "\\item 1\n",
       "\\item 2\n",
       "\\item 3\n",
       "\\item 1\n",
       "\\item 2\n",
       "\\item 3\n",
       "\\end{enumerate*}\n"
      ],
      "text/markdown": [
       "1. 1\n",
       "2. 2\n",
       "3. 3\n",
       "4. 1\n",
       "5. 2\n",
       "6. 3\n",
       "\n",
       "\n"
      ],
      "text/plain": [
       "[1] 1 2 3 1 2 3"
      ]
     },
     "metadata": {},
     "output_type": "display_data"
    }
   ],
   "source": [
    "rep(c(1,2,3), 2)"
   ]
  },
  {
   "cell_type": "code",
   "execution_count": 17,
   "id": "fundamental-bottom",
   "metadata": {},
   "outputs": [
    {
     "data": {
      "text/html": [
       "<ol class=list-inline>\n",
       "\t<li>1</li>\n",
       "\t<li>2</li>\n",
       "\t<li>2</li>\n",
       "\t<li>3</li>\n",
       "\t<li>3</li>\n",
       "\t<li>3</li>\n",
       "</ol>\n"
      ],
      "text/latex": [
       "\\begin{enumerate*}\n",
       "\\item 1\n",
       "\\item 2\n",
       "\\item 2\n",
       "\\item 3\n",
       "\\item 3\n",
       "\\item 3\n",
       "\\end{enumerate*}\n"
      ],
      "text/markdown": [
       "1. 1\n",
       "2. 2\n",
       "3. 2\n",
       "4. 3\n",
       "5. 3\n",
       "6. 3\n",
       "\n",
       "\n"
      ],
      "text/plain": [
       "[1] 1 2 2 3 3 3"
      ]
     },
     "metadata": {},
     "output_type": "display_data"
    }
   ],
   "source": [
    "rep(c(1,2,3), c(1,2,3))"
   ]
  },
  {
   "cell_type": "code",
   "execution_count": 18,
   "id": "christian-enhancement",
   "metadata": {},
   "outputs": [
    {
     "data": {
      "text/html": [
       "<ol class=list-inline>\n",
       "\t<li>1</li>\n",
       "\t<li>1</li>\n",
       "\t<li>1</li>\n",
       "\t<li>2</li>\n",
       "\t<li>2</li>\n",
       "\t<li>2</li>\n",
       "\t<li>3</li>\n",
       "\t<li>3</li>\n",
       "\t<li>3</li>\n",
       "</ol>\n"
      ],
      "text/latex": [
       "\\begin{enumerate*}\n",
       "\\item 1\n",
       "\\item 1\n",
       "\\item 1\n",
       "\\item 2\n",
       "\\item 2\n",
       "\\item 2\n",
       "\\item 3\n",
       "\\item 3\n",
       "\\item 3\n",
       "\\end{enumerate*}\n"
      ],
      "text/markdown": [
       "1. 1\n",
       "2. 1\n",
       "3. 1\n",
       "4. 2\n",
       "5. 2\n",
       "6. 2\n",
       "7. 3\n",
       "8. 3\n",
       "9. 3\n",
       "\n",
       "\n"
      ],
      "text/plain": [
       "[1] 1 1 1 2 2 2 3 3 3"
      ]
     },
     "metadata": {},
     "output_type": "display_data"
    }
   ],
   "source": [
    "rep(c(1,2,3), each = 3)"
   ]
  },
  {
   "cell_type": "code",
   "execution_count": 19,
   "id": "attached-captain",
   "metadata": {},
   "outputs": [],
   "source": [
    "## 특수한 값"
   ]
  },
  {
   "cell_type": "code",
   "execution_count": null,
   "id": "liberal-gregory",
   "metadata": {},
   "outputs": [],
   "source": [
    "- NA는 \"not available\" (결측)을 나타낸다."
   ]
  },
  {
   "cell_type": "code",
   "execution_count": null,
   "id": "universal-tackle",
   "metadata": {},
   "outputs": [],
   "source": [
    "mean(x, na.rm = TRUE)"
   ]
  },
  {
   "cell_type": "code",
   "execution_count": 20,
   "id": "extended-singer",
   "metadata": {},
   "outputs": [
    {
     "ename": "ERROR",
     "evalue": "Error in parse(text = x, srcfile = src): <text>:1:10: 예상하지 못한 문자열 상수(string constant)입니다.\n1: - NULL는 \"존재하지 않음\"\n             ^\n",
     "output_type": "error",
     "traceback": [
      "Error in parse(text = x, srcfile = src): <text>:1:10: 예상하지 못한 문자열 상수(string constant)입니다.\n1: - NULL는 \"존재하지 않음\"\n             ^\nTraceback:\n"
     ]
    }
   ],
   "source": [
    "- NULL는 \"존재하지 않음\"을 나타낸다."
   ]
  },
  {
   "cell_type": "code",
   "execution_count": 21,
   "id": "european-implement",
   "metadata": {},
   "outputs": [],
   "source": [
    "## 필터링"
   ]
  },
  {
   "cell_type": "code",
   "execution_count": null,
   "id": "accomplished-invasion",
   "metadata": {},
   "outputs": [],
   "source": [
    "특정한 조건에 부합하는 데이터 값만 남기는 기법\n",
    "z[z %% 2 == 1]"
   ]
  },
  {
   "cell_type": "code",
   "execution_count": null,
   "id": "brutal-powder",
   "metadata": {},
   "outputs": [],
   "source": [
    "z <"
   ]
  },
  {
   "cell_type": "markdown",
   "id": "general-voluntary",
   "metadata": {},
   "source": [
    "# 함수"
   ]
  },
  {
   "cell_type": "markdown",
   "id": "proud-complement",
   "metadata": {},
   "source": [
    "```R \n",
    "sum.1 <- function(x) {\n",
    "  temp <- 0\n",
    "  for(i in 1:length) temp <- temp + x[i]\n",
    "  return(temp)\n",
    "} \n",
    "```"
   ]
  },
  {
   "cell_type": "markdown",
   "id": "alien-andrew",
   "metadata": {},
   "source": [
    "# 행렬"
   ]
  },
  {
   "cell_type": "markdown",
   "id": "front-interval",
   "metadata": {},
   "source": [
    "- cbind()는 같은 길이의 벡터를 열에 넣어 묶어주는 R함수"
   ]
  },
  {
   "cell_type": "markdown",
   "id": "approved-wealth",
   "metadata": {},
   "source": [
    "```R\n",
    "stat <- cbind(year, game, era)\n",
    "```"
   ]
  },
  {
   "cell_type": "markdown",
   "id": "electric-magnitude",
   "metadata": {},
   "source": [
    "- rbind()는 같은 길이의 벡터를 행에 넣어 묶어주는 R함수"
   ]
  },
  {
   "cell_type": "markdown",
   "id": "convertible-worker",
   "metadata": {},
   "source": [
    "```R\n",
    "M <- rbind(e, f, g)\n",
    "```"
   ]
  },
  {
   "cell_type": "markdown",
   "id": "southeast-operation",
   "metadata": {},
   "source": [
    "# 리스트"
   ]
  },
  {
   "cell_type": "markdown",
   "id": "unauthorized-glenn",
   "metadata": {},
   "source": [
    "- p개의 벡터로 구성되는 데이터 객체"
   ]
  },
  {
   "cell_type": "markdown",
   "id": "artificial-member",
   "metadata": {},
   "source": [
    "```R\n",
    "L <- list(game, era, e)\n",
    "L.1 <- list(game = game, era = era, player = e)\n",
    "```"
   ]
  },
  {
   "cell_type": "markdown",
   "id": "random-dover",
   "metadata": {},
   "source": [
    "- \"name\" 또는 $name 으로 인덱싱 가능"
   ]
  },
  {
   "cell_type": "markdown",
   "id": "fewer-emission",
   "metadata": {},
   "source": [
    "```R\n",
    "L.1$game\n",
    "L.1[\"game\"]\n",
    "```"
   ]
  },
  {
   "cell_type": "markdown",
   "id": "public-correspondence",
   "metadata": {},
   "source": [
    "# 데이터프레임"
   ]
  },
  {
   "cell_type": "markdown",
   "id": "tropical-technique",
   "metadata": {},
   "source": [
    "- p개의 벡터로 구성되는 데이터 객체"
   ]
  },
  {
   "cell_type": "markdown",
   "id": "married-clerk",
   "metadata": {},
   "source": [
    "- 각 요소 벡터의 데이터 형태는 다를 수 있으나 길이는 같다."
   ]
  },
  {
   "cell_type": "markdown",
   "id": "conscious-wales",
   "metadata": {},
   "source": [
    "- 형태는 행렬과 같으나 열별로만 데이터 형이 같다."
   ]
  },
  {
   "cell_type": "markdown",
   "id": "educational-division",
   "metadata": {},
   "source": [
    "```R\n",
    "WS <- data.frame(year, winner, loser, wins, losses)\n",
    "```"
   ]
  },
  {
   "cell_type": "markdown",
   "id": "eastern-elephant",
   "metadata": {},
   "source": [
    "- str() 함수는 데이터프레임의 구조를 파악하는 함수이다."
   ]
  },
  {
   "cell_type": "markdown",
   "id": "elementary-engagement",
   "metadata": {},
   "source": [
    "```R\n",
    "\n",
    "str(WS)\n",
    "nrow(WS); ncol(WS); dim(WS), names(WS)  \n",
    "#행 갯수, 열 갯수, 행 열 갯수, 헤더 이름\n",
    "\n",
    "```"
   ]
  },
  {
   "cell_type": "markdown",
   "id": "portuguese-helping",
   "metadata": {},
   "source": [
    "- 열(변수)인덱싱"
   ]
  },
  {
   "cell_type": "code",
   "execution_count": 6,
   "id": "medical-reminder",
   "metadata": {},
   "outputs": [
    {
     "ename": "ERROR",
     "evalue": "Error in eval(expr, envir, enclos): 객체 'WS'를 찾을 수 없습니다\n",
     "output_type": "error",
     "traceback": [
      "Error in eval(expr, envir, enclos): 객체 'WS'를 찾을 수 없습니다\nTraceback:\n"
     ]
    }
   ],
   "source": [
    "WS$winner\n",
    "WS[,2]\n",
    "WS[[2]]"
   ]
  },
  {
   "cell_type": "code",
   "execution_count": 7,
   "id": "large-buddy",
   "metadata": {},
   "outputs": [
    {
     "ename": "ERROR",
     "evalue": "Error in parse(text = x, srcfile = src): <text>:1:11: 예상하지 못한 기호(symbol)입니다.\n1: - 행(객체)인덱싱\n              ^\n",
     "output_type": "error",
     "traceback": [
      "Error in parse(text = x, srcfile = src): <text>:1:11: 예상하지 못한 기호(symbol)입니다.\n1: - 행(객체)인덱싱\n              ^\nTraceback:\n"
     ]
    }
   ],
   "source": [
    "- 행(객체)인덱싱"
   ]
  },
  {
   "cell_type": "code",
   "execution_count": 8,
   "id": "excess-israel",
   "metadata": {},
   "outputs": [
    {
     "ename": "ERROR",
     "evalue": "Error in eval(expr, envir, enclos): 객체 'WS'를 찾을 수 없습니다\n",
     "output_type": "error",
     "traceback": [
      "Error in eval(expr, envir, enclos): 객체 'WS'를 찾을 수 없습니다\nTraceback:\n"
     ]
    }
   ],
   "source": [
    "WS[3,]\n",
    "WS[\"3\",]"
   ]
  },
  {
   "cell_type": "code",
   "execution_count": 9,
   "id": "young-refund",
   "metadata": {},
   "outputs": [],
   "source": [
    "# 도움말"
   ]
  },
  {
   "cell_type": "code",
   "execution_count": 10,
   "id": "prepared-noise",
   "metadata": {},
   "outputs": [
    {
     "ename": "ERROR",
     "evalue": "Error in parse(text = x, srcfile = src): <text>:1:5: 예상하지 못한 기호(symbol)입니다.\n1: - R 함수에\n        ^\n",
     "output_type": "error",
     "traceback": [
      "Error in parse(text = x, srcfile = src): <text>:1:5: 예상하지 못한 기호(symbol)입니다.\n1: - R 함수에\n        ^\nTraceback:\n"
     ]
    }
   ],
   "source": [
    "- R 함수에 대해 알고 싶은 경우"
   ]
  },
  {
   "cell_type": "markdown",
   "id": "equal-mainland",
   "metadata": {},
   "source": [
    "```R\n",
    "help(hist)\n",
    "?hist\n",
    "```"
   ]
  },
  {
   "cell_type": "code",
   "execution_count": null,
   "id": "academic-papua",
   "metadata": {},
   "outputs": [],
   "source": []
  }
 ],
 "metadata": {
  "kernelspec": {
   "display_name": "R",
   "language": "R",
   "name": "ir"
  },
  "language_info": {
   "codemirror_mode": "r",
   "file_extension": ".r",
   "mimetype": "text/x-r-source",
   "name": "R",
   "pygments_lexer": "r",
   "version": "3.6.1"
  }
 },
 "nbformat": 4,
 "nbformat_minor": 5
}
