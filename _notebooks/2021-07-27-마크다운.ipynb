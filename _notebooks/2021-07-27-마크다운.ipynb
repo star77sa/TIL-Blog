{
 "cells": [
  {
   "cell_type": "markdown",
   "id": "sunrise-museum",
   "metadata": {},
   "source": [
    "# 마크다운\n",
    "> 마크다운 문법, 사용하는 것들\n",
    "\n",
    "- toc: true \n",
    "- badges: true\n",
    "- comments: true\n",
    "- categories: [Markdown]\n"
   ]
  },
  {
   "cell_type": "markdown",
   "id": "framed-salad",
   "metadata": {},
   "source": [
    "## 이미지 업로드"
   ]
  },
  {
   "cell_type": "markdown",
   "id": "caring-roller",
   "metadata": {},
   "source": [
    "```python\n",
    "# <img src=\"my_icons/리스트.jpg\">\n",
    "```"
   ]
  },
  {
   "cell_type": "markdown",
   "id": "secure-blond",
   "metadata": {},
   "source": [
    "<img src=\"my_icons/리스트.jpg\">"
   ]
  },
  {
   "cell_type": "markdown",
   "id": "prostate-guatemala",
   "metadata": {},
   "source": [
    "- 크기조정"
   ]
  },
  {
   "cell_type": "markdown",
   "id": "confident-interest",
   "metadata": {},
   "source": [
    "```python\n",
    "# <img src=\"my_icons/리스트.jpg\" width=\"300\" height=\"300\">\n",
    "```"
   ]
  },
  {
   "cell_type": "markdown",
   "id": "considered-thriller",
   "metadata": {},
   "source": [
    "\n",
    "<img src=\"my_icons/리스트.jpg\" width=\"500\" height=\"500\">"
   ]
  },
  {
   "cell_type": "markdown",
   "id": "enhanced-video",
   "metadata": {},
   "source": [
    "## 주석처리"
   ]
  },
  {
   "cell_type": "code",
   "execution_count": 1,
   "id": "american-transaction",
   "metadata": {},
   "outputs": [],
   "source": [
    "#\n",
    "# <--! 주석처리 할 문장 -->"
   ]
  },
  {
   "cell_type": "markdown",
   "id": "revolutionary-finnish",
   "metadata": {},
   "source": [
    "## 수식"
   ]
  },
  {
   "cell_type": "code",
   "execution_count": 3,
   "id": "continued-telephone",
   "metadata": {},
   "outputs": [],
   "source": [
    "#\n",
    "# $$ 수식 $$"
   ]
  },
  {
   "cell_type": "markdown",
   "id": "gorgeous-drain",
   "metadata": {},
   "source": [
    "  $$ u_1 = w_{11}x_1 + w_{12}x_2 + w_{13}x_3 + w_{14}x_4 + b_1 $$"
   ]
  },
  {
   "cell_type": "markdown",
   "id": "searching-apple",
   "metadata": {},
   "source": [
    "여기서, 내리는 숫자가 2개인경우 w_1_1이 아니라 w_{11}로 써주어야함!"
   ]
  },
  {
   "cell_type": "markdown",
   "id": "legal-hebrew",
   "metadata": {},
   "source": [
    "### 수식 띄어쓰기"
   ]
  },
  {
   "cell_type": "code",
   "execution_count": 4,
   "id": "empty-unknown",
   "metadata": {},
   "outputs": [],
   "source": [
    "#\n",
    "\n",
    "# \\,         한칸\n",
    "\n",
    "# \\;         두칸\n",
    "\n",
    "# \\quad      네칸\n",
    "\n",
    "# \\qquad    여덟칸"
   ]
  },
  {
   "cell_type": "markdown",
   "id": "romantic-integration",
   "metadata": {},
   "source": [
    "## 표만들기"
   ]
  },
  {
   "cell_type": "code",
   "execution_count": 9,
   "id": "median-portrait",
   "metadata": {},
   "outputs": [],
   "source": [
    "#\n",
    "# |제목|내용|설명|\n",
    "# |------|---|---|\n",
    "# |테스트1|테스트2|테스트3|\n",
    "# |테스트1|테스트2|테스트3|\n",
    "# |테스트1|테스트2|테스트3|"
   ]
  },
  {
   "cell_type": "markdown",
   "id": "final-message",
   "metadata": {},
   "source": [
    "|제목|내용|설명|\n",
    "|------|---|---|\n",
    "|테스트1|테스트2|테스트3|\n",
    "|테스트1|테스트2|테스트3|\n",
    "|테스트1|테스트2|테스트3|"
   ]
  },
  {
   "cell_type": "markdown",
   "id": "assumed-christian",
   "metadata": {},
   "source": [
    "## italic , bold"
   ]
  },
  {
   "cell_type": "code",
   "execution_count": 5,
   "id": "guided-centre",
   "metadata": {},
   "outputs": [],
   "source": [
    "#\n",
    "# *내용*"
   ]
  },
  {
   "cell_type": "markdown",
   "id": "ongoing-immigration",
   "metadata": {},
   "source": [
    "*내용*"
   ]
  },
  {
   "cell_type": "code",
   "execution_count": null,
   "id": "governmental-seattle",
   "metadata": {},
   "outputs": [],
   "source": [
    "#\n",
    "# **내용**"
   ]
  },
  {
   "cell_type": "markdown",
   "id": "colored-owner",
   "metadata": {},
   "source": [
    "**내용**"
   ]
  },
  {
   "cell_type": "code",
   "execution_count": 6,
   "id": "sized-parcel",
   "metadata": {},
   "outputs": [],
   "source": [
    "#\n",
    "# ***내용***"
   ]
  },
  {
   "cell_type": "markdown",
   "id": "proof-recognition",
   "metadata": {},
   "source": [
    "***내용***"
   ]
  },
  {
   "cell_type": "code",
   "execution_count": null,
   "id": "difficult-female",
   "metadata": {},
   "outputs": [],
   "source": []
  }
 ],
 "metadata": {
  "kernelspec": {
   "display_name": "Python 3",
   "language": "python",
   "name": "python3"
  },
  "language_info": {
   "codemirror_mode": {
    "name": "ipython",
    "version": 3
   },
   "file_extension": ".py",
   "mimetype": "text/x-python",
   "name": "python",
   "nbconvert_exporter": "python",
   "pygments_lexer": "ipython3",
   "version": "3.8.8"
  }
 },
 "nbformat": 4,
 "nbformat_minor": 5
}
