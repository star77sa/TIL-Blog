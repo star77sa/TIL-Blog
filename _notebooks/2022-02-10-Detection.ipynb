{
 "cells": [
  {
   "cell_type": "markdown",
   "id": "ideal-dragon",
   "metadata": {},
   "source": [
    "# Object Detection\n",
    "> 객체 탐지 논문\n",
    "\n",
    "- toc: true \n",
    "- badges: true\n",
    "- comments: true\n",
    "- categories: [python]\n",
    "- image: images/"
   ]
  },
  {
   "cell_type": "markdown",
   "id": "92db2688-eeeb-487d-8aae-2311b5054ad6",
   "metadata": {},
   "source": [
    "---\n"
   ]
  },
  {
   "cell_type": "markdown",
   "id": "e88283f0-af0b-4655-960f-1808a0b9b344",
   "metadata": {},
   "source": [
    "참고 사이트 : https://ganghee-lee.tistory.com/"
   ]
  },
  {
   "cell_type": "markdown",
   "id": "ad7faad9-fee0-4f1f-bf7d-43f591d0d6e4",
   "metadata": {},
   "source": [
    "# 1. R-CNN (2013)\n",
    "***Rich feature hierarchies for accurate object detection and semantic segmentation***\n",
    "\n",
    "원문 : https://arxiv.org/abs/1311.2524"
   ]
  },
  {
   "cell_type": "markdown",
   "id": "ac860587-bc3a-49e5-bc53-f81cfac4135c",
   "metadata": {},
   "source": [
    "<img src='img/Detection/rcnn.png' width=\"500\" height=\"500\">"
   ]
  },
  {
   "cell_type": "markdown",
   "id": "7b4d1ca7-a7ea-444a-9530-e1c42e083187",
   "metadata": {},
   "source": [
    "\" R-CNN 프로세스 \""
   ]
  },
  {
   "cell_type": "markdown",
   "id": "d0583a3a-497a-453c-b5f8-9c40046618cf",
   "metadata": {},
   "source": [
    "1. Image를 입력받는다.\n",
    "\n",
    "2. Selective search 알고리즘에 의해 regional proposal output 약 2000개를 추출한다.\n",
    "\n",
    "    (추출한 regional proposal output을 모두 동일 input size로 만들어주기 위해 warp 해준다.\n",
    "    \n",
    "    `?` 왜 동일 input size로 만들어 줄까? : 사실 Convolution Layer에는 input size가 고정이지 않다. 그러나 마지막 FC layer에서의 input size는 고정이므로 Convolution Layer에 입력에서부터 동일한 input size로 넣어주어 output size를 동일하게 하는 것)\n",
    "\n",
    "    \n",
    "3. 2000개의 warped image를 각각 CNN 모델에 넣는다.\n",
    "\n",
    "4. 각각의 Convolution 결과에 대해 classification을 진행하여 결과를 얻는다.\n",
    "\n"
   ]
  },
  {
   "cell_type": "markdown",
   "id": "bb1e4a75-c65c-47c0-85f4-07306c995d55",
   "metadata": {},
   "source": [
    "위의 과정을 수행하기 위해 R-CNN은 세 가지 모듈로 나누어 놓았다."
   ]
  },
  {
   "cell_type": "markdown",
   "id": "bc96fc9e-be22-483d-a565-9e5fc3f78c6b",
   "metadata": {},
   "source": [
    "- 1. Region Proposal : \"Object가 있을법한 영역\"을 찾는 모듈 (기존의 Sliding window방식의 비효율성 극복)\n",
    "    \n",
    "- 2. CNN : 각각의 영역으로부터 고정된 크기의 Feature Vector를 뽑아낸다.\n",
    "\n",
    "- 3. SVM : Classification을 위한 선형 지도학습 모델\n",
    "\n",
    "    `?` 왜 Classifier로 Softmax를 쓰지 않고 SVM을 사용했을까? : CNN fine-tuning을 위한 학습 데이터가 시기상 많지 않아서 Softmax를 적용시키면 오히려 성능이 낮아져 SVM을 사용"
   ]
  },
  {
   "cell_type": "markdown",
   "id": "531d8f0a-f744-49a2-ae21-211eb6c3b375",
   "metadata": {},
   "source": [
    "## 1. Region Proposal"
   ]
  },
  {
   "cell_type": "markdown",
   "id": "0b65002c-e1f0-42c4-ba0a-f9589d8de17b",
   "metadata": {},
   "source": [
    "<img src='img/Detection/region.png' width=\"500\" height=\"500\">"
   ]
  },
  {
   "cell_type": "markdown",
   "id": "8dd634bf-f5a3-4b00-9e1c-961fd7888324",
   "metadata": {},
   "source": [
    "R-CNN에서는 가장 먼저 Region Proposal 단계에서 \"물체가 있을 법한 영역\"을 찾는다.\n",
    "\n",
    "이는 위에서 말했듯이 기존의 Sliding window방식의 비효율성을 극복하기 위한 것이다.\n",
    "\n",
    "먼저 기존의 Sliding window가 무엇인지 살펴보자."
   ]
  },
  {
   "cell_type": "markdown",
   "id": "ff91cc15-8501-4d75-9de7-35f8ba3e7171",
   "metadata": {},
   "source": [
    "### Sliding Window"
   ]
  },
  {
   "cell_type": "markdown",
   "id": "047e552d-f7a6-409a-9012-35b5076f9471",
   "metadata": {},
   "source": [
    "Sliding window방식은 이미지에서 물체를 찾기 위해 window의 (크기, 비율)을 임의로 마구 바꿔가면서\n",
    "모든 영역에 대해서 탐색하는 것이다."
   ]
  },
  {
   "cell_type": "markdown",
   "id": "d710bfa4-de14-4c0e-8494-b0ea64f9b37b",
   "metadata": {},
   "source": [
    "<img src='img/Detection/sliding.png' width=\"500\" height=\"500\">"
   ]
  },
  {
   "cell_type": "markdown",
   "id": "eee201a6-2fdd-40ff-8c6b-351ae9224880",
   "metadata": {},
   "source": [
    "<center>좌 : 모든 영역에 대해 탐색 / 우 : 크기와 비율을 변형</center>"
   ]
  },
  {
   "cell_type": "markdown",
   "id": "9042e489-6850-4fc3-abb8-0523072410e1",
   "metadata": {},
   "source": [
    "이렇게 임의의 (크기, 비율)로 모든 영역을 탐색하는 것은 너무 느리다.\n",
    "\n",
    "따라서 R-CNN에서는 이 비효율성을 극복하기 위해 Selective search 알고리즘을 사용한다."
   ]
  },
  {
   "cell_type": "markdown",
   "id": "85477d14-40de-4ffb-af57-679dbc173240",
   "metadata": {},
   "source": [
    "### Selective search"
   ]
  },
  {
   "cell_type": "markdown",
   "id": "af102228-e79c-4bf0-96f4-df4c80f2230b",
   "metadata": {},
   "source": [
    "<img src='img/Detection/selective.png' width=\"500\" height=\"500\">"
   ]
  },
  {
   "cell_type": "markdown",
   "id": "34060fef-7a92-404f-bfe5-8352da271242",
   "metadata": {},
   "source": [
    "1. 색상, 질감, 영역크기 등.. 을 이용해 non-object-based segmentation을 수행한다.\n",
    "\n",
    "    이 작업을 통해 좌측 제일 하단 그림과 같이 많은 small segmented areas들을 얻을 수 있다.\n",
    "\n",
    "2. Bottom-up 방식으로 small segmented areas들을 합쳐서 더 큰 segmented areas들을 만든다.\n",
    "\n",
    "3. (2)작업을 반복하여 최종적으로 2000개의 region proposal을 생성한다.\n",
    "\n",
    "Selective search알고리즘에 의해 2000개의 region proposal이 생성되면 이들을 모두 CNN에 넣기 전에\n",
    "같은 사이즈로 warp시켜야한다. (CNN output 사이즈를 동일하게 만들기 위해 - For FC layer)"
   ]
  },
  {
   "cell_type": "markdown",
   "id": "99560007-6d83-469c-9cff-2a42d6fe9620",
   "metadata": {},
   "source": [
    "## 2. CNN"
   ]
  },
  {
   "cell_type": "markdown",
   "id": "edb11508-42d8-489b-b58e-4fb280412c57",
   "metadata": {},
   "source": [
    "<img src='img/Detection/cnn.png' width=\"500\" height=\"500\">"
   ]
  },
  {
   "cell_type": "markdown",
   "id": "86249ada-5710-414f-8962-64af799b2506",
   "metadata": {},
   "source": [
    "Warp작업을 통해 region proposal 모두 224x224 크기로 되면 CNN 모델에 넣는다.\n",
    "\n",
    "여기서 CNN은 AlexNet의 거의 구조를 그대로 가져다 썼다.\n",
    "\n",
    "최종적으로 CNN을 거쳐 각각의 region proposal로부터 4096-dimentional feature vector를 뽑아내고,\n",
    "\n",
    "이를 통해 고정길이의 Feature Vector를 만들어낸다."
   ]
  },
  {
   "cell_type": "markdown",
   "id": "120cdc40-576e-4e52-a84c-c3880e611756",
   "metadata": {},
   "source": [
    "## 3. SVM"
   ]
  },
  {
   "cell_type": "markdown",
   "id": "884e64f2-76c3-4ade-9bd3-63a1e4dab515",
   "metadata": {},
   "source": [
    "<img src='img/Detection/svm.png' width=\"500\" height=\"500\">"
   ]
  },
  {
   "cell_type": "markdown",
   "id": "39d17c28-e590-4c69-9bf0-8318db002417",
   "metadata": {},
   "source": [
    "CNN모델로부터 feature가 추출되면 Linear SVM을 통해 classification을 진행한다.\n",
    "\n",
    "위에서 설명했듯이 Classifier로 softmax보다 SVM이 더 좋은 성능을 보였기 때문에 SVM을 채택했다.\n",
    "\n",
    "SVM은 CNN으로부터 추출된 각각의 feature vector들의 점수를 class별로 매기고, 객체인지 아닌지,\n",
    "객체라면 어떤 객체인지 등을 판별하는 역할을 하는 Classifier이다.\n",
    "\n",
    "`+` Selective search로 만든 bounding box는 정확하지 않기 때문에 물체를 정확히 감싸도록 조정해주는 bounding box regression(선형회귀 모델)이 존재한다."
   ]
  },
  {
   "cell_type": "markdown",
   "id": "3ee75fe1-9882-48d7-906b-58142634b83a",
   "metadata": {},
   "source": [
    "## 단점"
   ]
  },
  {
   "cell_type": "markdown",
   "id": "87ec58b1-547d-4ae5-be81-5adf91162f56",
   "metadata": {},
   "source": [
    "1. 여기서 selective search로 2000개의 region proposal을 뽑고 각 영역마다 CNN을 수행하기 때문에\n",
    "\n",
    "    CNN연산 * 2000 만큼의 시간이 걸려 수행시간이 매우 느리다. \n",
    "\n",
    " \n",
    "\n",
    "2. CNN, SVM, Bounding Box Regression 총 세가지의 모델이 multi-stage pipelines으로 한 번에 학습되지 않는다.\n",
    "\n",
    "    각 region proposal 에 대해 ConvNet forward pass를 실행할때 연산을 공유하지 않기에\n",
    "    end-to-end 로 학습할 수 없다.\n",
    "\n",
    "    따라서 SVM, bounding box regression에서 학습한 결과가 CNN을 업데이트 시키지 못한다.\n",
    "    \n",
    "\"그리고 이 두가지 문제를 RoI pooling으로 해결한 Fast R-CNN이 나오게 된다.\""
   ]
  },
  {
   "cell_type": "markdown",
   "id": "8adaaeec-7f14-4596-824e-68176c291647",
   "metadata": {},
   "source": [
    "---"
   ]
  },
  {
   "cell_type": "markdown",
   "id": "70b084a8-cf47-45f1-8e8e-6d747280cdcb",
   "metadata": {},
   "source": [
    "# 2. Fast R-CNN (2014)\n",
    "***Fast R-CNN***\n",
    "\n",
    "원문 :  https://arxiv.org/abs/1504.08083"
   ]
  },
  {
   "cell_type": "markdown",
   "id": "9b828c18-c207-4076-95cd-5ff6f8a0aded",
   "metadata": {},
   "source": [
    "# 2. Faster R-CNN (2015)\n",
    "***Faster R-CNN: Towards Real-Time Object Detection with Region Proposal Networks***\n",
    "\n",
    "원문 :  https://arxiv.org/abs/1506.01497"
   ]
  },
  {
   "cell_type": "code",
   "execution_count": null,
   "id": "71f2e60e-0421-4188-80c8-307464d78f78",
   "metadata": {},
   "outputs": [],
   "source": []
  }
 ],
 "metadata": {
  "kernelspec": {
   "display_name": "Python 3",
   "language": "python",
   "name": "python3"
  },
  "language_info": {
   "codemirror_mode": {
    "name": "ipython",
    "version": 3
   },
   "file_extension": ".py",
   "mimetype": "text/x-python",
   "name": "python",
   "nbconvert_exporter": "python",
   "pygments_lexer": "ipython3",
   "version": "3.8.8"
  }
 },
 "nbformat": 4,
 "nbformat_minor": 5
}
