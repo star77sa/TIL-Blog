{
 "cells": [
  {
   "cell_type": "markdown",
   "id": "duplicate-neutral",
   "metadata": {},
   "source": [
    "# 데이터 분석\n",
    "> 데이콘 대회 참여하며 알게된 것들 정리.\n",
    "\n",
    "- toc: true \n",
    "- badges: true\n",
    "- comments: true\n",
    "- categories: [Python, Analysis]\n",
    "- image: images/chart-preview.png"
   ]
  },
  {
   "cell_type": "markdown",
   "id": "painted-retirement",
   "metadata": {},
   "source": [
    "# 2021.06.29"
   ]
  },
  {
   "cell_type": "markdown",
   "id": "meaningful-vaccine",
   "metadata": {},
   "source": [
    "## 라이브러리 불러오기\n",
    "- Pandas 와 Scikit-learn 라이브러리를 불러오세요"
   ]
  },
  {
   "cell_type": "markdown",
   "id": "outdoor-grounds",
   "metadata": {},
   "source": [
    "```python\n",
    "import pandas as pd\n",
    "from sklearn.tree import DecisionTreeRegressor\n",
    "```"
   ]
  },
  {
   "cell_type": "markdown",
   "id": "worth-payment",
   "metadata": {},
   "source": [
    "## 데이터 불러오기\n",
    "- train.csv 와 test.csv 를 DataFrame 클래스로 불러오세요"
   ]
  },
  {
   "cell_type": "markdown",
   "id": "demographic-password",
   "metadata": {},
   "source": [
    "### pd.read_csv()"
   ]
  },
  {
   "cell_type": "markdown",
   "id": "dominican-delivery",
   "metadata": {},
   "source": [
    "```python\n",
    "train = pd.read_csv('data/train.csv') \n",
    "test = pd.read_csv('data/test.csv')\n",
    "```"
   ]
  },
  {
   "cell_type": "markdown",
   "id": "silent-lawsuit",
   "metadata": {},
   "source": [
    "## 데이터 행열 갯수 관찰\n",
    "- shape 를 사용해 데이터 크기를 관찰하세요"
   ]
  },
  {
   "cell_type": "markdown",
   "id": "tough-drunk",
   "metadata": {},
   "source": [
    "### df.shape"
   ]
  },
  {
   "cell_type": "markdown",
   "id": "gross-payroll",
   "metadata": {},
   "source": [
    "```python\n",
    "train.shape\n",
    "```\n",
    "```\n",
    "(1459, 11)\n",
    "```\n",
    "```python\n",
    "test.shape\n",
    "```\n",
    "```\n",
    "(715, 10)\n",
    "```"
   ]
  },
  {
   "cell_type": "markdown",
   "id": "tutorial-inquiry",
   "metadata": {},
   "source": [
    "## 결측치 확인\n",
    "- info() 를 사용해 결측치가 있는지 확인하세요."
   ]
  },
  {
   "cell_type": "markdown",
   "id": "mysterious-prospect",
   "metadata": {},
   "source": [
    "### df.info()"
   ]
  },
  {
   "cell_type": "markdown",
   "id": "joined-ridge",
   "metadata": {},
   "source": [
    "```python\n",
    "train.info()\n",
    "```\n",
    "\n",
    "```\n",
    "<class 'pandas.core.frame.DataFrame'>\n",
    "RangeIndex: 1459 entries, 0 to 1458\n",
    "Data columns (total 11 columns):\n",
    " #   Column                  Non-Null Count  Dtype  \n",
    "---  ------                  --------------  -----  \n",
    " 0   id                      1459 non-null   int64  \n",
    " 1   hour                    1459 non-null   int64  \n",
    " 2   hour_bef_temperature    1457 non-null   float64\n",
    " 3   hour_bef_precipitation  1457 non-null   float64\n",
    " 4   hour_bef_windspeed      1450 non-null   float64\n",
    " 5   hour_bef_humidity       1457 non-null   float64\n",
    " 6   hour_bef_visibility     1457 non-null   float64\n",
    " 7   hour_bef_ozone          1383 non-null   float64\n",
    " 8   hour_bef_pm10           1369 non-null   float64\n",
    " 9   hour_bef_pm2.5          1342 non-null   float64\n",
    " 10  count                   1459 non-null   float64\n",
    "dtypes: float64(9), int64(2)\n",
    "memory usage: 125.5 KB\n",
    "```\n",
    "```python\n",
    "test.info()\n",
    "```\n",
    "```\n",
    "<class 'pandas.core.frame.DataFrame'>\n",
    "RangeIndex: 715 entries, 0 to 714\n",
    "Data columns (total 10 columns):\n",
    " #   Column                  Non-Null Count  Dtype  \n",
    "---  ------                  --------------  -----  \n",
    " 0   id                      715 non-null    int64  \n",
    " 1   hour                    715 non-null    int64  \n",
    " 2   hour_bef_temperature    714 non-null    float64\n",
    " 3   hour_bef_precipitation  714 non-null    float64\n",
    " 4   hour_bef_windspeed      714 non-null    float64\n",
    " 5   hour_bef_humidity       714 non-null    float64\n",
    " 6   hour_bef_visibility     714 non-null    float64\n",
    " 7   hour_bef_ozone          680 non-null    float64\n",
    " 8   hour_bef_pm10           678 non-null    float64\n",
    " 9   hour_bef_pm2.5          679 non-null    float64\n",
    "dtypes: float64(8), int64(2)\n",
    "memory usage: 56.0 KB\n",
    "```"
   ]
  },
  {
   "cell_type": "markdown",
   "id": "dried-agency",
   "metadata": {},
   "source": [
    "### df['a'].value_counts()"
   ]
  },
  {
   "cell_type": "markdown",
   "id": "happy-polymer",
   "metadata": {},
   "source": [
    "```python\n",
    "\n",
    "train['Embarked'].value_counts()\n",
    "```\n",
    "```\n",
    "S    644\n",
    "C    168\n",
    "Q     77\n",
    "Name: Embarked, dtype: int64\n",
    "```\n"
   ]
  },
  {
   "cell_type": "markdown",
   "id": "charged-dayton",
   "metadata": {},
   "source": [
    "### df['a'].unique()"
   ]
  },
  {
   "cell_type": "markdown",
   "id": "employed-orange",
   "metadata": {},
   "source": [
    "```python\n",
    "train['Embarked'].unique()\n",
    "```\n",
    "```\n",
    "array(['S', 'C', 'Q', nan], dtype=object)\n",
    "\n",
    "```"
   ]
  },
  {
   "cell_type": "markdown",
   "id": "cooked-genetics",
   "metadata": {},
   "source": [
    "## 결측치 전처리\n",
    "- dropna() 를 사용해 train 데이터는 결측치를 제거하고\n",
    "- fillna() 를 사용해 test 데이터 결측치는 0 으로 대체하세요.\n",
    "- 그리고 결측치의 갯수를 출력하여 확인하세요."
   ]
  },
  {
   "cell_type": "markdown",
   "id": "visible-ministry",
   "metadata": {},
   "source": [
    "```python\n",
    "train = train.dropna()\n",
    "test = test.fillna(0)\n",
    "print(train.isnull().sum())\n",
    "```\n",
    "```\n",
    "id                        0\n",
    "hour                      0\n",
    "hour_bef_temperature      0\n",
    "hour_bef_precipitation    0\n",
    "hour_bef_windspeed        0\n",
    "hour_bef_humidity         0\n",
    "hour_bef_visibility       0\n",
    "hour_bef_ozone            0\n",
    "hour_bef_pm10             0\n",
    "hour_bef_pm2.5            0\n",
    "count                     0\n",
    "dtype: int64\n",
    "```"
   ]
  },
  {
   "cell_type": "markdown",
   "id": "constitutional-ecology",
   "metadata": {},
   "source": [
    "### 결측치 대체평균"
   ]
  },
  {
   "cell_type": "markdown",
   "id": "subjective-siemens",
   "metadata": {},
   "source": [
    "```python\n",
    "train.fillna({'hour_bef_temperature' : int(train['hour_bef_temperature'].mean())},inplace=True)\n",
    "```"
   ]
  },
  {
   "cell_type": "markdown",
   "id": "touched-springfield",
   "metadata": {},
   "source": [
    "### 결측치 대체보간\n",
    "- 피쳐의 정보성을 강조하기 위한 보간법 사용\n",
    "- 데이터의 순서가 시간 순서인 경우에 결측치들을 이전 행(직전시간)과 다음 행(직후시간)의 평균으로 보간하는 것은 상당히 합리적\n",
    "- 이처럼 데이터에 따라서 결측치를 어떻게 대체할지 결정하는 것은 엔지니어의 결정.\n",
    "\n",
    "- Python pandas의 interpolate() 를 이용해 결측치를 DataFrame 값에 선형으로 비례하여 보간하는 코드\n",
    "```python\n",
    "train.interpolate(inplace=True)\n",
    "```"
   ]
  },
  {
   "cell_type": "code",
   "execution_count": 3,
   "id": "authentic-flavor",
   "metadata": {},
   "outputs": [
    {
     "ename": "NameError",
     "evalue": "name 'train' is not defined",
     "output_type": "error",
     "traceback": [
      "\u001b[1;31m---------------------------------------------------------------------------\u001b[0m",
      "\u001b[1;31mNameError\u001b[0m                                 Traceback (most recent call last)",
      "\u001b[1;32m<ipython-input-3-2f7b91b780a2>\u001b[0m in \u001b[0;36m<module>\u001b[1;34m\u001b[0m\n\u001b[1;32m----> 1\u001b[1;33m \u001b[0mtrain\u001b[0m\u001b[1;33m.\u001b[0m\u001b[0miloc\u001b[0m\u001b[1;33m[\u001b[0m\u001b[1;36m1\u001b[0m\u001b[1;33m,\u001b[0m\u001b[1;36m2\u001b[0m\u001b[1;33m]\u001b[0m \u001b[1;33m=\u001b[0m \u001b[1;36m498\u001b[0m\u001b[1;33m\u001b[0m\u001b[1;33m\u001b[0m\u001b[0m\n\u001b[0m",
      "\u001b[1;31mNameError\u001b[0m: name 'train' is not defined"
     ]
    }
   ],
   "source": [
    "train.iloc[1,2] = 498"
   ]
  },
  {
   "cell_type": "markdown",
   "id": "imperial-tennis",
   "metadata": {},
   "source": [
    "### pd.Series.map()\n",
    "- 시리즈 내 값을 변환할 때 사용하는 함수\n",
    "- 문자열의 경우 숫자형으로 대체해주어야함. 모델에 넣기위해서\n",
    "\n",
    "```python\n",
    "train = train['Sex'].map({'male' : 0, 'female' : 1})\n",
    "```"
   ]
  },
  {
   "cell_type": "markdown",
   "id": "drawn-services",
   "metadata": {},
   "source": [
    "## 모델 훈련\n",
    "- train 데이터의 count 피쳐를 뺀 것을 X_train 으로 할당하세요.\n",
    "- train 데이터의 count 피쳐만을 가진 것을 Y_train 으로 할당하세요.\n",
    "- 회귀의사결정나무를 선언하고 fit() 으로 훈련시키세요."
   ]
  },
  {
   "cell_type": "markdown",
   "id": "organizational-notification",
   "metadata": {},
   "source": [
    "```python\n",
    "X_train = train.drop(['count'], axis=1)\n",
    "Y_train = train['count']\n",
    "model = DecisionTreeRegressor()\n",
    "model.fit(X_train, Y_train)\n",
    "```\n",
    "```\n",
    "DecisionTreeRegressor(ccp_alpha=0.0, criterion='mse', max_depth=None,\n",
    "                      max_features=None, max_leaf_nodes=None,\n",
    "                      min_impurity_decrease=0.0, min_impurity_split=None,\n",
    "                      min_samples_leaf=1, min_samples_split=2,\n",
    "                      min_weight_fraction_leaf=0.0, presort='deprecated',\n",
    "                      random_state=None, splitter='best')\n",
    "```"
   ]
  },
  {
   "cell_type": "markdown",
   "id": "unavailable-proportion",
   "metadata": {},
   "source": [
    "## 테스트 파일 예측\n",
    "- predict() 을 이용해 test data 를 훈련한 모델로 예측한 data array 를 생성하세요."
   ]
  },
  {
   "cell_type": "markdown",
   "id": "alpha-atlas",
   "metadata": {},
   "source": [
    "```python\n",
    "pred = model.predict(test)\n",
    "```"
   ]
  },
  {
   "cell_type": "markdown",
   "id": "adverse-nirvana",
   "metadata": {},
   "source": [
    "## submission 파일 생성\n",
    "- submission.csv 를 불러오세요.\n",
    "- submission df 의 count 피쳐에 예측한 결과를 덧입히세요.\n",
    "- submission df 를 to_csv() 를 이용해 csv 을 생성하세요. *index=False) "
   ]
  },
  {
   "cell_type": "markdown",
   "id": "organized-repository",
   "metadata": {},
   "source": [
    "```python\n",
    "submission = pd.read_csv('data/submission.csv')\n",
    "submission['count'] = pred\n",
    "submission.to_csv('sub.csv',index=False)\n",
    "```"
   ]
  },
  {
   "cell_type": "markdown",
   "id": "southeast-better",
   "metadata": {},
   "source": [
    "---"
   ]
  },
  {
   "cell_type": "markdown",
   "id": "mounted-better",
   "metadata": {},
   "source": [
    "# 2021.07.24 추가"
   ]
  },
  {
   "cell_type": "markdown",
   "id": "contemporary-shark",
   "metadata": {},
   "source": [
    "## 데이터 수정\n",
    "- 특정열의 특정행 값 바꾸기"
   ]
  },
  {
   "cell_type": "markdown",
   "id": "indian-hunger",
   "metadata": {},
   "source": [
    "```python\n",
    "train['석식계'][973] = 479.8605851979346\n",
    "```"
   ]
  },
  {
   "cell_type": "markdown",
   "id": "serial-filter",
   "metadata": {},
   "source": [
    "## 필터링하여 데이터 수정"
   ]
  },
  {
   "cell_type": "markdown",
   "id": "illegal-underground",
   "metadata": {},
   "source": [
    "### df.iloc[ , ]"
   ]
  },
  {
   "cell_type": "markdown",
   "id": "unauthorized-karen",
   "metadata": {},
   "source": [
    "```python\n",
    "train.iloc[1,2] = 498\n",
    "```"
   ]
  },
  {
   "cell_type": "markdown",
   "id": "variable-joint",
   "metadata": {},
   "source": [
    "## 데이터 추출, 인덱싱"
   ]
  },
  {
   "cell_type": "markdown",
   "id": "affecting-sunday",
   "metadata": {},
   "source": [
    "### df.groupby()\n",
    "```python\n",
    "train.groupby('년').mean()[['중식계','석식계']]\n",
    "```\n",
    "\n",
    "|\t|중식계|\t석식계|\n",
    "|--|--|--|\n",
    "|년|  |  |\t\t\n",
    "|2016|\t932.792952|\t519.418502|\n",
    "|2017|\t897.614754|\t459.015822|\n",
    "|2018|\t882.903766|\t465.547534|\n",
    "|2019|\t850.512195|\t447.336832|\n",
    "|2020|\t882.267241|\t432.736468|\n",
    "|2021|\t1009.705882|396.588235|"
   ]
  },
  {
   "cell_type": "markdown",
   "id": "accompanied-environment",
   "metadata": {},
   "source": [
    "### df.query"
   ]
  },
  {
   "cell_type": "markdown",
   "id": "personal-depression",
   "metadata": {},
   "source": [
    "### df.sort_values()"
   ]
  },
  {
   "cell_type": "markdown",
   "id": "organized-diagram",
   "metadata": {},
   "source": [
    "```python\n",
    "train.query('월<4 & 월>1 & 년 == 2020').mean()['중식계']\n",
    "```\n",
    "```\n",
    "952.4285714285714\n",
    "```\n",
    "\n",
    "```python\n",
    "train.query('년>2016').groupby('월').mean()['중식계'].sort_values()\n",
    "```\n",
    "```\n",
    "월\n",
    "11    815.963415\n",
    "12    834.473684\n",
    "8     838.253012\n",
    "7     839.523256\n",
    "6     840.333333\n",
    "5     849.460526\n",
    "4     880.225000\n",
    "10    894.666667\n",
    "9     901.842857\n",
    "1     934.278351\n",
    "3     952.829268\n",
    "2     998.042857\n",
    "Name: 중식계, dtype: float64\n",
    "\n",
    "```"
   ]
  },
  {
   "cell_type": "markdown",
   "id": "dangerous-vegetable",
   "metadata": {},
   "source": [
    "## 특정 데이터 드랍\n",
    "### df.drop()"
   ]
  },
  {
   "cell_type": "markdown",
   "id": "recreational-ebony",
   "metadata": {},
   "source": [
    "- 특정 행 데이터 드랍\n",
    "\n",
    "```python\n",
    "train = train.drop(train.index[[204,  224,  244,  262,  281,  306,  327,  346,  366,  392,  410, 828,  853,  872,  890,  912,  932,  955,  973,  993, 1166]])\n",
    "```"
   ]
  },
  {
   "cell_type": "markdown",
   "id": "northern-safety",
   "metadata": {},
   "source": [
    "- 특정 열 데이터 드랍\n",
    "\n",
    "```python\n",
    "df.drop('열 이름', axis=1)\n",
    "```"
   ]
  },
  {
   "cell_type": "code",
   "execution_count": null,
   "id": "black-playing",
   "metadata": {},
   "outputs": [],
   "source": []
  }
 ],
 "metadata": {
  "kernelspec": {
   "display_name": "Python 3",
   "language": "python",
   "name": "python3"
  },
  "language_info": {
   "codemirror_mode": {
    "name": "ipython",
    "version": 3
   },
   "file_extension": ".py",
   "mimetype": "text/x-python",
   "name": "python",
   "nbconvert_exporter": "python",
   "pygments_lexer": "ipython3",
   "version": "3.8.8"
  }
 },
 "nbformat": 4,
 "nbformat_minor": 5
}
