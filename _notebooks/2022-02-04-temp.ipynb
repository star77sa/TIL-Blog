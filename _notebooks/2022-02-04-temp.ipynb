{
 "cells": [
  {
   "cell_type": "markdown",
   "id": "ideal-dragon",
   "metadata": {},
   "source": [
    "# 밑바닥 부터 시작하는 딥러닝\n",
    "> 밑바닥 부터 시작하는 딥러닝\n",
    "\n",
    "- toc: true \n",
    "- badges: true\n",
    "- comments: true\n",
    "- categories: [python]\n",
    "- image: images/"
   ]
  },
  {
   "cell_type": "markdown",
   "id": "92db2688-eeeb-487d-8aae-2311b5054ad6",
   "metadata": {},
   "source": [
    "---\n"
   ]
  },
  {
   "cell_type": "markdown",
   "id": "ad7faad9-fee0-4f1f-bf7d-43f591d0d6e4",
   "metadata": {},
   "source": [
    "# 3. 신경망"
   ]
  },
  {
   "cell_type": "markdown",
   "id": "48fe96c6-dddc-4951-b03a-f690f5718cc0",
   "metadata": {},
   "source": [
    "- 활성화 함수는 입력 신호의 총합이 활성화를 일으키는지를 정하는 역할을 한다."
   ]
  },
  {
   "cell_type": "markdown",
   "id": "cb14f3d7-e8db-45d4-9f3e-72889350733a",
   "metadata": {},
   "source": [
    "- 신경망에서는 활성화 함수로 비선형 함수를 사용해야함. 선형 함수를 이용하면 신경망의 층을 깊게하는 의미가 없어지기 때문."
   ]
  },
  {
   "cell_type": "markdown",
   "id": "d584fd7c-bca5-45fc-9f4b-1ca561042940",
   "metadata": {},
   "source": [
    "# 4. 신경망 학습"
   ]
  },
  {
   "cell_type": "markdown",
   "id": "9fac0706-8d95-438a-818c-aab84e085f4f",
   "metadata": {},
   "source": [
    "- 딥러닝을 종단간 기계학습(end-to-end machine learning)이라고도 한다.\n",
    "    여기서 종단간은 '처음부터 끝까지'라는 의미로 데이터(입력)에서 목표한 결과(출력)를 사람의 개입없이 얻는다는 뜻을 담고있다."
   ]
  },
  {
   "cell_type": "markdown",
   "id": "c2eef717-1846-45a0-b87d-4803d37c29cc",
   "metadata": {},
   "source": [
    "`?` 왜 손실 함수를 설정하는가?\n",
    "\n",
    "    신경망을 학습할 때 정확도를 지표로 삼아서는 안된다. 정확도를 지표로 하면 매개변수의 미분이 대부분의 장소에서 0이 되기 때문이다. --> 손실함수 사용!"
   ]
  },
  {
   "cell_type": "code",
   "execution_count": null,
   "id": "2bbeb2be-1eef-49fc-8298-0d87298e55ee",
   "metadata": {},
   "outputs": [],
   "source": []
  }
 ],
 "metadata": {
  "kernelspec": {
   "display_name": "Python 3",
   "language": "python",
   "name": "python3"
  },
  "language_info": {
   "codemirror_mode": {
    "name": "ipython",
    "version": 3
   },
   "file_extension": ".py",
   "mimetype": "text/x-python",
   "name": "python",
   "nbconvert_exporter": "python",
   "pygments_lexer": "ipython3",
   "version": "3.8.8"
  }
 },
 "nbformat": 4,
 "nbformat_minor": 5
}
