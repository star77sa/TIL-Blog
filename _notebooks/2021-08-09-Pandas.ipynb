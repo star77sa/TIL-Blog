{
 "cells": [
  {
   "cell_type": "markdown",
   "id": "gorgeous-stanford",
   "metadata": {},
   "source": [
    "# Pandas\n",
    "> Pandas Cheetsheet\n",
    "\n",
    "- toc: true \n",
    "- badges: true\n",
    "- comments: true\n",
    "- categories: [Python,Numpy]\n",
    "- image: images/"
   ]
  },
  {
   "cell_type": "markdown",
   "id": "planned-corruption",
   "metadata": {},
   "source": [
    "# 정렬"
   ]
  },
  {
   "cell_type": "markdown",
   "id": "centered-juice",
   "metadata": {},
   "source": [
    "## Index 별로 정렬"
   ]
  },
  {
   "cell_type": "markdown",
   "id": "overhead-wales",
   "metadata": {},
   "source": [
    "### 오름차순 정렬 df.sort_index()"
   ]
  },
  {
   "cell_type": "markdown",
   "id": "extreme-latvia",
   "metadata": {},
   "source": [
    "### 내림차순 정렬 df.sort_index(ascending=False)"
   ]
  },
  {
   "cell_type": "markdown",
   "id": "least-frost",
   "metadata": {},
   "source": [
    "## Column별로 정렬"
   ]
  },
  {
   "cell_type": "markdown",
   "id": "rolled-circus",
   "metadata": {},
   "source": [
    "### 오름차순 정렬 df.sort_values(by='키')"
   ]
  },
  {
   "cell_type": "markdown",
   "id": "severe-punch",
   "metadata": {},
   "source": [
    "### 내림차순 정렬 df.sort_values(by='키', ascending=False)"
   ]
  },
  {
   "cell_type": "markdown",
   "id": "marine-polls",
   "metadata": {},
   "source": [
    "### 복수정렬 df.sort_values(by=['키','브랜드평판지수'], ascending=False)"
   ]
  },
  {
   "cell_type": "code",
   "execution_count": null,
   "id": "conscious-wallace",
   "metadata": {},
   "outputs": [],
   "source": []
  }
 ],
 "metadata": {
  "kernelspec": {
   "display_name": "Python 3",
   "language": "python",
   "name": "python3"
  },
  "language_info": {
   "codemirror_mode": {
    "name": "ipython",
    "version": 3
   },
   "file_extension": ".py",
   "mimetype": "text/x-python",
   "name": "python",
   "nbconvert_exporter": "python",
   "pygments_lexer": "ipython3",
   "version": "3.8.8"
  }
 },
 "nbformat": 4,
 "nbformat_minor": 5
}
