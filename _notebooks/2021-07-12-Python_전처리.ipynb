{
 "cells": [
  {
   "cell_type": "markdown",
   "id": "tribal-bacteria",
   "metadata": {},
   "source": [
    "# Python 전처리\n",
    "> 결측치 대체 등 전처리 관련 공부\n",
    "\n",
    "- toc: true \n",
    "- badges: true\n",
    "- comments: true\n",
    "- categories: [jupyter, Python]\n",
    "- image: images/chart-preview.png"
   ]
  },
  {
   "cell_type": "code",
   "execution_count": 1,
   "id": "pending-trailer",
   "metadata": {},
   "outputs": [],
   "source": [
    "import pandas as pd #판다스 패키지 불러오기\n",
    "from sklearn.linear_model import LogisticRegression # 로지스틱 회귀 모델 불러오기\n",
    "from sklearn.tree import DecisionTreeClassifier # 의사결정 나무 모델 불러오기"
   ]
  },
  {
   "cell_type": "code",
   "execution_count": 2,
   "id": "right-refund",
   "metadata": {},
   "outputs": [],
   "source": [
    " # 데이터 불러오기\n",
    "train = pd.read_csv('G:\\내 드라이브\\Github\\Dacon-practice\\타이타닉 생존자 예측/train.csv') # 모델 학습 파일\n",
    "test = pd.read_csv('G:\\내 드라이브\\Github\\Dacon-practice\\타이타닉 생존자 예측/test.csv') # 모델 시험지 파일\n",
    "sub = pd.read_csv('G:\\내 드라이브\\Github\\Dacon-practice\\타이타닉 생존자 예측/sample_submission.csv') #답안지 파일"
   ]
  },
  {
   "cell_type": "markdown",
   "id": "utility-weekly",
   "metadata": {},
   "source": [
    "# 3. 데이터 전처리\n",
    "# Data Cleansing & Pre-Processing"
   ]
  },
  {
   "cell_type": "markdown",
   "id": "north-armenia",
   "metadata": {},
   "source": [
    "pd.Series.isna()\n",
    "- 결측치 여부를 확인해준다.\n",
    "- 결측치면 True 아니면 False\n"
   ]
  },
  {
   "cell_type": "code",
   "execution_count": 3,
   "id": "photographic-spokesman",
   "metadata": {},
   "outputs": [
    {
     "data": {
      "text/plain": [
       "PassengerId      0\n",
       "Survived         0\n",
       "Pclass           0\n",
       "Name             0\n",
       "Sex              0\n",
       "Age            177\n",
       "SibSp            0\n",
       "Parch            0\n",
       "Ticket           0\n",
       "Fare             0\n",
       "Cabin          687\n",
       "Embarked         2\n",
       "dtype: int64"
      ]
     },
     "execution_count": 3,
     "metadata": {},
     "output_type": "execute_result"
    }
   ],
   "source": [
    "train.isna().sum()"
   ]
  },
  {
   "cell_type": "markdown",
   "id": "exciting-berkeley",
   "metadata": {},
   "source": [
    "pd.DataFrame.fillna()\n",
    "- 결측치를 채우고자 하는 column과 결측치를 대신하여 넣고자 하는 값을 명시.\n",
    "- 범주형 변수일 경우 최빈값으로 대체 가능."
   ]
  },
  {
   "cell_type": "code",
   "execution_count": 4,
   "id": "informative-anger",
   "metadata": {},
   "outputs": [
    {
     "data": {
      "text/plain": [
       "28.0"
      ]
     },
     "execution_count": 4,
     "metadata": {},
     "output_type": "execute_result"
    }
   ],
   "source": [
    "train['Age'].median()"
   ]
  },
  {
   "cell_type": "code",
   "execution_count": 5,
   "id": "numeric-corrections",
   "metadata": {},
   "outputs": [],
   "source": [
    "train['Age'] = train['Age'].fillna(28)"
   ]
  },
  {
   "cell_type": "code",
   "execution_count": 6,
   "id": "supported-merchant",
   "metadata": {},
   "outputs": [
    {
     "data": {
      "text/plain": [
       "S    644\n",
       "C    168\n",
       "Q     77\n",
       "Name: Embarked, dtype: int64"
      ]
     },
     "execution_count": 6,
     "metadata": {},
     "output_type": "execute_result"
    }
   ],
   "source": [
    "train['Embarked'].value_counts() # 문자열"
   ]
  },
  {
   "cell_type": "code",
   "execution_count": 7,
   "id": "creative-basis",
   "metadata": {},
   "outputs": [],
   "source": [
    "train['Embarked'] = train['Embarked'].fillna('S')"
   ]
  },
  {
   "cell_type": "code",
   "execution_count": 8,
   "id": "honey-victim",
   "metadata": {},
   "outputs": [
    {
     "data": {
      "text/plain": [
       "PassengerId      0\n",
       "Survived         0\n",
       "Pclass           0\n",
       "Name             0\n",
       "Sex              0\n",
       "Age              0\n",
       "SibSp            0\n",
       "Parch            0\n",
       "Ticket           0\n",
       "Fare             0\n",
       "Cabin          687\n",
       "Embarked         0\n",
       "dtype: int64"
      ]
     },
     "execution_count": 8,
     "metadata": {},
     "output_type": "execute_result"
    }
   ],
   "source": [
    "train.isna().sum()"
   ]
  },
  {
   "cell_type": "markdown",
   "id": "amber-visiting",
   "metadata": {},
   "source": [
    "pd.Series.map()\n",
    "- 시리즈 내 값을 변환할 때 사용하는 함수\n",
    "- 문자열의 경우 숫자형으로 대체해주어야함. 모델에 넣기위해서"
   ]
  },
  {
   "cell_type": "code",
   "execution_count": 11,
   "id": "spectacular-identification",
   "metadata": {},
   "outputs": [],
   "source": [
    "train = train['Sex'].map({'male' : 0, 'female' : 1})"
   ]
  }
 ],
 "metadata": {
  "kernelspec": {
   "display_name": "Python 3",
   "language": "python",
   "name": "python3"
  },
  "language_info": {
   "codemirror_mode": {
    "name": "ipython",
    "version": 3
   },
   "file_extension": ".py",
   "mimetype": "text/x-python",
   "name": "python",
   "nbconvert_exporter": "python",
   "pygments_lexer": "ipython3",
   "version": "3.8.8"
  }
 },
 "nbformat": 4,
 "nbformat_minor": 5
}
