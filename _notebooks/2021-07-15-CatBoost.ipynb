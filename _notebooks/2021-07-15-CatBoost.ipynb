{
 "cells": [
  {
   "cell_type": "markdown",
   "id": "functioning-peninsula",
   "metadata": {},
   "source": [
    "# CatBoost\n",
    "> CatBoost 모델 이용\n",
    "\n",
    "- toc: true \n",
    "- badges: true\n",
    "- comments: true\n",
    "- categories: [Python, Analysis, Model]\n",
    "- image: images/chart-preview.png"
   ]
  },
  {
   "cell_type": "markdown",
   "id": "scientific-telescope",
   "metadata": {},
   "source": [
    "# CatBoost 특징"
   ]
  },
  {
   "cell_type": "markdown",
   "id": "spiritual-counter",
   "metadata": {},
   "source": [
    "## Great quality without parameter tuning\n",
    "- Reduce time spent on parameter tuning, because CatBoost provides great results with default parameters\n",
    "\n",
    "## Categorical features support\n",
    "- Improve your training results with CatBoost that allows you to use non-numeric factors, instead of having to pre-process your data or spend time and effort turning it to numbers.\n",
    "\n",
    "## Fast and scalable GPU version\n",
    "- Train your model on a fast implementation of gradient-boosting algorithm for GPU. Use a multi-card configuration for large datasets.\n",
    "\n",
    "## Improved accuracy\n",
    "- Reduce overfitting when constructing your models with a novel gradient-boosting scheme.\n",
    "\n",
    "## Fast prediction\n",
    "- Apply your trained model quickly and efficiently even to latency-critical tasks using CatBoost's model applier\n",
    "\n",
    "\n",
    "\n",
    "\n",
    "\n",
    "\n",
    "\n"
   ]
  },
  {
   "cell_type": "markdown",
   "id": "controlling-muslim",
   "metadata": {},
   "source": [
    "# 모델 Feature 중요도 탐색"
   ]
  },
  {
   "cell_type": "markdown",
   "id": "inclusive-preservation",
   "metadata": {},
   "source": [
    "In short, you can do something like\n",
    "\n",
    "```python\n",
    "pd.DataFrame({'feature_importance': model.get_feature_importance(train_pool), 'feature_names': x_val.columns}).sort_values(by=['feature_importance'], ascending=False)\n",
    "```"
   ]
  },
  {
   "cell_type": "markdown",
   "id": "sudden-starter",
   "metadata": {},
   "source": [
    "you can also make a function like\n",
    "\n",
    "```python\n",
    "def plot_feature_importance(importance,names,model_type):\n",
    "    \n",
    "    #Create arrays from feature importance and feature names\n",
    "    feature_importance = np.array(importance)\n",
    "    feature_names = np.array(names)\n",
    "    \n",
    "    #Create a DataFrame using a Dictionary\n",
    "    data={'feature_names':feature_names,'feature_importance':feature_importance}\n",
    "    fi_df = pd.DataFrame(data)\n",
    "    \n",
    "    #Sort the DataFrame in order decreasing feature importance\n",
    "    fi_df.sort_values(by=['feature_importance'], ascending=False,inplace=True))\n",
    "    \n",
    "    #Define size of bar plot\n",
    "    plt.figure(figsize=(10,8))\n",
    "    #Plot Searborn bar chart\n",
    "    sns.barplot(x=fi_df['feature_importance'], y=fi_df['feature_names'])\n",
    "    #Add chart labels\n",
    "    plt.title(model_type + 'FEATURE IMPORTANCE')\n",
    "    plt.xlabel('FEATURE IMPORTANCE')\n",
    "    plt.ylabel('FEATURE NAMES')\n",
    "```"
   ]
  },
  {
   "cell_type": "markdown",
   "id": "upset-romania",
   "metadata": {},
   "source": [
    "and plot the feature importance from different boosting algorithm\n",
    "\n",
    "```python\n",
    "#plot the xgboost result\n",
    "plot_feature_importance(xgb_model.feature_importances_,train.columns,'XG BOOST')\n",
    "\n",
    "#plot the catboost result\n",
    "plot_feature_importance(cb_model.get_feature_importance(),train.columns,'CATBOOST')\n",
    "```"
   ]
  },
  {
   "cell_type": "code",
   "execution_count": null,
   "id": "editorial-first",
   "metadata": {},
   "outputs": [],
   "source": []
  }
 ],
 "metadata": {
  "kernelspec": {
   "display_name": "Python 3",
   "language": "python",
   "name": "python3"
  },
  "language_info": {
   "codemirror_mode": {
    "name": "ipython",
    "version": 3
   },
   "file_extension": ".py",
   "mimetype": "text/x-python",
   "name": "python",
   "nbconvert_exporter": "python",
   "pygments_lexer": "ipython3",
   "version": "3.8.8"
  }
 },
 "nbformat": 4,
 "nbformat_minor": 5
}
