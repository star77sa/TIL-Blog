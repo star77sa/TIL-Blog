{
 "cells": [
  {
   "cell_type": "markdown",
   "id": "based-sunday",
   "metadata": {},
   "source": [
    "# 분석 전 기본세팅\n",
    "> 분석 전 기본세팅, 필요코드 (불러오기, 내보내기, random forest, catboost, cross validation ..)\n",
    "\n",
    "- toc: true \n",
    "- badges: true\n",
    "- comments: true\n",
    "- categories: [Python]\n",
    "- image: images/"
   ]
  },
  {
   "cell_type": "markdown",
   "id": "collective-massage",
   "metadata": {},
   "source": [
    "---"
   ]
  },
  {
   "cell_type": "markdown",
   "id": "smart-lobby",
   "metadata": {},
   "source": [
    "# 파일"
   ]
  },
  {
   "cell_type": "markdown",
   "id": "contained-prime",
   "metadata": {},
   "source": [
    "## 파일 불러오기"
   ]
  },
  {
   "cell_type": "markdown",
   "id": "unusual-daily",
   "metadata": {},
   "source": [
    "``` python\n",
    "data = pd.read_csv(\"G:/내 드라이브/bb/cc/data.csv')\n",
    "```"
   ]
  },
  {
   "cell_type": "markdown",
   "id": "nonprofit-stake",
   "metadata": {},
   "source": [
    "## 파일 내보내기"
   ]
  },
  {
   "cell_type": "markdown",
   "id": "failing-soldier",
   "metadata": {},
   "source": [
    "``` python\n",
    "test.to_csv('test.csv', index = False)\n",
    "```"
   ]
  },
  {
   "cell_type": "markdown",
   "id": "abroad-retention",
   "metadata": {},
   "source": [
    "- 해당 소스코드가 있는 곳에 파일이 내보내진다."
   ]
  },
  {
   "cell_type": "markdown",
   "id": "thermal-victory",
   "metadata": {},
   "source": [
    "```python\n",
    "test.to_csv('G:/내 드라이브/Github/TIL-Blog/test.csv', index = False)\n",
    "```"
   ]
  },
  {
   "cell_type": "markdown",
   "id": "serial-landing",
   "metadata": {},
   "source": [
    "- 해당 경로에 파일이 내보내진다."
   ]
  },
  {
   "cell_type": "markdown",
   "id": "abandoned-quebec",
   "metadata": {},
   "source": [
    "---"
   ]
  },
  {
   "cell_type": "markdown",
   "id": "convertible-functionality",
   "metadata": {},
   "source": [
    "# 기본 라이브러리"
   ]
  },
  {
   "cell_type": "markdown",
   "id": "expressed-taste",
   "metadata": {},
   "source": [
    "``` python\n",
    "import pandas as pd # pandas\n",
    "\n",
    "import numpy as np # numpy\n",
    "\n",
    "import matplotlib.pyplot as plt # matplotlib\n",
    "import matplotlib\n",
    "\n",
    "import seaborn as sns # seaborn\n",
    "```"
   ]
  },
  {
   "cell_type": "markdown",
   "id": "personalized-consumption",
   "metadata": {},
   "source": [
    "---"
   ]
  },
  {
   "cell_type": "markdown",
   "id": "lesser-remedy",
   "metadata": {},
   "source": [
    "# train test split"
   ]
  },
  {
   "cell_type": "markdown",
   "id": "stretch-receptor",
   "metadata": {},
   "source": [
    "```python\n",
    "\n",
    "from sklearn.model_selection import train_test_split\n",
    "\n",
    "X_train, X_test, y_train, y_test = train_test_split(train[['종속변수1', '종속변수2']], train['반응변수'], test_size=0.3, shuffle=False)\n",
    "\n",
    "# shuffle=False 추가가능. default = True\n",
    "\n",
    "```"
   ]
  },
  {
   "cell_type": "markdown",
   "id": "plain-fireplace",
   "metadata": {},
   "source": [
    "---"
   ]
  },
  {
   "cell_type": "markdown",
   "id": "conventional-lobby",
   "metadata": {},
   "source": [
    "# Model"
   ]
  },
  {
   "cell_type": "markdown",
   "id": "analyzed-attribute",
   "metadata": {},
   "source": [
    "## CatBoost + 예시"
   ]
  },
  {
   "cell_type": "markdown",
   "id": "welsh-pendant",
   "metadata": {},
   "source": [
    "``` python\n",
    "from catboost import CatBoostRegressor # 캣부스트 회귀\n",
    "from catboost import CatBoostClassifier # 캣부스트 분류\n",
    "```"
   ]
  },
  {
   "cell_type": "markdown",
   "id": "pursuant-giving",
   "metadata": {},
   "source": [
    "``` python\n",
    "model = CatBoostRegressor()\n",
    "model.fit(X_train, y_train, silent=True)\n",
    "\n",
    "pred = model.predict(X_test)\n",
    "\n",
    "rmse = (np.sqrt(np.mean(mean_squared_error(y_test, pred))))\n",
    "rmse\n",
    "```"
   ]
  },
  {
   "cell_type": "markdown",
   "id": "driven-stadium",
   "metadata": {},
   "source": [
    "## Random Forest"
   ]
  },
  {
   "cell_type": "markdown",
   "id": "southeast-stability",
   "metadata": {},
   "source": [
    "```python\n",
    "from sklearn.ensemble import RandomForestRegressor\n",
    "from sklearn.ensemble import RandomForestClassifier\n",
    "```"
   ]
  },
  {
   "cell_type": "markdown",
   "id": "nutritional-columbus",
   "metadata": {},
   "source": [
    "```python\n",
    "rf = RandomForestClassifier(n_estimators=100, oob_score=True, random_state=123,max_depth=6)\n",
    "\n",
    "rf.fit(X_train, y_train)\n",
    "```"
   ]
  },
  {
   "cell_type": "markdown",
   "id": "wired-scheme",
   "metadata": {},
   "source": [
    "## XG BOOST, LightGBM"
   ]
  },
  {
   "cell_type": "markdown",
   "id": "spatial-shopper",
   "metadata": {},
   "source": [
    "``` python\n",
    "from xgboost import XGBRegressor\n",
    "from xgboost import XGBClassifier\n",
    "\n",
    "from lightgbm import LGBMRegressor\n",
    "from lightgbm import LGBMClassifier\n",
    "```"
   ]
  },
  {
   "cell_type": "markdown",
   "id": "frank-transport",
   "metadata": {},
   "source": [
    "---"
   ]
  },
  {
   "cell_type": "markdown",
   "id": "finnish-softball",
   "metadata": {},
   "source": [
    "# 평가점수"
   ]
  },
  {
   "cell_type": "markdown",
   "id": "little-frequency",
   "metadata": {},
   "source": [
    "## RMSE"
   ]
  },
  {
   "cell_type": "markdown",
   "id": "brown-station",
   "metadata": {},
   "source": [
    "``` python\n",
    "from sklearn.metrics import mean_squared_error\n",
    "\n",
    "rmse = (np.sqrt(np.mean(mean_squared_error(y_test, pred))))\n",
    "rmse\n",
    "```"
   ]
  },
  {
   "cell_type": "markdown",
   "id": "otherwise-basis",
   "metadata": {},
   "source": [
    "## AUC"
   ]
  },
  {
   "cell_type": "markdown",
   "id": "downtown-cherry",
   "metadata": {},
   "source": [
    "```python\n",
    "from sklearn.metrics import accuracy_score\n",
    "\n",
    "accuracy = accuracy_score(y_test, predicted)\n",
    "```"
   ]
  },
  {
   "cell_type": "code",
   "execution_count": null,
   "id": "native-wonder",
   "metadata": {},
   "outputs": [],
   "source": []
  }
 ],
 "metadata": {
  "kernelspec": {
   "display_name": "Python 3",
   "language": "python",
   "name": "python3"
  },
  "language_info": {
   "codemirror_mode": {
    "name": "ipython",
    "version": 3
   },
   "file_extension": ".py",
   "mimetype": "text/x-python",
   "name": "python",
   "nbconvert_exporter": "python",
   "pygments_lexer": "ipython3",
   "version": "3.8.8"
  }
 },
 "nbformat": 4,
 "nbformat_minor": 5
}
