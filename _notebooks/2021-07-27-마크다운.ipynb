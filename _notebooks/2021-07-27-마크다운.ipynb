{
 "cells": [
  {
   "cell_type": "markdown",
   "id": "large-bible",
   "metadata": {},
   "source": [
    "# 마크다운\n",
    "> 마크다운 문법, 사용하는 것들\n",
    "\n",
    "- toc: true \n",
    "- badges: true\n",
    "- comments: true\n",
    "- categories: [Markdown]\n"
   ]
  },
  {
   "cell_type": "markdown",
   "id": "featured-world",
   "metadata": {},
   "source": [
    "## 이미지 업로드"
   ]
  },
  {
   "cell_type": "markdown",
   "id": "medieval-statistics",
   "metadata": {},
   "source": [
    "```python\n",
    "# <img src=\"my_icons/리스트.jpg\">\n",
    "```"
   ]
  },
  {
   "cell_type": "markdown",
   "id": "detailed-insulation",
   "metadata": {},
   "source": [
    "<img src=\"my_icons/리스트.jpg\">"
   ]
  },
  {
   "cell_type": "markdown",
   "id": "pressing-physics",
   "metadata": {},
   "source": [
    "- 크기조정"
   ]
  },
  {
   "cell_type": "markdown",
   "id": "institutional-senegal",
   "metadata": {},
   "source": [
    "```python\n",
    "# <img src=\"my_icons/리스트.jpg\" width=\"300\" height=\"300\">\n",
    "```"
   ]
  },
  {
   "cell_type": "markdown",
   "id": "material-favor",
   "metadata": {},
   "source": [
    "\n",
    "<img src=\"my_icons/리스트.jpg\" width=\"500\" height=\"500\">"
   ]
  },
  {
   "cell_type": "markdown",
   "id": "desirable-reliance",
   "metadata": {},
   "source": [
    "## 주석처리"
   ]
  },
  {
   "cell_type": "code",
   "execution_count": 1,
   "id": "recorded-hydrogen",
   "metadata": {},
   "outputs": [],
   "source": [
    "# <--! 주석처리 할 문장 -->"
   ]
  }
 ],
 "metadata": {
  "kernelspec": {
   "display_name": "Python 3",
   "language": "python",
   "name": "python3"
  },
  "language_info": {
   "codemirror_mode": {
    "name": "ipython",
    "version": 3
   },
   "file_extension": ".py",
   "mimetype": "text/x-python",
   "name": "python",
   "nbconvert_exporter": "python",
   "pygments_lexer": "ipython3",
   "version": "3.8.8"
  }
 },
 "nbformat": 4,
 "nbformat_minor": 5
}
