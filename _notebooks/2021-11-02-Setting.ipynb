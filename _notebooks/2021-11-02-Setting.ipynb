{
 "cells": [
  {
   "cell_type": "markdown",
   "id": "63af8a47",
   "metadata": {},
   "source": [
    "# 분석 전 기본세팅\n",
    "> 분석 전 기본세팅, 필요코드 (불러오기, 내보내기, random forest, catboost, cross validation ..)\n",
    "\n",
    "- toc: true \n",
    "- badges: true\n",
    "- comments: true\n",
    "- categories: [Python]\n",
    "- image: images/"
   ]
  },
  {
   "cell_type": "markdown",
   "id": "19de0fc4",
   "metadata": {},
   "source": [
    "---"
   ]
  },
  {
   "cell_type": "markdown",
   "id": "5165e684",
   "metadata": {},
   "source": [
    "# 파일"
   ]
  },
  {
   "cell_type": "markdown",
   "id": "8b35fda3",
   "metadata": {},
   "source": [
    "## 파일 불러오기"
   ]
  },
  {
   "cell_type": "markdown",
   "id": "66acc877",
   "metadata": {},
   "source": [
    "``` python\n",
    "data = pd.read_csv(\"G:/내 드라이브/bb/cc/data.csv')\n",
    "```"
   ]
  },
  {
   "cell_type": "markdown",
   "id": "98ea843d",
   "metadata": {},
   "source": [
    "## 파일 내보내기"
   ]
  },
  {
   "cell_type": "markdown",
   "id": "88a5a366",
   "metadata": {},
   "source": [
    "``` python\n",
    "test.to_csv('test.csv', index = False)\n",
    "```"
   ]
  },
  {
   "cell_type": "markdown",
   "id": "2d9b8c8d",
   "metadata": {},
   "source": [
    "- 해당 소스코드가 있는 곳에 파일이 내보내진다."
   ]
  },
  {
   "cell_type": "markdown",
   "id": "48f0e19c",
   "metadata": {},
   "source": [
    "```python\n",
    "test.to_csv('G:/내 드라이브/Github/TIL-Blog/test.csv', index = False)\n",
    "```"
   ]
  },
  {
   "cell_type": "markdown",
   "id": "2f0717ee",
   "metadata": {},
   "source": [
    "- 해당 경로에 파일이 내보내진다."
   ]
  },
  {
   "cell_type": "markdown",
   "id": "694d3c1a",
   "metadata": {},
   "source": [
    "---"
   ]
  },
  {
   "cell_type": "markdown",
   "id": "1e43ebed",
   "metadata": {},
   "source": [
    "# 기본 라이브러리"
   ]
  },
  {
   "cell_type": "code",
   "execution_count": 2,
   "id": "49f67ad0-72db-4575-b5e5-3e5596d84b8c",
   "metadata": {},
   "outputs": [],
   "source": [
    "import pandas as pd # pandas\n",
    "import numpy as np # numpy"
   ]
  },
  {
   "cell_type": "markdown",
   "id": "47698318",
   "metadata": {},
   "source": [
    "``` python\n",
    "\n",
    "\n",
    "import matplotlib.pyplot as plt # matplotlib\n",
    "import matplotlib\n",
    "\n",
    "import seaborn as sns # seaborn\n",
    "```"
   ]
  },
  {
   "cell_type": "markdown",
   "id": "fa178607",
   "metadata": {},
   "source": [
    "---"
   ]
  },
  {
   "cell_type": "markdown",
   "id": "6aad6363",
   "metadata": {},
   "source": [
    "# 전처리"
   ]
  },
  {
   "cell_type": "markdown",
   "id": "be2371fa-69c2-42a7-898b-b5feaf3ec8fb",
   "metadata": {},
   "source": [
    "## train / validation set split"
   ]
  },
  {
   "cell_type": "code",
   "execution_count": 11,
   "id": "7d6d88e4-08ae-41ec-870f-d6b486188dcc",
   "metadata": {},
   "outputs": [],
   "source": [
    "train = pd.read_csv('https://bit.ly/fc-ml-titanic')"
   ]
  },
  {
   "cell_type": "code",
   "execution_count": 12,
   "id": "4f61b0fd-84c2-4b13-9f19-dda56856543d",
   "metadata": {},
   "outputs": [],
   "source": [
    "feature = [\n",
    "    'Pclass', 'Sex', 'Age', 'Fare'\n",
    "]"
   ]
  },
  {
   "cell_type": "code",
   "execution_count": 13,
   "id": "8b049373-f060-43ab-b5cd-cc82ec4f762c",
   "metadata": {},
   "outputs": [],
   "source": [
    "label = [\n",
    "    'Survived'\n",
    "]"
   ]
  },
  {
   "cell_type": "code",
   "execution_count": 14,
   "id": "664ce9c0-fdb5-40bd-9352-601fe8c86c4a",
   "metadata": {},
   "outputs": [],
   "source": [
    "from sklearn.model_selection import train_test_split"
   ]
  },
  {
   "cell_type": "markdown",
   "id": "8994da0d-66fe-4658-8b84-292c6669a9c0",
   "metadata": {},
   "source": [
    "* **test_size**: validation set에 할당할 비율 (20% -> 0.2)\n",
    "* **shuffle**: 셔플 옵션 (기본 True)\n",
    "* **random_state**: 랜덤 시드값"
   ]
  },
  {
   "cell_type": "code",
   "execution_count": 17,
   "id": "05ea7e13-6aa5-4702-9103-08a43b355845",
   "metadata": {},
   "outputs": [],
   "source": [
    "x_train, x_valid, y_train, y_valid = train_test_split(train[feature], train[label], test_size=0.2, shuffle=True, random_state=30)"
   ]
  },
  {
   "cell_type": "markdown",
   "id": "5fcba4dc-2df0-4fd9-8b79-40dfb81f08be",
   "metadata": {},
   "source": [
    "## 결측치 처리"
   ]
  },
  {
   "cell_type": "code",
   "execution_count": 20,
   "id": "51c9938a-71c0-4cdc-ac9f-dbf50726cf0b",
   "metadata": {},
   "outputs": [],
   "source": [
    "from sklearn.impute import SimpleImputer"
   ]
  },
  {
   "cell_type": "markdown",
   "id": "dfea938f-58b5-4579-8eb4-d1eb03069617",
   "metadata": {},
   "source": [
    "### 1. 수치형"
   ]
  },
  {
   "cell_type": "markdown",
   "id": "e0f0d6b8-7df4-48f3-907c-894c21fcccdc",
   "metadata": {},
   "source": [
    "칼럼 1개 처리하는 경우"
   ]
  },
  {
   "cell_type": "markdown",
   "id": "a83e393c-2617-4dcf-b6cb-bbf667d077f7",
   "metadata": {},
   "source": [
    "``` python\n",
    "train['Age'].fillna(train['Age'].mean())\n",
    "```"
   ]
  },
  {
   "cell_type": "markdown",
   "id": "a5425b0c-da94-401d-898d-4eb5f4460123",
   "metadata": {},
   "source": [
    "칼럼 여러개 처리하는 경우"
   ]
  },
  {
   "cell_type": "code",
   "execution_count": 23,
   "id": "f41e5611-844f-4c84-8e85-805a8076f4fb",
   "metadata": {},
   "outputs": [],
   "source": [
    "imputer = SimpleImputer(strategy='median') ## 한번에 여러개 처리. median, mean ...\n",
    "result = imputer.fit_transform(train[['Age', 'Pclass']])\n",
    "train[['Age', 'Pclass']] = result"
   ]
  },
  {
   "cell_type": "markdown",
   "id": "be4070e9-e9fb-4e68-a6f7-1c97f4df38a0",
   "metadata": {},
   "source": [
    "### 2. 범주형"
   ]
  },
  {
   "cell_type": "code",
   "execution_count": 25,
   "id": "569295fe-f9c8-4927-a19e-109222a7970c",
   "metadata": {},
   "outputs": [],
   "source": [
    "#collapse-output\n",
    "train = pd.read_csv('https://bit.ly/fc-ml-titanic')"
   ]
  },
  {
   "cell_type": "markdown",
   "id": "91780f58-c214-46ec-ae88-82792796ab76",
   "metadata": {},
   "source": [
    "컬럼 1개 처리하는 경우"
   ]
  },
  {
   "cell_type": "markdown",
   "id": "ac879aff-3814-42fc-9dbf-56a79ae65805",
   "metadata": {},
   "source": [
    "``` python\n",
    "train['Embarked'].fillna('S')\n",
    "```"
   ]
  },
  {
   "cell_type": "markdown",
   "id": "c2f98bf4-a8e9-4b26-9e14-c1279ef9926a",
   "metadata": {},
   "source": [
    "칼럼 여러개 처리하는 경우"
   ]
  },
  {
   "cell_type": "code",
   "execution_count": 24,
   "id": "3f317a51-77e2-4bc3-bb05-2b0da40b6b60",
   "metadata": {},
   "outputs": [],
   "source": [
    "imputer = SimpleImputer(strategy='most_frequent')\n",
    "result = imputer.fit_transform(train[['Embarked', 'Cabin']])\n",
    "train[['Embarked', 'Cabin']] = result"
   ]
  },
  {
   "cell_type": "markdown",
   "id": "cd9b1265",
   "metadata": {},
   "source": [
    "---"
   ]
  },
  {
   "cell_type": "markdown",
   "id": "544449a2",
   "metadata": {},
   "source": [
    "# Model"
   ]
  },
  {
   "cell_type": "markdown",
   "id": "2424e4aa",
   "metadata": {},
   "source": [
    "## CatBoost + 예시"
   ]
  },
  {
   "cell_type": "markdown",
   "id": "14a6ad64",
   "metadata": {},
   "source": [
    "``` python\n",
    "from catboost import CatBoostRegressor # 캣부스트 회귀\n",
    "from catboost import CatBoostClassifier # 캣부스트 분류\n",
    "```"
   ]
  },
  {
   "cell_type": "markdown",
   "id": "14ef9b5e",
   "metadata": {},
   "source": [
    "``` python\n",
    "model = CatBoostRegressor()\n",
    "model.fit(X_train, y_train, silent=True)\n",
    "\n",
    "pred = model.predict(X_test)\n",
    "\n",
    "rmse = (np.sqrt(np.mean(mean_squared_error(y_test, pred))))\n",
    "rmse\n",
    "```"
   ]
  },
  {
   "cell_type": "markdown",
   "id": "ee74a4d4",
   "metadata": {},
   "source": [
    "## Random Forest"
   ]
  },
  {
   "cell_type": "markdown",
   "id": "76d33499",
   "metadata": {},
   "source": [
    "```python\n",
    "from sklearn.ensemble import RandomForestRegressor\n",
    "from sklearn.ensemble import RandomForestClassifier\n",
    "```"
   ]
  },
  {
   "cell_type": "markdown",
   "id": "aae49968",
   "metadata": {},
   "source": [
    "```python\n",
    "rf = RandomForestClassifier(n_estimators=100, oob_score=True, random_state=123,max_depth=6)\n",
    "\n",
    "rf.fit(X_train, y_train)\n",
    "```"
   ]
  },
  {
   "cell_type": "markdown",
   "id": "06183db8",
   "metadata": {},
   "source": [
    "## XG BOOST, LightGBM"
   ]
  },
  {
   "cell_type": "markdown",
   "id": "94b3a3ce",
   "metadata": {},
   "source": [
    "``` python\n",
    "from xgboost import XGBRegressor\n",
    "from xgboost import XGBClassifier\n",
    "\n",
    "from lightgbm import LGBMRegressor\n",
    "from lightgbm import LGBMClassifier\n",
    "```"
   ]
  },
  {
   "cell_type": "markdown",
   "id": "482ab427",
   "metadata": {},
   "source": [
    "---"
   ]
  },
  {
   "cell_type": "markdown",
   "id": "ced0cf61",
   "metadata": {},
   "source": [
    "# 평가점수"
   ]
  },
  {
   "cell_type": "markdown",
   "id": "a8582952",
   "metadata": {},
   "source": [
    "## RMSE"
   ]
  },
  {
   "cell_type": "markdown",
   "id": "8760396a",
   "metadata": {},
   "source": [
    "``` python\n",
    "from sklearn.metrics import mean_squared_error\n",
    "\n",
    "rmse = (np.sqrt(np.mean(mean_squared_error(y_test, pred))))\n",
    "rmse\n",
    "```"
   ]
  },
  {
   "cell_type": "markdown",
   "id": "d0645b1b",
   "metadata": {},
   "source": [
    "## Accuracy"
   ]
  },
  {
   "cell_type": "markdown",
   "id": "ec1ed6df",
   "metadata": {},
   "source": [
    "```python\n",
    "from sklearn.metrics import accuracy_score\n",
    "\n",
    "accuracy = accuracy_score(y_test, predicted)\n",
    "```"
   ]
  },
  {
   "cell_type": "code",
   "execution_count": null,
   "id": "6919828f",
   "metadata": {},
   "outputs": [],
   "source": []
  }
 ],
 "metadata": {
  "kernelspec": {
   "display_name": "Python 3",
   "language": "python",
   "name": "python3"
  },
  "language_info": {
   "codemirror_mode": {
    "name": "ipython",
    "version": 3
   },
   "file_extension": ".py",
   "mimetype": "text/x-python",
   "name": "python",
   "nbconvert_exporter": "python",
   "pygments_lexer": "ipython3",
   "version": "3.8.8"
  }
 },
 "nbformat": 4,
 "nbformat_minor": 5
}
