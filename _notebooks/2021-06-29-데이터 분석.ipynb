{
 "cells": [
  {
   "cell_type": "markdown",
   "id": "given-navigation",
   "metadata": {},
   "source": [
    "# Dacon 데이터 분석\n",
    "> 개인 공부용 요약노트\n",
    "\n",
    "- toc: true \n",
    "- badges: true\n",
    "- comments: true\n",
    "- categories: [jupyter, Python]\n",
    "- image: images/chart-preview.png"
   ]
  },
  {
   "cell_type": "markdown",
   "id": "contained-teens",
   "metadata": {},
   "source": [
    "# ````으니바보`"
   ]
  },
  {
   "cell_type": "markdown",
   "id": "transparent-bishop",
   "metadata": {},
   "source": [
    "## 라이브러리 불러오기\n",
    "- Pandas 와 Scikit-learn 라이브러리를 불러오세요"
   ]
  },
  {
   "cell_type": "markdown",
   "id": "reflected-render",
   "metadata": {},
   "source": [
    "```python\n",
    "import pandas as pd\n",
    "from sklearn.tree import DecisionTreeRegressor\n",
    "```"
   ]
  },
  {
   "cell_type": "markdown",
   "id": "fitted-hurricane",
   "metadata": {},
   "source": [
    "## 데이터 불러오기\n",
    "- train.csv 와 test.csv 를 DataFrame 클래스로 불러오세요"
   ]
  },
  {
   "cell_type": "markdown",
   "id": "broadband-virginia",
   "metadata": {},
   "source": [
    "```python\n",
    "train = pd.read_csv('data/train.csv') \n",
    "test = pd.read_csv('data/test.csv')\n",
    "```"
   ]
  },
  {
   "cell_type": "markdown",
   "id": "outside-board",
   "metadata": {},
   "source": [
    "## 데이터 정보 관찰하기\n",
    "- head() 를 사용해 데이터 정보를 관찰하세요"
   ]
  },
  {
   "cell_type": "markdown",
   "id": "smart-potter",
   "metadata": {},
   "source": [
    "```python\n",
    "train.head()\n",
    "test.head()\n",
    "```"
   ]
  },
  {
   "cell_type": "markdown",
   "id": "seventh-retirement",
   "metadata": {},
   "source": [
    "## 데이터 행열 갯수 관찰\n",
    "- shape 를 사용해 데이터 크기를 관찰하세요"
   ]
  },
  {
   "cell_type": "markdown",
   "id": "first-mailman",
   "metadata": {},
   "source": [
    "```python\n",
    "train.shape\n",
    "```\n",
    "```\n",
    "(1459, 11)\n",
    "```\n",
    "```python\n",
    "test.shape\n",
    "```\n",
    "```\n",
    "(715, 10)\n",
    "```"
   ]
  },
  {
   "cell_type": "markdown",
   "id": "statistical-evanescence",
   "metadata": {},
   "source": [
    "## 결측치 확인\n",
    "- dropna() 를 사용해 train 데이터는 결측치를 제거하고"
   ]
  },
  {
   "cell_type": "markdown",
   "id": "checked-aaron",
   "metadata": {},
   "source": [
    "```python\n",
    "train.info()\n",
    "```\n",
    "\n",
    "```\n",
    "<class 'pandas.core.frame.DataFrame'>\n",
    "RangeIndex: 1459 entries, 0 to 1458\n",
    "Data columns (total 11 columns):\n",
    " #   Column                  Non-Null Count  Dtype  \n",
    "---  ------                  --------------  -----  \n",
    " 0   id                      1459 non-null   int64  \n",
    " 1   hour                    1459 non-null   int64  \n",
    " 2   hour_bef_temperature    1457 non-null   float64\n",
    " 3   hour_bef_precipitation  1457 non-null   float64\n",
    " 4   hour_bef_windspeed      1450 non-null   float64\n",
    " 5   hour_bef_humidity       1457 non-null   float64\n",
    " 6   hour_bef_visibility     1457 non-null   float64\n",
    " 7   hour_bef_ozone          1383 non-null   float64\n",
    " 8   hour_bef_pm10           1369 non-null   float64\n",
    " 9   hour_bef_pm2.5          1342 non-null   float64\n",
    " 10  count                   1459 non-null   float64\n",
    "dtypes: float64(9), int64(2)\n",
    "memory usage: 125.5 KB\n",
    "```\n",
    "```python\n",
    "test.info()\n",
    "```\n",
    "```\n",
    "<class 'pandas.core.frame.DataFrame'>\n",
    "RangeIndex: 715 entries, 0 to 714\n",
    "Data columns (total 10 columns):\n",
    " #   Column                  Non-Null Count  Dtype  \n",
    "---  ------                  --------------  -----  \n",
    " 0   id                      715 non-null    int64  \n",
    " 1   hour                    715 non-null    int64  \n",
    " 2   hour_bef_temperature    714 non-null    float64\n",
    " 3   hour_bef_precipitation  714 non-null    float64\n",
    " 4   hour_bef_windspeed      714 non-null    float64\n",
    " 5   hour_bef_humidity       714 non-null    float64\n",
    " 6   hour_bef_visibility     714 non-null    float64\n",
    " 7   hour_bef_ozone          680 non-null    float64\n",
    " 8   hour_bef_pm10           678 non-null    float64\n",
    " 9   hour_bef_pm2.5          679 non-null    float64\n",
    "dtypes: float64(8), int64(2)\n",
    "memory usage: 56.0 KB\n",
    "```"
   ]
  },
  {
   "cell_type": "markdown",
   "id": "angry-egyptian",
   "metadata": {},
   "source": [
    "## 결측치 전처리\n",
    "- dropna() 를 사용해 train 데이터는 결측치를 제거하고\n",
    "- fillna() 를 사용해 test 데이터 결측치는 0 으로 대체하세요.\n",
    "- 그리고 결측치의 갯수를 출력하여 확안하세요."
   ]
  },
  {
   "cell_type": "markdown",
   "id": "worse-failing",
   "metadata": {},
   "source": [
    "```python\n",
    "train = train.dropna()\n",
    "test = test.fillna(0)\n",
    "print(train.isnull().sum())\n",
    "```\n",
    "```\n",
    "id                        0\n",
    "hour                      0\n",
    "hour_bef_temperature      0\n",
    "hour_bef_precipitation    0\n",
    "hour_bef_windspeed        0\n",
    "hour_bef_humidity         0\n",
    "hour_bef_visibility       0\n",
    "hour_bef_ozone            0\n",
    "hour_bef_pm10             0\n",
    "hour_bef_pm2.5            0\n",
    "count                     0\n",
    "dtype: int64\n",
    "```"
   ]
  },
  {
   "cell_type": "markdown",
   "id": "supported-windows",
   "metadata": {},
   "source": [
    "## 모델 훈련\n",
    "- train 데이터의 count 피쳐를 뺀 것을 X_train 으로 할당하세요.\n",
    "- train 데이터의 count 피쳐만을 가진 것을 Y_train 으로 할당하세요.\n",
    "- 회귀의사결정나무를 선언하고 fit() 으로 훈련시키세요."
   ]
  },
  {
   "cell_type": "markdown",
   "id": "interim-causing",
   "metadata": {},
   "source": [
    "```python\n",
    "X_train = train.drop(['count'], axis=1)\n",
    "Y_train = train['count']\n",
    "model = DecisionTreeRegressor()\n",
    "model.fit(X_train, Y_train)\n",
    "```\n",
    "```\n",
    "DecisionTreeRegressor(ccp_alpha=0.0, criterion='mse', max_depth=None,\n",
    "                      max_features=None, max_leaf_nodes=None,\n",
    "                      min_impurity_decrease=0.0, min_impurity_split=None,\n",
    "                      min_samples_leaf=1, min_samples_split=2,\n",
    "                      min_weight_fraction_leaf=0.0, presort='deprecated',\n",
    "                      random_state=None, splitter='best')\n",
    "```"
   ]
  },
  {
   "cell_type": "markdown",
   "id": "disciplinary-prince",
   "metadata": {},
   "source": [
    "## 테스트 파일 예측\n",
    "- predict() 을 이용해 test data 를 훈련한 모델로 예측한 data array 를 생성하세요."
   ]
  },
  {
   "cell_type": "markdown",
   "id": "quick-lobby",
   "metadata": {},
   "source": [
    "```python\n",
    "pred = model.predict(test)\n",
    "```"
   ]
  },
  {
   "cell_type": "markdown",
   "id": "european-concern",
   "metadata": {},
   "source": [
    "## submission 파일 생성\n",
    "- submission.csv 를 불러오세요.\n",
    "- submission df 의 count 피쳐에 예측한 결과를 덧입히세요.\n",
    "- submission df 를 to_csv() 를 이용해 csv 을 생성하세요. *index=False) "
   ]
  },
  {
   "cell_type": "markdown",
   "id": "tribal-scope",
   "metadata": {},
   "source": [
    "```python\n",
    "submission = pd.read_csv('data/submission.csv')\n",
    "submission['count'] = pred\n",
    "submission.to_csv('sub.csv',index=False)\n",
    "```"
   ]
  },
  {
   "cell_type": "code",
   "execution_count": null,
   "id": "opposed-driver",
   "metadata": {},
   "outputs": [],
   "source": []
  }
 ],
 "metadata": {
  "kernelspec": {
   "display_name": "Python 3",
   "language": "python",
   "name": "python3"
  },
  "language_info": {
   "codemirror_mode": {
    "name": "ipython",
    "version": 3
   },
   "file_extension": ".py",
   "mimetype": "text/x-python",
   "name": "python",
   "nbconvert_exporter": "python",
   "pygments_lexer": "ipython3",
   "version": "3.8.8"
  }
 },
 "nbformat": 4,
 "nbformat_minor": 5
}
