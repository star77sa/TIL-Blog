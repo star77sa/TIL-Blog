{
 "cells": [
  {
   "cell_type": "markdown",
   "id": "ideal-dragon",
   "metadata": {},
   "source": [
    "# temp\n",
    "> temp\n",
    "\n",
    "- toc: true \n",
    "- badges: true\n",
    "- comments: true\n",
    "- categories: [python]\n",
    "- image: images/"
   ]
  },
  {
   "cell_type": "markdown",
   "id": "92db2688-eeeb-487d-8aae-2311b5054ad6",
   "metadata": {},
   "source": [
    "---\n"
   ]
  },
  {
   "cell_type": "markdown",
   "id": "072b3482-ac1f-4752-b4d4-86297900f567",
   "metadata": {},
   "source": [
    "# mAP"
   ]
  },
  {
   "cell_type": "markdown",
   "id": "c153f5e5-9af3-4a68-9d93-5a3b69c97d0f",
   "metadata": {},
   "source": [
    "- CNN의 모델 성능 평가 지표"
   ]
  },
  {
   "cell_type": "markdown",
   "id": "dc015c3a-8a9e-4b9d-8d87-b88ab27a2aad",
   "metadata": {},
   "source": [
    "- Precision  = TP/(TP+FP) 정확도. 검출 결과 중 옳게 검출한 비율\n",
    "- Recall = TP/(TP+FN) 재현율. 실제 옳게 검출된 결과물 중에서 옳다고 예측한 것의 비율"
   ]
  },
  {
   "cell_type": "markdown",
   "id": "30969766-ba56-4a92-a164-4f338e52c84f",
   "metadata": {},
   "source": [
    "TP : 예측한 것중 정답인 것\n",
    "\n",
    "TP + FP : 예측한 것\n",
    "\n",
    "TP + FN : 실제 정답인 것"
   ]
  },
  {
   "cell_type": "markdown",
   "id": "857d9a3e-8449-401d-b6b0-93cc726fc723",
   "metadata": {},
   "source": [
    "- 일반적으로 Precision과 Recall은 서로 반비례 관계를 가진다.\n",
    "    \n",
    "    이 둘의 성능변화를 관측하기 위해 precision-recall 그래프를 이용한다."
   ]
  },
  {
   "cell_type": "markdown",
   "id": "0b7a4b94-089d-4f96-9f85-ba642cc8054d",
   "metadata": {},
   "source": [
    "## Average Precision (AP)"
   ]
  },
  {
   "cell_type": "markdown",
   "id": "620c346f-eb58-4074-8929-9ff4de192541",
   "metadata": {},
   "source": [
    "- precision-recall 그래프는 어떤 알고리즘의 성능을 전반적으로 파악하기에는 좋으나 서로 다른 두 알고리즘의 성능을 정량적으로 비교하기에는 불편."
   ]
  },
  {
   "cell_type": "markdown",
   "id": "440b3ac3-bf9c-4515-89c0-04b29e1096f6",
   "metadata": {},
   "source": [
    "- AP는 인식 알고리즘의 성능을 하나의 값으로 표현한 것으로 precision-recall 그래프에서 그래프 선 아래 쪽의 면적으로 계산"
   ]
  },
  {
   "cell_type": "markdown",
   "id": "1b7a6f1a-2bc0-48f4-bdfa-67ba67d847b8",
   "metadata": {},
   "source": [
    "- AP가 높으면 높을수록 그 알고리즘의 성능이 전체적으로 우수하다는 의미."
   ]
  },
  {
   "cell_type": "markdown",
   "id": "2674558a-3ac3-4d52-8706-81355d419918",
   "metadata": {},
   "source": [
    "**mAP** : 물체 클래스가 여러 개인 경우 각 클래스당 AP를 구한 다음에 그것을 모두 합한 다음 물체 클래스의 개수로 나눠줌으로 알고리즘의 성능을 평가."
   ]
  },
  {
   "cell_type": "code",
   "execution_count": null,
   "id": "9584b553-d8e9-4ae3-b299-fe67ba4ba5fd",
   "metadata": {},
   "outputs": [],
   "source": []
  }
 ],
 "metadata": {
  "kernelspec": {
   "display_name": "Python 3",
   "language": "python",
   "name": "python3"
  },
  "language_info": {
   "codemirror_mode": {
    "name": "ipython",
    "version": 3
   },
   "file_extension": ".py",
   "mimetype": "text/x-python",
   "name": "python",
   "nbconvert_exporter": "python",
   "pygments_lexer": "ipython3",
   "version": "3.8.8"
  }
 },
 "nbformat": 4,
 "nbformat_minor": 5
}
