{
 "cells": [
  {
   "cell_type": "markdown",
   "id": "ideal-dragon",
   "metadata": {},
   "source": [
    "# Pytorch_Tutorial\n",
    "> 파이토치 튜토리얼\n",
    "\n",
    "- toc: true \n",
    "- badges: true\n",
    "- comments: true\n",
    "- categories: [Pytorch]\n",
    "- image: images/"
   ]
  },
  {
   "cell_type": "markdown",
   "id": "brave-participant",
   "metadata": {},
   "source": [
    "---"
   ]
  },
  {
   "cell_type": "markdown",
   "id": "technological-bidding",
   "metadata": {},
   "source": [
    "- https://pytorch.org/tutorials/beginner/basics/intro.html"
   ]
  },
  {
   "cell_type": "markdown",
   "id": "proved-interference",
   "metadata": {},
   "source": [
    "---\n",
    "# 1. TENSORS"
   ]
  },
  {
   "cell_type": "markdown",
   "id": "41c84e8d-fb0c-4b6e-8808-e8fa7a20ba86",
   "metadata": {},
   "source": [
    "- Tensors are similar to NumPy’s ndarrays, except that tensors can run on GPUs or other hardware accelerators."
   ]
  },
  {
   "cell_type": "code",
   "execution_count": 2,
   "id": "bf7e88bb-7ca6-499a-9fe9-7c452677ee97",
   "metadata": {},
   "outputs": [],
   "source": [
    "import torch\n",
    "import numpy as np"
   ]
  },
  {
   "cell_type": "markdown",
   "id": "b68ad362-9f8f-4ba2-a6d8-90e06607a3ce",
   "metadata": {},
   "source": [
    "## Initializing a Tensor"
   ]
  },
  {
   "cell_type": "markdown",
   "id": "87c55ceb-1f32-46d4-b8c1-8d8a72d3a8dd",
   "metadata": {},
   "source": [
    "### Directly from data"
   ]
  },
  {
   "cell_type": "code",
   "execution_count": 3,
   "id": "1dccb541-cd46-4e01-a8d6-8719fdab453c",
   "metadata": {},
   "outputs": [],
   "source": [
    "data = [[1, 2],[3, 4]]\n",
    "x_data = torch.tensor(data)"
   ]
  },
  {
   "cell_type": "code",
   "execution_count": 4,
   "id": "ca5a6692-774e-449c-991b-39f1d5c7f1ce",
   "metadata": {},
   "outputs": [
    {
     "data": {
      "text/plain": [
       "tensor([[1, 2],\n",
       "        [3, 4]])"
      ]
     },
     "execution_count": 4,
     "metadata": {},
     "output_type": "execute_result"
    }
   ],
   "source": [
    "x_data"
   ]
  },
  {
   "cell_type": "markdown",
   "id": "78547667-1fdc-40cd-b95e-5eca0c6f9514",
   "metadata": {},
   "source": [
    "### From a NumPy array"
   ]
  },
  {
   "cell_type": "code",
   "execution_count": 5,
   "id": "11d9f396-ff12-4109-b688-fe57d6231a28",
   "metadata": {},
   "outputs": [],
   "source": [
    "np_array = np.array(data)\n",
    "x_np = torch.from_numpy(np_array)"
   ]
  },
  {
   "cell_type": "code",
   "execution_count": 6,
   "id": "210dcafa-454f-46cb-9c70-16525fcf0786",
   "metadata": {},
   "outputs": [
    {
     "data": {
      "text/plain": [
       "tensor([[1, 2],\n",
       "        [3, 4]], dtype=torch.int32)"
      ]
     },
     "execution_count": 6,
     "metadata": {},
     "output_type": "execute_result"
    }
   ],
   "source": [
    "x_np"
   ]
  },
  {
   "cell_type": "markdown",
   "id": "38d8d68f-2817-468a-8f4d-698c6b1b4cd8",
   "metadata": {},
   "source": [
    "### From another tensor:"
   ]
  },
  {
   "cell_type": "code",
   "execution_count": 7,
   "id": "5bcc4340-aec2-440a-b42c-099f93f05f4f",
   "metadata": {},
   "outputs": [
    {
     "name": "stdout",
     "output_type": "stream",
     "text": [
      "Ones Tensor: \n",
      " tensor([[1, 1],\n",
      "        [1, 1]]) \n",
      "\n",
      "Random Tensor: \n",
      " tensor([[0.8391, 0.5009],\n",
      "        [0.9606, 0.3604]]) \n",
      "\n"
     ]
    }
   ],
   "source": [
    "x_ones = torch.ones_like(x_data) # retains the properties of x_data\n",
    "print(f\"Ones Tensor: \\n {x_ones} \\n\")\n",
    "\n",
    "x_rand = torch.rand_like(x_data, dtype=torch.float) # overrides the datatype of x_data\n",
    "print(f\"Random Tensor: \\n {x_rand} \\n\")"
   ]
  },
  {
   "cell_type": "markdown",
   "id": "3f39da9b-ee74-44c3-b2d2-c75b2a71954a",
   "metadata": {},
   "source": [
    "### With random or constant values:"
   ]
  },
  {
   "cell_type": "code",
   "execution_count": 8,
   "id": "8159bda5-5421-4e8f-8768-62997dcffb97",
   "metadata": {},
   "outputs": [
    {
     "name": "stdout",
     "output_type": "stream",
     "text": [
      "Random Tensor: \n",
      " tensor([[0.1136, 0.1366, 0.7857],\n",
      "        [0.5840, 0.8021, 0.7719]]) \n",
      "\n",
      "Ones Tensor: \n",
      " tensor([[1., 1., 1.],\n",
      "        [1., 1., 1.]]) \n",
      "\n",
      "Zeros Tensor: \n",
      " tensor([[0., 0., 0.],\n",
      "        [0., 0., 0.]])\n"
     ]
    }
   ],
   "source": [
    "shape = (2,3,)\n",
    "rand_tensor = torch.rand(shape)\n",
    "ones_tensor = torch.ones(shape)\n",
    "zeros_tensor = torch.zeros(shape)\n",
    "\n",
    "print(f\"Random Tensor: \\n {rand_tensor} \\n\")\n",
    "print(f\"Ones Tensor: \\n {ones_tensor} \\n\")\n",
    "print(f\"Zeros Tensor: \\n {zeros_tensor}\")"
   ]
  },
  {
   "cell_type": "markdown",
   "id": "5418a7da-f7a9-4686-9d6f-fd4d7932e851",
   "metadata": {},
   "source": [
    "## Attributes of a Tensor"
   ]
  },
  {
   "cell_type": "code",
   "execution_count": 9,
   "id": "55513902-f4ce-4587-a19f-146bb5179858",
   "metadata": {},
   "outputs": [
    {
     "name": "stdout",
     "output_type": "stream",
     "text": [
      "Shape of tensor: torch.Size([3, 4])\n",
      "Datatype of tensor: torch.float32\n",
      "Device tensor is stored on: cpu\n"
     ]
    }
   ],
   "source": [
    "tensor = torch.rand(3,4)\n",
    "\n",
    "print(f\"Shape of tensor: {tensor.shape}\")\n",
    "print(f\"Datatype of tensor: {tensor.dtype}\")\n",
    "print(f\"Device tensor is stored on: {tensor.device}\")"
   ]
  },
  {
   "cell_type": "markdown",
   "id": "255d0615-d3de-4629-9c6c-2ab6ea57d16c",
   "metadata": {},
   "source": [
    "## Operations on Tensors"
   ]
  },
  {
   "cell_type": "markdown",
   "id": "79864992-f93a-436c-8800-fad4d810107a",
   "metadata": {},
   "source": [
    "- By default, tensors are created on the CPU. We need to explicitly move tensors to the GPU using"
   ]
  },
  {
   "cell_type": "code",
   "execution_count": 10,
   "id": "74e52f64-422e-4538-9608-b46bd21f42cb",
   "metadata": {},
   "outputs": [],
   "source": [
    "# We move our tensor to the GPU if available\n",
    "if torch.cuda.is_available():\n",
    "    tensor = tensor.to('cuda')"
   ]
  },
  {
   "cell_type": "markdown",
   "id": "f93d03b1-5e29-40cf-b2cb-f9b97b0a2b44",
   "metadata": {},
   "source": [
    "### Standard numpy-like indexing and slicing:"
   ]
  },
  {
   "cell_type": "code",
   "execution_count": 11,
   "id": "31824c6d-6d73-44d2-ae92-45eb08d9de5c",
   "metadata": {},
   "outputs": [
    {
     "name": "stdout",
     "output_type": "stream",
     "text": [
      "First row:  tensor([1., 1., 1., 1.])\n",
      "First column:  tensor([1., 1., 1., 1.])\n",
      "Last column: tensor([1., 1., 1., 1.])\n",
      "tensor([[1., 0., 1., 1.],\n",
      "        [1., 0., 1., 1.],\n",
      "        [1., 0., 1., 1.],\n",
      "        [1., 0., 1., 1.]])\n"
     ]
    }
   ],
   "source": [
    "tensor = torch.ones(4, 4)\n",
    "print('First row: ', tensor[0])\n",
    "print('First column: ', tensor[:, 0])\n",
    "print('Last column:', tensor[..., -1])\n",
    "tensor[:,1] = 0\n",
    "print(tensor)"
   ]
  },
  {
   "cell_type": "markdown",
   "id": "377be98f-8a62-469d-86b2-33ad0374e6a9",
   "metadata": {},
   "source": [
    "### Joining tensors\n",
    "You can use `torch.cat` to concatenate a sequence of tensors along a given dimension."
   ]
  },
  {
   "cell_type": "code",
   "execution_count": 12,
   "id": "a590a352-b48c-48c5-8281-36ac07614c5c",
   "metadata": {},
   "outputs": [
    {
     "name": "stdout",
     "output_type": "stream",
     "text": [
      "tensor([[1., 0., 1., 1., 1., 0., 1., 1., 1., 0., 1., 1.],\n",
      "        [1., 0., 1., 1., 1., 0., 1., 1., 1., 0., 1., 1.],\n",
      "        [1., 0., 1., 1., 1., 0., 1., 1., 1., 0., 1., 1.],\n",
      "        [1., 0., 1., 1., 1., 0., 1., 1., 1., 0., 1., 1.]])\n"
     ]
    }
   ],
   "source": [
    "t1 = torch.cat([tensor, tensor, tensor], dim=1)\n",
    "print(t1)"
   ]
  },
  {
   "cell_type": "markdown",
   "id": "8e601240-6e0b-4214-9e3f-2c65e8260eb8",
   "metadata": {},
   "source": [
    "### Arithmetic operations"
   ]
  },
  {
   "cell_type": "code",
   "execution_count": 13,
   "id": "99c563bb-20df-44ac-bb24-cab9e07ee168",
   "metadata": {},
   "outputs": [],
   "source": [
    "# This computes the matrix multiplication between two tensors.\n",
    "y1 = tensor @ tensor.T"
   ]
  },
  {
   "cell_type": "code",
   "execution_count": 14,
   "id": "82a3a02b-3eee-43fd-a66a-e3c2766b1a10",
   "metadata": {},
   "outputs": [],
   "source": [
    "# This computes the element-wise product.\n",
    "z1 = tensor * tensor"
   ]
  },
  {
   "cell_type": "markdown",
   "id": "dadaca79-8694-4d0a-a3f8-671939bcaab2",
   "metadata": {},
   "source": [
    "### Single-element tensors\n",
    "If you have a one-element tensor, for example by aggregating all values of a tensor into one value, you can convert it to a Python numerical value using `item()`:"
   ]
  },
  {
   "cell_type": "code",
   "execution_count": 15,
   "id": "7d1a5323-a410-4ab3-9adc-8f213b11cd56",
   "metadata": {},
   "outputs": [
    {
     "name": "stdout",
     "output_type": "stream",
     "text": [
      "12.0 <class 'float'>\n"
     ]
    }
   ],
   "source": [
    "agg = tensor.sum()\n",
    "agg_item = agg.item()\n",
    "print(agg_item, type(agg_item))"
   ]
  },
  {
   "cell_type": "markdown",
   "id": "865ed1df-d292-46b7-8539-47a6a11bc466",
   "metadata": {},
   "source": [
    "---"
   ]
  },
  {
   "cell_type": "markdown",
   "id": "c55c15f8-fc97-4f14-b0d9-3e2057d0cbf0",
   "metadata": {},
   "source": [
    "# 2. DATASETS & DATALOADERS"
   ]
  },
  {
   "cell_type": "markdown",
   "id": "f3ae3865-2207-47e5-aba9-630a571d7c27",
   "metadata": {},
   "source": [
    "- `Dataset` stores the samples and their corresponding labels, and `DataLoader` wraps an iterable around the `Dataset` to enable easy access to the samples."
   ]
  },
  {
   "cell_type": "markdown",
   "id": "e2f58c33-60b6-43aa-88c3-f1c1d0ffc6d1",
   "metadata": {},
   "source": [
    "## Loading a Dataset 데이터셋 불러오기"
   ]
  },
  {
   "cell_type": "markdown",
   "id": "2bd9380e-a848-48fe-994d-867c33ee8460",
   "metadata": {},
   "source": [
    "TorchVision 에서 Fashion-MNIST 데이터셋을 불러오는 예제를 살펴보겠습니다. Fashion-MNIST는 Zalando의 기사 이미지 데이터셋으로 60,000개의 학습 예제와 10,000개의 테스트 예제로 이루어져 있습니다. 각 예제는 흑백(grayscale)의 28x28 이미지와 10개 분류(class) 중 하나인 정답(label)으로 구성됩니다."
   ]
  },
  {
   "cell_type": "markdown",
   "id": "1ada8e9e-e9e5-4444-a3d9-8621af8dded3",
   "metadata": {},
   "source": [
    "We load the FashionMNIST Dataset with the following parameters:\n",
    "- `root` 는 학습/테스트 데이터가 저장되는 경로입니다.\n",
    "- `train` 은 학습용 또는 테스트용 데이터셋 여부를 지정합니다.\n",
    "- `download=True` 는 `root` 에 데이터가 없는 경우 인터넷에서 다운로드합니다.\n",
    "- `transform` 과 `target_transform` 은 특징(feature)과 정답(label) 변형(transform)을 지정합니다."
   ]
  },
  {
   "cell_type": "code",
   "execution_count": 16,
   "id": "87913762-1fcf-41b2-94db-1ce1e67eab52",
   "metadata": {},
   "outputs": [
    {
     "name": "stderr",
     "output_type": "stream",
     "text": [
      "C:\\Users\\ksko\\anaconda3\\lib\\site-packages\\torchvision\\io\\image.py:11: UserWarning: Failed to load image Python extension: Could not find module 'C:\\Users\\ksko\\anaconda3\\Lib\\site-packages\\torchvision\\image.pyd' (or one of its dependencies). Try using the full path with constructor syntax.\n",
      "  warn(f\"Failed to load image Python extension: {e}\")\n"
     ]
    }
   ],
   "source": [
    "import torch\n",
    "from torch.utils.data import Dataset\n",
    "from torchvision import datasets\n",
    "from torchvision.transforms import ToTensor\n",
    "import matplotlib.pyplot as plt\n",
    "\n",
    "\n",
    "training_data = datasets.FashionMNIST(\n",
    "    root=\"data\",\n",
    "    train=True,\n",
    "    download=True,\n",
    "    transform=ToTensor()\n",
    ")\n",
    "\n",
    "test_data = datasets.FashionMNIST(\n",
    "    root=\"data\",\n",
    "    train=False,\n",
    "    download=True,\n",
    "    transform=ToTensor()\n",
    ")"
   ]
  },
  {
   "cell_type": "markdown",
   "id": "f8bc528b-0f7f-4955-b57b-3abadf3ff6a9",
   "metadata": {},
   "source": [
    "## Iterating and Visualizing the Dataset 데이터셋을 순회하고 시각화하기"
   ]
  },
  {
   "cell_type": "markdown",
   "id": "03a1fe4d-0d13-434d-a4b4-6e2e939c947e",
   "metadata": {},
   "source": [
    "`Dataset` 에 리스트(list)처럼 직접 접근(index)할 수 있습니다: `training_data[index]`. `matplotlib` 을 사용하여 학습 데이터의 일부를 시각화해보겠습니다.."
   ]
  },
  {
   "cell_type": "code",
   "execution_count": 25,
   "id": "38c5eebc-83dc-4a7c-a6e3-4258c7ad96c0",
   "metadata": {},
   "outputs": [
    {
     "data": {
      "image/png": "[encoded data removed]",
      "text/plain": [
       "<Figure size 576x576 with 9 Axes>"
      ]
     },
     "metadata": {
      "needs_background": "light"
     },
     "output_type": "display_data"
    }
   ],
   "source": [
    "import matplotlib.pyplot as plt\n",
    "\n",
    "labels_map = {\n",
    "    0: \"T-Shirt\",\n",
    "    1: \"Trouser\",\n",
    "    2: \"Pullover\",\n",
    "    3: \"Dress\",\n",
    "    4: \"Coat\",\n",
    "    5: \"Sandal\",\n",
    "    6: \"Shirt\",\n",
    "    7: \"Sneaker\",\n",
    "    8: \"Bag\",\n",
    "    9: \"Ankle Boot\",\n",
    "}\n",
    "figure = plt.figure(figsize=(8, 8))\n",
    "cols, rows = 3, 3\n",
    "for i in range(1, cols * rows + 1):\n",
    "    sample_idx = torch.randint(len(training_data), size=(1,)).item()\n",
    "    img, label = training_data[sample_idx]\n",
    "    figure.add_subplot(rows, cols, i)\n",
    "    plt.title(labels_map[label])\n",
    "    plt.axis(\"off\")\n",
    "    plt.imshow(img.squeeze(), cmap=\"gray\")\n",
    "plt.show()"
   ]
  },
  {
   "cell_type": "markdown",
   "id": "c8387536-26c9-4e3b-95e1-eabd28dad8fb",
   "metadata": {},
   "source": [
    "## Creating a Custom Dataset for your files"
   ]
  },
  {
   "cell_type": "markdown",
   "id": "302ac1e9-9715-45d6-80bc-3740f50a447a",
   "metadata": {},
   "source": [
    "사용자 정의 Dataset 클래스는 반드시 3개 함수를 구현해야 합니다: \\_\\_init__, \\_\\_len__, and \\_\\_getitem__. 아래 구현을 살펴보면 FashionMNIST 이미지들은 `img_dir` 디렉토리에 저장되고, 정답은 `annotations_file` csv 파일에 별도로 저장됩니다."
   ]
  },
  {
   "cell_type": "markdown",
   "id": "665bfa04-24b9-40b9-8065-35d7f4e38d1e",
   "metadata": {},
   "source": [
    "In the next sections, we’ll break down what’s happening in each of these functions."
   ]
  },
  {
   "cell_type": "code",
   "execution_count": 17,
   "id": "dd5779e6-65a8-4ef6-a362-95816fe8b3f3",
   "metadata": {},
   "outputs": [],
   "source": [
    "import os\n",
    "import pandas as pd\n",
    "from torchvision.io import read_image\n",
    "\n",
    "class CustomImageDataset(Dataset):\n",
    "    def __init__(self, annotations_file, img_dir, transform=None, target_transform=None):\n",
    "        self.img_labels = pd.read_csv(annotations_file)\n",
    "        self.img_dir = img_dir\n",
    "        self.transform = transform\n",
    "        self.target_transform = target_transform\n",
    "\n",
    "    def __len__(self):\n",
    "        return len(self.img_labels)\n",
    "\n",
    "    def __getitem__(self, idx):\n",
    "        img_path = os.path.join(self.img_dir, self.img_labels.iloc[idx, 0])\n",
    "        image = read_image(img_path)\n",
    "        label = self.img_labels.iloc[idx, 1]\n",
    "        if self.transform:\n",
    "            image = self.transform(image)\n",
    "        if self.target_transform:\n",
    "            label = self.target_transform(label)\n",
    "        return image, label"
   ]
  },
  {
   "cell_type": "markdown",
   "id": "ce66b7ae-51f0-4849-ae73-6954a7eb1572",
   "metadata": {},
   "source": [
    "### \\_\\_init__"
   ]
  },
  {
   "cell_type": "markdown",
   "id": "16196618-44d5-4fda-820f-19221e980c19",
   "metadata": {},
   "source": [
    "\\_\\_init__  함수는 Dataset 객체가 생성(instantiate)될 때 한 번만 실행됩니다. 여기서는 이미지와 주석 파일(annotation_file)이 포함된 디렉토리와 (다음 장에서 자세히 살펴볼) 두가지 변형(transform)을 초기화합니다.\n",
    "\n",
    "labels.csv 파일은 다음과 같습니다:"
   ]
  },
  {
   "cell_type": "markdown",
   "id": "69f56adb-fd4f-4eef-8ca3-04bc766e6216",
   "metadata": {},
   "source": [
    "```\n",
    "tshirt1.jpg, 0\n",
    "tshirt2.jpg, 0\n",
    "......\n",
    "ankleboot999.jpg, 9\n",
    "```"
   ]
  },
  {
   "cell_type": "code",
   "execution_count": 18,
   "id": "471a7f47-147b-45ea-9d5d-c43cf3977a7c",
   "metadata": {},
   "outputs": [],
   "source": [
    "def __init__(self, annotations_file, img_dir, transform=None, target_transform=None):\n",
    "    self.img_labels = pd.read_csv(annotations_file, names=['file_name', 'label'])\n",
    "    self.img_dir = img_dir\n",
    "    self.transform = transform\n",
    "    self.target_transform = target_transform"
   ]
  },
  {
   "cell_type": "markdown",
   "id": "67d4bb4a-f936-4d64-8cf0-1397f9e02820",
   "metadata": {},
   "source": [
    "### \\_\\_len__"
   ]
  },
  {
   "cell_type": "markdown",
   "id": "8c3bae88-9acf-40e9-8b73-c45bd8a38405",
   "metadata": {},
   "source": [
    "\\_\\_len__ 함수는 데이터셋의 샘플 개수를 반환합니다."
   ]
  },
  {
   "cell_type": "markdown",
   "id": "e75b37c8-30a7-453f-a097-4bc392730d2c",
   "metadata": {},
   "source": [
    "Example:"
   ]
  },
  {
   "cell_type": "code",
   "execution_count": 19,
   "id": "7e33a819-7e8e-41ee-a460-242433ccfa8f",
   "metadata": {},
   "outputs": [],
   "source": [
    "def __len__(self):\n",
    "    return len(self.img_labels)"
   ]
  },
  {
   "cell_type": "markdown",
   "id": "1b688629-b287-4166-8604-cb257a0a382d",
   "metadata": {},
   "source": [
    "### \\_\\_getitem__"
   ]
  },
  {
   "cell_type": "markdown",
   "id": "3293d0d1-e6b9-407b-88ef-2038c868025a",
   "metadata": {},
   "source": [
    "\\_\\_getitem__ 함수는 주어진 인덱스 `idx` 에 해당하는 샘플을 데이터셋에서 불러오고 반환합니다. 인덱스를 기반으로, 디스크에서 이미지의 위치를 식별하고, `read_image` 를 사용하여 이미지를 텐서로 변환하고, `self.img_labels` 의 csv 데이터로부터 해당하는 정답(label)을 가져오고, (해당하는 경우) 변형(transform) 함수들을 호출한 뒤, 텐서 이미지와 라벨을 Python 사전(dict)형으로 반환합니다."
   ]
  },
  {
   "cell_type": "code",
   "execution_count": 20,
   "id": "f1ab6657-e3e1-49fa-9464-dae611a116fe",
   "metadata": {},
   "outputs": [],
   "source": [
    "def __getitem__(self, idx):\n",
    "    img_path = os.path.join(self.img_dir, self.img_labels.iloc[idx, 0])\n",
    "    image = read_image(img_path)\n",
    "    label = self.img_labels.iloc[idx, 1]\n",
    "    if self.transform:\n",
    "        image = self.transform(image)\n",
    "    if self.target_transform:\n",
    "        label = self.target_transform(label)\n",
    "    return image, label"
   ]
  },
  {
   "cell_type": "markdown",
   "id": "14b4016a-e582-4de2-9aa2-ed8e3e9abfc4",
   "metadata": {},
   "source": [
    "## DataLoader로 학습용 데이터 준비하기"
   ]
  },
  {
   "cell_type": "markdown",
   "id": "43dc4bfd-d287-42c1-a3dd-d03339a57b9c",
   "metadata": {},
   "source": [
    "`Dataset` 은 데이터셋의 특징(feature)을 가져오고 하나의 샘플에 정답(label)을 지정하는 일을 한 번에 합니다. 모델을 학습할 때, 일반적으로 샘플들을 “미니배치(minibatch)”로 전달하고, 매 에폭(epoch)마다 데이터를 다시 섞어서 과적합(overfit)을 막고, Python의 `multiprocessing` 을 사용하여 데이터 검색 속도를 높이려고 합니다.\n",
    "\n",
    "DataLoader 는 간단한 API로 이러한 복잡한 과정들을 추상화한 순회 가능한 객체(iterable)입니다."
   ]
  },
  {
   "cell_type": "code",
   "execution_count": 21,
   "id": "9b363536-4c41-4df2-87ad-d3a035e6bd3a",
   "metadata": {},
   "outputs": [],
   "source": [
    "from torch.utils.data import DataLoader\n",
    "\n",
    "train_dataloader = DataLoader(training_data, batch_size=64, shuffle=True)\n",
    "test_dataloader = DataLoader(test_data, batch_size=64, shuffle=True)"
   ]
  },
  {
   "cell_type": "markdown",
   "id": "7fbce50c-3012-4313-a093-83f71cd238c9",
   "metadata": {},
   "source": [
    "## DataLoader를 통해 순회하기(iterate)"
   ]
  },
  {
   "cell_type": "markdown",
   "id": "a5bd42e8-1a17-4486-8f9b-9fb2f30a0544",
   "metadata": {},
   "source": [
    "`DataLoader` 에 데이터셋을 불러온 뒤에는 필요에 따라 데이터셋을 순회(iterate)할 수 있습니다. 아래의 각 순회(iteration)는 (각각 `batch_size=64` 의 특징(feature)과 정답(label)을 포함하는) `train_features` 와 `train_labels` 의 묶음(batch)을 반환합니다. `shuffle=True` 로 지정했으므로, 모든 배치를 순회한 뒤 데이터가 섞입니다. (데이터 불러오기 순서를 보다 세밀하게(finer-grained) 제어하려면 Samplers 를 살펴보세요.)"
   ]
  },
  {
   "cell_type": "code",
   "execution_count": 22,
   "id": "536e1597-6b0e-4041-a006-e4cd4b8ec0a6",
   "metadata": {},
   "outputs": [
    {
     "name": "stdout",
     "output_type": "stream",
     "text": [
      "Feature batch shape: torch.Size([64, 1, 28, 28])\n",
      "Labels batch shape: torch.Size([64])\n"
     ]
    },
    {
     "data": {
      "image/png": "[encoded data removed]",
      "text/plain": [
       "<Figure size 432x288 with 1 Axes>"
      ]
     },
     "metadata": {
      "needs_background": "light"
     },
     "output_type": "display_data"
    },
    {
     "name": "stdout",
     "output_type": "stream",
     "text": [
      "Label: 6\n"
     ]
    }
   ],
   "source": [
    "# ``` python\n",
    "# 이미지와 정답(label)을 표시합니다.\n",
    "train_features, train_labels = next(iter(train_dataloader))\n",
    "print(f\"Feature batch shape: {train_features.size()}\")\n",
    "print(f\"Labels batch shape: {train_labels.size()}\")\n",
    "img = train_features[0].squeeze()\n",
    "label = train_labels[0]\n",
    "plt.imshow(img, cmap=\"gray\")\n",
    "plt.show()\n",
    "print(f\"Label: {label}\")\n",
    "# ```"
   ]
  },
  {
   "cell_type": "markdown",
   "id": "049a6492-5498-4416-a69e-35820dd6d9c4",
   "metadata": {},
   "source": [
    "---"
   ]
  },
  {
   "cell_type": "markdown",
   "id": "cea9a3ad-f3a7-400c-8237-3fb2e2c0d4a5",
   "metadata": {},
   "source": [
    "# 3. TRANSFORM"
   ]
  },
  {
   "cell_type": "markdown",
   "id": "b4e5e128-6723-4c48-9458-74c4c6c8815c",
   "metadata": {},
   "source": [
    "데이터가 항상 머신러닝 알고리즘 학습에 필요한 최종 처리가 된 형태로 제공되지는 않습니다. **변형(transform)** 을 해서 데이터를 조작하고 학습에 적합하게 만듭니다."
   ]
  },
  {
   "cell_type": "markdown",
   "id": "212443e8-146c-46c2-9ea4-6deb34b2d75f",
   "metadata": {},
   "source": [
    "모든 TorchVision 데이터셋들은 변형 로직을 갖는, 호출 가능한 객체(callable)를 받는 매개변수 두개 ( 특징(feature)을 변경하기 위한 `transform` 과 정답(label)을 변경하기 위한 `target_transform` )를 갖습니다 torchvision.transforms 모듈은 주로 사용하는 몇가지 변형(transform)을 제공합니다.\n",
    "\n",
    "FashionMNIST 특징(feature)은 PIL Image 형식이며, 정답(label)은 정수(integer)입니다. 학습을 하려면 정규화(normalize)된 텐서 형태의 특징(feature)과 원-핫(one-hot)으로 부호화(encode)된 텐서 형태의 정답(label)이 필요합니다. 이러한 변형(transformation)을 하기 위해 `ToTensor` 와 `Lambda` 를 사용합니다."
   ]
  },
  {
   "cell_type": "code",
   "execution_count": 2,
   "id": "82ac9a07-7116-47e7-a1b6-11740c7fef2d",
   "metadata": {},
   "outputs": [],
   "source": [
    "import torch\n",
    "from torchvision import datasets\n",
    "from torchvision.transforms import ToTensor, Lambda\n",
    "\n",
    "ds = datasets.FashionMNIST(\n",
    "    root=\"data\",\n",
    "    train=True,\n",
    "    download=True,\n",
    "    transform=ToTensor(),\n",
    "    target_transform=Lambda(lambda y: torch.zeros(10, dtype=torch.float).scatter_(0, torch.tensor(y), value=1))\n",
    ")"
   ]
  },
  {
   "cell_type": "markdown",
   "id": "32e32afe-2741-489f-a8ff-f2bce2dec6a4",
   "metadata": {},
   "source": [
    "## ToTensor()"
   ]
  },
  {
   "cell_type": "markdown",
   "id": "3d42fb55-8a51-4b88-88e8-d9e824de33cb",
   "metadata": {},
   "source": [
    "ToTensor 는 PIL Image나 NumPy `ndarray` 를 `FloatTensor` 로 변환하고, 이미지의 픽셀의 크기(intensity) 값을 [0., 1.] 범위로 비례하여 조정(scale)합니다."
   ]
  },
  {
   "cell_type": "markdown",
   "id": "5a2d687d-024f-42c6-9c3a-187568adcdff",
   "metadata": {},
   "source": [
    "## Lambda 변형(Transform)"
   ]
  },
  {
   "cell_type": "markdown",
   "id": "e21d8d66-9057-4367-abd2-ef6f37531d25",
   "metadata": {},
   "source": [
    "Lambda 변형은 사용자 정의 람다(lambda) 함수를 적용합니다. 여기에서는 정수를 원-핫으로 부호화된 텐서로 바꾸는 함수를 정의합니다. 이 함수는 먼저 (데이터셋 정답의 개수인) 크기 10짜리 영 텐서(zero tensor)를 만들고, scatter_ 를 호출하여 주어진 정답 `y` 에 해당하는 인덱스에 `value=1` 을 할당합니다."
   ]
  },
  {
   "cell_type": "code",
   "execution_count": 3,
   "id": "9d65dc5d-aefc-4051-9cf2-5806ce79d11d",
   "metadata": {},
   "outputs": [],
   "source": [
    "target_transform = Lambda(lambda y: torch.zeros(\n",
    "    10, dtype=torch.float).scatter_(dim=0, index=torch.tensor(y), value=1))"
   ]
  },
  {
   "cell_type": "markdown",
   "id": "3d285a3e-15df-428e-ac25-59b1b6169647",
   "metadata": {},
   "source": [
    "---"
   ]
  },
  {
   "cell_type": "markdown",
   "id": "e79af74e-c532-4ff1-b863-5e05c7df95a8",
   "metadata": {},
   "source": [
    "# 4. 신경망 모델 구성하기"
   ]
  },
  {
   "cell_type": "markdown",
   "id": "6c3f1f24-ec51-473e-90a8-409f1aa109b2",
   "metadata": {},
   "source": [
    "신경망은 데이터에 대한 연산을 수행하는 계층(layer)/모듈(module)로 구성되어 있습니다. torch.nn 네임스페이스는 신경망을 구성하는데 필요한 모든 구성 요소를 제공합니다. PyTorch의 모든 모듈은 nn.Module 의 하위 클래스(subclass) 입니다. 신경망은 다른 모듈(계층; layer)로 구성된 모듈입니다. 이러한 중첩된 구조는 복잡한 아키텍처를 쉽게 구축하고 관리할 수 있습니다."
   ]
  },
  {
   "cell_type": "markdown",
   "id": "76804f33-d08b-4389-ba2a-0f0aa532e06b",
   "metadata": {},
   "source": [
    "이어지는 장에서는 FashionMNIST 데이터셋의 이미지들을 분류하는 신경망을 구성해보겠습니다."
   ]
  },
  {
   "cell_type": "code",
   "execution_count": 4,
   "id": "dbf2e622-920d-46af-96f9-23292e8ff06b",
   "metadata": {},
   "outputs": [],
   "source": [
    "import os\n",
    "import torch\n",
    "from torch import nn\n",
    "from torch.utils.data import DataLoader\n",
    "from torchvision import datasets, transforms"
   ]
  },
  {
   "cell_type": "markdown",
   "id": "7f451843-1022-4e32-9f2c-7417673869dd",
   "metadata": {},
   "source": [
    "## 학습을 위한 장치 얻기"
   ]
  },
  {
   "cell_type": "markdown",
   "id": "7b7eb5f5-3199-4782-b918-463fd743f08f",
   "metadata": {},
   "source": [
    "가능한 경우 GPU와 같은 하드웨어 가속기에서 모델을 학습하려고 합니다. torch.cuda 를 사용할 수 있는지 확인하고 그렇지 않으면 CPU를 계속 사용합니다."
   ]
  },
  {
   "cell_type": "code",
   "execution_count": 5,
   "id": "a876a9de-bcc1-4d7d-9db7-8682664c5ad6",
   "metadata": {},
   "outputs": [
    {
     "name": "stdout",
     "output_type": "stream",
     "text": [
      "Using cpu device\n"
     ]
    }
   ],
   "source": [
    "device = 'cuda' if torch.cuda.is_available() else 'cpu'\n",
    "print(f'Using {device} device')"
   ]
  },
  {
   "cell_type": "markdown",
   "id": "1bc750a5-719e-4951-8161-1d054d0bed6b",
   "metadata": {},
   "source": [
    "## 클래스 정의하기"
   ]
  },
  {
   "cell_type": "markdown",
   "id": "13bdce97-b223-41db-955c-ede744d7a304",
   "metadata": {},
   "source": [
    "신경망 모델을 `nn.Module` 의 하위클래스로 정의하고, \\_\\_init__ 에서 신경망 계층들을 초기화합니다. `nn.Module` 을 상속받은 모든 클래스는 `forward` 메소드에 입력 데이터에 대한 연산들을 구현합니다."
   ]
  },
  {
   "cell_type": "code",
   "execution_count": 6,
   "id": "788bdc9f-1939-42d2-804f-e6e5c0cf69e2",
   "metadata": {},
   "outputs": [],
   "source": [
    "class NeuralNetwork(nn.Module):\n",
    "    def __init__(self):\n",
    "        super(NeuralNetwork, self).__init__()\n",
    "        self.flatten = nn.Flatten()\n",
    "        self.linear_relu_stack = nn.Sequential(\n",
    "            nn.Linear(28*28, 512),\n",
    "            nn.ReLU(),\n",
    "            nn.Linear(512, 512),\n",
    "            nn.ReLU(),\n",
    "            nn.Linear(512, 10),\n",
    "        )\n",
    "\n",
    "    def forward(self, x):\n",
    "        x = self.flatten(x)\n",
    "        logits = self.linear_relu_stack(x)\n",
    "        return logits"
   ]
  },
  {
   "cell_type": "markdown",
   "id": "780d92f2-1b11-4cee-a01a-d11d47e0c4ec",
   "metadata": {},
   "source": [
    "`NeuralNetwork` 의 인스턴스(instance)를 생성하고 이를 `device` 로 이동한 뒤, 구조(structure)를 출력합니다."
   ]
  },
  {
   "cell_type": "code",
   "execution_count": 7,
   "id": "f6dc931e-939c-48ac-8d1f-ff7063ddce97",
   "metadata": {},
   "outputs": [
    {
     "name": "stdout",
     "output_type": "stream",
     "text": [
      "NeuralNetwork(\n",
      "  (flatten): Flatten(start_dim=1, end_dim=-1)\n",
      "  (linear_relu_stack): Sequential(\n",
      "    (0): Linear(in_features=784, out_features=512, bias=True)\n",
      "    (1): ReLU()\n",
      "    (2): Linear(in_features=512, out_features=512, bias=True)\n",
      "    (3): ReLU()\n",
      "    (4): Linear(in_features=512, out_features=10, bias=True)\n",
      "  )\n",
      ")\n"
     ]
    }
   ],
   "source": [
    "model = NeuralNetwork().to(device)\n",
    "print(model)"
   ]
  },
  {
   "cell_type": "markdown",
   "id": "c1dd4769-e98b-46eb-be01-240e7fb71e72",
   "metadata": {},
   "source": [
    "모델을 사용하기 위해 입력 데이터를 전달합니다. 이는 일부 백그라운드 연산들 과 함께 모델의 `forward` 를 실행합니다. `model.forward()` 를 직접 호출하지 마세요!\n",
    "\n",
    "모델에 입력을 호출하면 각 분류(class)에 대한 원시(raw) 예측값이 있는 10-차원 텐서가 반환됩니다. 원시 예측값을 `nn.Softmax` 모듈의 인스턴스에 통과시켜 예측 확률을 얻습니다."
   ]
  },
  {
   "cell_type": "code",
   "execution_count": 13,
   "id": "0c7e6c5f-9888-41ee-87e4-4bf3430e84bf",
   "metadata": {},
   "outputs": [
    {
     "name": "stdout",
     "output_type": "stream",
     "text": [
      "Predicted class: tensor([3])\n"
     ]
    }
   ],
   "source": [
    "X = torch.rand(1, 28, 28, device=device)\n",
    "logits = model(X)\n",
    "pred_probab = nn.Softmax(dim=1)(logits)\n",
    "y_pred = pred_probab.argmax(1)\n",
    "print(f\"Predicted class: {y_pred}\")"
   ]
  },
  {
   "cell_type": "markdown",
   "id": "7b9fa209-9998-4b5f-87c2-d7681ba01a15",
   "metadata": {},
   "source": [
    "## 모델 계층(Layer)"
   ]
  },
  {
   "cell_type": "markdown",
   "id": "09cd1730-d765-46f7-9a17-a95f8f48ae93",
   "metadata": {},
   "source": [
    "FashionMNIST 모델의 계층들을 살펴보겠습니다. 이를 설명하기 위해, 28x28 크기의 이미지 3개로 구성된 미니배치를 가져와, 신경망을 통과할 때 어떤 일이 발생하는지 알아보겠습니다."
   ]
  },
  {
   "cell_type": "code",
   "execution_count": 15,
   "id": "8f6aa50f-9995-4244-bc3d-6de91a73b61c",
   "metadata": {},
   "outputs": [
    {
     "name": "stdout",
     "output_type": "stream",
     "text": [
      "torch.Size([3, 28, 28])\n"
     ]
    }
   ],
   "source": [
    "input_image = torch.rand(3,28,28)\n",
    "print(input_image.size())"
   ]
  },
  {
   "cell_type": "markdown",
   "id": "c778acde-604c-457d-9468-03df997b423b",
   "metadata": {},
   "source": [
    "### nn.Flatten"
   ]
  },
  {
   "cell_type": "markdown",
   "id": "c539c330-905b-46b5-a8bd-cf7182d1b700",
   "metadata": {},
   "source": [
    "nn.Flatten 계층을 초기화하여 각 28x28의 2D 이미지를 784 픽셀 값을 갖는 연속된 배열로 변환합니다. (dim=0의 미니배치 차원은 유지됩니다.)"
   ]
  },
  {
   "cell_type": "code",
   "execution_count": 16,
   "id": "7a25bf63-2c1f-4f74-a26e-8e25dfe6cae6",
   "metadata": {},
   "outputs": [
    {
     "name": "stdout",
     "output_type": "stream",
     "text": [
      "torch.Size([3, 784])\n"
     ]
    }
   ],
   "source": [
    "flatten = nn.Flatten()\n",
    "flat_image = flatten(input_image)\n",
    "print(flat_image.size())"
   ]
  },
  {
   "cell_type": "markdown",
   "id": "b6740748-6e98-493d-ab7a-8686dcf0e890",
   "metadata": {},
   "source": [
    "### nn.Linear"
   ]
  },
  {
   "cell_type": "markdown",
   "id": "a42deb78-08ad-4bcf-8139-6d4215beb264",
   "metadata": {},
   "source": [
    "선형 계층 은 저장된 가중치(weight)와 편향(bias)을 사용하여 입력에 선형 변환(linear transformation)을 적용하는 모듈입니다."
   ]
  },
  {
   "cell_type": "code",
   "execution_count": 17,
   "id": "7a3b34a3-d689-40f6-b88e-3302dec1998f",
   "metadata": {},
   "outputs": [
    {
     "name": "stdout",
     "output_type": "stream",
     "text": [
      "torch.Size([3, 20])\n"
     ]
    }
   ],
   "source": [
    "layer1 = nn.Linear(in_features=28*28, out_features=20)\n",
    "hidden1 = layer1(flat_image)\n",
    "print(hidden1.size())"
   ]
  },
  {
   "cell_type": "markdown",
   "id": "42711dde-627f-482a-a653-bcd1bd797f70",
   "metadata": {},
   "source": [
    "### nn.ReLU"
   ]
  },
  {
   "cell_type": "markdown",
   "id": "204b61ea-a2ae-4d45-ae4e-64fde7c40be8",
   "metadata": {},
   "source": [
    "비선형 활성화(activation)는 모델의 입력과 출력 사이에 복잡한 관계(mapping)를 만듭니다. 비선형 활성화는 선형 변환 후에 적용되어 비선형성(nonlinearity) 을 도입하고, 신경망이 다양한 현상을 학습할 수 있도록 돕습니다.\n",
    "\n",
    "이 모델에서는 nn.ReLU 를 선형 계층들 사이에 사용하지만, 모델을 만들 때는 비선형성을 가진 다른 활성화를 도입할 수도 있습니다."
   ]
  },
  {
   "cell_type": "code",
   "execution_count": 19,
   "id": "140c7a62-57c2-406e-9b33-6d4c4d4fd27c",
   "metadata": {},
   "outputs": [
    {
     "name": "stdout",
     "output_type": "stream",
     "text": [
      "Before ReLU: tensor([[ 0.1359, -0.3299, -0.1970,  0.5196, -0.0813, -0.2173, -0.1096, -0.0631,\n",
      "         -0.0354,  0.2562, -0.1485, -0.5210,  0.2318, -0.2634,  0.7257, -0.1972,\n",
      "         -0.3673, -0.4046, -0.0340, -0.5271],\n",
      "        [ 0.1564, -0.3985,  0.1940,  0.4656,  0.3421, -0.4703, -0.2136, -0.1095,\n",
      "         -0.2515,  0.0601, -0.3461, -0.7769,  0.2142, -0.0464,  0.9571, -0.1961,\n",
      "          0.2188, -0.0828,  0.0039, -0.4262],\n",
      "        [ 0.0486, -0.0440,  0.4727,  0.3145, -0.2762, -0.1264, -0.4441,  0.0866,\n",
      "         -0.2323, -0.0479, -0.0198, -0.4986,  0.0509, -0.0111,  0.7532, -0.3162,\n",
      "         -0.1697, -0.0800,  0.0344, -0.3996]], grad_fn=<AddmmBackward0>)\n",
      "\n",
      "\n",
      "After ReLU: tensor([[0.1359, 0.0000, 0.0000, 0.5196, 0.0000, 0.0000, 0.0000, 0.0000, 0.0000,\n",
      "         0.2562, 0.0000, 0.0000, 0.2318, 0.0000, 0.7257, 0.0000, 0.0000, 0.0000,\n",
      "         0.0000, 0.0000],\n",
      "        [0.1564, 0.0000, 0.1940, 0.4656, 0.3421, 0.0000, 0.0000, 0.0000, 0.0000,\n",
      "         0.0601, 0.0000, 0.0000, 0.2142, 0.0000, 0.9571, 0.0000, 0.2188, 0.0000,\n",
      "         0.0039, 0.0000],\n",
      "        [0.0486, 0.0000, 0.4727, 0.3145, 0.0000, 0.0000, 0.0000, 0.0866, 0.0000,\n",
      "         0.0000, 0.0000, 0.0000, 0.0509, 0.0000, 0.7532, 0.0000, 0.0000, 0.0000,\n",
      "         0.0344, 0.0000]], grad_fn=<ReluBackward0>)\n"
     ]
    }
   ],
   "source": [
    "print(f\"Before ReLU: {hidden1}\\n\\n\")\n",
    "hidden1 = nn.ReLU()(hidden1)\n",
    "print(f\"After ReLU: {hidden1}\")"
   ]
  },
  {
   "cell_type": "markdown",
   "id": "b66e4cf6-4c68-49b8-be37-b297bfc2e80b",
   "metadata": {},
   "source": [
    "### nn.Sequential"
   ]
  },
  {
   "cell_type": "markdown",
   "id": "1dd53f8b-e48a-484f-a387-0ecc7fb05a4e",
   "metadata": {},
   "source": [
    "nn.Sequential 은 순서를 갖는 모듈의 컨테이너입니다. 데이터는 정의된 것과 같은 순서로 모든 모듈들을 통해 전달됩니다. 순차 컨테이너(sequential container)를 사용하여 아래의 `seq_modules` 와 같은 신경망을 빠르게 만들 수 있습니다."
   ]
  },
  {
   "cell_type": "code",
   "execution_count": 21,
   "id": "c2adfe79-f302-425d-a0de-9b1eb0df58c2",
   "metadata": {},
   "outputs": [],
   "source": [
    "seq_modules = nn.Sequential(\n",
    "    flatten,\n",
    "    layer1,\n",
    "    nn.ReLU(),\n",
    "    nn.Linear(20, 10)\n",
    ")\n",
    "input_image = torch.rand(3,28,28)\n",
    "logits = seq_modules(input_image)"
   ]
  },
  {
   "cell_type": "markdown",
   "id": "b2047bc2-192c-4174-a910-333662a2986e",
   "metadata": {},
   "source": [
    "### nn.Softmax"
   ]
  },
  {
   "cell_type": "markdown",
   "id": "b083f841-5856-453a-9a39-5fda81e7fd61",
   "metadata": {},
   "source": [
    "신경망의 마지막 선형 계층은 nn.Softmax 모듈에 전달될 ([-infty, infty] 범위의 원시 값(raw value)인) logits 를 반환합니다. logits는 모델의 각 분류(class)에 대한 예측 확률을 나타내도록 [0, 1] 범위로 비례하여 조정(scale)됩니다. `dim` 매개변수는 값의 합이 1이 되는 차원을 나타냅니다."
   ]
  },
  {
   "cell_type": "code",
   "execution_count": 22,
   "id": "779b3c90-8310-475d-a2db-94d03212fce2",
   "metadata": {},
   "outputs": [],
   "source": [
    "softmax = nn.Softmax(dim=1)\n",
    "pred_probab = softmax(logits)"
   ]
  },
  {
   "cell_type": "markdown",
   "id": "544e4abd-c327-4959-a9b4-77dafc0dc455",
   "metadata": {},
   "source": [
    "## 모델 매개변수"
   ]
  },
  {
   "cell_type": "markdown",
   "id": "d05d9ea6-1c09-4722-89fb-95ae44bcc942",
   "metadata": {},
   "source": [
    "신경망 내부의 많은 계층들은 매개변수화(parameterize) 됩니다. 즉, 학습 중에 최적화되는 가중치와 편향과 연관지어집니다. `nn.Module` 을 상속하면 모델 객체 내부의 모든 필드들이 자동으로 추적(track)되며, 모델의 `parameters()` 및 `named_parameters()` 메소드로 모든 매개변수에 접근할 수 있게 됩니다.\n",
    "\n",
    "이 예제에서는 각 매개변수들을 순회하며(iterate), 매개변수의 크기와 값을 출력합니다."
   ]
  },
  {
   "cell_type": "code",
   "execution_count": 23,
   "id": "2971b155-3d63-4827-9f62-711de876db5a",
   "metadata": {},
   "outputs": [
    {
     "name": "stdout",
     "output_type": "stream",
     "text": [
      "Model structure:  NeuralNetwork(\n",
      "  (flatten): Flatten(start_dim=1, end_dim=-1)\n",
      "  (linear_relu_stack): Sequential(\n",
      "    (0): Linear(in_features=784, out_features=512, bias=True)\n",
      "    (1): ReLU()\n",
      "    (2): Linear(in_features=512, out_features=512, bias=True)\n",
      "    (3): ReLU()\n",
      "    (4): Linear(in_features=512, out_features=10, bias=True)\n",
      "  )\n",
      ") \n",
      "\n",
      "\n",
      "Layer: linear_relu_stack.0.weight | Size: torch.Size([512, 784]) | Values : tensor([[ 0.0313, -0.0301, -0.0258,  ...,  0.0281,  0.0342,  0.0187],\n",
      "        [ 0.0338,  0.0077,  0.0075,  ...,  0.0187,  0.0315,  0.0039]],\n",
      "       grad_fn=<SliceBackward0>) \n",
      "\n",
      "Layer: linear_relu_stack.0.bias | Size: torch.Size([512]) | Values : tensor([0.0111, 0.0268], grad_fn=<SliceBackward0>) \n",
      "\n",
      "Layer: linear_relu_stack.2.weight | Size: torch.Size([512, 512]) | Values : tensor([[ 0.0409, -0.0326,  0.0223,  ...,  0.0191,  0.0215, -0.0205],\n",
      "        [-0.0012,  0.0316, -0.0183,  ...,  0.0206, -0.0111, -0.0350]],\n",
      "       grad_fn=<SliceBackward0>) \n",
      "\n",
      "Layer: linear_relu_stack.2.bias | Size: torch.Size([512]) | Values : tensor([-0.0300,  0.0373], grad_fn=<SliceBackward0>) \n",
      "\n",
      "Layer: linear_relu_stack.4.weight | Size: torch.Size([10, 512]) | Values : tensor([[ 0.0060,  0.0204,  0.0370,  ..., -0.0408,  0.0104,  0.0433],\n",
      "        [ 0.0021, -0.0366, -0.0415,  ...,  0.0363,  0.0430,  0.0140]],\n",
      "       grad_fn=<SliceBackward0>) \n",
      "\n",
      "Layer: linear_relu_stack.4.bias | Size: torch.Size([10]) | Values : tensor([-0.0413, -0.0108], grad_fn=<SliceBackward0>) \n",
      "\n"
     ]
    }
   ],
   "source": [
    "print(\"Model structure: \", model, \"\\n\\n\")\n",
    "\n",
    "for name, param in model.named_parameters():\n",
    "    print(f\"Layer: {name} | Size: {param.size()} | Values : {param[:2]} \\n\")"
   ]
  },
  {
   "cell_type": "markdown",
   "id": "6c03ed45-ec43-4fe4-a499-ffad022d3f9b",
   "metadata": {},
   "source": [
    "# 5. Autograd\n",
    "`TORCH.AUTOGRAD`를 사용한 자동 미분"
   ]
  },
  {
   "cell_type": "markdown",
   "id": "b8111433-48be-42ba-b22f-c6ca3469dfaf",
   "metadata": {},
   "source": [
    "신경망을 학습할 때 가장 자주 사용되는 알고리즘은 **역전파**입니다. 이 알고리즘에서, 매개변수(모델 가중치)는 주어진 매개변수에 대한 손실 함수의 **변화도(gradient)** 에 따라 조정됩니다.\n",
    "\n",
    "이러한 변화도를 계산하기 위해 PyTorch에는 `torch.autograd`라고 불리는 자동 미분 엔진이 내장되어 있습니다. 이는 모든 계산 그래프에 대한 변화도의 자동 계산을 지원합니다.\n",
    "\n",
    "입력 `x`, 매개변수 `w`와 `b` , 그리고 일부 손실 함수가 있는 가장 간단한 단일 계층 신경망을 가정하겠습니다. PyTorch에서는 다음과 같이 정의할 수 있습니다:"
   ]
  },
  {
   "cell_type": "code",
   "execution_count": 25,
   "id": "14a04992-f996-42dc-b54d-0fa9fcfc2af4",
   "metadata": {},
   "outputs": [],
   "source": [
    "import torch\n",
    "\n",
    "x = torch.ones(5)  # input tensor\n",
    "y = torch.zeros(3)  # expected output\n",
    "w = torch.randn(5, 3, requires_grad=True)\n",
    "b = torch.randn(3, requires_grad=True)\n",
    "z = torch.matmul(x, w)+b\n",
    "loss = torch.nn.functional.binary_cross_entropy_with_logits(z, y)"
   ]
  },
  {
   "cell_type": "markdown",
   "id": "32be1f3d-a2d6-46c0-a0c6-5b4f920e855c",
   "metadata": {},
   "source": [
    "## Tensor, Function과 연산그래프(Computational graph)"
   ]
  },
  {
   "cell_type": "markdown",
   "id": "dfb5f357-0793-446d-a946-cd401fc9ea5a",
   "metadata": {},
   "source": [
    "이 코드는 다음의 **연산 그래프** 를 정의합니다:"
   ]
  },
  {
   "attachments": {
    "468a9724-a6f3-44b1-88d7-37ed7d39b7fb.png": {
     "image/png": "[encoded data removed]"
    }
   },
   "cell_type": "markdown",
   "id": "8c11378f-c27b-4f5e-b4a2-f988ac9733cf",
   "metadata": {},
   "source": [
    "![image.png](attachment:468a9724-a6f3-44b1-88d7-37ed7d39b7fb.png)"
   ]
  },
  {
   "cell_type": "markdown",
   "id": "0bb1c69b-1574-48b8-80b8-7baf78d49fac",
   "metadata": {},
   "source": [
    "이 신경망에서, `w`와 `b`는 최적화를 해야 하는 **매개변수** 입니다. 따라서 이러한 변수들에 대한 손실 함수의 변화도를 계산할 수 있어야 합니다. 이를 위해서 해당 텐서에 `requires_grad` 속성을 설정합니다."
   ]
  },
  {
   "cell_type": "markdown",
   "id": "80156fc6-29f7-433a-8888-d0028820b786",
   "metadata": {},
   "source": [
    "- note"
   ]
  },
  {
   "cell_type": "markdown",
   "id": "a09b6a43-fecc-4696-a357-10cd16b0e67e",
   "metadata": {},
   "source": [
    "`requires_grad`의 값은 텐서를 생성할 때 설정하거나, 나중에 `x.requires_grad_(True)` 메소드를 사용하여 나중에 설정할 수도 있습니다."
   ]
  },
  {
   "cell_type": "markdown",
   "id": "01ec32f2-ec0c-4f33-b5d9-4724bcb3e8f7",
   "metadata": {},
   "source": [
    "연산 그래프를 구성하기 위해 텐서에 적용하는 함수는 사실 `Function` 클래스의 객체입니다. 이 객체는 순전파 방향으로 함수를 계산하는 방법과, 역방향 전파 단계에서 도함수(derivative)를 계산하는 방법을 알고 있습니다. 역방향 전파 함수에 대한 참조(reference)는 텐서의 `grad_fn` 속성에 저장됩니다."
   ]
  },
  {
   "cell_type": "code",
   "execution_count": 26,
   "id": "9820f0f2-536c-45ac-8bba-930ed08c1aa7",
   "metadata": {},
   "outputs": [
    {
     "name": "stdout",
     "output_type": "stream",
     "text": [
      "Gradient function for z = <AddBackward0 object at 0x000001AFC94B79D0>\n",
      "Gradient function for loss = <BinaryCrossEntropyWithLogitsBackward0 object at 0x000001AFC94B7160>\n"
     ]
    }
   ],
   "source": [
    "print('Gradient function for z =', z.grad_fn)\n",
    "print('Gradient function for loss =', loss.grad_fn)"
   ]
  },
  {
   "cell_type": "markdown",
   "id": "ae0375d1-aa70-4088-86c4-51a1a06bd223",
   "metadata": {},
   "source": [
    "## 변화도(Gradient) 계산하기"
   ]
  },
  {
   "cell_type": "markdown",
   "id": "deb072b7-33b2-46af-9394-a817606230ab",
   "metadata": {},
   "source": [
    "신경망에서 매개변수의 가중치를 최적화하려면 매개변수에 대한 손실함수의 도함수(derivative)를 계산해야 합니다. 즉, `x`와 `y`의 일부 고정값에서 $\\frac{\\partial loss}{\\partial w} $ 와 $\\frac{\\partial loss}{\\partial b} $ 가 필요합니다. 이러한 도함수를 계산하기 위해, loss.backward() 를 호출한 다음 w.grad와 b.grad에서 값을 가져옵니다:"
   ]
  },
  {
   "cell_type": "code",
   "execution_count": 27,
   "id": "f2faf384-6d51-4ff3-a648-0adb82b83274",
   "metadata": {},
   "outputs": [
    {
     "name": "stdout",
     "output_type": "stream",
     "text": [
      "tensor([[0.1565, 0.2825, 0.3122],\n",
      "        [0.1565, 0.2825, 0.3122],\n",
      "        [0.1565, 0.2825, 0.3122],\n",
      "        [0.1565, 0.2825, 0.3122],\n",
      "        [0.1565, 0.2825, 0.3122]])\n",
      "tensor([0.1565, 0.2825, 0.3122])\n"
     ]
    }
   ],
   "source": [
    "loss.backward()\n",
    "print(w.grad)\n",
    "print(b.grad)"
   ]
  },
  {
   "cell_type": "markdown",
   "id": "978d78fb-64c3-49fa-a262-ff0adc57c0df",
   "metadata": {},
   "source": [
    "- ***NOTE***"
   ]
  },
  {
   "cell_type": "markdown",
   "id": "58917acf-6a15-476f-a14a-e2e8b3349f17",
   "metadata": {},
   "source": [
    "연산 그래프의 잎(leaf) 노드들 중 `requires_grad` 속성이 `True`로 설정된 노드들의 `grad` 속성만 구할 수 있습니다. 그래프의 다른 모든 노드에서는 변화도가 유효하지 않습니다.\n",
    "\n",
    "성능 상의 이유로, 주어진 그래프에서의 `backward`를 사용한 변화도 계산은 한 번만 수행할 수 있습니다. 만약 동일한 그래프에서 여러번의 `backward` 호출이 필요하면, `backward` 호출 시에 `retrain_graph=True`를 전달해야 합니다."
   ]
  },
  {
   "cell_type": "markdown",
   "id": "589d1984-fd40-4033-b50a-1f2e093bcfe8",
   "metadata": {},
   "source": [
    "## 변화도 추적 멈추기"
   ]
  },
  {
   "cell_type": "markdown",
   "id": "dfd81011-2347-4d96-adcf-33178202af6c",
   "metadata": {},
   "source": [
    "기본적으로, `requires_grad=True`인 모든 텐서들은 연산 기록을 추적하고 변화도 계산을 지원합니다. 그러나 모델을 학습한 뒤 입력 데이터를 단순히 적용하기만 하는 경우와 같이 순전파 연산만 필요한 경우에는, 이러한 추적이나 지원이 필요없을 수 있습니다. 연산 코드를 `torch.no_grad()` 블록으로 둘러싸서 연산 추적을 멈출 수 있습니다:"
   ]
  },
  {
   "cell_type": "code",
   "execution_count": 28,
   "id": "474ce408-3bad-478f-9bbf-1d5d1464f37e",
   "metadata": {},
   "outputs": [
    {
     "name": "stdout",
     "output_type": "stream",
     "text": [
      "True\n",
      "False\n"
     ]
    }
   ],
   "source": [
    "z = torch.matmul(x, w)+b\n",
    "print(z.requires_grad)\n",
    "\n",
    "with torch.no_grad():\n",
    "    z = torch.matmul(x, w)+b\n",
    "print(z.requires_grad)"
   ]
  },
  {
   "cell_type": "markdown",
   "id": "fd42c539-8be6-4514-8e95-ac74d0cb6df2",
   "metadata": {},
   "source": [
    "동일한 결과를 얻는 다른 방법은 텐서에 `detach()` 메소드를 사용하는 것입니다:"
   ]
  },
  {
   "cell_type": "code",
   "execution_count": 29,
   "id": "2b0c1661-dfd8-49ec-a64f-0e17143a2a44",
   "metadata": {},
   "outputs": [
    {
     "name": "stdout",
     "output_type": "stream",
     "text": [
      "False\n"
     ]
    }
   ],
   "source": [
    "z = torch.matmul(x, w)+b\n",
    "z_det = z.detach()\n",
    "print(z_det.requires_grad)"
   ]
  },
  {
   "cell_type": "markdown",
   "id": "163f445c-81f8-4139-b659-838c6ec8ac31",
   "metadata": {},
   "source": [
    "변화도 추적을 멈춰야 하는 이유들은 다음과 같습니다:\n",
    "\n",
    "- 신경망의 일부 매개변수를 **고정된 매개변수(frozen parameter)** 로 표시합니다. 이는 사전 학습된 신경망을 미세조정 할 때 매우 일반적인 시나리오입니다.\n",
    "- 변화도를 추적하지 않는 텐서의 연산이 더 효율적이기 때문에, 순전파 단계만 수행할 때 **연산 속도가 향상됩니다.**"
   ]
  },
  {
   "cell_type": "markdown",
   "id": "412476cc-0982-41b1-833a-6ec385cafd1b",
   "metadata": {},
   "source": [
    "## 연산 그래프에 대한 추가 정보"
   ]
  },
  {
   "cell_type": "markdown",
   "id": "bf90cd5f-3b5e-4bbc-a253-00c66eb1eb3a",
   "metadata": {},
   "source": [
    "개념적으로, autograd는 데이터(텐서)의 및 실행된 모든 연산들(및 연산 결과가 새로운 텐서인 경우도 포함하여)의 기록을 Function 객체로 구성된 방향성 비순환 그래프(DAG; Directed Acyclic Graph)에 저장(keep)합니다. 이 방향성 비순환 그래프(DAG)의 잎(leave)은 입력 텐서이고, 뿌리(root)는 결과 텐서입니다. 이 그래프를 뿌리에서부터 잎까지 추적하면 연쇄 법칙(chain rule)에 따라 변화도를 자동으로 계산할 수 있습니다.\n",
    "\n",
    "순전파 단계에서, autograd는 다음 두 가지 작업을 동시에 수행합니다:\n",
    "\n",
    "- 요청된 연산을 수행하여 결과 텐서를 계산하고,\n",
    "- DAG에 연산의 변화도 기능(gradient function) 를 유지(maintain)합니다.\n",
    "\n",
    "역전파 단계는 DAG 뿌리(root)에서 .backward() 가 호출될 때 시작됩니다. autograd는 이 때:\n",
    "\n",
    "- 각 .grad_fn 으로부터 변화도를 계산하고,\n",
    "- 각 텐서의 .grad 속성에 계산 결과를 쌓고(accumulate),\n",
    "- 연쇄 법칙을 사용하여, 모든 잎(leaf) 텐서들까지 전파(propagate)합니다."
   ]
  },
  {
   "cell_type": "markdown",
   "id": "d9d21d8f-7be4-4c72-8091-5a0503c2cf7e",
   "metadata": {},
   "source": [
    "- ***NOTE***"
   ]
  },
  {
   "cell_type": "markdown",
   "id": "16fb53bd-0b0d-45d5-b9ca-bfd3dfb49a45",
   "metadata": {},
   "source": [
    "**PyTorch에서 DAG들은 동적(dynamic)입니다.** 주목해야 할 중요한 점은 그래프가 처음부터(from scratch) 다시 생성된다는 것입니다; 매번 `.bachward()` 가 호출되고 나면, autograd는 새로운 그래프를 채우기(populate) 시작합니다. 이러한 점 덕분에 모델에서 흐름 제어(control flow) 구문들을 사용할 수 있게 되는 것입니다; 매번 반복(iteration)할 때마다 필요하면 모양(shape)이나 크기(size), 연산(operation)을 바꿀 수 있습니다."
   ]
  },
  {
   "cell_type": "markdown",
   "id": "432391e6-67c6-4e91-94ca-f11b1f67b88d",
   "metadata": {},
   "source": [
    "## 선택적으로 읽기(Optional Reading): 텐서 변화도와 야코비안 곱 (Jacobian Product)"
   ]
  },
  {
   "cell_type": "markdown",
   "id": "03180a76-a138-49e2-89fc-6b3bb676d502",
   "metadata": {},
   "source": [
    "대부분의 경우, 스칼라 손실 함수를 가지고 일부 매개변수와 관련한 변화도를 계산해야 합니다. 그러나 출력 함수가 임의의 텐서인 경우가 있습니다. 이럴 때, PyTorch는 실제 변화도가 아닌 **야코비안 곱(Jacobian product)** 을 계산합니다.\n",
    "\n",
    "$\\vec{x}=\\langle x_1,\\dots,x_n\\rangle $이고, $\\vec{y}=\\langle y_1,\\dots,y_m\\rangle$ 일 때 벡터 함수 $\\vec{y}=f(\\vec{x})$에서 $\\vec{x}$ \n",
    " 에 대한 $\\vec{y}$의 변화도는 **야코비안 행렬(Jacobian matrix)** 로 주어집니다:\n",
    "\n",
    "$J=\\left(\\begin{array}{ccc} \\frac{\\partial y_{1}}{\\partial x_{1}} & \\cdots & \\frac{\\partial y_{1}}{\\partial x_{n}}\\\\ \\vdots & \\ddots & \\vdots\\\\ \\frac{\\partial y_{m}}{\\partial x_{1}} & \\cdots & \\frac{\\partial y_{m}}{\\partial x_{n}} \\end{array}\\right)\n",
    "$\n",
    "\n",
    "야코비안 행렬 자체를 계산하는 대신, PyTorch는 주어진 입력 벡터 $v=(v_1 \\dots v_m)$에 대한 **야코비안 곱(Jacobian Product)** $v^T\\cdot J$을 계산합니다. 이 과정은 vv를 인자로 backward를 호출하면 이뤄집니다. $v$의 크기는 곱(product)을 계산하려고 하는 원래 텐서의 크기와 같아야 합니다."
   ]
  },
  {
   "cell_type": "code",
   "execution_count": 30,
   "id": "cb9b87af-2243-4485-918b-4f032465e161",
   "metadata": {},
   "outputs": [
    {
     "name": "stdout",
     "output_type": "stream",
     "text": [
      "First call\n",
      " tensor([[4., 2., 2., 2., 2.],\n",
      "        [2., 4., 2., 2., 2.],\n",
      "        [2., 2., 4., 2., 2.],\n",
      "        [2., 2., 2., 4., 2.],\n",
      "        [2., 2., 2., 2., 4.]])\n",
      "\n",
      "Second call\n",
      " tensor([[8., 4., 4., 4., 4.],\n",
      "        [4., 8., 4., 4., 4.],\n",
      "        [4., 4., 8., 4., 4.],\n",
      "        [4., 4., 4., 8., 4.],\n",
      "        [4., 4., 4., 4., 8.]])\n",
      "\n",
      "Call after zeroing gradients\n",
      " tensor([[4., 2., 2., 2., 2.],\n",
      "        [2., 4., 2., 2., 2.],\n",
      "        [2., 2., 4., 2., 2.],\n",
      "        [2., 2., 2., 4., 2.],\n",
      "        [2., 2., 2., 2., 4.]])\n"
     ]
    }
   ],
   "source": [
    "inp = torch.eye(5, requires_grad=True)\n",
    "out = (inp+1).pow(2)\n",
    "out.backward(torch.ones_like(inp), retain_graph=True)\n",
    "print(\"First call\\n\", inp.grad)\n",
    "out.backward(torch.ones_like(inp), retain_graph=True)\n",
    "print(\"\\nSecond call\\n\", inp.grad)\n",
    "inp.grad.zero_()\n",
    "out.backward(torch.ones_like(inp), retain_graph=True)\n",
    "print(\"\\nCall after zeroing gradients\\n\", inp.grad)"
   ]
  },
  {
   "cell_type": "markdown",
   "id": "435204e9-fede-4612-8af6-9f9904c0c6b8",
   "metadata": {},
   "source": [
    "동일한 인자로`backward`를 두차례 호출하면 변화도 값이 달라집니다. 이는 `역방향` 전파를 수행할 때, PyTorch가 **변화도를 누적(accumulate)해두기 때문** 입니다. 즉, 계산된 변화도의 값이 연산 그래프의 모든 잎(leaf) 노드의 `grad` 속성에 추가됩니다. 따라서 제대로된 변화도를 계산하기 위해서는 `grad` 속성을 먼저 0으로 만들어야 합니다. 실제 학습 과정에서는 *옵티마이저(optimizer)* 가 이 과정을 도와줍니다."
   ]
  },
  {
   "cell_type": "markdown",
   "id": "8eb50efb-d180-4a01-94b8-10fc33e2c2e2",
   "metadata": {},
   "source": [
    "- **NOTE**"
   ]
  },
  {
   "cell_type": "markdown",
   "id": "856b2f10-104c-4c4c-91d5-d620c7454d8f",
   "metadata": {},
   "source": [
    "이전에는 매개변수 없이 `backward()` 함수를 호출했습니다. 이는 본질적으로 `backward(torch.tensor(1.0))` 을 호출하는 것과 동일하며, 신경망 훈련 중의 손실과 같은 스칼라-값 함수의 변화도를 계산하는 유용한 방법입니다."
   ]
  },
  {
   "cell_type": "markdown",
   "id": "b7e947c1-5938-4359-9a8c-c2079d179359",
   "metadata": {},
   "source": [
    "---"
   ]
  },
  {
   "cell_type": "markdown",
   "id": "b520f1ce-ab08-4631-831a-4b6cf3422fc1",
   "metadata": {},
   "source": [
    "# 6. Optimization\n",
    "모델 매개변수 최적화하기"
   ]
  },
  {
   "cell_type": "markdown",
   "id": "c2c2ba42-3066-4d75-9e20-152b6bc3175a",
   "metadata": {},
   "source": [
    "이제 모델과 데이터가 준비되었으니, 데이터에 매개변수를 최적화하여 모델을 학습하고, 검증하고, 테스트할 차례입니다. 모델을 학습하는 과정은 반복적인 과정을 거칩니다; (에폭(epoch)이라고 부르는) 각 반복 단계에서 모델은 출력을 추측하고, 추측과 정답 사이의 오류(손실(loss))를 계산하고, (이전 장에서 본 것처럼) 매개변수에 대한 오류의 도함수(derivative)를 수집한 뒤, 경사하강법을 사용하여 이 파라매터들을 **최적화(optimize)** 합니다. "
   ]
  },
  {
   "cell_type": "code",
   "execution_count": null,
   "id": "5287e3e2-8038-40db-97be-3d076822de37",
   "metadata": {},
   "outputs": [],
   "source": []
  }
 ],
 "metadata": {
  "kernelspec": {
   "display_name": "Python 3",
   "language": "python",
   "name": "python3"
  },
  "language_info": {
   "codemirror_mode": {
    "name": "ipython",
    "version": 3
   },
   "file_extension": ".py",
   "mimetype": "text/x-python",
   "name": "python",
   "nbconvert_exporter": "python",
   "pygments_lexer": "ipython3",
   "version": "3.8.8"
  }
 },
 "nbformat": 4,
 "nbformat_minor": 5
}
