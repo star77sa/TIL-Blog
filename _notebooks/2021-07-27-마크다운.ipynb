{
 "cells": [
  {
   "cell_type": "markdown",
   "id": "incorporated-soldier",
   "metadata": {},
   "source": [
    "# 마크다운\n",
    "> 마크다운 문법, 사용하는 것들\n",
    "\n",
    "- toc: true \n",
    "- badges: true\n",
    "- comments: true\n",
    "- categories: [Markdown]\n"
   ]
  },
  {
   "cell_type": "markdown",
   "id": "nominated-trout",
   "metadata": {},
   "source": [
    "## 이미지 업로드"
   ]
  },
  {
   "cell_type": "markdown",
   "id": "infinite-interval",
   "metadata": {},
   "source": [
    "```python\n",
    "# <img src=\"my_icons/리스트.jpg\">\n",
    "```"
   ]
  },
  {
   "cell_type": "markdown",
   "id": "given-oregon",
   "metadata": {},
   "source": [
    "<img src=\"my_icons/리스트.jpg\">"
   ]
  },
  {
   "cell_type": "markdown",
   "id": "needed-roulette",
   "metadata": {},
   "source": [
    "- 크기조정"
   ]
  },
  {
   "cell_type": "markdown",
   "id": "introductory-facial",
   "metadata": {},
   "source": [
    "```python\n",
    "# <img src=\"my_icons/리스트.jpg\" width=\"300\" height=\"300\">\n",
    "```"
   ]
  },
  {
   "cell_type": "markdown",
   "id": "baking-fossil",
   "metadata": {},
   "source": [
    "\n",
    "<img src=\"my_icons/리스트.jpg\" width=\"500\" height=\"500\">"
   ]
  },
  {
   "cell_type": "markdown",
   "id": "instant-particular",
   "metadata": {},
   "source": [
    "## 주석처리"
   ]
  },
  {
   "cell_type": "code",
   "execution_count": 1,
   "id": "green-commercial",
   "metadata": {},
   "outputs": [],
   "source": [
    "#\n",
    "# <--! 주석처리 할 문장 -->"
   ]
  },
  {
   "cell_type": "markdown",
   "id": "dated-edition",
   "metadata": {},
   "source": [
    "## 수식"
   ]
  },
  {
   "cell_type": "code",
   "execution_count": 3,
   "id": "subject-jenny",
   "metadata": {},
   "outputs": [],
   "source": [
    "#\n",
    "# $$ 수식 $$"
   ]
  },
  {
   "cell_type": "markdown",
   "id": "living-geneva",
   "metadata": {},
   "source": [
    "  $$ u_1 = w_{11}x_1 + w_{12}x_2 + w_{13}x_3 + w_{14}x_4 + b_1 $$"
   ]
  },
  {
   "cell_type": "markdown",
   "id": "collaborative-sleep",
   "metadata": {},
   "source": [
    "여기서, 내리는 숫자가 2개인경우 w_1_1이 아니라 w_{11}로 써주어야함!"
   ]
  },
  {
   "cell_type": "markdown",
   "id": "ordered-elizabeth",
   "metadata": {},
   "source": [
    "### 수식 띄어쓰기"
   ]
  },
  {
   "cell_type": "code",
   "execution_count": 7,
   "id": "outstanding-lawyer",
   "metadata": {},
   "outputs": [],
   "source": [
    "#\n",
    "\n",
    "# \\,         한칸\n",
    "\n",
    "# \\;         두칸\n",
    "\n",
    "# \\quad      네칸\n",
    "\n",
    "# \\qquad    여덟칸"
   ]
  },
  {
   "cell_type": "markdown",
   "id": "alive-passenger",
   "metadata": {},
   "source": [
    "### 표만들기"
   ]
  },
  {
   "cell_type": "code",
   "execution_count": 9,
   "id": "agreed-lemon",
   "metadata": {},
   "outputs": [],
   "source": [
    "#\n",
    "# |제목|내용|설명|\n",
    "# |------|---|---|\n",
    "# |테스트1|테스트2|테스트3|\n",
    "# |테스트1|테스트2|테스트3|\n",
    "# |테스트1|테스트2|테스트3|"
   ]
  },
  {
   "cell_type": "markdown",
   "id": "finite-excellence",
   "metadata": {},
   "source": [
    "|제목|내용|설명|\n",
    "|------|---|---|\n",
    "|테스트1|테스트2|테스트3|\n",
    "|테스트1|테스트2|테스트3|\n",
    "|테스트1|테스트2|테스트3|"
   ]
  },
  {
   "cell_type": "code",
   "execution_count": null,
   "id": "imported-marks",
   "metadata": {},
   "outputs": [],
   "source": []
  }
 ],
 "metadata": {
  "kernelspec": {
   "display_name": "Python 3",
   "language": "python",
   "name": "python3"
  },
  "language_info": {
   "codemirror_mode": {
    "name": "ipython",
    "version": 3
   },
   "file_extension": ".py",
   "mimetype": "text/x-python",
   "name": "python",
   "nbconvert_exporter": "python",
   "pygments_lexer": "ipython3",
   "version": "3.8.8"
  }
 },
 "nbformat": 4,
 "nbformat_minor": 5
}
