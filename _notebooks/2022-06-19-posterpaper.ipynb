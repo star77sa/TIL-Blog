{
 "cells": [
  {
   "cell_type": "markdown",
   "id": "d72ba4ee-a035-4ec1-8fb5-a3688ff38eda",
   "metadata": {},
   "source": [
    "# Poster\n",
    "> 포스터 논문 질문 대비\n",
    "\n",
    "- toc: true \n",
    "- badges: true\n",
    "- comments: true\n",
    "- categories: [Graph]\n",
    "- image: images/"
   ]
  },
  {
   "cell_type": "markdown",
   "id": "03a821d2-b65d-4a53-8086-33655b3123d8",
   "metadata": {},
   "source": [
    "---"
   ]
  },
  {
   "cell_type": "markdown",
   "id": "78b18318-41a6-4bf6-ac3b-3c455f76d597",
   "metadata": {},
   "source": [
    " "
   ]
  },
  {
   "cell_type": "markdown",
   "id": "50a4d6a2-3fef-4d43-89fc-821b6bc8701a",
   "metadata": {},
   "source": [
    "# Predicting MBTI For Internet Users"
   ]
  },
  {
   "cell_type": "markdown",
   "id": "cfe52687-f713-4112-8031-47ea99fd60e3",
   "metadata": {},
   "source": [
    "## 논문의 목적"
   ]
  },
  {
   "cell_type": "markdown",
   "id": "fa4caa16-562b-4626-b78d-76e0d9621125",
   "metadata": {},
   "source": [
    "별도의 복잡한 심리검사 없이 인터넷에 남겨진 글만으로 사용자의 MBTI를 예측하는 것."
   ]
  },
  {
   "cell_type": "markdown",
   "id": "a94b8b93-da03-4eda-ab44-5fd038c89f77",
   "metadata": {},
   "source": [
    "## 차별점"
   ]
  },
  {
   "cell_type": "markdown",
   "id": "b4a91668-1c5c-44f1-bc45-186935a27713",
   "metadata": {},
   "source": [
    "하이퍼 파라미터 튜닝에 그리드 서치와 강화학습 기법을 혼합한 지능형 옵티마이저를 사용 했다는 점."
   ]
  },
  {
   "cell_type": "markdown",
   "id": "dae09d7f-b7d6-4cdf-965c-2892ee980c7a",
   "metadata": {},
   "source": [
    "## 아쉬운 점"
   ]
  },
  {
   "cell_type": "markdown",
   "id": "b5c9d8ce-c42e-44ad-9891-cbcab89fd753",
   "metadata": {},
   "source": [
    "SVM에서 linear kernel을 사용하면 하이퍼 파라미터가 1개뿐이라 하이퍼 파라미터 튜닝을 1개만 한 것이 아쉬웠다. 지능형 옵티마이저는 다양한 하이퍼파라미터에도 사용할 수 있기에 추후 다른 데이터와 하이퍼 파라미터가 많은 다른 모델을 이용하여 적용을 해볼예정이다."
   ]
  },
  {
   "cell_type": "markdown",
   "id": "1ca37993-600c-432f-9a0a-4f1c3bf9508c",
   "metadata": {},
   "source": [
    "## 기존대비 얼마나 효과가 있는지?"
   ]
  },
  {
   "cell_type": "markdown",
   "id": "96239aa1-ab33-4cb9-afb3-cce409c50a58",
   "metadata": {},
   "source": [
    "기존의 연구들은 4가지타입인 즉 E-I, S-N 등을 이진 분류하는데 그쳤다. \n",
    "하지만 그래프를 보면 I다음엔 S보다 N이 많이나오는 등 서로의 특성은 독립이 아니다.\n",
    "이 연구는 4가지 특성을 이진분류 하는 것이 아닌 16가지의 클래스를 한번에 예측하는 방법을 제안하였고 4가지 특성을 이진분류하여 합친 결과보다 뛰어난 성능을 보였다."
   ]
  },
  {
   "cell_type": "markdown",
   "id": "db66b72c-0371-483d-90fd-eb7fa214cf3c",
   "metadata": {},
   "source": [
    "## 장/단점은 무엇인지?"
   ]
  },
  {
   "cell_type": "markdown",
   "id": "c67e7b67-f422-4609-8753-a4a93be43689",
   "metadata": {},
   "source": [
    "장점:\n",
    "\n",
    "하이퍼 파라미터 튜닝 부분에서의 장점은 그리드 서치로 모든 범위를 탐색하는 것은 너무 많은 비용이 든다.\n",
    "강화학습을 섞은 이 방법을 사용하면, 넓은 범위에서 그리드 서치로 1차 탐색 후 좁은 범위에서 강화학습으로 2차 학습을 진행함으로써\n",
    "좀 더 적은 비용으로 효율적으로 하이퍼 파라미터를 찾을 수 있다.\n",
    "\n",
    "단점:\n",
    "\n",
    "Local maximum에 빠질 수 있다. 그리드 서치로 전 범위를 탐색했다면 발견했을 Global maximum을 놓칠 수 있다. (정확도를 기준으로 하므로 maximum)\n",
    "다만 전 범위를 탐색했다면 어마어마한 비용 감당해야하지만 이 방법은 적은 비용으로 적당한 수준의 Local maximum을 얻는 방식으로 타협 가능하다."
   ]
  },
  {
   "cell_type": "markdown",
   "id": "d9953c4e-d33d-4a14-9548-332d058fc6ab",
   "metadata": {},
   "source": [
    "## 이 방법론이 실제 어디에 활용될 수 있는지?"
   ]
  },
  {
   "cell_type": "markdown",
   "id": "d4687e3f-4164-446e-ba9b-63754ec7042a",
   "metadata": {},
   "source": [
    "MBTI 데이터를 기준으로 한다면 OTT서비스의 마케팅, 기업체 채용시 자기소개서 등을 통한 MBTI 추정 등에 쓰일 수 있다.'\n",
    "\n",
    "하이퍼 파라미터 튜닝법을 기준으로 한다면, 하이퍼 파라미터 튜닝이 필요한 모든 데이터에 적용할 수 있다고 생각한다."
   ]
  },
  {
   "cell_type": "markdown",
   "id": "0e875c74-c637-4b22-aff8-4f0490cb5578",
   "metadata": {},
   "source": [
    "## 본 연구의 방법론에 문제점은 없다고 생각하는가? / 한계점은 무엇인가?\n",
    "\n",
    "본 연구는 영어로 된 문장들을 사용하여 진행되었다. 하지만 한글과 영어의 텍스트 처리에 많은 차이가 있으며 한글의 텍스트 처리가 훨씬 어렵다.\n",
    "예를들어 영어는 단어 단위로 띄어쓰기가 이루어져서 띄어쓰기를 기준으로 토큰화를 진행해도 되지만 한글의 경우 조사, 어미등이 붙기 때문에 처리 과정 자체가 다르다.\n",
    "즉, 본 연구의 프로세스로 한글 데이터에 곧바로 적용하는 것은 어렵다. 한글에 적용하는 연구는 추후 진행해볼 예정이 있다."
   ]
  },
  {
   "cell_type": "markdown",
   "id": "6e589cb0-b6d2-4dc5-82c0-1d3b631d253c",
   "metadata": {},
   "source": [
    "---"
   ]
  },
  {
   "cell_type": "markdown",
   "id": "2174c335-8ea4-4c2a-9e20-efe13b6701b8",
   "metadata": {},
   "source": [
    "## 표제어 추출(Lemmatization)이란?"
   ]
  },
  {
   "cell_type": "markdown",
   "id": "074aa07f-b22b-4add-9ebb-9cf1c5efe6eb",
   "metadata": {},
   "source": [
    " 눈으로 봤을 때는 서로 다른 단어들이지만, 하나의 단어로 일반화시킬 수 있다면 하나의 단어로 일반화시켜서 문서 내의 단어 수를 줄이겠다는 것입니다. "
   ]
  },
  {
   "cell_type": "markdown",
   "id": "a96e54f3-d18f-4642-a38b-3acc733d2878",
   "metadata": {},
   "source": [
    "## 불용어란?"
   ]
  },
  {
   "cell_type": "markdown",
   "id": "3cde97d6-58db-41db-8eb2-a14837a48624",
   "metadata": {},
   "source": [
    "예를 들어 I, my, me, over, 조사, 접미사 같은 단어들은 문장에서는 자주 등장하지만 실제 의미 분석을 하는데는 거의 기여하는 바가 없는 경우가 있습니다. 이러한 단어들을 불용어(stopword)라고 합니다"
   ]
  },
  {
   "cell_type": "markdown",
   "id": "bf651061-a4af-4e33-b04a-178ea3efa296",
   "metadata": {},
   "source": [
    "## TF-IDF 벡터화란?"
   ]
  },
  {
   "cell_type": "markdown",
   "id": "b46f7b2f-85d4-4b4d-a9ed-e1ab88c4268e",
   "metadata": {},
   "source": [
    "TF-IDF는 모든 문서에서 자주 등장하는 단어는 중요도가 낮다고 판단하며, 특정 문서에서만 자주 등장하는 단어는 중요도가 높다고 판단"
   ]
  },
  {
   "cell_type": "markdown",
   "id": "88b962e5-dce7-4b26-9a30-7fe49c710bff",
   "metadata": {},
   "source": [
    "## 지능형 옵티마이저에 관해서?"
   ]
  },
  {
   "cell_type": "markdown",
   "id": "257d4035-da47-4c10-a062-957d8daea729",
   "metadata": {},
   "source": [
    "그리드 서치로 1차적으로 넓은 볌위에서 최적값이 존재할 범위를 추리고, 이후 좁은 범위에서 강화학습을 통한 최적값 찾기의 과정이 \"자동적\"으로 일어나기에 지능형 옵티마이저라고 명명하였다. 기존의 한가지 방법을 사용할 때보다 비용이 적어 효율이 높다."
   ]
  },
  {
   "cell_type": "markdown",
   "id": "03804580-cb47-4d73-bda0-36c80b144fd6",
   "metadata": {},
   "source": [
    "---"
   ]
  }
 ],
 "metadata": {
  "kernelspec": {
   "display_name": "Python 3",
   "language": "python",
   "name": "python3"
  },
  "language_info": {
   "codemirror_mode": {
    "name": "ipython",
    "version": 3
   },
   "file_extension": ".py",
   "mimetype": "text/x-python",
   "name": "python",
   "nbconvert_exporter": "python",
   "pygments_lexer": "ipython3",
   "version": "3.8.8"
  }
 },
 "nbformat": 4,
 "nbformat_minor": 5
}
