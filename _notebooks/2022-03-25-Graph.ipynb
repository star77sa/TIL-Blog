{
 "cells": [
  {
   "cell_type": "markdown",
   "id": "c93e2264-841c-4deb-b095-8dc3cda19f9b",
   "metadata": {},
   "source": [
    "# Graph\n",
    "> Graph 개념 정리, 관련 논문\n",
    "\n",
    "- toc: true \n",
    "- badges: true\n",
    "- comments: true\n",
    "- categories: [Graph]\n",
    "- image: images/"
   ]
  },
  {
   "cell_type": "markdown",
   "id": "03a821d2-b65d-4a53-8086-33655b3123d8",
   "metadata": {},
   "source": [
    "---"
   ]
  },
  {
   "cell_type": "code",
   "execution_count": null,
   "id": "f67a2a2f-05e6-4e8d-bb04-a6372eade0d7",
   "metadata": {},
   "outputs": [],
   "source": []
  }
 ],
 "metadata": {
  "kernelspec": {
   "display_name": "Python 3",
   "language": "python",
   "name": "python3"
  },
  "language_info": {
   "codemirror_mode": {
    "name": "ipython",
    "version": 3
   },
   "file_extension": ".py",
   "mimetype": "text/x-python",
   "name": "python",
   "nbconvert_exporter": "python",
   "pygments_lexer": "ipython3",
   "version": "3.8.8"
  }
 },
 "nbformat": 4,
 "nbformat_minor": 5
}
