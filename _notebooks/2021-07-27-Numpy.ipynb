{
 "cells": [
  {
   "cell_type": "markdown",
   "id": "disturbed-somerset",
   "metadata": {},
   "source": [
    "# Numpy: Tutorial\n",
    "> 넘파이 튜토리얼\n",
    "\n",
    "- toc: true \n",
    "- badges: true\n",
    "- comments: true\n",
    "- categories: [Python, Numpy]\n",
    "- image: images/"
   ]
  },
  {
   "cell_type": "markdown",
   "id": "level-launch",
   "metadata": {},
   "source": [
    "- https://docs.scipy.org/doc/numpy-1.15.0/user/quickstart.html\n",
    "- https://www.machinelearningplus.com/python/numpy-tutorial-part1-array-python-examples/\n",
    "- http://web.mit.edu/dvp/Public/numpybook.pdf\n",
    "- https://docs.scipy.org/doc/numpy-1.11.0/numpy-user-1.11.0.pdf"
   ]
  },
  {
   "cell_type": "markdown",
   "id": "familiar-dakota",
   "metadata": {},
   "source": [
    "# The Basic"
   ]
  },
  {
   "cell_type": "markdown",
   "id": "threatened-springer",
   "metadata": {},
   "source": [
    "- NumPy’s main object = the homogeneous multidimensional array.\n",
    "- In NumPy dimensions are called axes."
   ]
  },
  {
   "cell_type": "markdown",
   "id": "mental-showcase",
   "metadata": {},
   "source": [
    "```\n",
    "1차원\n",
    "\n",
    "[1, 2, 1]\n",
    "\n",
    "2차원\n",
    "\n",
    "[[ 1., 0., 0.],\n",
    " [ 0., 1., 2.]]\n",
    "```"
   ]
  },
  {
   "cell_type": "markdown",
   "id": "developed-trial",
   "metadata": {},
   "source": [
    "- NumPy’s array class is called ndarray.\n",
    "- numpy.array is not the same as the Standard Python Library class array.\n",
    "    - 파이썬의 array는 1차원만을 다룬다."
   ]
  },
  {
   "cell_type": "markdown",
   "id": "joined-glory",
   "metadata": {},
   "source": [
    "- The more important attributes of an ndarray object are:\n",
    "    - `ndarray.ndim` : 넘파이의 차원\n",
    "    - `ndarray.shape` : 넘파이의 모양 (n, m)\n",
    "    - `ndarray.size` : This is equal to the product of the elements of shape. (n*m)\n",
    "    - `ndarray.dtype` : array안 요소의 타입\n",
    "    - `ndarray.itemsize` : array안 요소들의 사이즈(bytes)\n",
    "    - `ndarray.data` : Normally, we won’t need to use this attribute because we will access the elements in an array using indexing facilities.\n",
    "    \n",
    "    \n",
    "## An example\n",
    "\n",
    "```python\n",
    ">>> import numpy as np\n",
    ">>> a = np.arange(15).reshape(3, 5)\n",
    ">>> a\n",
    "array([[ 0,  1,  2,  3,  4],\n",
    "       [ 5,  6,  7,  8,  9],\n",
    "       [10, 11, 12, 13, 14]])\n",
    "\n",
    ">>> a.shape\n",
    "(3, 5)\n",
    "\n",
    ">>> a.ndim\n",
    "2\n",
    "\n",
    ">>> a.dtype.name\n",
    "'int64'\n",
    "\n",
    ">>> a.itemsize\n",
    "8\n",
    "\n",
    ">>> a.size\n",
    "15\n",
    "\n",
    ">>> type(a)\n",
    "<type 'numpy.ndarray'>\n",
    "\n",
    ">>> b = np.array([6, 7, 8])\n",
    ">>> b\n",
    "array([6, 7, 8])\n",
    "\n",
    ">>> type(b)\n",
    "<type 'numpy.ndarray'>\n",
    "```"
   ]
  },
  {
   "cell_type": "markdown",
   "id": "sticky-organ",
   "metadata": {},
   "source": [
    "## Array Creation"
   ]
  },
  {
   "cell_type": "markdown",
   "id": "electric-answer",
   "metadata": {},
   "source": [
    "you can create an array from a regular Python list or tuple using the array function.\n",
    "```python\n",
    ">>> a = np.array([2,3,4])\n",
    ">>> a\n",
    "array([2, 3, 4])\n",
    "```"
   ]
  },
  {
   "cell_type": "markdown",
   "id": "prompt-marble",
   "metadata": {},
   "source": [
    "2차원 array\n",
    "```python\n",
    ">>> b = np.array([(1.5,2,3), (4,5,6)])\n",
    ">>> b\n",
    "array([[ 1.5,  2. ,  3. ],\n",
    "       [ 4. ,  5. ,  6. ]])\n",
    "```"
   ]
  },
  {
   "cell_type": "markdown",
   "id": "american-effort",
   "metadata": {},
   "source": [
    "The function `zeros` creates an array full of zeros,"
   ]
  },
  {
   "cell_type": "markdown",
   "id": "physical-corruption",
   "metadata": {},
   "source": [
    "```python\n",
    ">>> np.zeros( (3,4) )\n",
    "array([[ 0.,  0.,  0.,  0.],\n",
    "       [ 0.,  0.,  0.,  0.],\n",
    "       [ 0.,  0.,  0.,  0.]])\n",
    "\n",
    ">>> np.ones( (2,3,4), dtype=np.int16 )                # dtype can also be specified\n",
    "array([[[ 1, 1, 1, 1],\n",
    "        [ 1, 1, 1, 1],\n",
    "        [ 1, 1, 1, 1]],\n",
    "       [[ 1, 1, 1, 1],\n",
    "        [ 1, 1, 1, 1],\n",
    "        [ 1, 1, 1, 1]]], dtype=int16)\n",
    "```"
   ]
  },
  {
   "cell_type": "markdown",
   "id": "recorded-greensboro",
   "metadata": {},
   "source": [
    "To create sequences of numbers, NumPy provides a function analogous to range that returns arrays instead of lists.\n",
    "```python\n",
    ">>> np.arange( 10, 30, 5 )\n",
    "array([10, 15, 20, 25])\n",
    ">>> np.arange( 0, 2, 0.3 )                 # it accepts float arguments\n",
    "array([ 0. ,  0.3,  0.6,  0.9,  1.2,  1.5,  1.8])\n",
    "\n",
    "\n",
    ">>> np.linspace( 0, 2, 9 )                 # 9 numbers from 0 to 2\n",
    "array([ 0.  ,  0.25,  0.5 ,  0.75,  1.  ,  1.25,  1.5 ,  1.75,  2.  ])\n",
    "\n",
    "```"
   ]
  },
  {
   "cell_type": "markdown",
   "id": "entitled-suicide",
   "metadata": {},
   "source": [
    "## Printing Arrays"
   ]
  },
  {
   "cell_type": "markdown",
   "id": "chubby-european",
   "metadata": {},
   "source": [
    "1차원은 행으로, 2,3 차원은 행렬로 표현된다.\n",
    "```python\n",
    ">>> a = np.arange(6)                         # 1d array\n",
    ">>> print(a)\n",
    "[0 1 2 3 4 5]\n",
    "\n",
    ">>> b = np.arange(12).reshape(4,3)           # 2d array\n",
    ">>> print(b)\n",
    "[[ 0  1  2]\n",
    " [ 3  4  5]\n",
    " [ 6  7  8]\n",
    " [ 9 10 11]]\n",
    "\n",
    ">>> c = np.arange(24).reshape(2,3,4)         # 3d array\n",
    ">>> print(c)\n",
    "[[[ 0  1  2  3]\n",
    "  [ 4  5  6  7]\n",
    "  [ 8  9 10 11]]\n",
    " [[12 13 14 15]\n",
    "  [16 17 18 19]\n",
    "  [20 21 22 23]]]\n",
    "```"
   ]
  },
  {
   "cell_type": "markdown",
   "id": "unknown-consortium",
   "metadata": {},
   "source": [
    "## Basic Operations"
   ]
  },
  {
   "cell_type": "markdown",
   "id": "suspected-bobby",
   "metadata": {},
   "source": [
    "```python\n",
    ">>> a = np.array( [20,30,40,50] )\n",
    ">>> b = np.arange( 4 )\n",
    ">>> b\n",
    "array([0, 1, 2, 3])\n",
    ">>> c = a-b\n",
    ">>> c\n",
    "array([20, 29, 38, 47])\n",
    ">>> b**2\n",
    "array([0, 1, 4, 9])\n",
    ">>> 10*np.sin(a)\n",
    "array([ 9.12945251, -9.88031624,  7.4511316 , -2.62374854])\n",
    ">>> a<35\n",
    "array([ True, True, False, False])\n",
    "```"
   ]
  },
  {
   "cell_type": "code",
   "execution_count": null,
   "id": "boxed-greece",
   "metadata": {},
   "outputs": [],
   "source": [
    "곱셈\n",
    "\n"
   ]
  }
 ],
 "metadata": {
  "kernelspec": {
   "display_name": "Python 3",
   "language": "python",
   "name": "python3"
  },
  "language_info": {
   "codemirror_mode": {
    "name": "ipython",
    "version": 3
   },
   "file_extension": ".py",
   "mimetype": "text/x-python",
   "name": "python",
   "nbconvert_exporter": "python",
   "pygments_lexer": "ipython3",
   "version": "3.8.8"
  }
 },
 "nbformat": 4,
 "nbformat_minor": 5
}
