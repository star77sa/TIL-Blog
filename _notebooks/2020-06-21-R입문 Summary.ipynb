{
 "cells": [
  {
   "cell_type": "markdown",
   "id": "limiting-lawyer",
   "metadata": {},
   "source": [
    "# R입문\n",
    "> 개인 공부용 요약노트. 상세한 설명은 없고, 코드위주로 작성\n",
    "\n",
    "- toc: true \n",
    "- badges: true\n",
    "- comments: true\n",
    "- categories: [jupyter, R]\n",
    "- image: images/chart-preview.png"
   ]
  },
  {
   "cell_type": "markdown",
   "id": "laughing-links",
   "metadata": {},
   "source": [
    "- R은 파이썬, C와 다르게 1부터 시작함"
   ]
  },
  {
   "cell_type": "markdown",
   "id": "intermediate-wallpaper",
   "metadata": {},
   "source": [
    "# 벡터"
   ]
  },
  {
   "cell_type": "code",
   "execution_count": null,
   "id": "devoted-playing",
   "metadata": {},
   "outputs": [],
   "source": [
    "era <-c(5,4,3,4,5,6)"
   ]
  },
  {
   "cell_type": "markdown",
   "id": "desirable-slave",
   "metadata": {},
   "source": [
    "- 벡터의 원소는 모두 같은 '형식'이나 '데이터 형'을 가진다."
   ]
  },
  {
   "cell_type": "markdown",
   "id": "close-albert",
   "metadata": {},
   "source": [
    "# 함수"
   ]
  },
  {
   "cell_type": "markdown",
   "id": "significant-egyptian",
   "metadata": {},
   "source": [
    "```R \n",
    "sum.1 <- function(x) {\n",
    "  temp <- 0\n",
    "  for(i in 1:length) temp <- temp + x[i]\n",
    "  return(temp)\n",
    "} \n",
    "```"
   ]
  },
  {
   "cell_type": "markdown",
   "id": "extraordinary-counter",
   "metadata": {},
   "source": [
    "# 행렬"
   ]
  },
  {
   "cell_type": "markdown",
   "id": "handmade-coupon",
   "metadata": {},
   "source": [
    "- cbind()는 같은 길이의 벡터를 열에 넣어 묶어주는 R함수"
   ]
  },
  {
   "cell_type": "markdown",
   "id": "second-relationship",
   "metadata": {},
   "source": [
    "```R\n",
    "stat <- cbind(year, game, era)\n",
    "```"
   ]
  },
  {
   "cell_type": "markdown",
   "id": "fleet-journalist",
   "metadata": {},
   "source": [
    "- rbind()는 같은 길이의 벡터를 행에 넣어 묶어주는 R함수"
   ]
  },
  {
   "cell_type": "markdown",
   "id": "banner-adapter",
   "metadata": {},
   "source": [
    "```R\n",
    "M <- rbind(e, f, g)\n",
    "```"
   ]
  },
  {
   "cell_type": "markdown",
   "id": "resident-control",
   "metadata": {},
   "source": [
    "# 리스트"
   ]
  },
  {
   "cell_type": "markdown",
   "id": "usual-fraction",
   "metadata": {},
   "source": [
    "- p개의 벡터로 구성되는 데이터 객체"
   ]
  },
  {
   "cell_type": "markdown",
   "id": "urban-future",
   "metadata": {},
   "source": [
    "```R\n",
    "L <- list(game, era, e)\n",
    "L.1 <- list(game = game, era = era, player = e)\n",
    "```"
   ]
  },
  {
   "cell_type": "markdown",
   "id": "korean-lexington",
   "metadata": {},
   "source": [
    "- \"name\" 또는 $name 으로 인덱싱 가능"
   ]
  },
  {
   "cell_type": "markdown",
   "id": "musical-turkish",
   "metadata": {},
   "source": [
    "```R\n",
    "L.1$game\n",
    "L.1[\"game\"]\n",
    "```"
   ]
  },
  {
   "cell_type": "markdown",
   "id": "powered-chassis",
   "metadata": {},
   "source": [
    "# 데이터프레임"
   ]
  },
  {
   "cell_type": "markdown",
   "id": "broken-proxy",
   "metadata": {},
   "source": [
    "- p개의 벡터로 구성되는 데이터 객체"
   ]
  },
  {
   "cell_type": "markdown",
   "id": "junior-finger",
   "metadata": {},
   "source": [
    "- 각 요소 벡터의 데이터 형태는 다를 수 있으나 길이는 같다."
   ]
  },
  {
   "cell_type": "markdown",
   "id": "valuable-warrior",
   "metadata": {},
   "source": [
    "- 형태는 행렬과 같으나 열별로만 데이터 형이 같다."
   ]
  },
  {
   "cell_type": "markdown",
   "id": "moderate-thirty",
   "metadata": {},
   "source": [
    "```R\n",
    "WS <- data.frame(year, winner, loser, wins, losses)\n",
    "```"
   ]
  },
  {
   "cell_type": "markdown",
   "id": "sweet-bulgarian",
   "metadata": {},
   "source": [
    "- str() 함수는 데이터프레임의 구조를 파악하는 함수이다."
   ]
  },
  {
   "cell_type": "markdown",
   "id": "hired-storage",
   "metadata": {},
   "source": [
    "`str(WS)"
   ]
  },
  {
   "cell_type": "markdown",
   "id": "stupid-english",
   "metadata": {},
   "source": [
    "nrow(WS); ncol(WS); dim(WS), names(WS) # 행 갯수, 열 갯수, 행 열 갯수, 헤더 이름"
   ]
  },
  {
   "cell_type": "markdown",
   "id": "careful-heavy",
   "metadata": {},
   "source": [
    "WS"
   ]
  }
 ],
 "metadata": {
  "kernelspec": {
   "display_name": "R",
   "language": "R",
   "name": "ir"
  },
  "language_info": {
   "codemirror_mode": "r",
   "file_extension": ".r",
   "mimetype": "text/x-r-source",
   "name": "R",
   "pygments_lexer": "r",
   "version": "3.6.1"
  }
 },
 "nbformat": 4,
 "nbformat_minor": 5
}
