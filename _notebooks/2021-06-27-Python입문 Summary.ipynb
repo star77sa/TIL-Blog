{
 "cells": [
  {
   "cell_type": "markdown",
   "id": "maritime-charge",
   "metadata": {},
   "source": [
    "# Python입문\n",
    "> 개인 공부용 요약노트. 상세한 설명은 없고, 키워드, 코드위주로 작성\n",
    "\n",
    "- toc: true \n",
    "- badges: true\n",
    "- comments: true\n",
    "- categories: [Python]\n",
    "- image: images/"
   ]
  },
  {
   "cell_type": "markdown",
   "id": "amber-andrews",
   "metadata": {},
   "source": [
    "---"
   ]
  },
  {
   "cell_type": "markdown",
   "id": "professional-catering",
   "metadata": {},
   "source": [
    "# 0차원 자료형"
   ]
  },
  {
   "cell_type": "markdown",
   "id": "breathing-vessel",
   "metadata": {},
   "source": [
    "## `int형`"
   ]
  },
  {
   "cell_type": "markdown",
   "id": "respective-billy",
   "metadata": {},
   "source": [
    "## `float형`"
   ]
  },
  {
   "cell_type": "markdown",
   "id": "engaged-disclaimer",
   "metadata": {},
   "source": [
    "## `complex형`"
   ]
  },
  {
   "cell_type": "markdown",
   "id": "advisory-oxygen",
   "metadata": {},
   "source": [
    "파이썬 빌트인함수\n",
    "- https://docs.python.org/3.8/library/functions.html"
   ]
  },
  {
   "cell_type": "markdown",
   "id": "junior-energy",
   "metadata": {},
   "source": [
    "# 1차원 자료형"
   ]
  },
  {
   "cell_type": "markdown",
   "id": "fatal-guidance",
   "metadata": {},
   "source": [
    "## `str형`"
   ]
  },
  {
   "cell_type": "markdown",
   "id": "smart-uruguay",
   "metadata": {},
   "source": [
    "### 문자열 `\\`옵션"
   ]
  },
  {
   "cell_type": "code",
   "execution_count": 153,
   "id": "graduate-performer",
   "metadata": {},
   "outputs": [
    {
     "name": "stdout",
     "output_type": "stream",
     "text": [
      "나는\n",
      "고경수\n"
     ]
    }
   ],
   "source": [
    "print('나는\\n고경수') # 한줄띄우기"
   ]
  },
  {
   "cell_type": "code",
   "execution_count": 154,
   "id": "intense-tennis",
   "metadata": {},
   "outputs": [
    {
     "name": "stdout",
     "output_type": "stream",
     "text": [
      "나는\t고경수\n"
     ]
    }
   ],
   "source": [
    "print('나는\\t고경수') # 탭"
   ]
  },
  {
   "cell_type": "code",
   "execution_count": 155,
   "id": "sonic-mileage",
   "metadata": {},
   "outputs": [
    {
     "name": "stdout",
     "output_type": "stream",
     "text": [
      "\\\n"
     ]
    }
   ],
   "source": [
    "print('\\\\') # 이스케이프"
   ]
  },
  {
   "cell_type": "code",
   "execution_count": 1,
   "id": "figured-baghdad",
   "metadata": {},
   "outputs": [
    {
     "name": "stdout",
     "output_type": "stream",
     "text": [
      "나는\\n고경수\n"
     ]
    }
   ],
   "source": [
    "print('나는\\\\n고경수')"
   ]
  },
  {
   "cell_type": "code",
   "execution_count": 2,
   "id": "delayed-operation",
   "metadata": {},
   "outputs": [
    {
     "name": "stdout",
     "output_type": "stream",
     "text": [
      "나는'고경수'\n"
     ]
    }
   ],
   "source": [
    "print('나는\\'고경수\\'')"
   ]
  },
  {
   "cell_type": "code",
   "execution_count": 3,
   "id": "failing-cathedral",
   "metadata": {},
   "outputs": [
    {
     "name": "stdout",
     "output_type": "stream",
     "text": [
      "나는'고경수'\n"
     ]
    }
   ],
   "source": [
    "print(\"나는'고경수'\")"
   ]
  },
  {
   "cell_type": "markdown",
   "id": "occupational-continuity",
   "metadata": {},
   "source": [
    "### 문자열 메소드"
   ]
  },
  {
   "cell_type": "markdown",
   "id": "tight-safety",
   "metadata": {},
   "source": [
    "#### .replace()"
   ]
  },
  {
   "cell_type": "code",
   "execution_count": 169,
   "id": "excited-indonesian",
   "metadata": {},
   "outputs": [
    {
     "data": {
      "text/plain": [
       "'xxxxEGGSxxxxEGGSxxxx'"
      ]
     },
     "execution_count": 169,
     "metadata": {},
     "output_type": "execute_result"
    }
   ],
   "source": [
    "S = 'xxxxSPAMxxxxSPAMxxxx'\n",
    "S.replace('SPAM','EGGS')"
   ]
  },
  {
   "cell_type": "code",
   "execution_count": 170,
   "id": "unlikely-experience",
   "metadata": {},
   "outputs": [
    {
     "data": {
      "text/plain": [
       "'xxxxEGGSxxxxSPAMxxxx'"
      ]
     },
     "execution_count": 170,
     "metadata": {},
     "output_type": "execute_result"
    }
   ],
   "source": [
    "S.replace('SPAM','EGGS',1)"
   ]
  },
  {
   "cell_type": "markdown",
   "id": "round-concert",
   "metadata": {},
   "source": [
    "#### .find()"
   ]
  },
  {
   "cell_type": "code",
   "execution_count": 171,
   "id": "bottom-angle",
   "metadata": {},
   "outputs": [],
   "source": [
    "S = 'xxxxSPAMxxxxSPAMxxxx'"
   ]
  },
  {
   "cell_type": "code",
   "execution_count": 172,
   "id": "oriental-proxy",
   "metadata": {},
   "outputs": [],
   "source": [
    "where=S.find('SPAM')"
   ]
  },
  {
   "cell_type": "code",
   "execution_count": 173,
   "id": "remarkable-circular",
   "metadata": {},
   "outputs": [
    {
     "data": {
      "text/plain": [
       "'S'"
      ]
     },
     "execution_count": 173,
     "metadata": {},
     "output_type": "execute_result"
    }
   ],
   "source": [
    "S[where]"
   ]
  },
  {
   "cell_type": "markdown",
   "id": "sorted-diagnosis",
   "metadata": {},
   "source": [
    "#### .join()"
   ]
  },
  {
   "cell_type": "code",
   "execution_count": 174,
   "id": "consistent-entry",
   "metadata": {},
   "outputs": [
    {
     "data": {
      "text/plain": [
       "'a-b-c'"
      ]
     },
     "execution_count": 174,
     "metadata": {},
     "output_type": "execute_result"
    }
   ],
   "source": [
    "'-'.join(['a','b','c'])"
   ]
  },
  {
   "cell_type": "code",
   "execution_count": 178,
   "id": "expected-harvey",
   "metadata": {},
   "outputs": [
    {
     "ename": "TypeError",
     "evalue": "'str' object does not support item assignment",
     "output_type": "error",
     "traceback": [
      "\u001b[1;31m---------------------------------------------------------------------------\u001b[0m",
      "\u001b[1;31mTypeError\u001b[0m                                 Traceback (most recent call last)",
      "\u001b[1;32m<ipython-input-178-5854ec3fa955>\u001b[0m in \u001b[0;36m<module>\u001b[1;34m\u001b[0m\n\u001b[0;32m      1\u001b[0m \u001b[0mS\u001b[0m\u001b[1;33m=\u001b[0m\u001b[1;34m'spammy'\u001b[0m\u001b[1;33m\u001b[0m\u001b[1;33m\u001b[0m\u001b[0m\n\u001b[1;32m----> 2\u001b[1;33m \u001b[0mS\u001b[0m\u001b[1;33m[\u001b[0m\u001b[1;36m3\u001b[0m\u001b[1;33m:\u001b[0m\u001b[1;36m5\u001b[0m\u001b[1;33m]\u001b[0m\u001b[1;33m=\u001b[0m\u001b[1;34m'xx'\u001b[0m\u001b[1;33m\u001b[0m\u001b[1;33m\u001b[0m\u001b[0m\n\u001b[0m",
      "\u001b[1;31mTypeError\u001b[0m: 'str' object does not support item assignment"
     ]
    }
   ],
   "source": [
    "S='spammy'\n",
    "S[3:5]='xx'"
   ]
  },
  {
   "cell_type": "markdown",
   "id": "cosmetic-flour",
   "metadata": {},
   "source": [
    "mm을 xx로 바꾸고 싶은데 문자열은 불변리스트라서 바꿀 수 없다. "
   ]
  },
  {
   "cell_type": "markdown",
   "id": "medium-dragon",
   "metadata": {},
   "source": [
    "전략: 문자열을 잠시 가변객체인 리스트로 바꾼뒤 리스트에서 자유롭게 편집하고 그 다음에 다시 문자열로 만들자. "
   ]
  },
  {
   "cell_type": "code",
   "execution_count": 182,
   "id": "tracked-zealand",
   "metadata": {},
   "outputs": [
    {
     "data": {
      "text/plain": [
       "['s', 'p', 'a', 'x', 'x', 'y']"
      ]
     },
     "execution_count": 182,
     "metadata": {},
     "output_type": "execute_result"
    }
   ],
   "source": [
    "L=list(S)\n",
    "L"
   ]
  },
  {
   "cell_type": "code",
   "execution_count": 183,
   "id": "incorrect-cement",
   "metadata": {},
   "outputs": [
    {
     "data": {
      "text/plain": [
       "['x', 'x']"
      ]
     },
     "execution_count": 183,
     "metadata": {},
     "output_type": "execute_result"
    }
   ],
   "source": [
    "L[3:5]"
   ]
  },
  {
   "cell_type": "code",
   "execution_count": 184,
   "id": "rough-queen",
   "metadata": {},
   "outputs": [
    {
     "data": {
      "text/plain": [
       "['s', 'p', 'a', 'x', 'x', 'y']"
      ]
     },
     "execution_count": 184,
     "metadata": {},
     "output_type": "execute_result"
    }
   ],
   "source": [
    "L[3:5]=['x','x']\n",
    "L"
   ]
  },
  {
   "cell_type": "code",
   "execution_count": 185,
   "id": "permanent-platinum",
   "metadata": {},
   "outputs": [
    {
     "data": {
      "text/plain": [
       "'spaxxy'"
      ]
     },
     "execution_count": 185,
     "metadata": {},
     "output_type": "execute_result"
    }
   ],
   "source": [
    "S=''.join(L)\n",
    "S"
   ]
  },
  {
   "cell_type": "markdown",
   "id": "compliant-jacksonville",
   "metadata": {},
   "source": [
    "#### .split(',')"
   ]
  },
  {
   "cell_type": "code",
   "execution_count": null,
   "id": "outdoor-danger",
   "metadata": {},
   "outputs": [],
   "source": [
    "s='bob,hacker,40'"
   ]
  },
  {
   "cell_type": "code",
   "execution_count": null,
   "id": "academic-fusion",
   "metadata": {},
   "outputs": [],
   "source": [
    "s.split(',')"
   ]
  },
  {
   "cell_type": "markdown",
   "id": "broad-interface",
   "metadata": {},
   "source": [
    "#### 문자열 포맷팅"
   ]
  },
  {
   "cell_type": "markdown",
   "id": "private-retirement",
   "metadata": {},
   "source": [
    "##### 표현식 (문자열에서 `%`연산자 사용) "
   ]
  },
  {
   "cell_type": "code",
   "execution_count": null,
   "id": "environmental-budget",
   "metadata": {},
   "outputs": [],
   "source": [
    "'addr: %s to %s' % ('seoul','jeonju')"
   ]
  },
  {
   "cell_type": "markdown",
   "id": "cathedral-eating",
   "metadata": {},
   "source": [
    "잘못된 사용예시1 (리스트는 안됨)"
   ]
  },
  {
   "cell_type": "code",
   "execution_count": 190,
   "id": "beneficial-sperm",
   "metadata": {},
   "outputs": [
    {
     "ename": "TypeError",
     "evalue": "not enough arguments for format string",
     "output_type": "error",
     "traceback": [
      "\u001b[1;31m---------------------------------------------------------------------------\u001b[0m",
      "\u001b[1;31mTypeError\u001b[0m                                 Traceback (most recent call last)",
      "\u001b[1;32m<ipython-input-190-8a70b358fe3b>\u001b[0m in \u001b[0;36m<module>\u001b[1;34m\u001b[0m\n\u001b[1;32m----> 1\u001b[1;33m \u001b[1;34m'addr: %s to %s'\u001b[0m \u001b[1;33m%\u001b[0m \u001b[1;33m[\u001b[0m\u001b[1;34m'seoul'\u001b[0m\u001b[1;33m,\u001b[0m\u001b[1;34m'jeonju'\u001b[0m\u001b[1;33m]\u001b[0m\u001b[1;33m\u001b[0m\u001b[1;33m\u001b[0m\u001b[0m\n\u001b[0m",
      "\u001b[1;31mTypeError\u001b[0m: not enough arguments for format string"
     ]
    }
   ],
   "source": [
    "'addr: %s to %s' % ['seoul','jeonju']"
   ]
  },
  {
   "cell_type": "markdown",
   "id": "clear-fault",
   "metadata": {},
   "source": [
    "잘못된 사용예시2 (묶지않아도 안됨)"
   ]
  },
  {
   "cell_type": "code",
   "execution_count": 192,
   "id": "spiritual-portal",
   "metadata": {},
   "outputs": [
    {
     "ename": "TypeError",
     "evalue": "not enough arguments for format string",
     "output_type": "error",
     "traceback": [
      "\u001b[1;31m---------------------------------------------------------------------------\u001b[0m",
      "\u001b[1;31mTypeError\u001b[0m                                 Traceback (most recent call last)",
      "\u001b[1;32m<ipython-input-192-0c8ecede52e2>\u001b[0m in \u001b[0;36m<module>\u001b[1;34m\u001b[0m\n\u001b[1;32m----> 1\u001b[1;33m \u001b[1;34m'addr: %s to %s'\u001b[0m \u001b[1;33m%\u001b[0m \u001b[1;34m'seoul'\u001b[0m\u001b[1;33m,\u001b[0m\u001b[1;34m'jeonju'\u001b[0m\u001b[1;33m\u001b[0m\u001b[1;33m\u001b[0m\u001b[0m\n\u001b[0m",
      "\u001b[1;31mTypeError\u001b[0m: not enough arguments for format string"
     ]
    }
   ],
   "source": [
    "'addr: %s to %s' % 'seoul','jeonju'"
   ]
  },
  {
   "cell_type": "markdown",
   "id": "intermediate-ordinance",
   "metadata": {},
   "source": [
    "% `연산자`는 왼쪽에 문자열 오브젝트, 그리고 오른쪽에는 명시적인 튜플이 있어야 연산이 진행된다."
   ]
  },
  {
   "cell_type": "markdown",
   "id": "prepared-smooth",
   "metadata": {},
   "source": [
    "연산자라는 포인트를 이해하면 아래와 같은 문법도 가능함을 알 수 있다. "
   ]
  },
  {
   "cell_type": "code",
   "execution_count": 195,
   "id": "particular-flush",
   "metadata": {},
   "outputs": [
    {
     "data": {
      "text/plain": [
       "'addr: seoul to jeonju'"
      ]
     },
     "execution_count": 195,
     "metadata": {},
     "output_type": "execute_result"
    }
   ],
   "source": [
    "s = 'addr: %s to %s' \n",
    "s % ('seoul','jeonju')"
   ]
  },
  {
   "cell_type": "markdown",
   "id": "hidden-language",
   "metadata": {},
   "source": [
    "###### .format 메서드"
   ]
  },
  {
   "cell_type": "code",
   "execution_count": 197,
   "id": "resistant-pocket",
   "metadata": {},
   "outputs": [
    {
     "data": {
      "text/plain": [
       "'이름:고경수,나이:24,성별:남'"
      ]
     },
     "execution_count": 197,
     "metadata": {},
     "output_type": "execute_result"
    }
   ],
   "source": [
    "'이름:{},나이:{},성별:{}'.format('고경수','24','남')"
   ]
  },
  {
   "cell_type": "markdown",
   "id": "backed-likelihood",
   "metadata": {},
   "source": [
    "## `list형`"
   ]
  },
  {
   "cell_type": "markdown",
   "id": "diverse-portugal",
   "metadata": {},
   "source": [
    "메소드\n",
    "```python\n",
    "del a[0]\n",
    "a.append('a')\n",
    "a.index('a')\n",
    "a.remove('a')\n",
    "```\n",
    "### 리스트컴프리헨션\n",
    "- 리스트를 매우 효율적으로 만드는 테크닉 \n",
    "- `for`문에 비하여 가지고 있는 장점: (1) 코드가 간단하다. (2) 빠르다. "
   ]
  },
  {
   "cell_type": "code",
   "execution_count": 24,
   "id": "southern-venezuela",
   "metadata": {},
   "outputs": [
    {
     "data": {
      "text/plain": [
       "[1, 2, 4, 8, 16, 32]"
      ]
     },
     "execution_count": 24,
     "metadata": {},
     "output_type": "execute_result"
    }
   ],
   "source": [
    "x=[2**i for i in [0,1,2,3,4,5]]\n",
    "x"
   ]
  },
  {
   "cell_type": "code",
   "execution_count": 25,
   "id": "cellular-render",
   "metadata": {},
   "outputs": [
    {
     "data": {
      "text/plain": [
       "['stat1',\n",
       " 'stat2',\n",
       " 'stat3',\n",
       " 'stat4',\n",
       " 'stat5',\n",
       " 'math1',\n",
       " 'math2',\n",
       " 'math3',\n",
       " 'math4',\n",
       " 'math5']"
      ]
     },
     "execution_count": 25,
     "metadata": {},
     "output_type": "execute_result"
    }
   ],
   "source": [
    "[i+j for i in ['stat','math'] for j in '12345']"
   ]
  },
  {
   "cell_type": "code",
   "execution_count": 26,
   "id": "upper-philippines",
   "metadata": {},
   "outputs": [
    {
     "data": {
      "text/plain": [
       "['X1', 'X2', 'X3', 'Y1', 'Y2', 'Y3']"
      ]
     },
     "execution_count": 26,
     "metadata": {},
     "output_type": "execute_result"
    }
   ],
   "source": [
    "[i+j for i in 'XY' for j in '123']"
   ]
  },
  {
   "cell_type": "markdown",
   "id": "swedish-wrong",
   "metadata": {},
   "source": [
    "### 리스트의 중첩"
   ]
  },
  {
   "cell_type": "code",
   "execution_count": 27,
   "id": "contrary-business",
   "metadata": {},
   "outputs": [],
   "source": [
    "a=[[11,12,13], \n",
    "   [21,22,23], \n",
    "   [31,32,33]]"
   ]
  },
  {
   "cell_type": "code",
   "execution_count": 28,
   "id": "further-insider",
   "metadata": {},
   "outputs": [
    {
     "data": {
      "text/plain": [
       "[[11, 12, 13], [21, 22, 23], [31, 32, 33]]"
      ]
     },
     "execution_count": 28,
     "metadata": {},
     "output_type": "execute_result"
    }
   ],
   "source": [
    "a"
   ]
  },
  {
   "cell_type": "code",
   "execution_count": 29,
   "id": "great-worcester",
   "metadata": {},
   "outputs": [
    {
     "data": {
      "text/plain": [
       "11"
      ]
     },
     "execution_count": 29,
     "metadata": {},
     "output_type": "execute_result"
    }
   ],
   "source": [
    "a[0][0]"
   ]
  },
  {
   "cell_type": "code",
   "execution_count": 30,
   "id": "removable-cheat",
   "metadata": {},
   "outputs": [
    {
     "data": {
      "text/plain": [
       "12"
      ]
     },
     "execution_count": 30,
     "metadata": {},
     "output_type": "execute_result"
    }
   ],
   "source": [
    "a[0][1]"
   ]
  },
  {
   "cell_type": "markdown",
   "id": "later-colombia",
   "metadata": {},
   "source": [
    "| |0|1|2|\n",
    "|-|-|-|-|\n",
    "|0|11|12|13|\n",
    "|1|21|22|23|\n",
    "|2|31|32|33|"
   ]
  },
  {
   "cell_type": "markdown",
   "id": "comparable-leone",
   "metadata": {},
   "source": [
    "- 2차원 배열의 느낌!!!\n",
    "\n",
    "- 1차원 배열을 사실상 다차원배열로 확장할 수 있는 아이디어를 제공 "
   ]
  },
  {
   "cell_type": "markdown",
   "id": "earned-basement",
   "metadata": {},
   "source": [
    "## `tuple형`"
   ]
  },
  {
   "cell_type": "markdown",
   "id": "challenging-identifier",
   "metadata": {},
   "source": [
    "- 리스트와 비슷하다.\n",
    "- 차이점1: [ ] 대신에 ( )를 사용한다. \n",
    "- 차이점2: 불변형이다. (값을 바꿀 수 없음)\n",
    "- 차이점3: 하나의 원소로 이루어진 튜플을 만들때는 쉼표를 붙여야 함. "
   ]
  },
  {
   "cell_type": "code",
   "execution_count": 36,
   "id": "instant-public",
   "metadata": {},
   "outputs": [
    {
     "data": {
      "text/plain": [
       "(1,)"
      ]
     },
     "execution_count": 36,
     "metadata": {},
     "output_type": "execute_result"
    }
   ],
   "source": [
    "a=(1,)\n",
    "a"
   ]
  },
  {
   "cell_type": "code",
   "execution_count": 37,
   "id": "unnecessary-repair",
   "metadata": {},
   "outputs": [
    {
     "data": {
      "text/plain": [
       "(1, 2)"
      ]
     },
     "execution_count": 37,
     "metadata": {},
     "output_type": "execute_result"
    }
   ],
   "source": [
    "a + (2,)"
   ]
  },
  {
   "cell_type": "markdown",
   "id": "unlikely-protest",
   "metadata": {},
   "source": [
    "- 차이점4: (의미가 명확할때) 튜플의 괄호는 생략가능하다. "
   ]
  },
  {
   "cell_type": "code",
   "execution_count": 41,
   "id": "breeding-guyana",
   "metadata": {},
   "outputs": [
    {
     "data": {
      "text/plain": [
       "(1, 2)"
      ]
     },
     "execution_count": 41,
     "metadata": {},
     "output_type": "execute_result"
    }
   ],
   "source": [
    "a=1,2\n",
    "a"
   ]
  },
  {
   "cell_type": "markdown",
   "id": "dietary-retro",
   "metadata": {},
   "source": [
    "의미가 명확할때 생략해야함"
   ]
  },
  {
   "cell_type": "code",
   "execution_count": 45,
   "id": "progressive-intent",
   "metadata": {},
   "outputs": [
    {
     "data": {
      "text/plain": [
       "(1, 5, 4, 5)"
      ]
     },
     "execution_count": 45,
     "metadata": {},
     "output_type": "execute_result"
    }
   ],
   "source": [
    "1,2 + 3,4,5 "
   ]
  },
  {
   "cell_type": "markdown",
   "id": "known-retention",
   "metadata": {},
   "source": [
    "### 튜플 언패킹"
   ]
  },
  {
   "cell_type": "code",
   "execution_count": 47,
   "id": "modern-boulder",
   "metadata": {},
   "outputs": [],
   "source": [
    "name,age,sex,height,weight = 'Tom',20,'M',180,70"
   ]
  },
  {
   "cell_type": "code",
   "execution_count": 48,
   "id": "deluxe-wonder",
   "metadata": {},
   "outputs": [
    {
     "data": {
      "text/plain": [
       "'Tom'"
      ]
     },
     "execution_count": 48,
     "metadata": {},
     "output_type": "execute_result"
    }
   ],
   "source": [
    "name"
   ]
  },
  {
   "cell_type": "code",
   "execution_count": 49,
   "id": "textile-links",
   "metadata": {},
   "outputs": [
    {
     "data": {
      "text/plain": [
       "70"
      ]
     },
     "execution_count": 49,
     "metadata": {},
     "output_type": "execute_result"
    }
   ],
   "source": [
    "weight"
   ]
  },
  {
   "cell_type": "markdown",
   "id": "impressed-trash",
   "metadata": {},
   "source": [
    "**[예제3]**: 임시변수 사용없이 두 변수의 값을 교환 "
   ]
  },
  {
   "cell_type": "code",
   "execution_count": 51,
   "id": "nervous-commodity",
   "metadata": {},
   "outputs": [],
   "source": [
    "a=10\n",
    "b=20"
   ]
  },
  {
   "cell_type": "code",
   "execution_count": 52,
   "id": "continuing-administrator",
   "metadata": {},
   "outputs": [],
   "source": [
    "a,b=b,a"
   ]
  },
  {
   "cell_type": "code",
   "execution_count": 53,
   "id": "convenient-advocacy",
   "metadata": {},
   "outputs": [
    {
     "data": {
      "text/plain": [
       "20"
      ]
     },
     "execution_count": 53,
     "metadata": {},
     "output_type": "execute_result"
    }
   ],
   "source": [
    "a"
   ]
  },
  {
   "cell_type": "code",
   "execution_count": 54,
   "id": "loose-artwork",
   "metadata": {},
   "outputs": [
    {
     "data": {
      "text/plain": [
       "10"
      ]
     },
     "execution_count": 54,
     "metadata": {},
     "output_type": "execute_result"
    }
   ],
   "source": [
    "b"
   ]
  },
  {
   "cell_type": "markdown",
   "id": "hundred-packing",
   "metadata": {},
   "source": [
    "**[예제4]**: 함수의 입력으로 튜플을 넣을때 "
   ]
  },
  {
   "cell_type": "code",
   "execution_count": 56,
   "id": "distinct-insight",
   "metadata": {},
   "outputs": [],
   "source": [
    "def cal(a,b):\n",
    "    print(str(a) + '+' + str(b) + '=' + str(a+b))\n",
    "    print(str(a) + '-' + str(b) + '=' + str(a-b))\n",
    "    print(str(a) + '*' + str(b) + '=' + str(a*b))\n",
    "    print(str(a) + '/' + str(b) + '=' + str(a/b))"
   ]
  },
  {
   "cell_type": "code",
   "execution_count": 61,
   "id": "strategic-hammer",
   "metadata": {},
   "outputs": [
    {
     "ename": "TypeError",
     "evalue": "cal() missing 1 required positional argument: 'b'",
     "output_type": "error",
     "traceback": [
      "\u001b[1;31m---------------------------------------------------------------------------\u001b[0m",
      "\u001b[1;31mTypeError\u001b[0m                                 Traceback (most recent call last)",
      "\u001b[1;32m<ipython-input-61-3191852bf0a7>\u001b[0m in \u001b[0;36m<module>\u001b[1;34m\u001b[0m\n\u001b[0;32m      1\u001b[0m \u001b[1;31m### 우리가 원하는 형태\u001b[0m\u001b[1;33m\u001b[0m\u001b[1;33m\u001b[0m\u001b[1;33m\u001b[0m\u001b[0m\n\u001b[0;32m      2\u001b[0m \u001b[0minput\u001b[0m\u001b[1;33m=\u001b[0m\u001b[1;33m[\u001b[0m\u001b[1;36m3\u001b[0m\u001b[1;33m,\u001b[0m\u001b[1;36m4\u001b[0m\u001b[1;33m]\u001b[0m\u001b[1;33m\u001b[0m\u001b[1;33m\u001b[0m\u001b[0m\n\u001b[1;32m----> 3\u001b[1;33m \u001b[0mcal\u001b[0m\u001b[1;33m(\u001b[0m\u001b[0minput\u001b[0m\u001b[1;33m)\u001b[0m \u001b[1;31m# 리스트로는 불가능하다.\u001b[0m\u001b[1;33m\u001b[0m\u001b[1;33m\u001b[0m\u001b[0m\n\u001b[0m",
      "\u001b[1;31mTypeError\u001b[0m: cal() missing 1 required positional argument: 'b'"
     ]
    }
   ],
   "source": [
    "### 우리가 원하는 형태 \n",
    "input=[3,4]\n",
    "cal(input) # 리스트로는 불가능하다."
   ]
  },
  {
   "cell_type": "code",
   "execution_count": 62,
   "id": "correct-august",
   "metadata": {},
   "outputs": [
    {
     "name": "stdout",
     "output_type": "stream",
     "text": [
      "3+4=7\n",
      "3-4=-1\n",
      "3*4=12\n",
      "3/4=0.75\n"
     ]
    }
   ],
   "source": [
    "### 실제 \n",
    "cal(input[0],input[1])"
   ]
  },
  {
   "cell_type": "code",
   "execution_count": 63,
   "id": "comparative-medicaid",
   "metadata": {},
   "outputs": [
    {
     "data": {
      "text/plain": [
       "(3, 4)"
      ]
     },
     "execution_count": 63,
     "metadata": {},
     "output_type": "execute_result"
    }
   ],
   "source": [
    "input=(3,4)\n",
    "input"
   ]
  },
  {
   "cell_type": "code",
   "execution_count": 64,
   "id": "continuous-rendering",
   "metadata": {},
   "outputs": [
    {
     "name": "stdout",
     "output_type": "stream",
     "text": [
      "3+4=7\n",
      "3-4=-1\n",
      "3*4=12\n",
      "3/4=0.75\n"
     ]
    }
   ],
   "source": [
    "cal(*input) # 튜플 언패킹으로는 가능하다."
   ]
  },
  {
   "cell_type": "markdown",
   "id": "revised-niagara",
   "metadata": {},
   "source": [
    "- 함수를 호출할때 인수앞에 *를 붙여 튜플을 언패킹할 수 있다. "
   ]
  },
  {
   "cell_type": "markdown",
   "id": "olive-clothing",
   "metadata": {},
   "source": [
    "**[예제6]**: 플레이스홀더 "
   ]
  },
  {
   "cell_type": "code",
   "execution_count": 67,
   "id": "intimate-spoke",
   "metadata": {},
   "outputs": [],
   "source": [
    "idlist=[('guebin', '202112345','M','Korea'), \n",
    "        ('iu', '202154321','F','Korea'), \n",
    "        ('hodong', '201812321','M','Korea')]"
   ]
  },
  {
   "cell_type": "code",
   "execution_count": 68,
   "id": "angry-karen",
   "metadata": {},
   "outputs": [
    {
     "name": "stdout",
     "output_type": "stream",
     "text": [
      "guebin\n",
      "iu\n",
      "hodong\n"
     ]
    }
   ],
   "source": [
    "for name,studentid,sex,nat in idlist: \n",
    "    print(name)"
   ]
  },
  {
   "cell_type": "code",
   "execution_count": 69,
   "id": "third-model",
   "metadata": {},
   "outputs": [
    {
     "name": "stdout",
     "output_type": "stream",
     "text": [
      "guebin\n",
      "iu\n",
      "hodong\n"
     ]
    }
   ],
   "source": [
    "for name , _ , _ , _ in idlist: \n",
    "    print(name)"
   ]
  },
  {
   "cell_type": "markdown",
   "id": "positive-backing",
   "metadata": {},
   "source": [
    "## `set형`"
   ]
  },
  {
   "cell_type": "code",
   "execution_count": 70,
   "id": "swiss-convert",
   "metadata": {},
   "outputs": [],
   "source": [
    "A={'a','b','c','d'}\n",
    "B={'c','d','e','f'}"
   ]
  },
  {
   "cell_type": "code",
   "execution_count": 71,
   "id": "functional-material",
   "metadata": {},
   "outputs": [
    {
     "data": {
      "text/plain": [
       "{'a', 'b', 'c', 'd', 'e', 'f'}"
      ]
     },
     "execution_count": 71,
     "metadata": {},
     "output_type": "execute_result"
    }
   ],
   "source": [
    "A.union(B)"
   ]
  },
  {
   "cell_type": "code",
   "execution_count": 72,
   "id": "proof-kansas",
   "metadata": {},
   "outputs": [
    {
     "data": {
      "text/plain": [
       "{'a', 'b', 'c', 'd', 'e', 'f'}"
      ]
     },
     "execution_count": 72,
     "metadata": {},
     "output_type": "execute_result"
    }
   ],
   "source": [
    "A|B"
   ]
  },
  {
   "cell_type": "code",
   "execution_count": 73,
   "id": "sacred-edinburgh",
   "metadata": {},
   "outputs": [
    {
     "data": {
      "text/plain": [
       "{'c', 'd'}"
      ]
     },
     "execution_count": 73,
     "metadata": {},
     "output_type": "execute_result"
    }
   ],
   "source": [
    "A.intersection(B)"
   ]
  },
  {
   "cell_type": "code",
   "execution_count": 74,
   "id": "celtic-mother",
   "metadata": {},
   "outputs": [
    {
     "data": {
      "text/plain": [
       "{'c', 'd'}"
      ]
     },
     "execution_count": 74,
     "metadata": {},
     "output_type": "execute_result"
    }
   ],
   "source": [
    "A & B"
   ]
  },
  {
   "cell_type": "code",
   "execution_count": 75,
   "id": "hourly-electricity",
   "metadata": {},
   "outputs": [
    {
     "data": {
      "text/plain": [
       "{'a', 'b'}"
      ]
     },
     "execution_count": 75,
     "metadata": {},
     "output_type": "execute_result"
    }
   ],
   "source": [
    "A.difference(B)"
   ]
  },
  {
   "cell_type": "code",
   "execution_count": 76,
   "id": "sunrise-recipe",
   "metadata": {},
   "outputs": [
    {
     "data": {
      "text/plain": [
       "{'a', 'b'}"
      ]
     },
     "execution_count": 76,
     "metadata": {},
     "output_type": "execute_result"
    }
   ],
   "source": [
    "A-B"
   ]
  },
  {
   "cell_type": "code",
   "execution_count": 78,
   "id": "acting-little",
   "metadata": {},
   "outputs": [
    {
     "data": {
      "text/plain": [
       "{'e', 'h', 'l', 'o'}"
      ]
     },
     "execution_count": 78,
     "metadata": {},
     "output_type": "execute_result"
    }
   ],
   "source": [
    "a=set('hello')\n",
    "a"
   ]
  },
  {
   "cell_type": "code",
   "execution_count": 79,
   "id": "enclosed-cement",
   "metadata": {},
   "outputs": [
    {
     "name": "stdout",
     "output_type": "stream",
     "text": [
      "o\n",
      "l\n",
      "e\n",
      "h\n"
     ]
    }
   ],
   "source": [
    "for i in a:\n",
    "    print(i)"
   ]
  },
  {
   "cell_type": "markdown",
   "id": "israeli-composition",
   "metadata": {},
   "source": [
    "순서가 좀 이상하다 $\\to$ 집합은 원래 순서가 없다. $\\to$ 인덱싱이 불가능하다. $\\to$ 슬라이싱도 불가능 "
   ]
  },
  {
   "cell_type": "markdown",
   "id": "supported-token",
   "metadata": {},
   "source": [
    "- 집합 컴프리헨션"
   ]
  },
  {
   "cell_type": "code",
   "execution_count": 83,
   "id": "sized-webster",
   "metadata": {},
   "outputs": [
    {
     "data": {
      "text/plain": [
       "{2, 4, 8, 16}"
      ]
     },
     "execution_count": 83,
     "metadata": {},
     "output_type": "execute_result"
    }
   ],
   "source": [
    "C={2**x for x in [1,2,3,4]}\n",
    "C"
   ]
  },
  {
   "cell_type": "markdown",
   "id": "regulation-edward",
   "metadata": {},
   "source": [
    "## `dict형`"
   ]
  },
  {
   "cell_type": "code",
   "execution_count": 85,
   "id": "balanced-hybrid",
   "metadata": {},
   "outputs": [],
   "source": [
    "mydict={'a':[1,2,3],'b':[3,4,5]}"
   ]
  },
  {
   "cell_type": "code",
   "execution_count": 86,
   "id": "thorough-protest",
   "metadata": {},
   "outputs": [
    {
     "data": {
      "text/plain": [
       "[1, 2, 3]"
      ]
     },
     "execution_count": 86,
     "metadata": {},
     "output_type": "execute_result"
    }
   ],
   "source": [
    "mydict['a']"
   ]
  },
  {
   "cell_type": "code",
   "execution_count": 87,
   "id": "common-monkey",
   "metadata": {},
   "outputs": [
    {
     "data": {
      "text/plain": [
       "[1, 2, 3, 3, 4, 5]"
      ]
     },
     "execution_count": 87,
     "metadata": {},
     "output_type": "execute_result"
    }
   ],
   "source": [
    "mydict['a']+mydict['b']"
   ]
  },
  {
   "cell_type": "code",
   "execution_count": 88,
   "id": "round-november",
   "metadata": {},
   "outputs": [
    {
     "ename": "KeyError",
     "evalue": "0",
     "output_type": "error",
     "traceback": [
      "\u001b[1;31m---------------------------------------------------------------------------\u001b[0m",
      "\u001b[1;31mKeyError\u001b[0m                                  Traceback (most recent call last)",
      "\u001b[1;32m<ipython-input-88-857b2cc4f569>\u001b[0m in \u001b[0;36m<module>\u001b[1;34m\u001b[0m\n\u001b[1;32m----> 1\u001b[1;33m \u001b[0mmydict\u001b[0m\u001b[1;33m[\u001b[0m\u001b[1;36m0\u001b[0m\u001b[1;33m]\u001b[0m \u001b[1;31m# 인덱싱 불가능\u001b[0m\u001b[1;33m\u001b[0m\u001b[1;33m\u001b[0m\u001b[0m\n\u001b[0m",
      "\u001b[1;31mKeyError\u001b[0m: 0"
     ]
    }
   ],
   "source": [
    "mydict[0] # 인덱싱 불가능"
   ]
  },
  {
   "cell_type": "markdown",
   "id": "d6671496-988e-4d1c-a6ee-19b2e0f3f63e",
   "metadata": {},
   "source": [
    "- 딕셔너리 컴프리핸션"
   ]
  },
  {
   "cell_type": "code",
   "execution_count": 91,
   "id": "critical-humanity",
   "metadata": {},
   "outputs": [
    {
     "data": {
      "text/plain": [
       "{1: 1, 2: 4, 3: 9, 4: 16}"
      ]
     },
     "execution_count": 91,
     "metadata": {},
     "output_type": "execute_result"
    }
   ],
   "source": [
    "X={x:x**2 for x in [1,2,3,4]}\n",
    "X"
   ]
  },
  {
   "cell_type": "markdown",
   "id": "tracked-dairy",
   "metadata": {},
   "source": [
    "## `numpy`"
   ]
  },
  {
   "cell_type": "markdown",
   "id": "informal-bolivia",
   "metadata": {},
   "source": [
    "#### [$\\ast$] 넘파이(numpy)를 왜 써야 하는가? (1)"
   ]
  },
  {
   "cell_type": "markdown",
   "id": "familiar-pontiac",
   "metadata": {},
   "source": [
    "`욕심`: `(1,2,3)+(2,3,4)=(3,5,7)`를 계산하고 싶다. "
   ]
  },
  {
   "cell_type": "code",
   "execution_count": 100,
   "id": "massive-iraqi",
   "metadata": {},
   "outputs": [
    {
     "data": {
      "text/plain": [
       "array([3, 5, 7])"
      ]
     },
     "execution_count": 100,
     "metadata": {},
     "output_type": "execute_result"
    }
   ],
   "source": [
    "import numpy as np \n",
    "a=np.array((1,2,3))\n",
    "b=np.array([2,3,4])\n",
    "a+b"
   ]
  },
  {
   "cell_type": "markdown",
   "id": "emotional-color",
   "metadata": {},
   "source": [
    "#### [$\\ast$] 넘파이의 호환성"
   ]
  },
  {
   "cell_type": "markdown",
   "id": "horizontal-indication",
   "metadata": {},
   "source": [
    "`list` - `tuple` - `np.array`사이에는 호환성이 좋음 "
   ]
  },
  {
   "cell_type": "code",
   "execution_count": 101,
   "id": "documentary-going",
   "metadata": {},
   "outputs": [
    {
     "data": {
      "text/plain": [
       "[1, 2, 3]"
      ]
     },
     "execution_count": 101,
     "metadata": {},
     "output_type": "execute_result"
    }
   ],
   "source": [
    "list(np.array(tuple(a)))"
   ]
  },
  {
   "cell_type": "markdown",
   "id": "common-highland",
   "metadata": {},
   "source": [
    "#### [$\\ast$] 넘파이(numpy)를 왜 써야하는가? (2) \n",
    "\n",
    "넘파이를 사용하면 벡터연산과 행렬연산을 쉽게 할 수 있다. "
   ]
  },
  {
   "cell_type": "markdown",
   "id": "ordered-traffic",
   "metadata": {},
   "source": [
    "예를들어 아래와 같은 문제가 있다고 하자. \n",
    "\n",
    "$\\begin{cases}\n",
    "w+2x+3y+4z=1 \\\\\n",
    "2w+2x+y=9 \\\\\n",
    "x-y=4 \\\\\n",
    "3w+x-y+3y=7\n",
    "\\end{cases}$\n",
    "\n",
    "매트릭스 형태로 위의 식을 표현하면 아래와 같다. \n",
    "\n",
    "$\\begin{bmatrix}\n",
    "1 & 2 & 3 & 4 \\\\ \n",
    "2 & 2 & 1 & 0 \\\\\n",
    "0 & 1 &-1 & 0 \\\\\n",
    "3 & 1 &-1 & 3 \n",
    "\\end{bmatrix}\n",
    "\\begin{bmatrix}\n",
    "w \\\\ x \\\\ y \\\\z \n",
    "\\end{bmatrix}=\\begin{bmatrix}\n",
    "1 \\\\ 9 \\\\ 4 \\\\7 \n",
    "\\end{bmatrix}$\n",
    "\n",
    "양변에 $\\begin{bmatrix}\n",
    "1 & 2 & 3 & 4 \\\\ \n",
    "2 & 2 & 1 & 0 \\\\\n",
    "0 & 1 &-1 & 0 \\\\\n",
    "3 & 1 &-1 & 3 \n",
    "\\end{bmatrix}$의 역행렬을 취하면 \n",
    "\n",
    "$\\begin{bmatrix}\n",
    "w \\\\ x \\\\ y \\\\z \n",
    "\\end{bmatrix}=\\begin{bmatrix}\n",
    "1 & 2 & 3 & 4 \\\\ \n",
    "2 & 2 & 1 & 0 \\\\\n",
    "0 & 1 &-1 & 0 \\\\\n",
    "3 & 1 &-1 & 3 \n",
    "\\end{bmatrix}^{-1}\\begin{bmatrix}\n",
    "1 \\\\ 9 \\\\ 4 \\\\7 \n",
    "\\end{bmatrix}$"
   ]
  },
  {
   "cell_type": "code",
   "execution_count": 111,
   "id": "later-plane",
   "metadata": {},
   "outputs": [
    {
     "data": {
      "text/plain": [
       "array([ 2.,  3., -1., -1.])"
      ]
     },
     "execution_count": 111,
     "metadata": {},
     "output_type": "execute_result"
    }
   ],
   "source": [
    "from numpy.linalg import inv\n",
    "A=[[1,2,3,4],[2,2,1,0],[0,1,-1,0],[3,1,-1,3]]\n",
    "b=[1,9,4,7]\n",
    "Aarr=np.array(A)\n",
    "barr=np.array(b)\n",
    "inv(Aarr) @ barr "
   ]
  },
  {
   "cell_type": "markdown",
   "id": "incorporate-amount",
   "metadata": {},
   "source": [
    "- 인덱싱 (슬라이싱 포함)"
   ]
  },
  {
   "cell_type": "code",
   "execution_count": 114,
   "id": "billion-recycling",
   "metadata": {},
   "outputs": [
    {
     "data": {
      "text/plain": [
       "array([[11, 12, 13, 14, 15],\n",
       "       [21, 22, 23, 24, 25],\n",
       "       [31, 32, 33, 34, 35]])"
      ]
     },
     "execution_count": 114,
     "metadata": {},
     "output_type": "execute_result"
    }
   ],
   "source": [
    "A=np.array([[11,12,13,14,15],[21,22,23,24,25],[31,32,33,34,35]])\n",
    "A"
   ]
  },
  {
   "cell_type": "markdown",
   "id": "generic-covering",
   "metadata": {},
   "source": [
    "**[예제1]** (3,1)에 접근하여 보자!"
   ]
  },
  {
   "cell_type": "code",
   "execution_count": 115,
   "id": "handed-bacon",
   "metadata": {},
   "outputs": [
    {
     "data": {
      "text/plain": [
       "31"
      ]
     },
     "execution_count": 115,
     "metadata": {},
     "output_type": "execute_result"
    }
   ],
   "source": [
    "A[2][0]"
   ]
  },
  {
   "cell_type": "code",
   "execution_count": 116,
   "id": "atlantic-legislature",
   "metadata": {},
   "outputs": [
    {
     "data": {
      "text/plain": [
       "31"
      ]
     },
     "execution_count": 116,
     "metadata": {},
     "output_type": "execute_result"
    }
   ],
   "source": [
    "A[2,0] # list와의 차이점"
   ]
  },
  {
   "cell_type": "markdown",
   "id": "external-modeling",
   "metadata": {},
   "source": [
    "**[예제4]** 1행중에서 1,3,5열에 접근해보자. "
   ]
  },
  {
   "cell_type": "code",
   "execution_count": 117,
   "id": "combined-conditioning",
   "metadata": {},
   "outputs": [
    {
     "data": {
      "text/plain": [
       "array([11, 13, 15])"
      ]
     },
     "execution_count": 117,
     "metadata": {},
     "output_type": "execute_result"
    }
   ],
   "source": [
    "A[0,[0,2,4]] #방법 1"
   ]
  },
  {
   "cell_type": "code",
   "execution_count": 118,
   "id": "structural-airplane",
   "metadata": {},
   "outputs": [
    {
     "data": {
      "text/plain": [
       "array([11, 13, 15])"
      ]
     },
     "execution_count": 118,
     "metadata": {},
     "output_type": "execute_result"
    }
   ],
   "source": [
    "A[0][[0,2,4]] #방법 2"
   ]
  },
  {
   "cell_type": "code",
   "execution_count": 120,
   "id": "functioning-helping",
   "metadata": {},
   "outputs": [
    {
     "data": {
      "text/plain": [
       "array([11, 13, 15])"
      ]
     },
     "execution_count": 120,
     "metadata": {},
     "output_type": "execute_result"
    }
   ],
   "source": [
    "b=(0,2,4)\n",
    "A[0,b]"
   ]
  },
  {
   "cell_type": "markdown",
   "id": "center-ability",
   "metadata": {},
   "source": [
    "#### [$\\ast$] 인덱싱의 종류 ($\\star\\star\\star$)"
   ]
  },
  {
   "cell_type": "markdown",
   "id": "outer-deputy",
   "metadata": {},
   "source": [
    "1. 기본인덱싱: 인덱스, 슬라이싱을 활용 \n",
    "   - 예1: `A[1,1]` \n",
    "   - 예2: `A[1,0:2]` \n",
    "2. 팬시인덱싱(응용인덱싱): 인덱스를 정수배열로 전달, `np.ix_`함수를 활용한 인덱싱, 부울값 인덱싱\n",
    "    - 예1: `A[0,[0,2,4]]` , 정수배열 인덱싱\n",
    "    - 예2: `A[np.ix_(a,b)]` , np.ix함수를 활용한 인덱싱\n",
    "    - 예3: `c[c>0]` , 부울값인덱싱"
   ]
  },
  {
   "cell_type": "markdown",
   "id": "consolidated-patio",
   "metadata": {},
   "source": [
    "-  `numpy`를 배우는 방법\n",
    "\n",
    "인터넷+자동완성+contextual help "
   ]
  },
  {
   "cell_type": "markdown",
   "id": "willing-honolulu",
   "metadata": {},
   "source": [
    "## `pandas`"
   ]
  },
  {
   "cell_type": "markdown",
   "id": "193d04ed-2888-4f71-b560-b716b7327674",
   "metadata": {},
   "source": [
    " `dict`와 호환성이 좋은 새로운 자료형이 있는데, 그것이 바로 `pandas`이다. "
   ]
  },
  {
   "cell_type": "markdown",
   "id": "17bd1700-7cf2-4080-aaa1-352f473028db",
   "metadata": {},
   "source": [
    "근본적인 차이: `list`는 번호로, `dict`는 keyword로 접근한다. \n",
    "    \n",
    "- 인덱싱, 슬라이싱  vs 맵핑 \n",
    "***note:*** 리스트는 키워드로 정보검색이 불가능하다.\n",
    "***note:*** 딕셔너리는 인덱스로 정보검색이 불가능하다."
   ]
  },
  {
   "cell_type": "code",
   "execution_count": 123,
   "id": "lined-jenny",
   "metadata": {},
   "outputs": [],
   "source": [
    "d={'새로이':[30,600,4.0],\n",
    "   \"이서\":[20,950,4.2],\n",
    "   \"일권\":[28,950,2.3],\n",
    "   \"현이\":[28,650,3.8]}"
   ]
  },
  {
   "cell_type": "code",
   "execution_count": 124,
   "id": "statutory-spirit",
   "metadata": {},
   "outputs": [
    {
     "data": {
      "text/html": [
       "<div>\n",
       "<style scoped>\n",
       "    .dataframe tbody tr th:only-of-type {\n",
       "        vertical-align: middle;\n",
       "    }\n",
       "\n",
       "    .dataframe tbody tr th {\n",
       "        vertical-align: top;\n",
       "    }\n",
       "\n",
       "    .dataframe thead th {\n",
       "        text-align: right;\n",
       "    }\n",
       "</style>\n",
       "<table border=\"1\" class=\"dataframe\">\n",
       "  <thead>\n",
       "    <tr style=\"text-align: right;\">\n",
       "      <th></th>\n",
       "      <th>새로이</th>\n",
       "      <th>이서</th>\n",
       "      <th>일권</th>\n",
       "      <th>현이</th>\n",
       "    </tr>\n",
       "  </thead>\n",
       "  <tbody>\n",
       "    <tr>\n",
       "      <th>0</th>\n",
       "      <td>30.0</td>\n",
       "      <td>20.0</td>\n",
       "      <td>28.0</td>\n",
       "      <td>28.0</td>\n",
       "    </tr>\n",
       "    <tr>\n",
       "      <th>1</th>\n",
       "      <td>600.0</td>\n",
       "      <td>950.0</td>\n",
       "      <td>950.0</td>\n",
       "      <td>650.0</td>\n",
       "    </tr>\n",
       "    <tr>\n",
       "      <th>2</th>\n",
       "      <td>4.0</td>\n",
       "      <td>4.2</td>\n",
       "      <td>2.3</td>\n",
       "      <td>3.8</td>\n",
       "    </tr>\n",
       "  </tbody>\n",
       "</table>\n",
       "</div>"
      ],
      "text/plain": [
       "     새로이     이서     일권     현이\n",
       "0   30.0   20.0   28.0   28.0\n",
       "1  600.0  950.0  950.0  650.0\n",
       "2    4.0    4.2    2.3    3.8"
      ]
     },
     "execution_count": 124,
     "metadata": {},
     "output_type": "execute_result"
    }
   ],
   "source": [
    "import pandas as pd\n",
    "pd.DataFrame(d) ## 판다스자료형 = 데이터프레임을 선언하는 방법"
   ]
  },
  {
   "cell_type": "code",
   "execution_count": 125,
   "id": "numerical-channels",
   "metadata": {},
   "outputs": [
    {
     "data": {
      "text/html": [
       "<div>\n",
       "<style scoped>\n",
       "    .dataframe tbody tr th:only-of-type {\n",
       "        vertical-align: middle;\n",
       "    }\n",
       "\n",
       "    .dataframe tbody tr th {\n",
       "        vertical-align: top;\n",
       "    }\n",
       "\n",
       "    .dataframe thead th {\n",
       "        text-align: right;\n",
       "    }\n",
       "</style>\n",
       "<table border=\"1\" class=\"dataframe\">\n",
       "  <thead>\n",
       "    <tr style=\"text-align: right;\">\n",
       "      <th></th>\n",
       "      <th>0</th>\n",
       "      <th>1</th>\n",
       "      <th>2</th>\n",
       "    </tr>\n",
       "  </thead>\n",
       "  <tbody>\n",
       "    <tr>\n",
       "      <th>새로이</th>\n",
       "      <td>30.0</td>\n",
       "      <td>600.0</td>\n",
       "      <td>4.0</td>\n",
       "    </tr>\n",
       "    <tr>\n",
       "      <th>이서</th>\n",
       "      <td>20.0</td>\n",
       "      <td>950.0</td>\n",
       "      <td>4.2</td>\n",
       "    </tr>\n",
       "    <tr>\n",
       "      <th>일권</th>\n",
       "      <td>28.0</td>\n",
       "      <td>950.0</td>\n",
       "      <td>2.3</td>\n",
       "    </tr>\n",
       "    <tr>\n",
       "      <th>현이</th>\n",
       "      <td>28.0</td>\n",
       "      <td>650.0</td>\n",
       "      <td>3.8</td>\n",
       "    </tr>\n",
       "  </tbody>\n",
       "</table>\n",
       "</div>"
      ],
      "text/plain": [
       "        0      1    2\n",
       "새로이  30.0  600.0  4.0\n",
       "이서   20.0  950.0  4.2\n",
       "일권   28.0  950.0  2.3\n",
       "현이   28.0  650.0  3.8"
      ]
     },
     "execution_count": 125,
     "metadata": {},
     "output_type": "execute_result"
    }
   ],
   "source": [
    "df=pd.DataFrame(d).T\n",
    "df"
   ]
  },
  {
   "cell_type": "markdown",
   "id": "regulated-cache",
   "metadata": {},
   "source": [
    "***note:*** 이서의 정보를 알고 싶다면? (딕셔너리 느낌)"
   ]
  },
  {
   "cell_type": "code",
   "execution_count": 126,
   "id": "suitable-universe",
   "metadata": {},
   "outputs": [
    {
     "data": {
      "text/plain": [
       "0     20.0\n",
       "1    950.0\n",
       "2      4.2\n",
       "Name: 이서, dtype: float64"
      ]
     },
     "execution_count": 126,
     "metadata": {},
     "output_type": "execute_result"
    }
   ],
   "source": [
    "df.loc['이서']"
   ]
  },
  {
   "cell_type": "markdown",
   "id": "psychological-bosnia",
   "metadata": {},
   "source": [
    "***note:*** 칼럼이름을 정하고 싶다면? "
   ]
  },
  {
   "cell_type": "code",
   "execution_count": 127,
   "id": "acknowledged-layout",
   "metadata": {},
   "outputs": [
    {
     "data": {
      "text/html": [
       "<div>\n",
       "<style scoped>\n",
       "    .dataframe tbody tr th:only-of-type {\n",
       "        vertical-align: middle;\n",
       "    }\n",
       "\n",
       "    .dataframe tbody tr th {\n",
       "        vertical-align: top;\n",
       "    }\n",
       "\n",
       "    .dataframe thead th {\n",
       "        text-align: right;\n",
       "    }\n",
       "</style>\n",
       "<table border=\"1\" class=\"dataframe\">\n",
       "  <thead>\n",
       "    <tr style=\"text-align: right;\">\n",
       "      <th></th>\n",
       "      <th>age</th>\n",
       "      <th>toeic</th>\n",
       "      <th>gpa</th>\n",
       "    </tr>\n",
       "  </thead>\n",
       "  <tbody>\n",
       "    <tr>\n",
       "      <th>새로이</th>\n",
       "      <td>30.0</td>\n",
       "      <td>600.0</td>\n",
       "      <td>4.0</td>\n",
       "    </tr>\n",
       "    <tr>\n",
       "      <th>이서</th>\n",
       "      <td>20.0</td>\n",
       "      <td>950.0</td>\n",
       "      <td>4.2</td>\n",
       "    </tr>\n",
       "    <tr>\n",
       "      <th>일권</th>\n",
       "      <td>28.0</td>\n",
       "      <td>950.0</td>\n",
       "      <td>2.3</td>\n",
       "    </tr>\n",
       "    <tr>\n",
       "      <th>현이</th>\n",
       "      <td>28.0</td>\n",
       "      <td>650.0</td>\n",
       "      <td>3.8</td>\n",
       "    </tr>\n",
       "  </tbody>\n",
       "</table>\n",
       "</div>"
      ],
      "text/plain": [
       "      age  toeic  gpa\n",
       "새로이  30.0  600.0  4.0\n",
       "이서   20.0  950.0  4.2\n",
       "일권   28.0  950.0  2.3\n",
       "현이   28.0  650.0  3.8"
      ]
     },
     "execution_count": 127,
     "metadata": {},
     "output_type": "execute_result"
    }
   ],
   "source": [
    "df.columns=['age','toeic','gpa']\n",
    "df"
   ]
  },
  {
   "cell_type": "code",
   "execution_count": 128,
   "id": "monthly-product",
   "metadata": {},
   "outputs": [
    {
     "data": {
      "text/plain": [
       "새로이    4.0\n",
       "이서     4.2\n",
       "일권     2.3\n",
       "현이     3.8\n",
       "Name: gpa, dtype: float64"
      ]
     },
     "execution_count": 128,
     "metadata": {},
     "output_type": "execute_result"
    }
   ],
   "source": [
    "df.loc[:,'gpa']"
   ]
  },
  {
   "cell_type": "markdown",
   "id": "extreme-general",
   "metadata": {},
   "source": [
    "***note:*** 2-3번째 칼럼을 불러오자! (넘파이느낌)"
   ]
  },
  {
   "cell_type": "code",
   "execution_count": 131,
   "id": "thirty-phrase",
   "metadata": {},
   "outputs": [
    {
     "data": {
      "text/html": [
       "<div>\n",
       "<style scoped>\n",
       "    .dataframe tbody tr th:only-of-type {\n",
       "        vertical-align: middle;\n",
       "    }\n",
       "\n",
       "    .dataframe tbody tr th {\n",
       "        vertical-align: top;\n",
       "    }\n",
       "\n",
       "    .dataframe thead th {\n",
       "        text-align: right;\n",
       "    }\n",
       "</style>\n",
       "<table border=\"1\" class=\"dataframe\">\n",
       "  <thead>\n",
       "    <tr style=\"text-align: right;\">\n",
       "      <th></th>\n",
       "      <th>toeic</th>\n",
       "      <th>gpa</th>\n",
       "    </tr>\n",
       "  </thead>\n",
       "  <tbody>\n",
       "    <tr>\n",
       "      <th>새로이</th>\n",
       "      <td>600.0</td>\n",
       "      <td>4.0</td>\n",
       "    </tr>\n",
       "    <tr>\n",
       "      <th>이서</th>\n",
       "      <td>950.0</td>\n",
       "      <td>4.2</td>\n",
       "    </tr>\n",
       "    <tr>\n",
       "      <th>일권</th>\n",
       "      <td>950.0</td>\n",
       "      <td>2.3</td>\n",
       "    </tr>\n",
       "    <tr>\n",
       "      <th>현이</th>\n",
       "      <td>650.0</td>\n",
       "      <td>3.8</td>\n",
       "    </tr>\n",
       "  </tbody>\n",
       "</table>\n",
       "</div>"
      ],
      "text/plain": [
       "     toeic  gpa\n",
       "새로이  600.0  4.0\n",
       "이서   950.0  4.2\n",
       "일권   950.0  2.3\n",
       "현이   650.0  3.8"
      ]
     },
     "execution_count": 131,
     "metadata": {},
     "output_type": "execute_result"
    }
   ],
   "source": [
    "df.iloc[:,1:3]"
   ]
  },
  {
   "cell_type": "markdown",
   "id": "hired-alpha",
   "metadata": {},
   "source": [
    "***note:*** 토익점수를 불러오고 싶다면? "
   ]
  },
  {
   "cell_type": "code",
   "execution_count": 132,
   "id": "pressing-architect",
   "metadata": {},
   "outputs": [
    {
     "data": {
      "text/plain": [
       "새로이    600.0\n",
       "이서     950.0\n",
       "일권     950.0\n",
       "현이     650.0\n",
       "Name: toeic, dtype: float64"
      ]
     },
     "execution_count": 132,
     "metadata": {},
     "output_type": "execute_result"
    }
   ],
   "source": [
    "df.loc[:,'toeic']"
   ]
  },
  {
   "cell_type": "markdown",
   "id": "consecutive-australian",
   "metadata": {},
   "source": [
    "***note:*** age~toeic까지의 정보를 얻고 싶다면? "
   ]
  },
  {
   "cell_type": "code",
   "execution_count": 133,
   "id": "impressed-serbia",
   "metadata": {},
   "outputs": [
    {
     "data": {
      "text/html": [
       "<div>\n",
       "<style scoped>\n",
       "    .dataframe tbody tr th:only-of-type {\n",
       "        vertical-align: middle;\n",
       "    }\n",
       "\n",
       "    .dataframe tbody tr th {\n",
       "        vertical-align: top;\n",
       "    }\n",
       "\n",
       "    .dataframe thead th {\n",
       "        text-align: right;\n",
       "    }\n",
       "</style>\n",
       "<table border=\"1\" class=\"dataframe\">\n",
       "  <thead>\n",
       "    <tr style=\"text-align: right;\">\n",
       "      <th></th>\n",
       "      <th>age</th>\n",
       "      <th>toeic</th>\n",
       "    </tr>\n",
       "  </thead>\n",
       "  <tbody>\n",
       "    <tr>\n",
       "      <th>새로이</th>\n",
       "      <td>30.0</td>\n",
       "      <td>600.0</td>\n",
       "    </tr>\n",
       "    <tr>\n",
       "      <th>이서</th>\n",
       "      <td>20.0</td>\n",
       "      <td>950.0</td>\n",
       "    </tr>\n",
       "    <tr>\n",
       "      <th>일권</th>\n",
       "      <td>28.0</td>\n",
       "      <td>950.0</td>\n",
       "    </tr>\n",
       "    <tr>\n",
       "      <th>현이</th>\n",
       "      <td>28.0</td>\n",
       "      <td>650.0</td>\n",
       "    </tr>\n",
       "  </tbody>\n",
       "</table>\n",
       "</div>"
      ],
      "text/plain": [
       "      age  toeic\n",
       "새로이  30.0  600.0\n",
       "이서   20.0  950.0\n",
       "일권   28.0  950.0\n",
       "현이   28.0  650.0"
      ]
     },
     "execution_count": 133,
     "metadata": {},
     "output_type": "execute_result"
    }
   ],
   "source": [
    "df.loc[:,'age':'toeic']"
   ]
  },
  {
   "cell_type": "markdown",
   "id": "generic-marsh",
   "metadata": {},
   "source": [
    "***note:*** 새로이~일권까지의 정보를 얻고 싶다면? "
   ]
  },
  {
   "cell_type": "code",
   "execution_count": 134,
   "id": "rapid-bosnia",
   "metadata": {},
   "outputs": [
    {
     "data": {
      "text/html": [
       "<div>\n",
       "<style scoped>\n",
       "    .dataframe tbody tr th:only-of-type {\n",
       "        vertical-align: middle;\n",
       "    }\n",
       "\n",
       "    .dataframe tbody tr th {\n",
       "        vertical-align: top;\n",
       "    }\n",
       "\n",
       "    .dataframe thead th {\n",
       "        text-align: right;\n",
       "    }\n",
       "</style>\n",
       "<table border=\"1\" class=\"dataframe\">\n",
       "  <thead>\n",
       "    <tr style=\"text-align: right;\">\n",
       "      <th></th>\n",
       "      <th>age</th>\n",
       "      <th>toeic</th>\n",
       "      <th>gpa</th>\n",
       "    </tr>\n",
       "  </thead>\n",
       "  <tbody>\n",
       "    <tr>\n",
       "      <th>새로이</th>\n",
       "      <td>30.0</td>\n",
       "      <td>600.0</td>\n",
       "      <td>4.0</td>\n",
       "    </tr>\n",
       "    <tr>\n",
       "      <th>이서</th>\n",
       "      <td>20.0</td>\n",
       "      <td>950.0</td>\n",
       "      <td>4.2</td>\n",
       "    </tr>\n",
       "    <tr>\n",
       "      <th>일권</th>\n",
       "      <td>28.0</td>\n",
       "      <td>950.0</td>\n",
       "      <td>2.3</td>\n",
       "    </tr>\n",
       "  </tbody>\n",
       "</table>\n",
       "</div>"
      ],
      "text/plain": [
       "      age  toeic  gpa\n",
       "새로이  30.0  600.0  4.0\n",
       "이서   20.0  950.0  4.2\n",
       "일권   28.0  950.0  2.3"
      ]
     },
     "execution_count": 134,
     "metadata": {},
     "output_type": "execute_result"
    }
   ],
   "source": [
    "df.loc['새로이':'일권',:]"
   ]
  },
  {
   "cell_type": "markdown",
   "id": "mechanical-reproduction",
   "metadata": {},
   "source": [
    "***note:*** 토익점수가 800보다 높은사람을 부르고 싶다면? "
   ]
  },
  {
   "cell_type": "code",
   "execution_count": 135,
   "id": "ruled-tradition",
   "metadata": {},
   "outputs": [
    {
     "data": {
      "text/html": [
       "<div>\n",
       "<style scoped>\n",
       "    .dataframe tbody tr th:only-of-type {\n",
       "        vertical-align: middle;\n",
       "    }\n",
       "\n",
       "    .dataframe tbody tr th {\n",
       "        vertical-align: top;\n",
       "    }\n",
       "\n",
       "    .dataframe thead th {\n",
       "        text-align: right;\n",
       "    }\n",
       "</style>\n",
       "<table border=\"1\" class=\"dataframe\">\n",
       "  <thead>\n",
       "    <tr style=\"text-align: right;\">\n",
       "      <th></th>\n",
       "      <th>age</th>\n",
       "      <th>toeic</th>\n",
       "      <th>gpa</th>\n",
       "    </tr>\n",
       "  </thead>\n",
       "  <tbody>\n",
       "    <tr>\n",
       "      <th>이서</th>\n",
       "      <td>20.0</td>\n",
       "      <td>950.0</td>\n",
       "      <td>4.2</td>\n",
       "    </tr>\n",
       "    <tr>\n",
       "      <th>일권</th>\n",
       "      <td>28.0</td>\n",
       "      <td>950.0</td>\n",
       "      <td>2.3</td>\n",
       "    </tr>\n",
       "  </tbody>\n",
       "</table>\n",
       "</div>"
      ],
      "text/plain": [
       "     age  toeic  gpa\n",
       "이서  20.0  950.0  4.2\n",
       "일권  28.0  950.0  2.3"
      ]
     },
     "execution_count": 135,
     "metadata": {},
     "output_type": "execute_result"
    }
   ],
   "source": [
    "df.query('toeic>800')"
   ]
  },
  {
   "cell_type": "markdown",
   "id": "italian-establishment",
   "metadata": {},
   "source": [
    "***note:*** 나이가 23보다 많고 토익점수가 800보다 높은 사람을 부르고 싶다면? "
   ]
  },
  {
   "cell_type": "code",
   "execution_count": 136,
   "id": "dietary-butter",
   "metadata": {},
   "outputs": [
    {
     "data": {
      "text/html": [
       "<div>\n",
       "<style scoped>\n",
       "    .dataframe tbody tr th:only-of-type {\n",
       "        vertical-align: middle;\n",
       "    }\n",
       "\n",
       "    .dataframe tbody tr th {\n",
       "        vertical-align: top;\n",
       "    }\n",
       "\n",
       "    .dataframe thead th {\n",
       "        text-align: right;\n",
       "    }\n",
       "</style>\n",
       "<table border=\"1\" class=\"dataframe\">\n",
       "  <thead>\n",
       "    <tr style=\"text-align: right;\">\n",
       "      <th></th>\n",
       "      <th>age</th>\n",
       "      <th>toeic</th>\n",
       "      <th>gpa</th>\n",
       "    </tr>\n",
       "  </thead>\n",
       "  <tbody>\n",
       "    <tr>\n",
       "      <th>일권</th>\n",
       "      <td>28.0</td>\n",
       "      <td>950.0</td>\n",
       "      <td>2.3</td>\n",
       "    </tr>\n",
       "  </tbody>\n",
       "</table>\n",
       "</div>"
      ],
      "text/plain": [
       "     age  toeic  gpa\n",
       "일권  28.0  950.0  2.3"
      ]
     },
     "execution_count": 136,
     "metadata": {},
     "output_type": "execute_result"
    }
   ],
   "source": [
    "df.query('age>23 & toeic>800')"
   ]
  },
  {
   "cell_type": "markdown",
   "id": "needed-round",
   "metadata": {},
   "source": [
    "# Class"
   ]
  },
  {
   "cell_type": "markdown",
   "id": "middle-circus",
   "metadata": {},
   "source": [
    "- 많은 교재에서 정의를 회피함 \n",
    "- 비유적 설명 , 다른 대상을 가져와서 설명 \n",
    "    - 클래스는 과자틀과 비슷하다. 클래스란 똑같은 무엇인가를 계속 만들어 낼 수도 있는 설계도면이고 객체란 클래스로 만든 피조물을 뜻한다. (점프투파이썬)  \n",
    "    - In object-oriented programming, a class is an extensible program-code-template for creating objects, providing initial values for state (member variables) and implementations of behavior (member functions or methods).`"
   ]
  },
  {
   "cell_type": "markdown",
   "id": "independent-color",
   "metadata": {},
   "source": [
    "- 직접적 설명\n",
    "    - 복제를 위한 확장가능한 프로그램 코드의 유닛"
   ]
  },
  {
   "cell_type": "markdown",
   "id": "color-debut",
   "metadata": {},
   "source": [
    "좀더 정리하여 말하면, \n",
    "\n",
    "(1) 개념의 인지 \n",
    "\n",
    "(2) 복사하고 싶은 속성을 추림 \n",
    "\n",
    "(3) 복사가능한 어떤 틀을 만듬 (=클래스를 정의)\n",
    "\n",
    "(4) 틀에서 인스턴스를 만든다 (=클래스에서 인스턴스를 만든다)"
   ]
  },
  {
   "cell_type": "markdown",
   "id": "elementary-gibraltar",
   "metadata": {},
   "source": [
    "``` python\n",
    "class MooYaHo(): ### MooYaHo라는 이름을 가진 클래스 선언 \n",
    "    title=\"농심 무파마\" ### 클래스안에서 정의된 변수1 \n",
    "    img=Image.open('mooyaho1.jpg').resize((200,200)) ### 클래스안에서 정의된 변수2\n",
    "    don=\"그만큼 맛있으시단거지\" ### 클래스안에서 정의된 변수3\n",
    "    def memeshow(self): ### 클래스안에서 정의된 함수*  \n",
    "        print(self.title)\n",
    "        display(self.img)\n",
    "        print(self.don)\n",
    "```"
   ]
  },
  {
   "cell_type": "markdown",
   "id": "adaptive-picking",
   "metadata": {},
   "source": [
    "규칙1: 클래스내에서 함수를 선언하면 반드시 첫번째 인자는 `self`를 넣어야 한다.  --> `self`가 뭘까? "
   ]
  },
  {
   "cell_type": "markdown",
   "id": "molecular-binding",
   "metadata": {},
   "source": [
    "규칙2: 클래스 내에서 정의한 변수 (예를들면 `title`, `img`, `don`)를 사용하려면\n",
    " - `self.title`, `self.img`, `self.don`\n",
    " - `MooYaHo.title`, `MooYaHo.img`, `MooYaHo.don`"
   ]
  },
  {
   "cell_type": "markdown",
   "id": "signal-humanity",
   "metadata": {},
   "source": [
    "***클래스에서 인스턴스를 찍어내는 방법***\n",
    "- 함수사용법과 비슷\n",
    "- 클래스 이름을 쓰고 콘텐츠를 구체화시키는 과정에서 필요한 입력1, 입력2를 ()에 넣는다. \n",
    "- MooYaHo의 경우는 따로 입력이 없으므로, 그냥 MooYaHo하고 입력을 비워둔다. 즉 `MooYaHo()`로 생성"
   ]
  },
  {
   "cell_type": "markdown",
   "id": "surface-dream",
   "metadata": {},
   "source": [
    "***성능1: 인스턴스에서 `.`을 찍고 접근할 수 있는 여러 자료들을 정의할 수 있다.***"
   ]
  },
  {
   "cell_type": "markdown",
   "id": "documented-miracle",
   "metadata": {},
   "source": [
    "***성능2:인스턴스에서 `.`을 찍고 쓸 수 있는 자체적인 함수(=method라고 함)를 정의할 수 있다.***"
   ]
  },
  {
   "cell_type": "markdown",
   "id": "catholic-curve",
   "metadata": {},
   "source": [
    "- 출력만 살짝 바꾸어서 MooYaHo2를 만들고 싶다. \n",
    "\n",
    "--> MooYaHo의 모든 내용은 그대로 가져오고, 그 살짝만 다시 조정하면 된다. "
   ]
  },
  {
   "cell_type": "markdown",
   "id": "threaded-cyprus",
   "metadata": {},
   "source": [
    "```python\n",
    "#### 이런식으로 할 필요 없다.\n",
    "\n",
    "class MooYaHo2(): ### MooYaHo라는 이름을 가진 클래스 선언 \n",
    "    title=\"농심 무파마\" ### 클래스안에서 정의된 변수1 \n",
    "    img=Image.open('mooyaho1.jpg').resize((200,200)) ### 클래스안에서 정의된 변수2\n",
    "    don=\"그만큼 맛있으시단거지\" ### 클래스안에서 정의된 변수3\n",
    "    def memeshow(self): ### 클래스안에서 정의된 함수*  \n",
    "        print('☆☆☆☆☆☆['+self.title+']☆☆☆☆☆☆')\n",
    "        display(self.img)\n",
    "        print('형돈:'+self.don)\n",
    "```"
   ]
  },
  {
   "cell_type": "markdown",
   "id": "broad-shade",
   "metadata": {},
   "source": [
    " ```python\n",
    "class MooYaHo2(MooYaHo): \n",
    "    choi='무야~~~~~호~~~!!!'\n",
    "    def memeshow(self): ### 클래스안에서 정의된 함수*  \n",
    "        print('☆☆☆☆☆☆['+self.title+']☆☆☆☆☆☆')\n",
    "        display(self.img)\n",
    "        print(self.choi)\n",
    "        print('형돈:'+self.don)\n",
    "```"
   ]
  },
  {
   "cell_type": "markdown",
   "id": "patient-steam",
   "metadata": {},
   "source": [
    "`__str__`\n",
    "\n",
    "`__repr__`\n",
    "\n",
    "`__init__`\n",
    "\n",
    "- 상속\n",
    "\n",
    "- 객체임베딩(객체 내장)"
   ]
  },
  {
   "cell_type": "markdown",
   "id": "leading-swimming",
   "metadata": {},
   "source": [
    "## Name Space"
   ]
  },
  {
   "cell_type": "markdown",
   "id": "moved-medicine",
   "metadata": {},
   "source": [
    "- 전역 변수 > 클래스 변수 > 메소드 변수 > 인스턴스 변수"
   ]
  },
  {
   "cell_type": "markdown",
   "id": "upper-bishop",
   "metadata": {},
   "source": [
    "## 연산자 오버로딩"
   ]
  },
  {
   "cell_type": "markdown",
   "id": "cross-tracker",
   "metadata": {},
   "source": [
    "`-` 연산자 오버로드 핵심아이디어 \n",
    "- 클래스가 일반 파이썬 연산을 재정의하는 것  \n",
    "- 여기에서 연산은 단순히 더하기 빼기를 의미하는게 아니라, `print()`, `+`, `[0]` 와 같은 파이썬 내장문법을 모두 포괄하는 개념이라 이해하는 것이 옳다. "
   ]
  },
  {
   "cell_type": "markdown",
   "id": "orange-meditation",
   "metadata": {},
   "source": [
    "# if문"
   ]
  },
  {
   "cell_type": "code",
   "execution_count": 198,
   "id": "tribal-norfolk",
   "metadata": {},
   "outputs": [
    {
     "name": "stdout",
     "output_type": "stream",
     "text": [
      "a=11,12,13,....\n"
     ]
    }
   ],
   "source": [
    "a=11\n",
    "if a<5: \n",
    "    print('a=....1,2,3,4')\n",
    "elif a>10: \n",
    "    print('a=11,12,13,....')\n",
    "else: \n",
    "    print('a=5,6,7,...,10')"
   ]
  },
  {
   "cell_type": "code",
   "execution_count": 199,
   "id": "physical-deployment",
   "metadata": {},
   "outputs": [],
   "source": [
    "a=2\n",
    "if a==1: \n",
    "    print('a=1')"
   ]
  },
  {
   "cell_type": "markdown",
   "id": "varied-melbourne",
   "metadata": {},
   "source": [
    "if만 있어도 작동한다."
   ]
  },
  {
   "cell_type": "markdown",
   "id": "bacterial-gazette",
   "metadata": {},
   "source": [
    "# for문"
   ]
  },
  {
   "cell_type": "markdown",
   "id": "coordinate-ambassador",
   "metadata": {},
   "source": [
    "```python\n",
    "for i in [1,2,3,4]:\n",
    "    print(i)\n",
    "\n",
    "for i in (1,2,3,4):\n",
    "    print(i)\n",
    "    \n",
    "for i in '1234':\n",
    "    print(i)\n",
    "\n",
    "1\n",
    "2\n",
    "3\n",
    "4    \n",
    "```"
   ]
  },
  {
   "cell_type": "markdown",
   "id": "hidden-edinburgh",
   "metadata": {},
   "source": [
    "`-` 의문 \n",
    "```python\n",
    "for i in ???: \n",
    "    print(i)\n",
    "```\n",
    "에서 물음표 자리에 올 수 있는 것이 무엇일까? "
   ]
  },
  {
   "cell_type": "markdown",
   "id": "downtown-daisy",
   "metadata": {},
   "source": [
    "??? 자리에 올 수 있는 것은 dir()하여 `__iter__()`라는 메서드가 있는 object이다. "
   ]
  },
  {
   "cell_type": "code",
   "execution_count": 202,
   "id": "suited-shell",
   "metadata": {},
   "outputs": [],
   "source": [
    "a=1"
   ]
  },
  {
   "cell_type": "markdown",
   "id": "requested-wholesale",
   "metadata": {},
   "source": [
    "```python\n",
    "dir(a)\n",
    "\n",
    "['__abs__',\n",
    " '__add__'\n",
    " .\n",
    " .\n",
    " .\n",
    " .\n",
    " .\n",
    " .\n",
    " `to_bytes']\n",
    "\n",
    " ```\n",
    "int클래스의 인스턴스는 `__iter__()`가 없다!"
   ]
  },
  {
   "cell_type": "markdown",
   "id": "economic-annex",
   "metadata": {},
   "source": [
    "`-` list, pd.DataFrame, np.array 는 모두 `__iter__()` 함수가 있다. 따라서 iterable한 오브젝트이다. "
   ]
  },
  {
   "cell_type": "markdown",
   "id": "operating-triangle",
   "metadata": {},
   "source": [
    "iterable한 오브젝트는 iterator로 만들 수 있는 특징이 있다. "
   ]
  },
  {
   "cell_type": "markdown",
   "id": "fabulous-click",
   "metadata": {},
   "source": [
    "iterable한 오브젝트를 어떻게 iterator로 만드는가? "
   ]
  },
  {
   "cell_type": "code",
   "execution_count": 212,
   "id": "chemical-karen",
   "metadata": {},
   "outputs": [],
   "source": [
    "L=[[1,2,3],[3,4,5]]\n",
    "import pandas as pd\n",
    "df=pd.DataFrame(L)"
   ]
  },
  {
   "cell_type": "code",
   "execution_count": 219,
   "id": "rural-evanescence",
   "metadata": {},
   "outputs": [],
   "source": [
    "### 방법1\n",
    "dfiter1=df.__iter__()"
   ]
  },
  {
   "cell_type": "code",
   "execution_count": 220,
   "id": "painful-ancient",
   "metadata": {},
   "outputs": [],
   "source": [
    "### 방법2\n",
    "dfiter2=iter(df)"
   ]
  },
  {
   "cell_type": "code",
   "execution_count": 221,
   "id": "underlying-winning",
   "metadata": {},
   "outputs": [
    {
     "data": {
      "text/plain": [
       "\u001b[1;31mType:\u001b[0m        generator\n",
       "\u001b[1;31mString form:\u001b[0m <generator object RangeIndex.__iter__ at 0x000001A97812A350>\n",
       "\u001b[1;31mDocstring:\u001b[0m   <no docstring>\n"
      ]
     },
     "metadata": {},
     "output_type": "display_data"
    }
   ],
   "source": [
    "dfiter1?"
   ]
  },
  {
   "cell_type": "markdown",
   "id": "interpreted-climate",
   "metadata": {},
   "source": [
    "`-` dfiter1은 generator라는 클래스에서 만들어진 인스턴스 오브젝트이다. "
   ]
  },
  {
   "cell_type": "code",
   "execution_count": 222,
   "id": "charged-proxy",
   "metadata": {},
   "outputs": [
    {
     "data": {
      "text/plain": [
       "['__class__',\n",
       " '__del__',\n",
       " '__delattr__',\n",
       " '__dir__',\n",
       " '__doc__',\n",
       " '__eq__',\n",
       " '__format__',\n",
       " '__ge__',\n",
       " '__getattribute__',\n",
       " '__gt__',\n",
       " '__hash__',\n",
       " '__init__',\n",
       " '__init_subclass__',\n",
       " '__iter__',\n",
       " '__le__',\n",
       " '__lt__',\n",
       " '__name__',\n",
       " '__ne__',\n",
       " '__new__',\n",
       " '__next__',\n",
       " '__qualname__',\n",
       " '__reduce__',\n",
       " '__reduce_ex__',\n",
       " '__repr__',\n",
       " '__setattr__',\n",
       " '__sizeof__',\n",
       " '__str__',\n",
       " '__subclasshook__',\n",
       " 'close',\n",
       " 'gi_code',\n",
       " 'gi_frame',\n",
       " 'gi_running',\n",
       " 'gi_yieldfrom',\n",
       " 'send',\n",
       " 'throw']"
      ]
     },
     "execution_count": 222,
     "metadata": {},
     "output_type": "execute_result"
    }
   ],
   "source": [
    "dir(dfiter1)"
   ]
  },
  {
   "cell_type": "code",
   "execution_count": 223,
   "id": "parallel-following",
   "metadata": {},
   "outputs": [
    {
     "data": {
      "text/plain": [
       "0"
      ]
     },
     "execution_count": 223,
     "metadata": {},
     "output_type": "execute_result"
    }
   ],
   "source": [
    "dfiter1.__next__()"
   ]
  },
  {
   "cell_type": "markdown",
   "id": "destroyed-armenia",
   "metadata": {},
   "source": [
    "`–` for 문의 작동원리 \n",
    "\n",
    "```python\n",
    "for i in L:\n",
    "    print(i)\n",
    "```\n",
    "\n",
    "(1) iter함수를 사용해서 L을 iterator로 만든다. \n",
    "\n",
    "(2) iterator에서 `.__next__()`함수를 호출하고 결과를 i에 저장한뒤에 for문 블락안에 있는 내용(들여쓰기 된 내용)을 실행한다. \n",
    "\n",
    "(3) StopIteration 에러가 발생하면 for 문을 멈춘다. "
   ]
  },
  {
   "cell_type": "code",
   "execution_count": 225,
   "id": "direct-battlefield",
   "metadata": {},
   "outputs": [],
   "source": [
    "Liter=iter(L)"
   ]
  },
  {
   "cell_type": "code",
   "execution_count": 226,
   "id": "powered-matrix",
   "metadata": {},
   "outputs": [
    {
     "data": {
      "text/plain": [
       "[1, 2, 3]"
      ]
     },
     "execution_count": 226,
     "metadata": {},
     "output_type": "execute_result"
    }
   ],
   "source": [
    "Liter.__next__()"
   ]
  },
  {
   "cell_type": "code",
   "execution_count": 227,
   "id": "suburban-affairs",
   "metadata": {},
   "outputs": [
    {
     "data": {
      "text/plain": [
       "[3, 4, 5]"
      ]
     },
     "execution_count": 227,
     "metadata": {},
     "output_type": "execute_result"
    }
   ],
   "source": [
    "Liter.__next__()"
   ]
  },
  {
   "cell_type": "code",
   "execution_count": 228,
   "id": "defined-vegetarian",
   "metadata": {},
   "outputs": [
    {
     "ename": "StopIteration",
     "evalue": "",
     "output_type": "error",
     "traceback": [
      "\u001b[1;31m---------------------------------------------------------------------------\u001b[0m",
      "\u001b[1;31mStopIteration\u001b[0m                             Traceback (most recent call last)",
      "\u001b[1;32m<ipython-input-228-6220b29182a4>\u001b[0m in \u001b[0;36m<module>\u001b[1;34m\u001b[0m\n\u001b[1;32m----> 1\u001b[1;33m \u001b[0mLiter\u001b[0m\u001b[1;33m.\u001b[0m\u001b[0m__next__\u001b[0m\u001b[1;33m(\u001b[0m\u001b[1;33m)\u001b[0m\u001b[1;33m\u001b[0m\u001b[1;33m\u001b[0m\u001b[0m\n\u001b[0m",
      "\u001b[1;31mStopIteration\u001b[0m: "
     ]
    }
   ],
   "source": [
    "Liter.__next__()"
   ]
  },
  {
   "cell_type": "markdown",
   "id": "involved-conjunction",
   "metadata": {},
   "source": [
    "## range()"
   ]
  },
  {
   "cell_type": "markdown",
   "id": "single-change",
   "metadata": {},
   "source": [
    "`-` for문의 정석은 아래와 같이 range()를 사용하는 것이다. "
   ]
  },
  {
   "cell_type": "code",
   "execution_count": 229,
   "id": "effective-solomon",
   "metadata": {},
   "outputs": [
    {
     "name": "stdout",
     "output_type": "stream",
     "text": [
      "0\n",
      "1\n",
      "2\n",
      "3\n",
      "4\n"
     ]
    }
   ],
   "source": [
    "for i in range(5):\n",
    "    print(i)"
   ]
  },
  {
   "cell_type": "markdown",
   "id": "worthy-copying",
   "metadata": {},
   "source": [
    "`-` `range(5)`의 정체는 그냥 iterable object이다. "
   ]
  },
  {
   "cell_type": "markdown",
   "id": "polish-thanks",
   "metadata": {},
   "source": [
    "`-` 그래서 언제든지 iterator로 바꿀 수 있다. "
   ]
  },
  {
   "cell_type": "code",
   "execution_count": 232,
   "id": "speaking-enough",
   "metadata": {},
   "outputs": [],
   "source": [
    "a = range(5)\n",
    "aiter=iter(a)"
   ]
  },
  {
   "cell_type": "code",
   "execution_count": 233,
   "id": "unique-accent",
   "metadata": {},
   "outputs": [
    {
     "data": {
      "text/plain": [
       "0"
      ]
     },
     "execution_count": 233,
     "metadata": {},
     "output_type": "execute_result"
    }
   ],
   "source": [
    "aiter.__next__()"
   ]
  },
  {
   "cell_type": "code",
   "execution_count": 234,
   "id": "experimental-selling",
   "metadata": {},
   "outputs": [
    {
     "data": {
      "text/plain": [
       "1"
      ]
     },
     "execution_count": 234,
     "metadata": {},
     "output_type": "execute_result"
    }
   ],
   "source": [
    "aiter.__next__()"
   ]
  },
  {
   "cell_type": "markdown",
   "id": "crazy-fairy",
   "metadata": {},
   "source": [
    ". . ."
   ]
  },
  {
   "cell_type": "code",
   "execution_count": 238,
   "id": "composite-triple",
   "metadata": {},
   "outputs": [
    {
     "ename": "StopIteration",
     "evalue": "",
     "output_type": "error",
     "traceback": [
      "\u001b[1;31m---------------------------------------------------------------------------\u001b[0m",
      "\u001b[1;31mStopIteration\u001b[0m                             Traceback (most recent call last)",
      "\u001b[1;32m<ipython-input-238-b0a1ab28475b>\u001b[0m in \u001b[0;36m<module>\u001b[1;34m\u001b[0m\n\u001b[1;32m----> 1\u001b[1;33m \u001b[0maiter\u001b[0m\u001b[1;33m.\u001b[0m\u001b[0m__next__\u001b[0m\u001b[1;33m(\u001b[0m\u001b[1;33m)\u001b[0m\u001b[1;33m\u001b[0m\u001b[1;33m\u001b[0m\u001b[0m\n\u001b[0m",
      "\u001b[1;31mStopIteration\u001b[0m: "
     ]
    }
   ],
   "source": [
    "aiter.__next__()"
   ]
  },
  {
   "cell_type": "markdown",
   "id": "incomplete-cricket",
   "metadata": {},
   "source": [
    "`-` ???? 자리에 iterator 자체가와도 무방할것 같다. "
   ]
  },
  {
   "cell_type": "markdown",
   "id": "enabling-seafood",
   "metadata": {},
   "source": [
    "`-` 확인"
   ]
  },
  {
   "cell_type": "code",
   "execution_count": 239,
   "id": "fantastic-audit",
   "metadata": {},
   "outputs": [
    {
     "name": "stdout",
     "output_type": "stream",
     "text": [
      "1\n",
      "2\n",
      "3\n",
      "4\n"
     ]
    }
   ],
   "source": [
    "L=iter([1,2,3,4])\n",
    "for i in L:\n",
    "    print(i)"
   ]
  },
  {
   "cell_type": "markdown",
   "id": "human-career",
   "metadata": {},
   "source": [
    "# with"
   ]
  },
  {
   "cell_type": "markdown",
   "id": "superior-sponsorship",
   "metadata": {},
   "source": [
    "```python\n",
    "\n",
    "f=open('test.txt')\n",
    "a=f.read()\n",
    "print(a)\n",
    "\n",
    "\n",
    "hello\n",
    "hello2\n",
    "hello3\n",
    "\n",
    "\n",
    "f.closed\n",
    "\n",
    "```\n",
    "\n",
    "```\n",
    "false\n",
    "```"
   ]
  },
  {
   "cell_type": "markdown",
   "id": "confirmed-fundamental",
   "metadata": {},
   "source": [
    "```python\n",
    "f.close()\n",
    "f.closed\n",
    "```\n",
    "```\n",
    "True\n",
    "```\n",
    "f가 닫힌 상태에서는 더 이상 읽을 수가 없다.\n",
    "\n",
    "파일을 닫지 않는다고 해서 큰 문제는 없어보이지만 그냥 닫는것이 좋다."
   ]
  },
  {
   "cell_type": "markdown",
   "id": "central-direction",
   "metadata": {},
   "source": [
    "- motivation \n",
    "\n",
    "`-` 생각해 보니까 파일을 열면 항상 닫아야 한다. \n",
    "\n",
    "이처럼 쌍(시작-끝)으로 수행되는 처리가 반복적으로 발생하는 경우가 있는데 그때마다 `.close()` 메소드 따위를 쓰는 것이 번거롭게 느껴진다. \n",
    "\n",
    "예를들면 파일을 열었으면 적당한 동작뒤에 알아서 닫아졌으면 좋겠다는 것이다. \n",
    "\n",
    "이러한 모티브에서 구현된 것이 with문 이다. "
   ]
  },
  {
   "cell_type": "markdown",
   "id": "spatial-franklin",
   "metadata": {},
   "source": [
    "```python\n",
    "with open('test.txt') as g: \n",
    "    print(g.read())\n",
    "    \n",
    "    \n",
    "hello\n",
    "hello2\n",
    "hello3\n",
    "\n",
    "g.closed\n",
    "```\n",
    "```\n",
    "True\n",
    "```\n",
    "\n",
    "잘 닫아졌다."
   ]
  },
  {
   "cell_type": "markdown",
   "id": "impressive-candidate",
   "metadata": {},
   "source": [
    "`-` 기본사용법"
   ]
  },
  {
   "cell_type": "markdown",
   "id": "regulation-choir",
   "metadata": {},
   "source": [
    "with의 사용법은 직관적으로 이해가 가능하지만 그래도 다시한번 살펴보자. \n",
    "\n",
    "```python\n",
    "with blabla as variable: \n",
    "    yadiyadi\n",
    "    yadiyadi2\n",
    "```"
   ]
  },
  {
   "cell_type": "markdown",
   "id": "romance-magic",
   "metadata": {},
   "source": [
    "(1) `with blabla as variable`에서 blabla가 실행된다. \n",
    "\n",
    "(2) blabla의 실행결과로 어떠한 `특별한` 오브젝트가 만들어지는데 그 오브젝트를 우리가 variable로 부르기로 한다.\n",
    "\n",
    "(3) 탭으로 들여쓰기된 부분, 즉 yadiyadi, yadiyadi2 가 순서대로 실행된다. \n",
    "\n",
    "(4) 탭으로 들여쓰기된 부분이 실행되고 난 뒤에 `g.closed()` 따위의 미리 약속된 어떠한 코드가 실행되는것 같다. "
   ]
  },
  {
   "cell_type": "markdown",
   "id": "effective-mileage",
   "metadata": {},
   "source": [
    "`-` 동작원리"
   ]
  },
  {
   "cell_type": "markdown",
   "id": "danish-saudi",
   "metadata": {},
   "source": [
    "비밀은 `__enter__` 와 `__exit__` 메소드에 있다. "
   ]
  },
  {
   "cell_type": "markdown",
   "id": "detected-strap",
   "metadata": {},
   "source": [
    "(for문 복습) `for i in ...:` 에서 `...`에 올 수 있는 오브젝트는 `__iter__` 메소드가 정의되어 있어야 한다. 이러한 오브젝트를 iterable한 오브젝트라고 한다. \n",
    "\n",
    "(with문) `with ... as variable:` 에서 `...`의 실행결과로 생성되는 오브젝트는 `__enter__` 와 `__exit__` 메소드가 정의되어 있어야 한다. \n",
    " - 이중 `__enter__`는 with문이 시작되면 자동으로 실행된다. \n",
    " - 이중 `__exit__`는 with문이 끝나면 자동으로 실행된다. "
   ]
  },
  {
   "cell_type": "markdown",
   "id": "clean-display",
   "metadata": {},
   "source": [
    "`-` 예제"
   ]
  },
  {
   "cell_type": "code",
   "execution_count": 246,
   "id": "marine-buddy",
   "metadata": {},
   "outputs": [],
   "source": [
    "class MooYaHo:\n",
    "    def __init__(self):\n",
    "        print('init')\n",
    "    def __enter__(self):\n",
    "        print('무야호')\n",
    "    def __exit__(self,exc_type,exc_value,traceback): # self 이외의 3가지 변수는 예외처리에 관련된 변수인데 여기서는 다루지 않음. \n",
    "        print('그만큼 신나시는거지')"
   ]
  },
  {
   "cell_type": "code",
   "execution_count": 247,
   "id": "norman-vaccine",
   "metadata": {},
   "outputs": [
    {
     "name": "stdout",
     "output_type": "stream",
     "text": [
      "init\n",
      "무야호\n",
      ".\n",
      "그만큼 신나시는거지\n"
     ]
    }
   ],
   "source": [
    "with MooYaHo() as a: \n",
    "    print('.')"
   ]
  },
  {
   "cell_type": "markdown",
   "id": "equal-protection",
   "metadata": {},
   "source": [
    "# 함수"
   ]
  },
  {
   "cell_type": "markdown",
   "id": "governing-purse",
   "metadata": {},
   "source": [
    "- 함수도 객체다"
   ]
  },
  {
   "cell_type": "code",
   "execution_count": 250,
   "id": "statistical-bristol",
   "metadata": {},
   "outputs": [],
   "source": [
    "def myadd(a,b):\n",
    "    return a+b "
   ]
  },
  {
   "cell_type": "code",
   "execution_count": 251,
   "id": "comic-rubber",
   "metadata": {},
   "outputs": [
    {
     "data": {
      "text/plain": [
       "3"
      ]
     },
     "execution_count": 251,
     "metadata": {},
     "output_type": "execute_result"
    }
   ],
   "source": [
    "myadd(1,2)"
   ]
  },
  {
   "cell_type": "code",
   "execution_count": 252,
   "id": "industrial-stewart",
   "metadata": {},
   "outputs": [
    {
     "data": {
      "text/plain": [
       "\u001b[1;31mSignature:\u001b[0m \u001b[0mmyadd\u001b[0m\u001b[1;33m(\u001b[0m\u001b[0ma\u001b[0m\u001b[1;33m,\u001b[0m \u001b[0mb\u001b[0m\u001b[1;33m)\u001b[0m\u001b[1;33m\u001b[0m\u001b[1;33m\u001b[0m\u001b[0m\n",
       "\u001b[1;31mDocstring:\u001b[0m <no docstring>\n",
       "\u001b[1;31mFile:\u001b[0m      c:\\users\\owner\\파이썬입문\\<ipython-input-250-e383cb6c2c80>\n",
       "\u001b[1;31mType:\u001b[0m      function\n"
      ]
     },
     "metadata": {},
     "output_type": "display_data"
    }
   ],
   "source": [
    "?myadd"
   ]
  },
  {
   "cell_type": "markdown",
   "id": "checked-despite",
   "metadata": {},
   "source": [
    "`-` Type이 function이다? \n",
    "\n",
    "`-` myadd 는 function class의 instance이다. \n",
    "\n",
    "`-` 결국 myadd 역시 하나의 오브젝트에 불과하다. "
   ]
  },
  {
   "cell_type": "markdown",
   "id": "arbitrary-underwear",
   "metadata": {},
   "source": [
    "## higher-order function "
   ]
  },
  {
   "cell_type": "code",
   "execution_count": 253,
   "id": "contained-prisoner",
   "metadata": {},
   "outputs": [
    {
     "data": {
      "text/plain": [
       "3"
      ]
     },
     "execution_count": 253,
     "metadata": {},
     "output_type": "execute_result"
    }
   ],
   "source": [
    "myadd(1,2)"
   ]
  },
  {
   "cell_type": "markdown",
   "id": "leading-helicopter",
   "metadata": {},
   "source": [
    "myadd의 입력 1,2는 int class의 인스턴스 오브젝트였음. \n",
    "\n",
    "즉 문법의 논리로 보면 함수의 입력에 들어갈 수 있는것은 오브젝트이면 된다. \n",
    "\n",
    "그런데 함수 자체도 오브젝트이다 $\\to$ 함수도 함수의 입력으로 쓸 수 있다? "
   ]
  },
  {
   "cell_type": "markdown",
   "id": "brilliant-statement",
   "metadata": {},
   "source": [
    "`-` 예제1"
   ]
  },
  {
   "cell_type": "code",
   "execution_count": 254,
   "id": "continent-snake",
   "metadata": {},
   "outputs": [],
   "source": [
    "def calc(fun,a,b):\n",
    "    return fun(a,b)"
   ]
  },
  {
   "cell_type": "code",
   "execution_count": 255,
   "id": "economic-bride",
   "metadata": {},
   "outputs": [
    {
     "data": {
      "text/plain": [
       "0"
      ]
     },
     "execution_count": 255,
     "metadata": {},
     "output_type": "execute_result"
    }
   ],
   "source": [
    "calc(myadd,-3,3)"
   ]
  },
  {
   "cell_type": "markdown",
   "id": "italian-dominican",
   "metadata": {},
   "source": [
    "이처럼 함수자체를 입력으로 받거나 출력으로 보내는 함수를 higher-order function이라고 한다. "
   ]
  }
 ],
 "metadata": {
  "kernelspec": {
   "display_name": "Python 3",
   "language": "python",
   "name": "python3"
  },
  "language_info": {
   "codemirror_mode": {
    "name": "ipython",
    "version": 3
   },
   "file_extension": ".py",
   "mimetype": "text/x-python",
   "name": "python",
   "nbconvert_exporter": "python",
   "pygments_lexer": "ipython3",
   "version": "3.8.8"
  }
 },
 "nbformat": 4,
 "nbformat_minor": 5
}
