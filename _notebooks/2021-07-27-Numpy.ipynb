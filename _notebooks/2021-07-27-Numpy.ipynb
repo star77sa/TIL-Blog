{
 "cells": [
  {
   "cell_type": "markdown",
   "id": "danish-fetish",
   "metadata": {},
   "source": [
    "# Numpy_Tutorial\n",
    "> 넘파이 튜토리얼\n",
    "\n",
    "- toc: true \n",
    "- badges: true\n",
    "- comments: true\n",
    "- categories: [Python,Numpy]\n",
    "- image: images/"
   ]
  },
  {
   "cell_type": "markdown",
   "id": "armed-choir",
   "metadata": {},
   "source": [
    "- https://docs.scipy.org/doc/numpy-1.15.0/user/quickstart.html\n",
    "- https://www.machinelearningplus.com/python/numpy-tutorial-part1-array-python-examples/\n",
    "- http://web.mit.edu/dvp/Public/numpybook.pdf\n",
    "- https://docs.scipy.org/doc/numpy-1.11.0/numpy-user-1.11.0.pdf"
   ]
  },
  {
   "cell_type": "markdown",
   "id": "usual-american",
   "metadata": {},
   "source": [
    "# The Basic"
   ]
  },
  {
   "cell_type": "markdown",
   "id": "hazardous-needle",
   "metadata": {},
   "source": [
    "- NumPy’s main object = the homogeneous multidimensional array.\n",
    "- In NumPy dimensions are called axes."
   ]
  },
  {
   "cell_type": "markdown",
   "id": "refined-personality",
   "metadata": {},
   "source": [
    "```\n",
    "1차원\n",
    "\n",
    "[1, 2, 1]\n",
    "\n",
    "2차원\n",
    "\n",
    "[[ 1., 0., 0.],\n",
    " [ 0., 1., 2.]]\n",
    "```"
   ]
  },
  {
   "cell_type": "markdown",
   "id": "presidential-citizenship",
   "metadata": {},
   "source": [
    "- NumPy’s array class is called ndarray.\n",
    "- numpy.array is not the same as the Standard Python Library class array.\n",
    "    - 파이썬의 array는 1차원만을 다룬다."
   ]
  },
  {
   "cell_type": "markdown",
   "id": "significant-affiliation",
   "metadata": {},
   "source": [
    "- The more important attributes of an ndarray object are:\n",
    "    - `ndarray.ndim` : 넘파이의 차원\n",
    "    - `ndarray.shape` : 넘파이의 모양 (n, m)\n",
    "    - `ndarray.size` : This is equal to the product of the elements of shape. (n*m)\n",
    "    - `ndarray.dtype` : array안 요소의 타입\n",
    "    - `ndarray.itemsize` : array안 요소들의 사이즈(bytes)\n",
    "    - `ndarray.data` : Normally, we won’t need to use this attribute because we will access the elements in an array using indexing facilities.\n",
    "    \n",
    "    \n",
    "## An example\n",
    "\n",
    "```python\n",
    ">>> import numpy as np\n",
    ">>> a = np.arange(15).reshape(3, 5)\n",
    ">>> a\n",
    "array([[ 0,  1,  2,  3,  4],\n",
    "       [ 5,  6,  7,  8,  9],\n",
    "       [10, 11, 12, 13, 14]])\n",
    "\n",
    ">>> a.shape\n",
    "(3, 5)\n",
    "\n",
    ">>> a.ndim\n",
    "2\n",
    "\n",
    ">>> a.dtype.name\n",
    "'int64'\n",
    "\n",
    ">>> a.itemsize\n",
    "8\n",
    "\n",
    ">>> a.size\n",
    "15\n",
    "\n",
    ">>> type(a)\n",
    "<type 'numpy.ndarray'>\n",
    "\n",
    ">>> b = np.array([6, 7, 8])\n",
    ">>> b\n",
    "array([6, 7, 8])\n",
    "\n",
    ">>> type(b)\n",
    "<type 'numpy.ndarray'>\n",
    "```"
   ]
  },
  {
   "cell_type": "markdown",
   "id": "electronic-developer",
   "metadata": {},
   "source": [
    "## Array Creation"
   ]
  },
  {
   "cell_type": "markdown",
   "id": "electoral-jewel",
   "metadata": {},
   "source": [
    "you can create an array from a regular Python list or tuple using the array function.\n",
    "```python\n",
    ">>> a = np.array([2,3,4])\n",
    ">>> a\n",
    "array([2, 3, 4])\n",
    "```"
   ]
  },
  {
   "cell_type": "markdown",
   "id": "dense-feedback",
   "metadata": {},
   "source": [
    "2차원 array\n",
    "```python\n",
    ">>> b = np.array([(1.5,2,3), (4,5,6)])\n",
    ">>> b\n",
    "array([[ 1.5,  2. ,  3. ],\n",
    "       [ 4. ,  5. ,  6. ]])\n",
    "```"
   ]
  },
  {
   "cell_type": "markdown",
   "id": "thermal-costume",
   "metadata": {},
   "source": [
    "The function `zeros` creates an array full of zeros,"
   ]
  },
  {
   "cell_type": "markdown",
   "id": "racial-wireless",
   "metadata": {},
   "source": [
    "```python\n",
    ">>> np.zeros( (3,4) )\n",
    "array([[ 0.,  0.,  0.,  0.],\n",
    "       [ 0.,  0.,  0.,  0.],\n",
    "       [ 0.,  0.,  0.,  0.]])\n",
    "\n",
    ">>> np.ones( (2,3,4), dtype=np.int16 )                # dtype can also be specified\n",
    "array([[[ 1, 1, 1, 1],\n",
    "        [ 1, 1, 1, 1],\n",
    "        [ 1, 1, 1, 1]],\n",
    "       [[ 1, 1, 1, 1],\n",
    "        [ 1, 1, 1, 1],\n",
    "        [ 1, 1, 1, 1]]], dtype=int16)\n",
    "```"
   ]
  },
  {
   "cell_type": "markdown",
   "id": "wanted-victor",
   "metadata": {},
   "source": [
    "To create sequences of numbers, NumPy provides a function analogous to range that returns arrays instead of lists.\n",
    "```python\n",
    ">>> np.arange( 10, 30, 5 )\n",
    "array([10, 15, 20, 25])\n",
    ">>> np.arange( 0, 2, 0.3 )                 # it accepts float arguments\n",
    "array([ 0. ,  0.3,  0.6,  0.9,  1.2,  1.5,  1.8])\n",
    "\n",
    "\n",
    ">>> np.linspace( 0, 2, 9 )                 # 9 numbers from 0 to 2\n",
    "array([ 0.  ,  0.25,  0.5 ,  0.75,  1.  ,  1.25,  1.5 ,  1.75,  2.  ])\n",
    "\n",
    "```"
   ]
  },
  {
   "cell_type": "markdown",
   "id": "executed-third",
   "metadata": {},
   "source": [
    "other method\n",
    "```\n",
    "array, zeros, zeros_like, ones, ones_like, empty, empty_like, arange, linspace, numpy.random.rand, numpy.random.randn, fromfunction, fromfile\n",
    "```"
   ]
  },
  {
   "cell_type": "markdown",
   "id": "labeled-roulette",
   "metadata": {},
   "source": [
    "## Printing Arrays"
   ]
  },
  {
   "cell_type": "markdown",
   "id": "everyday-cardiff",
   "metadata": {},
   "source": [
    "1차원은 행으로, 2,3 차원은 행렬로 표현된다.\n",
    "```python\n",
    ">>> a = np.arange(6)                         # 1d array\n",
    ">>> print(a)\n",
    "[0 1 2 3 4 5]\n",
    "\n",
    ">>> b = np.arange(12).reshape(4,3)           # 2d array\n",
    ">>> print(b)\n",
    "[[ 0  1  2]\n",
    " [ 3  4  5]\n",
    " [ 6  7  8]\n",
    " [ 9 10 11]]\n",
    "\n",
    ">>> c = np.arange(24).reshape(2,3,4)         # 3d array\n",
    ">>> print(c)\n",
    "[[[ 0  1  2  3]\n",
    "  [ 4  5  6  7]\n",
    "  [ 8  9 10 11]]\n",
    " [[12 13 14 15]\n",
    "  [16 17 18 19]\n",
    "  [20 21 22 23]]]\n",
    "```"
   ]
  },
  {
   "cell_type": "markdown",
   "id": "speaking-journey",
   "metadata": {},
   "source": [
    "## Basic Operations"
   ]
  },
  {
   "cell_type": "markdown",
   "id": "psychological-sunday",
   "metadata": {},
   "source": [
    "```python\n",
    ">>> a = np.array( [20,30,40,50] )\n",
    ">>> b = np.arange( 4 )\n",
    ">>> b\n",
    "array([0, 1, 2, 3])\n",
    ">>> c = a-b\n",
    ">>> c\n",
    "array([20, 29, 38, 47])\n",
    ">>> b**2\n",
    "array([0, 1, 4, 9])\n",
    ">>> 10*np.sin(a)\n",
    "array([ 9.12945251, -9.88031624,  7.4511316 , -2.62374854])\n",
    ">>> a<35\n",
    "array([ True, True, False, False])\n",
    "```"
   ]
  },
  {
   "cell_type": "markdown",
   "id": "terminal-terrace",
   "metadata": {},
   "source": [
    "*는 각각의 요소끼리 곱하고 @, dot은 행렬곱을 한다.\n",
    "\n",
    "```python\n",
    ">>> A = np.array( [[1,1],\n",
    "...             [0,1]] )\n",
    ">>> B = np.array( [[2,0],\n",
    "...             [3,4]] )\n",
    ">>> A * B                       # elementwise product\n",
    "array([[2, 0],\n",
    "       [0, 4]])\n",
    ">>> A @ B                       # matrix product\n",
    "array([[5, 4],\n",
    "       [3, 4]])\n",
    ">>> A.dot(B)                    # another matrix product\n",
    "array([[5, 4],\n",
    "       [3, 4]])\n",
    "```"
   ]
  },
  {
   "cell_type": "markdown",
   "id": "consecutive-blair",
   "metadata": {},
   "source": [
    "+= , *= 연산\n",
    "```python\n",
    ">>> a = np.ones((2,3), dtype=int)\n",
    ">>> b = np.random.random((2,3))\n",
    "\n",
    ">>> a *= 3\n",
    ">>> a\n",
    "array([[3, 3, 3],\n",
    "       [3, 3, 3]])\n",
    "\n",
    ">>> b += a\n",
    ">>> b\n",
    "array([[ 3.417022  ,  3.72032449,  3.00011437],\n",
    "       [ 3.30233257,  3.14675589,  3.09233859]])\n",
    "\n",
    ">>> a += b                  # b is not automatically converted to integer type\n",
    "Traceback (most recent call last):\n",
    "  ...\n",
    "TypeError: Cannot cast ufunc add output from dtype('float64') to dtype('int64') with casting rule 'same_kind'\n",
    "```"
   ]
  },
  {
   "cell_type": "markdown",
   "id": "painted-uzbekistan",
   "metadata": {},
   "source": [
    "전체합, 최솟값, 최댓값 등을 구할때는 ndarray 자체 메소드를 사용하여야한다.\n",
    "```python\n",
    ">>> a = np.random.random((2,3))\n",
    ">>> a\n",
    "array([[ 0.18626021,  0.34556073,  0.39676747],\n",
    "       [ 0.53881673,  0.41919451,  0.6852195 ]])\n",
    ">>> a.sum()\n",
    "2.5718191614547998\n",
    ">>> a.min()\n",
    "0.1862602113776709\n",
    ">>> a.max()\n",
    "0.6852195003967595\n",
    "```"
   ]
  },
  {
   "cell_type": "markdown",
   "id": "attended-arnold",
   "metadata": {},
   "source": [
    "연산들은 전체를 기준으로 하지만, axis를 추가해주면 각 행이나 열마다 함수를 적용할 수 있다.\n",
    "```python\n",
    ">>> b\n",
    "array([[ 0,  1,  2,  3],\n",
    "       [ 4,  5,  6,  7],\n",
    "       [ 8,  9, 10, 11]])\n",
    ">>>\n",
    ">>> b.sum(axis=0)                            # sum of each column\n",
    "array([12, 15, 18, 21])\n",
    ">>>\n",
    ">>> b.min(axis=1)                            # min of each row\n",
    "array([0, 4, 8])\n",
    ">>>\n",
    ">>> b.cumsum(axis=1)                         # cumulative sum along each row 누적합\n",
    "array([[ 0,  1,  3,  6],\n",
    "       [ 4,  9, 15, 22],\n",
    "       [ 8, 17, 27, 38]])\n",
    "```"
   ]
  },
  {
   "cell_type": "markdown",
   "id": "physical-venezuela",
   "metadata": {},
   "source": [
    "## Universal Functions\n",
    "- NummPy provides familiar mathematical functions such as sin, cos, and exp. In NumPy, these are called “universal functions”(ufunc).\n",
    "\n",
    "```python\n",
    ">>> B = np.arange(3)\n",
    ">>> B\n",
    "array([0, 1, 2])\n",
    ">>> np.exp(B)\n",
    "array([ 1.        ,  2.71828183,  7.3890561 ])\n",
    ">>> np.sqrt(B)\n",
    "array([ 0.        ,  1.        ,  1.41421356])\n",
    ">>> C = np.array([2., -1., 4.])\n",
    ">>> np.add(B, C)\n",
    "array([ 2.,  0.,  6.])\n",
    "```"
   ]
  },
  {
   "cell_type": "markdown",
   "id": "silver-shade",
   "metadata": {},
   "source": [
    "other method\n",
    "```\n",
    "all, any, apply_along_axis, argmax, argmin, argsort, average, bincount, ceil, clip, conj, corrcoef, cov, cross, cumprod, cumsum, diff, dot, floor, inner, inv, lexsort, max, maximum, mean, median, min, minimum, nonzero, outer, prod, re, round, sort, std, sum, trace, transpose, var, vdot, vectorize, where\n",
    "```"
   ]
  },
  {
   "cell_type": "markdown",
   "id": "korean-expression",
   "metadata": {},
   "source": [
    "## Indexing, Slicing and Iteration"
   ]
  },
  {
   "cell_type": "markdown",
   "id": "tutorial-distribution",
   "metadata": {},
   "source": [
    "- 1차원 array는 파이썬의 리스트와 같이 인덱싱, 슬라이싱을 할 수 있다,"
   ]
  },
  {
   "cell_type": "markdown",
   "id": "herbal-hydrogen",
   "metadata": {},
   "source": [
    "- Multidimensional arrays can have one index per axis. These indices are given in a tuple separated by commas\n",
    "    \n",
    "    반점을 사이에 둔 튜플 필요\n",
    "```python\n",
    ">>> def f(x,y):\n",
    "...     return 10*x+y\n",
    "...\n",
    ">>> b = np.fromfunction(f,(5,4),dtype=int)\n",
    ">>> b\n",
    "array([[ 0,  1,  2,  3],\n",
    "       [10, 11, 12, 13],\n",
    "       [20, 21, 22, 23],\n",
    "       [30, 31, 32, 33],\n",
    "       [40, 41, 42, 43]])\n",
    ">>> b[2,3]\n",
    "23\n",
    ">>> b[0:5, 1]                       # each row in the second column of b\n",
    "array([ 1, 11, 21, 31, 41])\n",
    ">>> b[ : ,1]                        # equivalent to the previous example\n",
    "array([ 1, 11, 21, 31, 41])\n",
    ">>> b[1:3, : ]                      # each column in the second and third row of b\n",
    "array([[10, 11, 12, 13],\n",
    "       [20, 21, 22, 23]])\n",
    "```"
   ]
  },
  {
   "cell_type": "markdown",
   "id": "specialized-growing",
   "metadata": {},
   "source": [
    "`Iterating` over multidimensional arrays is done with respect to the first axis:\n",
    "```python\n",
    ">>> for row in b:\n",
    "...     print(row)\n",
    "...\n",
    "[0 1 2 3]\n",
    "[10 11 12 13]\n",
    "[20 21 22 23]\n",
    "[30 31 32 33]\n",
    "[40 41 42 43]\n",
    "```\n",
    "\n",
    "However, if one wants to perform an operation on each element in the array, one can use the flat attribute which is an iterator over all the elements of the array:\n",
    "```python\n",
    ">>> for element in b.flat:\n",
    "...     print(element)\n",
    "...\n",
    "0\n",
    "1\n",
    "2\n",
    "3\n",
    "10\n",
    "11\n",
    "12\n",
    "13\n",
    "20\n",
    "21\n",
    "22\n",
    "23\n",
    "30\n",
    "31\n",
    "32\n",
    "33\n",
    "40\n",
    "41\n",
    "42\n",
    "43\n",
    "```"
   ]
  },
  {
   "cell_type": "markdown",
   "id": "residential-victim",
   "metadata": {},
   "source": [
    "other method\n",
    "```\n",
    "Indexing, Indexing (reference), newaxis, ndenumerate, indices\n",
    "```"
   ]
  },
  {
   "cell_type": "markdown",
   "id": "collectible-richards",
   "metadata": {},
   "source": [
    "# Shape Manipulation"
   ]
  },
  {
   "cell_type": "markdown",
   "id": "behind-hybrid",
   "metadata": {},
   "source": [
    "## Changing the shape of an array"
   ]
  },
  {
   "cell_type": "markdown",
   "id": "aquatic-protocol",
   "metadata": {},
   "source": [
    "모양을 바꾸는 3가지 방법 `ravel()`, `reshape()`, `T`. 하지만 원래의 array는 바뀌지않는다!"
   ]
  },
  {
   "cell_type": "markdown",
   "id": "congressional-folks",
   "metadata": {},
   "source": [
    "```python\n",
    ">>> a.shape\n",
    "(3, 4)\n",
    "\n",
    ">>> a.ravel()  # returns the array, flattened\n",
    "array([ 2.,  8.,  0.,  6.,  4.,  5.,  1.,  1.,  8.,  9.,  3.,  6.])\n",
    "\n",
    ">>> a.reshape(6,2)  # returns the array with a modified shape\n",
    "array([[ 2.,  8.],\n",
    "       [ 0.,  6.],\n",
    "       [ 4.,  5.],\n",
    "       [ 1.,  1.],\n",
    "       [ 8.,  9.],\n",
    "       [ 3.,  6.]])\n",
    "\n",
    ">>> a.T  # returns the array, transposed\n",
    "array([[ 2.,  4.,  8.],\n",
    "       [ 8.,  5.,  9.],\n",
    "       [ 0.,  1.,  3.],\n",
    "       [ 6.,  1.,  6.]])\n",
    "\n",
    ">>> a.T.shape\n",
    "(4, 3)\n",
    "\n",
    ">>> a.shape\n",
    "(3, 4)\n",
    "```"
   ]
  },
  {
   "cell_type": "markdown",
   "id": "needed-consumption",
   "metadata": {},
   "source": [
    "이번엔 원래의 array를 바꾸는 메소드 `resize`\n",
    "```python\n",
    ">>> a\n",
    "array([[ 2.,  8.,  0.,  6.],\n",
    "       [ 4.,  5.,  1.,  1.],\n",
    "       [ 8.,  9.,  3.,  6.]])\n",
    ">>> a.resize((2,6))\n",
    ">>> a\n",
    "array([[ 2.,  8.,  0.,  6.,  4.,  5.],\n",
    "       [ 1.,  1.,  8.,  9.,  3.,  6.]])\n",
    "```"
   ]
  },
  {
   "cell_type": "markdown",
   "id": "viral-pontiac",
   "metadata": {},
   "source": [
    "## Stacking together different arrays"
   ]
  },
  {
   "cell_type": "markdown",
   "id": "sweet-alpha",
   "metadata": {},
   "source": [
    "행이나 열로 여러개의 array를 쌓을 수 있다.\n",
    "```python\n",
    ">>> a = np.floor(10*np.random.random((2,2)))\n",
    ">>> a\n",
    "array([[ 8.,  8.],\n",
    "       [ 0.,  0.]])\n",
    ">>> b = np.floor(10*np.random.random((2,2)))\n",
    ">>> b\n",
    "array([[ 1.,  8.],\n",
    "       [ 0.,  4.]])\n",
    ">>> np.vstack((a,b))\n",
    "array([[ 8.,  8.],\n",
    "       [ 0.,  0.],\n",
    "       [ 1.,  8.],\n",
    "       [ 0.,  4.]])\n",
    ">>> np.hstack((a,b))\n",
    "array([[ 8.,  8.,  1.,  8.],\n",
    "       [ 0.,  0.,  0.,  4.]])\n",
    "```"
   ]
  },
  {
   "cell_type": "code",
   "execution_count": null,
   "id": "acoustic-oxide",
   "metadata": {},
   "outputs": [],
   "source": []
  }
 ],
 "metadata": {
  "kernelspec": {
   "display_name": "Python 3",
   "language": "python",
   "name": "python3"
  },
  "language_info": {
   "codemirror_mode": {
    "name": "ipython",
    "version": 3
   },
   "file_extension": ".py",
   "mimetype": "text/x-python",
   "name": "python",
   "nbconvert_exporter": "python",
   "pygments_lexer": "ipython3",
   "version": "3.8.8"
  }
 },
 "nbformat": 4,
 "nbformat_minor": 5
}
