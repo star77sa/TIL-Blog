{
 "cells": [
  {
   "cell_type": "markdown",
   "id": "active-voltage",
   "metadata": {},
   "source": [
    "# 머신러닝 야학 - 머신러닝 1\n",
    "> 머신러닝 야학 3기\n",
    "\n",
    "- toc: true \n",
    "- badges: true\n",
    "- comments: true\n",
    "- categories: [Data]\n",
    "- image: images/chart-preview.png"
   ]
  },
  {
   "cell_type": "markdown",
   "id": "single-nerve",
   "metadata": {},
   "source": [
    "# 기계학습(machine learning)"
   ]
  },
  {
   "cell_type": "code",
   "execution_count": 11,
   "id": "defined-report",
   "metadata": {},
   "outputs": [],
   "source": [
    "# ![image.png](attachment:06a2b7a0-d258-487c-8374-c8cf70430361.png)"
   ]
  },
  {
   "cell_type": "markdown",
   "id": "conscious-luther",
   "metadata": {},
   "source": [
    "## 지도학습 (supervised learning)"
   ]
  },
  {
   "cell_type": "markdown",
   "id": "prescription-payroll",
   "metadata": {},
   "source": [
    "### 분류 Classification"
   ]
  },
  {
   "cell_type": "markdown",
   "id": "ordinary-beijing",
   "metadata": {},
   "source": [
    "- 범주형 변수를 예측하고 싶을 때 사용"
   ]
  },
  {
   "cell_type": "markdown",
   "id": "employed-strain",
   "metadata": {},
   "source": [
    "### 회귀 Regression"
   ]
  },
  {
   "cell_type": "markdown",
   "id": "cross-respondent",
   "metadata": {},
   "source": [
    "- 수치형 변수를 예측하고 싶을때 사용"
   ]
  },
  {
   "cell_type": "markdown",
   "id": "otherwise-london",
   "metadata": {},
   "source": [
    "## 비지도학습 (unsupervised learning)"
   ]
  },
  {
   "cell_type": "markdown",
   "id": "interstate-screw",
   "metadata": {},
   "source": [
    "        - 관측치(행)을 그룹핑 해주는 것 -> 군집화\n",
    "\n",
    "        - 특성(열)을 그룹핑 해주는 것 -> 연관규칙"
   ]
  },
  {
   "cell_type": "markdown",
   "id": "related-wings",
   "metadata": {},
   "source": [
    "### 군집화 Clustering"
   ]
  },
  {
   "cell_type": "markdown",
   "id": "arbitrary-bermuda",
   "metadata": {},
   "source": [
    "- 비슷한 것들을 찾아서 그룹을 만드는 것"
   ]
  },
  {
   "cell_type": "markdown",
   "id": "behind-physiology",
   "metadata": {},
   "source": [
    "- 지도학습의 분류와는 구분된다.\n",
    "    - 어떤 대상들을 구분해서 그룹을 만드는 것 - 군집화\n",
    "    - 어떤 대상이 어떤 그룹에 속하는지를 판단하는 것 - 분류"
   ]
  },
  {
   "cell_type": "markdown",
   "id": "vocal-church",
   "metadata": {},
   "source": [
    "### 연관 Association rule learing"
   ]
  },
  {
   "cell_type": "markdown",
   "id": "reverse-paragraph",
   "metadata": {},
   "source": [
    "- 서로 연관된 특징(열)을 찾아내는 것\n",
    "- 장바구니 분석\n"
   ]
  },
  {
   "cell_type": "markdown",
   "id": "respective-prospect",
   "metadata": {},
   "source": [
    "### 변환"
   ]
  },
  {
   "cell_type": "markdown",
   "id": "found-familiar",
   "metadata": {},
   "source": [
    "## 강화학습 (Reinforcement Learning)"
   ]
  },
  {
   "cell_type": "markdown",
   "id": "formed-header",
   "metadata": {},
   "source": [
    "    지도학습이 배움을 통해서 \n",
    "    실력을 키우는 것이라면\n",
    "    강화학습은 일단 해보면서 경험을 통해서\n",
    "    실력을 키워가는 것"
   ]
  },
  {
   "cell_type": "markdown",
   "id": "advance-representative",
   "metadata": {},
   "source": [
    "- 그 행동의 결과가 자신에게 유리한 것이었다면 상을 받고, 불리한 것이었다면 벌을 받는 것"
   ]
  },
  {
   "cell_type": "markdown",
   "id": "continent-metallic",
   "metadata": {},
   "source": [
    "- 이 과정을 매우 많이 반복하면 더 좋은 답을 찾아낼 수 있다는 것이 강화학습의 기본 아이디어"
   ]
  }
 ],
 "metadata": {
  "kernelspec": {
   "display_name": "Python 3",
   "language": "python",
   "name": "python3"
  },
  "language_info": {
   "codemirror_mode": {
    "name": "ipython",
    "version": 3
   },
   "file_extension": ".py",
   "mimetype": "text/x-python",
   "name": "python",
   "nbconvert_exporter": "python",
   "pygments_lexer": "ipython3",
   "version": "3.8.8"
  }
 },
 "nbformat": 4,
 "nbformat_minor": 5
}
