{
 "cells": [
  {
   "cell_type": "markdown",
   "id": "c93e2264-841c-4deb-b095-8dc3cda19f9b",
   "metadata": {},
   "source": [
    "# Graph\n",
    "> Graph 개념 정리, 관련 논문\n",
    "\n",
    "- toc: true \n",
    "- badges: true\n",
    "- comments: true\n",
    "- categories: [Graph]\n",
    "- image: images/"
   ]
  },
  {
   "cell_type": "markdown",
   "id": "03a821d2-b65d-4a53-8086-33655b3123d8",
   "metadata": {},
   "source": [
    "---"
   ]
  },
  {
   "cell_type": "markdown",
   "id": "5e6e9046-b4cc-47fe-866d-244660eeeda9",
   "metadata": {},
   "source": [
    "# 1. 비정형자료에서의 다중척도방법 연구"
   ]
  },
  {
   "cell_type": "markdown",
   "id": "78b18318-41a6-4bf6-ac3b-3c455f76d597",
   "metadata": {},
   "source": [
    " "
   ]
  },
  {
   "cell_type": "markdown",
   "id": "bd145dcf-6f4d-4783-856a-12c270c8c5cd",
   "metadata": {},
   "source": [
    "- 지금까지의 통계 및 기계학습 방법은 주로 유클리드 자료를 분석하는데 집중"
   ]
  },
  {
   "cell_type": "markdown",
   "id": "9e0dc985-219f-4e23-9f71-c9650342aad2",
   "metadata": {},
   "source": [
    "- 빅데이터 시대가 도래함에 따라 세상에는 그래프, 매니폴드와 같은 비유클리드 자료가 빠른 속도로 축적"
   ]
  },
  {
   "cell_type": "markdown",
   "id": "f42cc9f7-ba41-4f93-a98b-df65f6bc99fd",
   "metadata": {},
   "source": [
    "- 비유클리드 자료 : 벡터공간구조를 가지지 않아 그리드나 배열형태로 저장할 수 없는 자료들을 통칭\n",
    "    \n",
    "    \n",
    "\n",
    "  (유클리드) digits, time-series, audio, acoustics, images, natural language ...\n",
    "\n",
    "  (비유클리드) 3D point cloud data(manifold data), molecules, gene expression data, social networks, e-commerce networks, traffic data ...\n",
    "    \n",
    "    "
   ]
  },
  {
   "cell_type": "markdown",
   "id": "ac4e6f89-dff4-44a0-96dc-58a5eb1094ed",
   "metadata": {},
   "source": [
    "- 비유클리드 자료를 분석하는 것은 매우 중요한 일이지만 분석하는 것은 쉽지않다.\n",
    "    유클리드자료에서 당연하게 정의할 수 있는 개념들이 쉽게 일반화되지 않기 때문."
   ]
  },
  {
   "cell_type": "markdown",
   "id": "1445f934-cdd2-443e-8847-398ca648b8f8",
   "metadata": {},
   "source": [
    "- 또한 컨볼루션과 같은 몇가지 수학적 연산들도 일반화 하기 어려워 합성곱 신경망(CNN)과 같은 분석기법을 비유클리드 자료에 곧바로 적용할 수 없다.\n",
    "\n",
    "- 유클리드 자료와 다르게 비유클리드 자료는 그리드구조로 정의할 수 없어서 생기는 문제점.\n",
    "\n",
    "- 언급한 문제점을 해결하기 위한 접근법 2가지 : 1. 임베딩 기법 2. 스펙트럼 분석"
   ]
  },
  {
   "cell_type": "markdown",
   "id": "b9161260-5f97-4a76-9b65-3c6bc8242492",
   "metadata": {},
   "source": [
    "## 임베딩 기법"
   ]
  },
  {
   "cell_type": "markdown",
   "id": "3e8f62d8-8ed7-4831-9430-17693510811f",
   "metadata": {},
   "source": [
    "- 비유클리드 자료를 유클리드 자료로 변환한 후에 통계 및 기계학습 방법론을 적용하는 2단계 전략을 취함.\n",
    "\n",
    "    즉, 기존의 통계 및 기계학습 방법론을 유지한채 비정형자료를 변형하는 기술"
   ]
  },
  {
   "cell_type": "markdown",
   "id": "23de92b7-3858-4520-82d0-df1df2667a0b",
   "metadata": {},
   "source": [
    "- 임베딩은 그래프 혹은 매니폴드의 형태로 표현된 자료간의 연결정보(link, networks, realations) 및 유사성(distance, similarity)을 최대한 유지하면서 자료를 저차원의 유클리드 공간으로 끼워넣는 기법을 의미\n",
    "\n",
    "- 스펙트럼 방법들에 비하여 확장성이 뛰어나고 구현하기 쉬운 장점이 있음"
   ]
  },
  {
   "cell_type": "markdown",
   "id": "0318f7fe-1869-496c-90fd-d113f86d90b4",
   "metadata": {},
   "source": [
    "## 스펙트럼 분석"
   ]
  },
  {
   "cell_type": "markdown",
   "id": "932f6e7e-b31e-4c5f-ab2f-94b59e9d95bf",
   "metadata": {},
   "source": [
    "- 유클리드 자료에서 정의가능한 개념들 (대역폭, 주파수, 합성곱 등)을 비유클리드공간으로 추상화한 후에 추상화된 개념을 그래프자료에 적용할 수 있는 통계 및 기계학습 방법론을 새롭게 설계하는 전략\n",
    "\n",
    "    즉, 비정형자료는 유지한 채 통계 및 기계학습 방법론을 재설계하는 기술"
   ]
  },
  {
   "cell_type": "markdown",
   "id": "31e72dcd-1732-4206-b9b6-413a56c5637f",
   "metadata": {},
   "source": []
  },
  {
   "cell_type": "code",
   "execution_count": null,
   "id": "665a11d9-a463-4eaa-92ba-64259b56a3d7",
   "metadata": {},
   "outputs": [],
   "source": []
  }
 ],
 "metadata": {
  "kernelspec": {
   "display_name": "Python 3",
   "language": "python",
   "name": "python3"
  },
  "language_info": {
   "codemirror_mode": {
    "name": "ipython",
    "version": 3
   },
   "file_extension": ".py",
   "mimetype": "text/x-python",
   "name": "python",
   "nbconvert_exporter": "python",
   "pygments_lexer": "ipython3",
   "version": "3.8.8"
  }
 },
 "nbformat": 4,
 "nbformat_minor": 5
}
