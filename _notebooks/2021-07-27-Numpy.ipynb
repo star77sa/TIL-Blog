{
 "cells": [
  {
   "cell_type": "markdown",
   "id": "earlier-tyler",
   "metadata": {},
   "source": [
    "# Numpy_Tutorial\n",
    "> 넘파이 튜토리얼\n",
    "\n",
    "- toc: true \n",
    "- badges: true\n",
    "- comments: true\n",
    "- categories: [Python,Numpy]\n",
    "- image: images/"
   ]
  },
  {
   "cell_type": "markdown",
   "id": "spare-hierarchy",
   "metadata": {},
   "source": [
    "---"
   ]
  },
  {
   "cell_type": "markdown",
   "id": "cultural-velvet",
   "metadata": {},
   "source": [
    "- https://docs.scipy.org/doc/numpy-1.15.0/user/quickstart.html\n",
    "- https://www.machinelearningplus.com/python/numpy-tutorial-part1-array-python-examples/\n",
    "- http://web.mit.edu/dvp/Public/numpybook.pdf\n",
    "- https://docs.scipy.org/doc/numpy-1.11.0/numpy-user-1.11.0.pdf"
   ]
  },
  {
   "cell_type": "markdown",
   "id": "miniature-array",
   "metadata": {},
   "source": [
    "---\n",
    "# The Basic"
   ]
  },
  {
   "cell_type": "markdown",
   "id": "manual-parcel",
   "metadata": {},
   "source": [
    "- NumPy’s main object = the homogeneous multidimensional array.\n",
    "- In NumPy dimensions are called axes."
   ]
  },
  {
   "cell_type": "markdown",
   "id": "talented-montana",
   "metadata": {},
   "source": [
    "```\n",
    "1차원\n",
    "\n",
    "[1, 2, 1]\n",
    "\n",
    "2차원\n",
    "\n",
    "[[ 1., 0., 0.],\n",
    " [ 0., 1., 2.]]\n",
    "```"
   ]
  },
  {
   "cell_type": "markdown",
   "id": "separate-graduate",
   "metadata": {},
   "source": [
    "- NumPy’s array class is called ndarray.\n",
    "- numpy.array is not the same as the Standard Python Library class array.\n",
    "    - 파이썬의 array는 1차원만을 다룬다."
   ]
  },
  {
   "cell_type": "markdown",
   "id": "certain-campbell",
   "metadata": {},
   "source": [
    "- The more important attributes of an ndarray object are:\n",
    "    - `ndarray.ndim` : 넘파이의 차원\n",
    "    - `ndarray.shape` : 넘파이의 모양 (n, m)\n",
    "    - `ndarray.size` : This is equal to the product of the elements of shape. (n*m)\n",
    "    - `ndarray.dtype` : array안 요소의 타입\n",
    "    - `ndarray.itemsize` : array안 요소들의 사이즈(bytes)\n",
    "    - `ndarray.data` : Normally, we won’t need to use this attribute because we will access the elements in an array using indexing facilities.\n",
    "    \n",
    "    \n",
    "## An example\n",
    "\n",
    "```python\n",
    ">>> import numpy as np\n",
    ">>> a = np.arange(15).reshape(3, 5)\n",
    ">>> a\n",
    "array([[ 0,  1,  2,  3,  4],\n",
    "       [ 5,  6,  7,  8,  9],\n",
    "       [10, 11, 12, 13, 14]])\n",
    "\n",
    ">>> a.shape\n",
    "(3, 5)\n",
    "\n",
    ">>> a.ndim\n",
    "2\n",
    "\n",
    ">>> a.dtype.name\n",
    "'int64'\n",
    "\n",
    ">>> a.itemsize\n",
    "8\n",
    "\n",
    ">>> a.size\n",
    "15\n",
    "\n",
    ">>> type(a)\n",
    "<type 'numpy.ndarray'>\n",
    "\n",
    ">>> b = np.array([6, 7, 8])\n",
    ">>> b\n",
    "array([6, 7, 8])\n",
    "\n",
    ">>> type(b)\n",
    "<type 'numpy.ndarray'>\n",
    "```"
   ]
  },
  {
   "cell_type": "markdown",
   "id": "lesser-projector",
   "metadata": {},
   "source": [
    "## Array Creation"
   ]
  },
  {
   "cell_type": "markdown",
   "id": "talented-midnight",
   "metadata": {},
   "source": [
    "you can create an array from a regular Python list or tuple using the array function.\n",
    "```python\n",
    ">>> a = np.array([2,3,4])\n",
    ">>> a\n",
    "array([2, 3, 4])\n",
    "```"
   ]
  },
  {
   "cell_type": "markdown",
   "id": "rough-decline",
   "metadata": {},
   "source": [
    "2차원 array\n",
    "```python\n",
    ">>> b = np.array([(1.5,2,3), (4,5,6)])\n",
    ">>> b\n",
    "array([[ 1.5,  2. ,  3. ],\n",
    "       [ 4. ,  5. ,  6. ]])\n",
    "```"
   ]
  },
  {
   "cell_type": "markdown",
   "id": "tired-google",
   "metadata": {},
   "source": [
    "The function `zeros` creates an array full of zeros,"
   ]
  },
  {
   "cell_type": "markdown",
   "id": "novel-capture",
   "metadata": {},
   "source": [
    "```python\n",
    ">>> np.zeros( (3,4) )\n",
    "array([[ 0.,  0.,  0.,  0.],\n",
    "       [ 0.,  0.,  0.,  0.],\n",
    "       [ 0.,  0.,  0.,  0.]])\n",
    "\n",
    ">>> np.ones( (2,3,4), dtype=np.int16 )                # dtype can also be specified\n",
    "array([[[ 1, 1, 1, 1],\n",
    "        [ 1, 1, 1, 1],\n",
    "        [ 1, 1, 1, 1]],\n",
    "       [[ 1, 1, 1, 1],\n",
    "        [ 1, 1, 1, 1],\n",
    "        [ 1, 1, 1, 1]]], dtype=int16)\n",
    "```"
   ]
  },
  {
   "cell_type": "markdown",
   "id": "latter-seeker",
   "metadata": {},
   "source": [
    "To create sequences of numbers, NumPy provides a function analogous to range that returns arrays instead of lists.\n",
    "```python\n",
    ">>> np.arange( 10, 30, 5 )\n",
    "array([10, 15, 20, 25])\n",
    ">>> np.arange( 0, 2, 0.3 )                 # it accepts float arguments\n",
    "array([ 0. ,  0.3,  0.6,  0.9,  1.2,  1.5,  1.8])\n",
    "\n",
    "\n",
    ">>> np.linspace( 0, 2, 9 )                 # 9 numbers from 0 to 2\n",
    "array([ 0.  ,  0.25,  0.5 ,  0.75,  1.  ,  1.25,  1.5 ,  1.75,  2.  ])\n",
    "\n",
    "```"
   ]
  },
  {
   "cell_type": "markdown",
   "id": "greatest-enclosure",
   "metadata": {},
   "source": [
    "other method\n",
    "```\n",
    "array, zeros, zeros_like, ones, ones_like, empty, empty_like, arange, linspace, numpy.random.rand, numpy.random.randn, fromfunction, fromfile\n",
    "```"
   ]
  },
  {
   "cell_type": "markdown",
   "id": "parental-appearance",
   "metadata": {},
   "source": [
    "## Printing Arrays"
   ]
  },
  {
   "cell_type": "markdown",
   "id": "placed-stockholm",
   "metadata": {},
   "source": [
    "1차원은 행으로, 2,3 차원은 행렬로 표현된다.\n",
    "```python\n",
    ">>> a = np.arange(6)                         # 1d array\n",
    ">>> print(a)\n",
    "[0 1 2 3 4 5]\n",
    "\n",
    ">>> b = np.arange(12).reshape(4,3)           # 2d array\n",
    ">>> print(b)\n",
    "[[ 0  1  2]\n",
    " [ 3  4  5]\n",
    " [ 6  7  8]\n",
    " [ 9 10 11]]\n",
    "\n",
    ">>> c = np.arange(24).reshape(2,3,4)         # 3d array\n",
    ">>> print(c)\n",
    "[[[ 0  1  2  3]\n",
    "  [ 4  5  6  7]\n",
    "  [ 8  9 10 11]]\n",
    " [[12 13 14 15]\n",
    "  [16 17 18 19]\n",
    "  [20 21 22 23]]]\n",
    "```"
   ]
  },
  {
   "cell_type": "markdown",
   "id": "smooth-chancellor",
   "metadata": {},
   "source": [
    "## Basic Operations"
   ]
  },
  {
   "cell_type": "markdown",
   "id": "destroyed-newport",
   "metadata": {},
   "source": [
    "```python\n",
    ">>> a = np.array( [20,30,40,50] )\n",
    ">>> b = np.arange( 4 )\n",
    ">>> b\n",
    "array([0, 1, 2, 3])\n",
    ">>> c = a-b\n",
    ">>> c\n",
    "array([20, 29, 38, 47])\n",
    ">>> b**2\n",
    "array([0, 1, 4, 9])\n",
    ">>> 10*np.sin(a)\n",
    "array([ 9.12945251, -9.88031624,  7.4511316 , -2.62374854])\n",
    ">>> a<35\n",
    "array([ True, True, False, False])\n",
    "```"
   ]
  },
  {
   "cell_type": "markdown",
   "id": "genetic-advice",
   "metadata": {},
   "source": [
    "*는 각각의 요소끼리 곱하고 @, dot은 행렬곱을 한다.\n",
    "\n",
    "```python\n",
    ">>> A = np.array( [[1,1],\n",
    "...             [0,1]] )\n",
    ">>> B = np.array( [[2,0],\n",
    "...             [3,4]] )\n",
    ">>> A * B                       # elementwise product\n",
    "array([[2, 0],\n",
    "       [0, 4]])\n",
    ">>> A @ B                       # matrix product\n",
    "array([[5, 4],\n",
    "       [3, 4]])\n",
    ">>> A.dot(B)                    # another matrix product\n",
    "array([[5, 4],\n",
    "       [3, 4]])\n",
    "```"
   ]
  },
  {
   "cell_type": "markdown",
   "id": "figured-madison",
   "metadata": {},
   "source": [
    "+= , *= 연산\n",
    "```python\n",
    ">>> a = np.ones((2,3), dtype=int)\n",
    ">>> b = np.random.random((2,3))\n",
    "\n",
    ">>> a *= 3\n",
    ">>> a\n",
    "array([[3, 3, 3],\n",
    "       [3, 3, 3]])\n",
    "\n",
    ">>> b += a\n",
    ">>> b\n",
    "array([[ 3.417022  ,  3.72032449,  3.00011437],\n",
    "       [ 3.30233257,  3.14675589,  3.09233859]])\n",
    "\n",
    ">>> a += b                  # b is not automatically converted to integer type\n",
    "Traceback (most recent call last):\n",
    "  ...\n",
    "TypeError: Cannot cast ufunc add output from dtype('float64') to dtype('int64') with casting rule 'same_kind'\n",
    "```"
   ]
  },
  {
   "cell_type": "markdown",
   "id": "changing-telling",
   "metadata": {},
   "source": [
    "전체합, 최솟값, 최댓값 등을 구할때는 ndarray 자체 메소드를 사용하여야한다.\n",
    "```python\n",
    ">>> a = np.random.random((2,3))\n",
    ">>> a\n",
    "array([[ 0.18626021,  0.34556073,  0.39676747],\n",
    "       [ 0.53881673,  0.41919451,  0.6852195 ]])\n",
    ">>> a.sum()\n",
    "2.5718191614547998\n",
    ">>> a.min()\n",
    "0.1862602113776709\n",
    ">>> a.max()\n",
    "0.6852195003967595\n",
    "```"
   ]
  },
  {
   "cell_type": "markdown",
   "id": "loved-quilt",
   "metadata": {},
   "source": [
    "연산들은 전체를 기준으로 하지만, axis를 추가해주면 각 행이나 열마다 함수를 적용할 수 있다.\n",
    "```python\n",
    ">>> b\n",
    "array([[ 0,  1,  2,  3],\n",
    "       [ 4,  5,  6,  7],\n",
    "       [ 8,  9, 10, 11]])\n",
    ">>>\n",
    ">>> b.sum(axis=0)                            # sum of each column\n",
    "array([12, 15, 18, 21])\n",
    ">>>\n",
    ">>> b.min(axis=1)                            # min of each row\n",
    "array([0, 4, 8])\n",
    ">>>\n",
    ">>> b.cumsum(axis=1)                         # cumulative sum along each row 누적합\n",
    "array([[ 0,  1,  3,  6],\n",
    "       [ 4,  9, 15, 22],\n",
    "       [ 8, 17, 27, 38]])\n",
    "```"
   ]
  },
  {
   "cell_type": "markdown",
   "id": "spanish-tutorial",
   "metadata": {},
   "source": [
    "## Universal Functions\n",
    "- NummPy provides familiar mathematical functions such as sin, cos, and exp. In NumPy, these are called “universal functions”(ufunc).\n",
    "\n",
    "```python\n",
    ">>> B = np.arange(3)\n",
    ">>> B\n",
    "array([0, 1, 2])\n",
    ">>> np.exp(B)\n",
    "array([ 1.        ,  2.71828183,  7.3890561 ])\n",
    ">>> np.sqrt(B)\n",
    "array([ 0.        ,  1.        ,  1.41421356])\n",
    ">>> C = np.array([2., -1., 4.])\n",
    ">>> np.add(B, C)\n",
    "array([ 2.,  0.,  6.])\n",
    "```"
   ]
  },
  {
   "cell_type": "markdown",
   "id": "italic-suicide",
   "metadata": {},
   "source": [
    "other method\n",
    "```\n",
    "all, any, apply_along_axis, argmax, argmin, argsort, average, bincount, ceil, clip, conj, corrcoef, cov, cross, cumprod, cumsum, diff, dot, floor, inner, inv, lexsort, max, maximum, mean, median, min, minimum, nonzero, outer, prod, re, round, sort, std, sum, trace, transpose, var, vdot, vectorize, where\n",
    "```"
   ]
  },
  {
   "cell_type": "markdown",
   "id": "agreed-filing",
   "metadata": {},
   "source": [
    "## Indexing, Slicing and Iteration"
   ]
  },
  {
   "cell_type": "markdown",
   "id": "controlling-princeton",
   "metadata": {},
   "source": [
    "- 1차원 array는 파이썬의 리스트와 같이 인덱싱, 슬라이싱을 할 수 있다,"
   ]
  },
  {
   "cell_type": "markdown",
   "id": "emerging-fossil",
   "metadata": {},
   "source": [
    "- Multidimensional arrays can have one index per axis. These indices are given in a tuple separated by commas\n",
    "    \n",
    "    반점을 사이에 둔 튜플 필요\n",
    "```python\n",
    ">>> def f(x,y):\n",
    "...     return 10*x+y\n",
    "...\n",
    ">>> b = np.fromfunction(f,(5,4),dtype=int)\n",
    ">>> b\n",
    "array([[ 0,  1,  2,  3],\n",
    "       [10, 11, 12, 13],\n",
    "       [20, 21, 22, 23],\n",
    "       [30, 31, 32, 33],\n",
    "       [40, 41, 42, 43]])\n",
    ">>> b[2,3]\n",
    "23\n",
    ">>> b[0:5, 1]                       # each row in the second column of b\n",
    "array([ 1, 11, 21, 31, 41])\n",
    ">>> b[ : ,1]                        # equivalent to the previous example\n",
    "array([ 1, 11, 21, 31, 41])\n",
    ">>> b[1:3, : ]                      # each column in the second and third row of b\n",
    "array([[10, 11, 12, 13],\n",
    "       [20, 21, 22, 23]])\n",
    "```"
   ]
  },
  {
   "cell_type": "markdown",
   "id": "heated-federal",
   "metadata": {},
   "source": [
    "`Iterating` over multidimensional arrays is done with respect to the first axis:\n",
    "```python\n",
    ">>> for row in b:\n",
    "...     print(row)\n",
    "...\n",
    "[0 1 2 3]\n",
    "[10 11 12 13]\n",
    "[20 21 22 23]\n",
    "[30 31 32 33]\n",
    "[40 41 42 43]\n",
    "```\n",
    "\n",
    "However, if one wants to perform an operation on each element in the array, one can use the flat attribute which is an iterator over all the elements of the array:\n",
    "```python\n",
    ">>> for element in b.flat:\n",
    "...     print(element)\n",
    "...\n",
    "0\n",
    "1\n",
    "2\n",
    "3\n",
    "10\n",
    "11\n",
    "12\n",
    "13\n",
    "20\n",
    "21\n",
    "22\n",
    "23\n",
    "30\n",
    "31\n",
    "32\n",
    "33\n",
    "40\n",
    "41\n",
    "42\n",
    "43\n",
    "```"
   ]
  },
  {
   "cell_type": "markdown",
   "id": "orange-fitting",
   "metadata": {},
   "source": [
    "other method\n",
    "```\n",
    "Indexing, Indexing (reference), newaxis, ndenumerate, indices\n",
    "```"
   ]
  },
  {
   "cell_type": "markdown",
   "id": "expensive-question",
   "metadata": {},
   "source": [
    "---\n",
    "# Shape Manipulation"
   ]
  },
  {
   "cell_type": "markdown",
   "id": "satisfied-terrain",
   "metadata": {},
   "source": [
    "## Changing the shape of an array"
   ]
  },
  {
   "cell_type": "markdown",
   "id": "danish-defensive",
   "metadata": {},
   "source": [
    "- 모양을 바꾸는 3가지 방법 `ravel()`, `reshape()`, `T`. 하지만 원래의 array는 바뀌지않는다!"
   ]
  },
  {
   "cell_type": "markdown",
   "id": "logical-hours",
   "metadata": {},
   "source": [
    "```python\n",
    ">>> a.shape\n",
    "(3, 4)\n",
    "\n",
    ">>> a.ravel()  # returns the array, flattened\n",
    "array([ 2.,  8.,  0.,  6.,  4.,  5.,  1.,  1.,  8.,  9.,  3.,  6.])\n",
    "\n",
    ">>> a.reshape(6,2)  # returns the array with a modified shape\n",
    "array([[ 2.,  8.],\n",
    "       [ 0.,  6.],\n",
    "       [ 4.,  5.],\n",
    "       [ 1.,  1.],\n",
    "       [ 8.,  9.],\n",
    "       [ 3.,  6.]])\n",
    "\n",
    ">>> a.T  # returns the array, transposed\n",
    "array([[ 2.,  4.,  8.],\n",
    "       [ 8.,  5.,  9.],\n",
    "       [ 0.,  1.,  3.],\n",
    "       [ 6.,  1.,  6.]])\n",
    "\n",
    ">>> a.T.shape\n",
    "(4, 3)\n",
    "\n",
    ">>> a.shape\n",
    "(3, 4)\n",
    "```"
   ]
  },
  {
   "cell_type": "markdown",
   "id": "increasing-vanilla",
   "metadata": {},
   "source": [
    "- 이번엔 원래의 array를 바꾸는 메소드 `resize`\n",
    "```python\n",
    ">>> a\n",
    "array([[ 2.,  8.,  0.,  6.],\n",
    "       [ 4.,  5.,  1.,  1.],\n",
    "       [ 8.,  9.,  3.,  6.]])\n",
    ">>> a.resize((2,6))\n",
    ">>> a\n",
    "array([[ 2.,  8.,  0.,  6.,  4.,  5.],\n",
    "       [ 1.,  1.,  8.,  9.,  3.,  6.]])\n",
    "```"
   ]
  },
  {
   "cell_type": "markdown",
   "id": "elect-ozone",
   "metadata": {},
   "source": [
    "## Stacking together different arrays"
   ]
  },
  {
   "cell_type": "markdown",
   "id": "married-peeing",
   "metadata": {},
   "source": [
    "- 행이나 열로 여러개의 array를 쌓을 수 있다.\n",
    "```python\n",
    ">>> a = np.floor(10*np.random.random((2,2)))\n",
    ">>> a\n",
    "array([[ 8.,  8.],\n",
    "       [ 0.,  0.]])\n",
    ">>> b = np.floor(10*np.random.random((2,2)))\n",
    ">>> b\n",
    "array([[ 1.,  8.],\n",
    "       [ 0.,  4.]])\n",
    ">>> np.vstack((a,b))\n",
    "array([[ 8.,  8.],\n",
    "       [ 0.,  0.],\n",
    "       [ 1.,  8.],\n",
    "       [ 0.,  4.]])\n",
    ">>> np.hstack((a,b))\n",
    "array([[ 8.,  8.,  1.,  8.],\n",
    "       [ 0.,  0.,  0.,  4.]])\n",
    "```"
   ]
  },
  {
   "cell_type": "markdown",
   "id": "extra-logistics",
   "metadata": {},
   "source": [
    "other method\n",
    "```\n",
    "hstack, vstack, column_stack, concatenate, c_, r_\n",
    "```"
   ]
  },
  {
   "cell_type": "markdown",
   "id": "shared-manor",
   "metadata": {},
   "source": [
    "## Splitting one array into several smaller ones"
   ]
  },
  {
   "cell_type": "markdown",
   "id": "spoken-shore",
   "metadata": {},
   "source": [
    "- 각 행을 원하는 갯수로 나누어준다.\n",
    "\n",
    "```python\n",
    ">>> a = np.floor(10*np.random.random((2,12)))\n",
    ">>> a\n",
    "array([[ 9.,  5.,  6.,  3.,  6.,  8.,  0.,  7.,  9.,  7.,  2.,  7.],\n",
    "       [ 1.,  4.,  9.,  2.,  2.,  1.,  0.,  6.,  2.,  2.,  4.,  0.]])\n",
    ">>> np.hsplit(a,3)   # Split a into 3\n",
    "[array([[ 9.,  5.,  6.,  3.],\n",
    "       [ 1.,  4.,  9.,  2.]]), array([[ 6.,  8.,  0.,  7.],\n",
    "       [ 2.,  1.,  0.,  6.]]), array([[ 9.,  7.,  2.,  7.],\n",
    "       [ 2.,  2.,  4.,  0.]])]\n",
    "```"
   ]
  },
  {
   "cell_type": "markdown",
   "id": "clear-river",
   "metadata": {},
   "source": [
    "---\n",
    "# Copies and VIews"
   ]
  },
  {
   "cell_type": "markdown",
   "id": "suffering-crisis",
   "metadata": {},
   "source": [
    "- 복사와 관련해서 초보자들이 실수하는 3가지"
   ]
  },
  {
   "cell_type": "markdown",
   "id": "ambient-salvation",
   "metadata": {},
   "source": [
    "## No copy at All"
   ]
  },
  {
   "cell_type": "markdown",
   "id": "personalized-federation",
   "metadata": {},
   "source": [
    "```python\n",
    ">>> a = np.arange(12)\n",
    ">>> b = a            # no new object is created\n",
    ">>> b is a           # a and b are two names for the same ndarray object\n",
    "True\n",
    ">>> b.shape = 3,4    # changes the shape of a\n",
    ">>> a.shape\n",
    "(3, 4)\n",
    "```\n",
    "b라는 새로운 객체가 생긴게 아니라 b가 곧 a"
   ]
  },
  {
   "cell_type": "markdown",
   "id": "interested-organ",
   "metadata": {},
   "source": [
    "## View or Shallow Copy"
   ]
  },
  {
   "cell_type": "markdown",
   "id": "interpreted-pasta",
   "metadata": {},
   "source": [
    "- `View`메서드는 동일한 데이터를 보는 새 배열 개체를 만든다.\n",
    "```python\n",
    ">>> c = a.view()\n",
    ">>> c is a\n",
    "False\n",
    ">>> c.base ​is a                        # c is a view of the data owned by a\n",
    "True\n",
    ">>> c.flags.owndata\n",
    "False\n",
    ">>>\n",
    ">>> c.shape ​= 2,6                      # a's shape doesn't change\n",
    ">>> a.shape\n",
    "(3, 4)\n",
    ">>> c[0,4] ​= 1234                      # a's data changes\n",
    ">>> a\n",
    "array([[   0,    1,    2,    3],\n",
    "       [1234,    5,    6,    7],\n",
    "       [   8,    9,   10,   11]\n",
    "```"
   ]
  },
  {
   "cell_type": "markdown",
   "id": "constitutional-gothic",
   "metadata": {},
   "source": [
    "- 배열을 슬라이싱하면 배열의 뷰가 반환된다.\n",
    "```python\n",
    ">>> s = a[ : , 1:3]     # spaces added for clarity; could also be written \"s = a[:,1:3]\"\n",
    ">>> s[:] = 10           # s[:] is a view of s. Note the difference between s=10 and s[:]=10\n",
    ">>> a\n",
    "array([[   0,   10,   10,    3],\n",
    "       [1234,   10,   10,    7],\n",
    "       [   8,   10,   10,   11]])\n",
    "```"
   ]
  },
  {
   "cell_type": "markdown",
   "id": "advance-preference",
   "metadata": {},
   "source": [
    "## Deep Copy"
   ]
  },
  {
   "cell_type": "markdown",
   "id": "accredited-exemption",
   "metadata": {},
   "source": [
    "- `copy` 메서드는 배열과 그 데이터의 완전한 복사를 만들어준다."
   ]
  },
  {
   "cell_type": "markdown",
   "id": "chemical-lawrence",
   "metadata": {},
   "source": [
    "```python\n",
    ">>> d = a.copy()                          # a new array object with new data is created\n",
    ">>> d is a\n",
    "False\n",
    ">>> d.base is a                           # d doesn't share anything with a\n",
    "False\n",
    ">>> d[0,0] = 9999\n",
    ">>> a\n",
    "array([[   0,   10,   10,    3],\n",
    "       [1234,   10,   10,    7],\n",
    "       [   8,   10,   10,   11]])\n",
    "```"
   ]
  },
  {
   "cell_type": "markdown",
   "id": "celtic-generation",
   "metadata": {},
   "source": [
    "## Functions and Methods Overview"
   ]
  },
  {
   "cell_type": "markdown",
   "id": "exceptional-court",
   "metadata": {},
   "source": [
    "---\n",
    "# Fancy indexing and index tricks"
   ]
  },
  {
   "cell_type": "markdown",
   "id": "legendary-individual",
   "metadata": {},
   "source": [
    "```python\n",
    ">>> a = np.arange(12)**2                       # the first 12 square numbers\n",
    ">>> i = np.array( [ 1,1,3,8,5 ] )              # an array of indices\n",
    ">>> a[i]                                       # the elements of a at the positions i\n",
    "array([ 1,  1,  9, 64, 25])\n",
    ">>>\n",
    ">>> j = np.array( [ [ 3, 4], [ 9, 7 ] ] )      # a bidimensional array of indices\n",
    ">>> a[j]                                       # the same shape as j\n",
    "array([[ 9, 16],\n",
    "       [81, 49]])\n",
    "```"
   ]
  },
  {
   "cell_type": "markdown",
   "id": "sophisticated-cargo",
   "metadata": {},
   "source": [
    "`+`"
   ]
  },
  {
   "cell_type": "markdown",
   "id": "weekly-tongue",
   "metadata": {},
   "source": [
    "---"
   ]
  },
  {
   "cell_type": "code",
   "execution_count": null,
   "id": "fifth-programming",
   "metadata": {},
   "outputs": [],
   "source": []
  }
 ],
 "metadata": {
  "kernelspec": {
   "display_name": "Python 3",
   "language": "python",
   "name": "python3"
  },
  "language_info": {
   "codemirror_mode": {
    "name": "ipython",
    "version": 3
   },
   "file_extension": ".py",
   "mimetype": "text/x-python",
   "name": "python",
   "nbconvert_exporter": "python",
   "pygments_lexer": "ipython3",
   "version": "3.8.8"
  }
 },
 "nbformat": 4,
 "nbformat_minor": 5
}
