{
 "cells": [
  {
   "cell_type": "markdown",
   "id": "ideal-dragon",
   "metadata": {},
   "source": [
    "# Object Detection\n",
    "> 객체 탐지 논문\n",
    "\n",
    "- toc: true \n",
    "- badges: true\n",
    "- comments: true\n",
    "- categories: [python]\n",
    "- image: images/"
   ]
  },
  {
   "cell_type": "markdown",
   "id": "92db2688-eeeb-487d-8aae-2311b5054ad6",
   "metadata": {},
   "source": [
    "---\n"
   ]
  },
  {
   "cell_type": "markdown",
   "id": "ad7faad9-fee0-4f1f-bf7d-43f591d0d6e4",
   "metadata": {},
   "source": [
    "# 1. R-CNN (2013)\n",
    "*Rich feature hierarchies for accurate object detection and semantic segmentation*"
   ]
  },
  {
   "cell_type": "markdown",
   "id": "ac860587-bc3a-49e5-bc53-f81cfac4135c",
   "metadata": {},
   "source": [
    "<img src='img/Detection/rcnn.png' width=\"500\" height=\"500\">"
   ]
  },
  {
   "cell_type": "markdown",
   "id": "7b4d1ca7-a7ea-444a-9530-e1c42e083187",
   "metadata": {},
   "source": [
    "\" R-CNN 프로세스 \""
   ]
  },
  {
   "cell_type": "markdown",
   "id": "d0583a3a-497a-453c-b5f8-9c40046618cf",
   "metadata": {},
   "source": [
    "1. Image를 입력받는다.\n",
    "\n",
    "2. Selective search 알고리즘에 의해 regional proposal output 약 2000개를 추출한다.\n",
    "\n",
    "    (추출한 regional proposal output을 모두 동일 input size로 만들어주기 위해 warp 해준다.\n",
    "    \n",
    "    `?` 왜 동일 input size로 만들어 줄까? : 사실 Convolution Layer에는 input size가 고정이지 않다. 그러나 마지막 FC layer에서의 input size는 고정이므로 Convolution Layer에 입력에서부터 동일한 input size로 넣어주어 output size를 동일하게 하는 것)\n",
    "\n",
    "    \n",
    "3. 2000개의 warped image를 각각 CNN 모델에 넣는다.\n",
    "\n",
    "4. 각각의 Convolution 결과에 대해 classification을 진행하여 결과를 얻는다.\n",
    "\n"
   ]
  },
  {
   "cell_type": "markdown",
   "id": "bb1e4a75-c65c-47c0-85f4-07306c995d55",
   "metadata": {},
   "source": [
    "위의 과정을 수행하기 위해 R-CNN은 세 가지 모듈로 나누어 놓았다."
   ]
  },
  {
   "cell_type": "markdown",
   "id": "bc96fc9e-be22-483d-a565-9e5fc3f78c6b",
   "metadata": {},
   "source": [
    "- 1. Region Proposal : \"Object가 있을법한 영역\"을 찾는 모듈 (기존의 Sliding window방식의 비효율성 극복)\n",
    "    \n",
    "- 2. CNN : 각각의 영역으로부터 고정된 크기의 Feature Vector를 뽑아낸다.\n",
    "\n",
    "- 3. SVM : Classification을 위한 선형 지도학습 모델\n",
    "\n",
    "    `?` 왜 Classifier로 Softmax를 쓰지 않고 SVM을 사용했을까? : CNN fine-tuning을 위한 학습 데이터가 시기상 많지 않아서 Softmax를 적용시키면 오히려 성능이 낮아져 SVM을 사용"
   ]
  },
  {
   "cell_type": "markdown",
   "id": "531d8f0a-f744-49a2-ae21-211eb6c3b375",
   "metadata": {},
   "source": [
    "## 1-1. Region Proposal"
   ]
  },
  {
   "cell_type": "code",
   "execution_count": null,
   "id": "da06d60e-3ac8-466a-abb3-d0743d72f730",
   "metadata": {},
   "outputs": [],
   "source": []
  },
  {
   "cell_type": "markdown",
   "id": "68321f1e-7fa4-47ad-8258-215d0dbc4cf9",
   "metadata": {},
   "source": [
    "참고 사이트 : https://ganghee-lee.tistory.com/35"
   ]
  },
  {
   "cell_type": "markdown",
   "id": "8adaaeec-7f14-4596-824e-68176c291647",
   "metadata": {},
   "source": [
    "---"
   ]
  }
 ],
 "metadata": {
  "kernelspec": {
   "display_name": "Python 3",
   "language": "python",
   "name": "python3"
  },
  "language_info": {
   "codemirror_mode": {
    "name": "ipython",
    "version": 3
   },
   "file_extension": ".py",
   "mimetype": "text/x-python",
   "name": "python",
   "nbconvert_exporter": "python",
   "pygments_lexer": "ipython3",
   "version": "3.8.8"
  }
 },
 "nbformat": 4,
 "nbformat_minor": 5
}
