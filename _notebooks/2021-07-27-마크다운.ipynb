{
 "cells": [
  {
   "cell_type": "markdown",
   "id": "directed-apple",
   "metadata": {},
   "source": [
    "# 마크다운\n",
    "> 마크다운 문법, 사용하는 것들\n",
    "\n",
    "- toc: true \n",
    "- badges: true\n",
    "- comments: true\n",
    "- categories: [Markdown]\n"
   ]
  },
  {
   "cell_type": "markdown",
   "id": "circular-responsibility",
   "metadata": {},
   "source": [
    "## 이미지 업로드"
   ]
  },
  {
   "cell_type": "markdown",
   "id": "moral-retention",
   "metadata": {},
   "source": [
    "```python\n",
    "# <img src=\"my_icons/리스트.jpg\">\n",
    "```"
   ]
  },
  {
   "cell_type": "markdown",
   "id": "moderate-afternoon",
   "metadata": {},
   "source": [
    "<img src=\"my_icons/리스트.jpg\">"
   ]
  },
  {
   "cell_type": "markdown",
   "id": "fourth-double",
   "metadata": {},
   "source": [
    "- 크기조정"
   ]
  },
  {
   "cell_type": "markdown",
   "id": "auburn-twenty",
   "metadata": {},
   "source": [
    "```python\n",
    "# <img src=\"my_icons/리스트.jpg\" width=\"300\" height=\"300\">\n",
    "```"
   ]
  },
  {
   "cell_type": "markdown",
   "id": "wanted-action",
   "metadata": {},
   "source": [
    "\n",
    "<img src=\"my_icons/리스트.jpg\" width=\"500\" height=\"500\">"
   ]
  },
  {
   "cell_type": "markdown",
   "id": "latter-plenty",
   "metadata": {},
   "source": [
    "## 주석처리"
   ]
  },
  {
   "cell_type": "code",
   "execution_count": 2,
   "id": "focused-shipping",
   "metadata": {},
   "outputs": [],
   "source": [
    "# <--! 주석처리 할 문장 -->"
   ]
  },
  {
   "cell_type": "markdown",
   "id": "massive-warrant",
   "metadata": {},
   "source": [
    "## 수식"
   ]
  },
  {
   "cell_type": "code",
   "execution_count": 3,
   "id": "controlling-palestine",
   "metadata": {},
   "outputs": [],
   "source": [
    "# $$ 수식 $$"
   ]
  },
  {
   "cell_type": "markdown",
   "id": "canadian-breach",
   "metadata": {},
   "source": [
    "  $$ u_1 = w_{11}x_1 + w_{12}x_2 + w_{13}x_3 + w_{14}x_4 + b_1 $$"
   ]
  },
  {
   "cell_type": "markdown",
   "id": "regulation-crossing",
   "metadata": {},
   "source": [
    "여기서, 내리는 숫자가 2개인경우 w_1_1이 아니라 w_{11}로 써주어야함!"
   ]
  },
  {
   "cell_type": "markdown",
   "id": "understood-willow",
   "metadata": {},
   "source": [
    "### 수식 띄어쓰기"
   ]
  },
  {
   "cell_type": "code",
   "execution_count": 7,
   "id": "hourly-senior",
   "metadata": {},
   "outputs": [],
   "source": [
    "# \\,         한칸\n",
    "\n",
    "# \\;         두칸\n",
    "\n",
    "# \\quad      네칸\n",
    "\n",
    "# \\qquad    여덟칸"
   ]
  },
  {
   "cell_type": "code",
   "execution_count": null,
   "id": "southeast-fifth",
   "metadata": {},
   "outputs": [],
   "source": []
  }
 ],
 "metadata": {
  "kernelspec": {
   "display_name": "Python 3",
   "language": "python",
   "name": "python3"
  },
  "language_info": {
   "codemirror_mode": {
    "name": "ipython",
    "version": 3
   },
   "file_extension": ".py",
   "mimetype": "text/x-python",
   "name": "python",
   "nbconvert_exporter": "python",
   "pygments_lexer": "ipython3",
   "version": "3.8.8"
  }
 },
 "nbformat": 4,
 "nbformat_minor": 5
}
