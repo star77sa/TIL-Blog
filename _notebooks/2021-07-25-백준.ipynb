{
 "cells": [
  {
   "cell_type": "markdown",
   "id": "connected-trail",
   "metadata": {},
   "source": [
    "# Python BOJ insight\n",
    "> 백준 온라인 저지 문제풀이 중 알게된 것들, 문법, 실수한 것들 정리하기\n",
    "\n",
    "- toc: true \n",
    "- badges: true\n",
    "- comments: true\n",
    "- categories: [Python]\n",
    "- image: images/"
   ]
  },
  {
   "cell_type": "markdown",
   "id": "approximate-standard",
   "metadata": {},
   "source": [
    "# 문자열"
   ]
  },
  {
   "cell_type": "markdown",
   "id": "hollow-positive",
   "metadata": {},
   "source": [
    "- 어떠한 단어에서 특정 문자가 있는지 위치를 찾을 때\n",
    "\n",
    "   `'word'.find('r')`\n",
    "\n",
    "   `'word'.index('r')`\n",
    "\n",
    "  을 사용한다. 차이점은 find는 찾고싶은 문자가 없으면 -1을 출력하고, index는 오류가 출력된다."
   ]
  },
  {
   "cell_type": "markdown",
   "id": "narrow-caribbean",
   "metadata": {},
   "source": [
    "- `input()` 합수는 str을 받는 함수이다. 숫자를 넣어도 str"
   ]
  },
  {
   "cell_type": "markdown",
   "id": "automated-championship",
   "metadata": {},
   "source": [
    "- `input()` 대신 `sys.stdin.readline()` 사용하는 이유\n",
    "   반복문으로 여러 줄을 입력받는 상황에서는 반드시 `sys.stdin.readline()`을 사용해야 시간초과가 발생하지 않는다.\n",
    "   \n",
    "   ※ readline()은 앞 뒤에 개행문자가 포함된다. 앞 뒤 공백을 제거하기 위해 뒤에 추가로 `.strip()`을 적어주자.\n",
    "   \n",
    "   띄어쓰기로 값을 구분해야 할때는 sys.stdin.readline()`.split()`을 사용한다.\n",
    "   \n",
    "   주피터에서는 `sys.stdin.readline()` 작동하지않는다. `input()`으로 풀고 제출시에만 사용하자"
   ]
  },
  {
   "cell_type": "markdown",
   "id": "protective-leone",
   "metadata": {},
   "source": [
    "- 특정 단어의 개수를 셀 때\n",
    "\n",
    "   `word = 'ljes=njak'`에서 'nj'의 개수를 찾으려면\n",
    "\n",
    "   `word.count('nj')`를 치면된다."
   ]
  },
  {
   "cell_type": "markdown",
   "id": "embedded-philadelphia",
   "metadata": {},
   "source": [
    "- 10의자리, 1의자리 문제 몫(`//`), 나머지(`%`)이용해서 풀기\n",
    "\n",
    "   A // B 를 써야할 것 같은 문제 `math.ceil(A/B)` 고려할 것."
   ]
  },
  {
   "cell_type": "markdown",
   "id": "balanced-progressive",
   "metadata": {},
   "source": [
    "- 40.0 같은 실수에서 소수점 아래까지 나타내고 싶으면 포맷팅을 사용하자. `value = \"%.3f\" % 40.0`"
   ]
  },
  {
   "cell_type": "markdown",
   "id": "drawn-parish",
   "metadata": {},
   "source": [
    "# 리스트"
   ]
  },
  {
   "cell_type": "markdown",
   "id": "lesser-harmony",
   "metadata": {},
   "source": [
    "- 리스트에서 `list.count( * )` 하면 *값의 개수를 찾아준다.\n",
    "\n",
    "- 집합(set)는 중복된 원소를 가지지 않기에 list를 set로 바꿨다가 다시 list로 바꾸면 중복이 제거된다!"
   ]
  },
  {
   "cell_type": "markdown",
   "id": "buried-bradford",
   "metadata": {},
   "source": [
    "- 정렬1 : `sorted(list())`\n",
    "\n",
    "    정렬2 : `list().sort()`\n",
    "    \n",
    "   1번은 새로운 리스트가 만들어지고, 2번은 기존의 리스트를 정렬시켜서 대체시킨다.\n",
    "\n",
    "- 정렬에서 값이 리스트일 때, 정렬 중요도 설정\n",
    "   \n",
    "   `A.sort(key = lambda x : x[1])`\n",
    "   \n",
    "   2번째 원소로 정렬 후 1번째 원소로 정렬?\n",
    "   \n",
    "   `A.sort(key = lambda x : (x[1], x[0]))`"
   ]
  },
  {
   "cell_type": "markdown",
   "id": "comic-operator",
   "metadata": {},
   "source": [
    "- list 맨 마지막 수를 없앨 때\n",
    "\n",
    "   `list.remove(list[-1])`하면 탐색 후 제거.\n",
    "   \n",
    "    `del list[-1]`하면 맨 뒤를 바로 제거!"
   ]
  },
  {
   "cell_type": "markdown",
   "id": "wrong-identification",
   "metadata": {},
   "source": [
    "- 리스트를 복사하고 싶을 때\n",
    "```python\n",
    "A = [1, 2, 3]\n",
    "temp = A\n",
    "```\n",
    "라고 하면 참조가 된다. 복사만 하려면 슬라이싱을 이용하자. \n",
    "```python\n",
    "temp = A[:]\n",
    "```"
   ]
  },
  {
   "cell_type": "markdown",
   "id": "dressed-disposition",
   "metadata": {},
   "source": [
    "- N x M 의 이중 배열을 만들고 싶을 때 리스트 컴프리헨션 이용.\n",
    "\n",
    "   좋은 예시 : `arr = [ [0]*m for _ in range(n)]`\n",
    "   \n",
    "   잘못된 예시 : `arr = [ [0]*m ] * n`  <-- 전체 리스트 안에 포함된 각 리스트가 모두 같은 객체로 인식 된다."
   ]
  },
  {
   "cell_type": "markdown",
   "id": "communist-madness",
   "metadata": {},
   "source": [
    "- 리스트에 홀수만 담고싶을 때, `arr = [ i for i in range(20) if i%2 == 1]` 이렇게 조건도 달아줄 수 있다."
   ]
  },
  {
   "cell_type": "markdown",
   "id": "opened-wilson",
   "metadata": {},
   "source": [
    "- 리스트 관련 메서드\n",
    "\n",
    "<img src=\"my_icons/리스트.jpg\" width=\"1000\" height=\"1000\">"
   ]
  },
  {
   "cell_type": "markdown",
   "id": "ideal-authentication",
   "metadata": {},
   "source": [
    "# 딕셔너리"
   ]
  },
  {
   "cell_type": "markdown",
   "id": "adequate-tracy",
   "metadata": {},
   "source": [
    "- 파이썬의 딕셔너리는 해시테이블을 이용하므로 데이터 조회, 수정에 있어서 O(1)의 시간에 처리가 가능하다."
   ]
  },
  {
   "cell_type": "markdown",
   "id": "fatal-theater",
   "metadata": {},
   "source": [
    "# 조건문"
   ]
  },
  {
   "cell_type": "markdown",
   "id": "surprising-portland",
   "metadata": {},
   "source": [
    "- Python의 `and`\n",
    "\n",
    "   A and B 에서, A가 거짓일 경우, B는 보지않고 거짓인 A를 출력. False를 리턴해주지 않는다.\n",
    "   \n",
    "   A and B 에서 A가 참이다? B는 확인하지 않고 그냥 B를 출력해준다. 참이면 참인대로, 거짓이면 거짓인대로"
   ]
  },
  {
   "cell_type": "markdown",
   "id": "junior-firewall",
   "metadata": {},
   "source": [
    "- Python의 `or`\n",
    "   둘 중에 하나만 참이어도 참이기에 A or B 에서 A가 참일경우 B는 확인하지않고 그냥 A를 출력한다. \n",
    "   \n",
    "   마찬가지로 A가 거짓인경우 B를 확인안하고 바로 리턴해준다.\n",
    "   \n",
    "   결국 파이썬에선 거짓일 때 False가 아니라 거짓인 값 자체를 반환해준다."
   ]
  },
  {
   "cell_type": "markdown",
   "id": "proud-ratio",
   "metadata": {},
   "source": [
    "- `1 == 1 and 2` 이렇게하면 2가 나오고\n",
    "\n",
    "   `(1==1) and (1==2)` 이렇게 하면 False가 나온다.\n",
    "   \n",
    "   논리연산자는 각각의 요소마다 써주어야 한다!"
   ]
  },
  {
   "cell_type": "markdown",
   "id": "earned-headquarters",
   "metadata": {},
   "source": [
    "- `'C' == 'A' or 'C' == 'B' or 'C' == 'C' `\n",
    "\n",
    "   0 or 0 or 1  => 1 => True\n",
    "   \n",
    "- `'C' == ('A' or 'B' or 'C')`\n",
    "\n",
    "   'C' == (1 or 1 or 1) => 'C' == 1 => False\n",
    "   \n",
    "- `'C' == 'A' or 'B' or 'C'`\n",
    "\n",
    "   False or 'B' or 'C'에서 'B'는 바로 참으로 인식, 'B'를 출력"
   ]
  },
  {
   "cell_type": "markdown",
   "id": "selective-industry",
   "metadata": {},
   "source": [
    "# 전역변수, 지역변수"
   ]
  },
  {
   "cell_type": "markdown",
   "id": "fitting-assistant",
   "metadata": {},
   "source": [
    "```python\n",
    "count = 0\n",
    "def A(~):\n",
    "    count += 1\n",
    "A(~)\n",
    "```\n",
    "이렇게 해도 count 는 증가하지않는다. 함수안의 count는 지역변수기 때문이다."
   ]
  },
  {
   "cell_type": "markdown",
   "id": "nutritional-demographic",
   "metadata": {},
   "source": [
    "# 클래스"
   ]
  },
  {
   "cell_type": "markdown",
   "id": "primary-transcription",
   "metadata": {},
   "source": [
    "```python\n",
    "Class stack():\n",
    "    ~~~~~\n",
    "    ~~~~~\n",
    "``` \n",
    "이런 클래스가 있다면 `st = stack` 이 아니라 st = stack() 이렇게 해줘야 인스턴스가 생성됨.\n",
    "\n",
    "`st = stack` 을 하면 st가 stack 클래스의 기능을 한다.(별명)"
   ]
  },
  {
   "cell_type": "markdown",
   "id": "municipal-preview",
   "metadata": {},
   "source": [
    "# ETC"
   ]
  },
  {
   "cell_type": "markdown",
   "id": "coated-tongue",
   "metadata": {},
   "source": [
    "- 시간복잡도 생각하며 알고리즘 짤 것"
   ]
  },
  {
   "cell_type": "markdown",
   "id": "peripheral-patient",
   "metadata": {},
   "source": [
    "- 주피터 `ctrl` + `/` 누르면 그 줄 주석처리!"
   ]
  },
  {
   "cell_type": "markdown",
   "id": "adopted-stanley",
   "metadata": {},
   "source": [
    "- 소수 / 에라토스테네스의 채 공부해볼 것. 구현"
   ]
  },
  {
   "cell_type": "markdown",
   "id": "opening-dress",
   "metadata": {},
   "source": [
    "- `for i in range(n)` 에서 맨 끝 1개를 덜 포함해서 종종 런타임에러가 일어났다. 주의"
   ]
  },
  {
   "cell_type": "markdown",
   "id": "powered-harrison",
   "metadata": {},
   "source": [
    "- `while stack and i<N:` 이거 하니까 인덱스 오류가 안났다. (백준 # 17298 오큰수)\n",
    "\n",
    "   내가 했던건 `while i<N:`\n",
    "   \n",
    "    차이점 ?? "
   ]
  }
 ],
 "metadata": {
  "kernelspec": {
   "display_name": "Python 3",
   "language": "python",
   "name": "python3"
  },
  "language_info": {
   "codemirror_mode": {
    "name": "ipython",
    "version": 3
   },
   "file_extension": ".py",
   "mimetype": "text/x-python",
   "name": "python",
   "nbconvert_exporter": "python",
   "pygments_lexer": "ipython3",
   "version": "3.8.8"
  }
 },
 "nbformat": 4,
 "nbformat_minor": 5
}
