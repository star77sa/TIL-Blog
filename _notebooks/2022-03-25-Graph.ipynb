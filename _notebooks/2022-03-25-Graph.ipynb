{
 "cells": [
  {
   "cell_type": "markdown",
   "id": "c93e2264-841c-4deb-b095-8dc3cda19f9b",
   "metadata": {},
   "source": [
    "# Graph\n",
    "> Graph 개념 정리, 관련 논문\n",
    "\n",
    "- toc: true \n",
    "- badges: true\n",
    "- comments: true\n",
    "- categories: [Graph]\n",
    "- image: images/"
   ]
  },
  {
   "cell_type": "markdown",
   "id": "03a821d2-b65d-4a53-8086-33655b3123d8",
   "metadata": {},
   "source": [
    "---"
   ]
  },
  {
   "cell_type": "markdown",
   "id": "5e6e9046-b4cc-47fe-866d-244660eeeda9",
   "metadata": {},
   "source": [
    "# 1. 비정형자료에서의 다중척도방법 연구"
   ]
  },
  {
   "cell_type": "markdown",
   "id": "bd145dcf-6f4d-4783-856a-12c270c8c5cd",
   "metadata": {},
   "source": [
    "- 지금까지의 통계 및 기계학습 방법은 주로 유클리드 자료를 분석하는데 집중"
   ]
  },
  {
   "cell_type": "markdown",
   "id": "9e0dc985-219f-4e23-9f71-c9650342aad2",
   "metadata": {},
   "source": [
    "- 빅데이터 시대가 도래함에 따라 세상에는 그래프, 매니폴드와 같은 비유클리드 자료가 빠른 속도로 축적"
   ]
  },
  {
   "cell_type": "markdown",
   "id": "f42cc9f7-ba41-4f93-a98b-df65f6bc99fd",
   "metadata": {},
   "source": [
    "- 비유클리드 자료 : 벡터공간구조를 가지지 않아 그리드나 배열형태로 저장할 수 없는 자료들을 통칭\n",
    "    \n",
    "    \n",
    "\n",
    "  (유클리드) digits, time-series, audio, acoustics, images, natural language ...\n",
    "\n",
    "  (비유클리드) 3D point cloud data(manifold data), molecules, gene expression data, social networks, e-commerce networks, traffic data ...\n",
    "    \n",
    "    "
   ]
  },
  {
   "cell_type": "markdown",
   "id": "3b48c021-2f26-4ef4-b331-bdfef6225811",
   "metadata": {},
   "source": [
    "- "
   ]
  },
  {
   "cell_type": "markdown",
   "id": "ac4e6f89-dff4-44a0-96dc-58a5eb1094ed",
   "metadata": {},
   "source": [
    "- 비유클리드 자료를 분석하는 것은 매우 중요한 일이지만 분석하는 것은 쉽지않다.\n",
    "    유클리드자료에서 당연하게 정의할 수 있는 개념들이 쉽게 일반화되지 않기 때문."
   ]
  },
  {
   "cell_type": "code",
   "execution_count": null,
   "id": "68d2a732-7703-4e87-8211-32715870125a",
   "metadata": {},
   "outputs": [],
   "source": []
  }
 ],
 "metadata": {
  "kernelspec": {
   "display_name": "Python 3",
   "language": "python",
   "name": "python3"
  },
  "language_info": {
   "codemirror_mode": {
    "name": "ipython",
    "version": 3
   },
   "file_extension": ".py",
   "mimetype": "text/x-python",
   "name": "python",
   "nbconvert_exporter": "python",
   "pygments_lexer": "ipython3",
   "version": "3.8.8"
  }
 },
 "nbformat": 4,
 "nbformat_minor": 5
}
