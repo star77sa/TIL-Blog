{
 "cells": [
  {
   "cell_type": "markdown",
   "id": "ideal-dragon",
   "metadata": {},
   "source": [
    "# 밑바닥부터 시작하는 딥러닝\n",
    "> 밑바닥부터 시작하는 딥러닝\n",
    "\n",
    "- toc: true \n",
    "- badges: true\n",
    "- comments: true\n",
    "- categories: [python]\n",
    "- image: images/"
   ]
  },
  {
   "cell_type": "markdown",
   "id": "92db2688-eeeb-487d-8aae-2311b5054ad6",
   "metadata": {},
   "source": [
    "---\n"
   ]
  },
  {
   "cell_type": "markdown",
   "id": "ad7faad9-fee0-4f1f-bf7d-43f591d0d6e4",
   "metadata": {},
   "source": [
    "# 3. 신경망"
   ]
  },
  {
   "cell_type": "markdown",
   "id": "48fe96c6-dddc-4951-b03a-f690f5718cc0",
   "metadata": {},
   "source": [
    "- 활성화 함수는 입력 신호의 총합이 활성화를 일으키는지를 정하는 역할을 한다."
   ]
  },
  {
   "cell_type": "markdown",
   "id": "cb14f3d7-e8db-45d4-9f3e-72889350733a",
   "metadata": {},
   "source": [
    "- 신경망에서는 활성화 함수로 비선형 함수를 사용해야함. 선형 함수를 이용하면 신경망의 층을 깊게하는 의미가 없어지기 때문."
   ]
  },
  {
   "cell_type": "markdown",
   "id": "8adaaeec-7f14-4596-824e-68176c291647",
   "metadata": {},
   "source": [
    "---"
   ]
  },
  {
   "cell_type": "markdown",
   "id": "d584fd7c-bca5-45fc-9f4b-1ca561042940",
   "metadata": {},
   "source": [
    "# 4. 신경망 학습"
   ]
  },
  {
   "cell_type": "markdown",
   "id": "9fac0706-8d95-438a-818c-aab84e085f4f",
   "metadata": {},
   "source": [
    "- 딥러닝을 종단간 기계학습(end-to-end machine learning)이라고도 한다.\n",
    "    여기서 종단간은 '처음부터 끝까지'라는 의미로 데이터(입력)에서 목표한 결과(출력)를 사람의 개입없이 얻는다는 뜻을 담고있다."
   ]
  },
  {
   "cell_type": "markdown",
   "id": "c2eef717-1846-45a0-b87d-4803d37c29cc",
   "metadata": {},
   "source": [
    "- `?` 왜 손실 함수를 설정하는가?\n",
    "\n",
    "    신경망을 학습할 때 정확도를 지표로 삼아서는 안된다. 정확도를 지표로 하면 매개변수의 미분이 대부분의 장소에서 0이 되기 때문이다. --> 손실함수 사용!"
   ]
  },
  {
   "cell_type": "markdown",
   "id": "8f30ad46-95d3-4319-9356-3a0e3cb803f7",
   "metadata": {},
   "source": [
    "- 하이퍼파라미터 : 사람이 직접 설정해야 하는 매개변수. 그냥 매개변수와는 다르다."
   ]
  },
  {
   "cell_type": "markdown",
   "id": "60d4c131-5959-4f0e-ba10-f705fc9863dd",
   "metadata": {},
   "source": [
    "- 교차 엔트로피 오차 : $ E = -\\sum_k t_k logy_k $ 정답일 때의 출력이 전체 값을 정하게 된다. $t_k$가 정답에 해당하는 인덱스의 원소만 1이고 나머지는 0"
   ]
  },
  {
   "cell_type": "markdown",
   "id": "fd8e96dd-7e7f-4ba1-ba97-4089189f6734",
   "metadata": {},
   "source": [
    "---"
   ]
  },
  {
   "cell_type": "markdown",
   "id": "e9a9e557-bf90-4460-9d5b-ae9a06c7d4c3",
   "metadata": {},
   "source": [
    "# 5. 오차역전파법"
   ]
  },
  {
   "cell_type": "markdown",
   "id": "eb4e35ed-f6da-42e5-85fd-4cbf315ebef1",
   "metadata": {},
   "source": [
    "- 연쇄법칙"
   ]
  },
  {
   "cell_type": "markdown",
   "id": "668aaf03-d1f1-4577-a26c-0c0347f3c026",
   "metadata": {},
   "source": [
    "## 5.5 활성화 함수 계층 구현하기"
   ]
  },
  {
   "cell_type": "markdown",
   "id": "0c237620-8dbd-41b6-b575-942e30d517a4",
   "metadata": {},
   "source": [
    "- Affine 계층 : 신경망의 순전파 때 수행하는 행렬의 곱을 기하학에서는 어파인 변환 이라고 한다. 어파인 변환을 수행하는 처리를 'Affine 계층'이라는 이름으로 구현"
   ]
  },
  {
   "cell_type": "markdown",
   "id": "26a206f0-df91-4f77-a5af-17802ca1d623",
   "metadata": {},
   "source": [
    "- Softmax-with-Loss 계층 :\n",
    "    \n",
    "    입력 값을 정규화(출력의 합이 1이 되도록 변형)하여 출력\n",
    "    \n",
    "    "
   ]
  },
  {
   "cell_type": "markdown",
   "id": "0845e9db-8ae8-4f5b-bbd3-e41bd6eac753",
   "metadata": {},
   "source": [
    "---"
   ]
  },
  {
   "cell_type": "markdown",
   "id": "6b3f4e0b-52c1-42e7-83d5-9d1d895ad764",
   "metadata": {},
   "source": [
    "# 6. 학습 관련 기술들"
   ]
  },
  {
   "cell_type": "markdown",
   "id": "525dd86a-4ee3-4349-bbe3-b8646cb4f118",
   "metadata": {},
   "source": [
    "## 6.1 매개변수 갱신"
   ]
  },
  {
   "cell_type": "markdown",
   "id": "2178cdcd-571b-4360-860d-0ca7ab973151",
   "metadata": {},
   "source": [
    "- 확률적 경사 하강법(SGD)"
   ]
  },
  {
   "cell_type": "markdown",
   "id": "ac90db3d-0d3e-4a79-b9fc-fd12ed1505c3",
   "metadata": {},
   "source": [
    "기울어진 방향으로 일정 거리만 가겠다는 단순한 방법"
   ]
  },
  {
   "cell_type": "markdown",
   "id": "f9742818-5d94-4ce0-89c0-2da5a6a01df6",
   "metadata": {},
   "source": [
    "- 모멘텀(Momentum)"
   ]
  },
  {
   "cell_type": "markdown",
   "id": "9496f356-97bf-45f2-a473-54c4ad335650",
   "metadata": {},
   "source": [
    "'운동량'을 뜻하는 단어로 물리와 관계가 있다. 기울기 방향으로 힘을 받아 물체가 가속된다.\n",
    "SGD와 비교하여 지그재그가 덜하다. 공이 그릇 바닥을 구르는듯한 움직임을 보인다."
   ]
  },
  {
   "cell_type": "markdown",
   "id": "d0d1b873-9375-471a-ad59-3be1bdd322f3",
   "metadata": {},
   "source": [
    "- AdaGrad"
   ]
  },
  {
   "cell_type": "markdown",
   "id": "5b470c16-d06a-45c0-b523-bd74eba8014f",
   "metadata": {},
   "source": [
    "신경망 학습에서는 학습률이 중요하다. 이 값이 너무 작으면 학습시간이 너무 길어지고, 반대로 너무 크면 발산하여 학습이 제대로 이뤄지지 않는다.\n",
    "이 학습률을 정하는 효과적 기술로 학습률 감소가 있다. 이는 학습을 진행하면서 학습률을 점차 줄여나가는 방법이다. 이를 더욱 발전시킨 것이 AdaGrad이다.\n",
    "\n",
    "AdaGrad는 '각각의' 매개변수에 '맞춤형' 값을 만들어준다.\n",
    "개별 매개변수에 적응적으로 학습률을 조정하면서 학습을 진행한다.\n",
    "매개변수의 원소중에서 많이 움직인(크게 갱신된) 원소는 학습률이 낮아지며 학습률 감소가 매개변수의 원소마다 다르게 적용된다."
   ]
  },
  {
   "cell_type": "markdown",
   "id": "a888db7c-b087-4dbf-9034-5da2ccd32ace",
   "metadata": {},
   "source": [
    "- Adam"
   ]
  },
  {
   "cell_type": "markdown",
   "id": "486f7c1c-a1b1-4343-8d14-11dcb3b531c5",
   "metadata": {},
   "source": [
    "모멘텀 + AdaGrad을 융합한 듯한 방법\n",
    "\n"
   ]
  },
  {
   "cell_type": "markdown",
   "id": "4b650ce0-d9f8-4eac-ac81-f2c648aa0943",
   "metadata": {},
   "source": [
    "많은 연구에서 SGD를 사용하고 있으며 요즘에는 많은 분들이 Adam을 만족해하며 쓰는 중"
   ]
  },
  {
   "cell_type": "markdown",
   "id": "2ec7fb53-c559-4636-996c-667dd6d96a3e",
   "metadata": {},
   "source": [
    "## 6.2 가중치의 초깃값"
   ]
  },
  {
   "cell_type": "markdown",
   "id": "63d71f99-935e-43d6-ad0a-7e9b256e2f5d",
   "metadata": {},
   "source": [
    "- 초깃값을 0으로 했을 때"
   ]
  },
  {
   "cell_type": "markdown",
   "id": "19f546b7-825a-4309-b75a-297a0728ce8c",
   "metadata": {},
   "source": [
    "학습이 올바르게 진행되지 않음.\n",
    "오차역전파법에서 모든 가중치의 값이 똑같이 갱신되기 때문.\n",
    "가중치를 여러 개 갖는 의미를 사라지게 한다. -> 초깃값을 무작위로 설정해야 함!"
   ]
  },
  {
   "cell_type": "markdown",
   "id": "038fdd6a-7a74-43a2-bacf-f0b7038febff",
   "metadata": {},
   "source": [
    "- Xavier 초깃값"
   ]
  },
  {
   "cell_type": "markdown",
   "id": "761e8ccd-b11f-4d65-879b-5d9f722caa31",
   "metadata": {},
   "source": [
    "앞 계층의 노드가 n개라면 표준편차가 $\\frac{1}{\\sqrt{n}}$ 인 분포를 사용\n",
    "\n",
    "활성화 함수가 선형일 때 사용 (sigmoid와 tanh는 좌우 대칭이라 중앙 부근이 선형인 함수라 볼 수 있음)"
   ]
  },
  {
   "cell_type": "markdown",
   "id": "5b0540d6-9b1d-4546-a420-be3231e8b2c6",
   "metadata": {},
   "source": [
    "- He 초깃값"
   ]
  },
  {
   "cell_type": "markdown",
   "id": "67d99bf2-a477-4b9f-90a4-885ac1c6b895",
   "metadata": {},
   "source": [
    "ReLU에 특화된 초깃값\n",
    "\n",
    "앞 계층의 노드가 n개일 때, 표준편차가 $\\sqrt\\frac{2}{n}$ 인 정규분포를 사용. ReLU는 음의 영역이 0이라서 더 넓게 분포시키기 위해 2배의 계수가 필요하다고 (직감적으로) 해석 가능"
   ]
  },
  {
   "cell_type": "markdown",
   "id": "b6b37665-3d8a-4724-a0cb-74307f21ac21",
   "metadata": {},
   "source": [
    "## 6.3 배치 정규화"
   ]
  },
  {
   "cell_type": "markdown",
   "id": "faf1af60-63aa-44ee-b82a-2085ebd450f4",
   "metadata": {},
   "source": [
    "- 가중치의 초깃값을 적절히 설정하면 각 층의 활성화값 분포가 적당히 퍼지면서 학습이 원활하게 수행.\n",
    "\n",
    "    배치 정규화는 각 층이 활성화를 적당히 퍼뜨리도록 '강제'해보는 방법\n",
    "    \n",
    "    미니배치의 평균과 분산을 구한 뒤 평균이 0, 분산이 1이 되게 정규화 -> 데이터 분포가 덜 치우침"
   ]
  },
  {
   "cell_type": "markdown",
   "id": "84372b16-85b2-4b1c-9108-dc884c167f21",
   "metadata": {},
   "source": [
    "`장점`"
   ]
  },
  {
   "cell_type": "markdown",
   "id": "2e52587a-6e4d-40fb-a0a2-5eead9df14e9",
   "metadata": {},
   "source": [
    "- 학습을 빨리 진행 가능\n",
    "- 초깃값에 크게 의존 X\n",
    "- 오버피팅 억제(드롭아웃 등의 필요성 감소)"
   ]
  },
  {
   "cell_type": "markdown",
   "id": "770303ae-8ef4-4348-97f8-1d028954a64a",
   "metadata": {},
   "source": [
    "## 6.4 바른 학습을 위해"
   ]
  },
  {
   "cell_type": "markdown",
   "id": "4e7a019b-05d4-455c-b277-28eb69bbf7c8",
   "metadata": {},
   "source": [
    "- 가중치 감소"
   ]
  },
  {
   "cell_type": "markdown",
   "id": "a02adf60-f98d-449b-bffb-d5fb479630e1",
   "metadata": {},
   "source": [
    "학습 과정에서 큰 가중치에 대해서는 그에 상응하는 큰 페널티를 부과하여 오버피팅을 억제."
   ]
  },
  {
   "cell_type": "markdown",
   "id": "d789be53-90f7-46e1-8433-81014bd197f7",
   "metadata": {},
   "source": [
    "- 드롭아웃"
   ]
  },
  {
   "cell_type": "markdown",
   "id": "3baf48f4-2b0a-43cb-807b-64ba3a3a9d53",
   "metadata": {},
   "source": [
    "훈련 때는 데이터를 흘릴 때마다 삭제할 뉴런을 무작위로 선택하고, 시험 때는 모든 뉴런에 신호를 전달"
   ]
  },
  {
   "cell_type": "markdown",
   "id": "3a50dde2-c3d5-4d92-b9ec-ee4272d08700",
   "metadata": {},
   "source": [
    "## 6.5 적절한 하이퍼파라미터 값 찾기"
   ]
  },
  {
   "cell_type": "markdown",
   "id": "bd7643ae-8141-4857-bd39-4772ff4942ce",
   "metadata": {},
   "source": [
    "- 하이퍼파라미터의 성능을 평가할 때는 시험 데이터를 사용해서는 안된다.\n",
    "    따라서 하이퍼파라미터를 조정할 때는 하이퍼파라미터 전용 확인 데이터가 필요한데 이를 일반적으로 검증 데이터(validation data)라고 부른다."
   ]
  },
  {
   "cell_type": "markdown",
   "id": "ecbc9b77-9f24-4dd8-ae39-a6ef27ab8287",
   "metadata": {},
   "source": [
    "- 하이퍼 파라미터 값 탐색은 최적 값이 존재할 법한 범위를 점차 좁히면서 하는 것이 효과적"
   ]
  },
  {
   "cell_type": "markdown",
   "id": "ce4e2213-b734-4c29-9d8a-0998888b895c",
   "metadata": {},
   "source": [
    "---"
   ]
  },
  {
   "cell_type": "markdown",
   "id": "95677948-613f-4518-a0fe-7a341062a254",
   "metadata": {},
   "source": [
    "# 7. 합성곱 신경망(CNN)"
   ]
  },
  {
   "cell_type": "markdown",
   "id": "11cc7e53-7be7-48ba-a9e0-e46779b56cb6",
   "metadata": {},
   "source": [
    "## 7.2 합성곱 계층"
   ]
  },
  {
   "cell_type": "markdown",
   "id": "866efb3b-3804-4eef-b1c9-aeba8938fedd",
   "metadata": {},
   "source": [
    "- 완전연결 계층(Affine 계층)의 문제점 : '데이터의 형상이 무시됨'\n",
    "\n",
    "    입력이 이미지일 경우를 예로 들면, 이미지는 통상 세로 * 가로 * 채널(색상)으로 구성된 3차원 데이터인데 완전연결 계층에 입력할 때는 3차원 데이터를 1차원의 데이터로 평탄화 해주어야함. (1, 28, 28)인 이미지 -> 1줄로 세운 784개의 데이터를 입력\n",
    "    \n",
    "- But 합성곱 계층은 형상을 유지. 이미지도 3차원 데이터로 입력받으며 마찬가지로 다음 계층에도 3차원 데이터로 전달."
   ]
  },
  {
   "cell_type": "markdown",
   "id": "4a27cd5c-effe-453d-a450-94e821f2d802",
   "metadata": {},
   "source": [
    "- 합성곱 연산"
   ]
  },
  {
   "cell_type": "markdown",
   "id": "08297a6e-e0e3-45ad-b431-2a1b1a221194",
   "metadata": {},
   "source": [
    "- 패딩 : 입력 데이터 주변을 특정 값(예컨대 0)으로 채우기도 한다."
   ]
  },
  {
   "cell_type": "markdown",
   "id": "c50d1aa7-79a9-4fcf-91bc-b15650c3dd11",
   "metadata": {},
   "source": [
    "- 스트라이드 : 필터를 적용하는 위치의 간격"
   ]
  },
  {
   "cell_type": "markdown",
   "id": "e6cc419f-77b8-47fc-b5f8-ab12c0b0e0c8",
   "metadata": {},
   "source": [
    "- 3차원의 합성곱 연산에서 주의할 점은 입력 데이터의 채널 수와 필터의 채널 수가 같아야 한다는 점"
   ]
  },
  {
   "cell_type": "markdown",
   "id": "8c71dfe9-8e0c-4ea0-b1fd-81164039b64e",
   "metadata": {},
   "source": [
    "## 7.3 풀링 계층"
   ]
  },
  {
   "cell_type": "markdown",
   "id": "7611049b-3da4-45e8-a158-1b235e3e8023",
   "metadata": {},
   "source": [
    "- 풀링 : 가로·세로 방향의 공간을 줄이는 연산"
   ]
  },
  {
   "cell_type": "markdown",
   "id": "9343b812-cc64-42b3-9cb9-2050e9bb7e02",
   "metadata": {},
   "source": [
    "- 최대 풀링(max pooling) : 해당 영역의 최댓값을 구하는 연산. 이미지 인식 분야에서는 주로 최대 풀링을 사용"
   ]
  },
  {
   "cell_type": "markdown",
   "id": "f7c636b0-a261-4c7d-99ad-9a23ad7d46b4",
   "metadata": {},
   "source": [
    "- 풀링의 윈도우 크기와 스트라이드는 같은 값으로 설정하는 것이 보통. 예를 들어 윈도우가 3x3이면 스트라이드는 3으로."
   ]
  },
  {
   "cell_type": "markdown",
   "id": "59971731-8d49-405f-82cb-ad3c85b3ee8f",
   "metadata": {},
   "source": [
    "- 풀링 계층의 특징 : \n",
    "\n",
    "    학습해야 할 매개변수가 없다.\n",
    "\n",
    "    채널 수가 변하지 않는다\n",
    "    \n",
    "    입력의 변화에 영향을 적게 받는다(강건하다)"
   ]
  },
  {
   "cell_type": "markdown",
   "id": "02227677-77d1-4219-9934-432997b4d325",
   "metadata": {},
   "source": [
    "- im2col : 입력 데이터를 필터링(가중치 계산)하기 좋게 전개하는 함수\n",
    "\n",
    "     3차원 입력 데이터에 im2col을 적용하면 2차원 행렬로 바뀐다."
   ]
  },
  {
   "cell_type": "markdown",
   "id": "dc764f45-9f5b-4af1-a729-824afc7d452a",
   "metadata": {},
   "source": [
    "## 7.6 CNN 시각화하기"
   ]
  },
  {
   "cell_type": "markdown",
   "id": "3cc11659-b35c-418a-a802-17e2861b5808",
   "metadata": {},
   "source": [
    "\n",
    "- 에지 : 색상이 바뀐 경계선\n",
    "- 블롭 : 국소적으로 덩어리진 영역"
   ]
  },
  {
   "cell_type": "markdown",
   "id": "389e3432-d7c5-43e3-96b2-bd6898be0ed5",
   "metadata": {},
   "source": [
    "---"
   ]
  },
  {
   "cell_type": "markdown",
   "id": "c5ce77f7-24f9-4be9-9352-b42bee99fc1c",
   "metadata": {},
   "source": [
    "# 8. 딥러닝"
   ]
  },
  {
   "cell_type": "markdown",
   "id": "f27d65c7-3c16-4a3d-a578-2886beb16467",
   "metadata": {},
   "source": [
    "`?` optimizer(손실함수 가중치 최적화)가 사용되는 시점은 언제?"
   ]
  },
  {
   "cell_type": "markdown",
   "id": "fabc9d8d-04bc-4ff6-aaf7-4ae3c9b53b1c",
   "metadata": {},
   "source": [
    "## 8.1 더 깊게"
   ]
  },
  {
   "cell_type": "markdown",
   "id": "7e6e950c-6fd7-4503-b63e-0815b419dd66",
   "metadata": {},
   "source": [
    "- 데이터 확장(data augmentation)은 입력 이미지(훈련 이미지)를 알고리즘을 동원해 '인위적'으로 확장.\n",
    "\n",
    "    미세한 변화를 주어 이미지의 개수를 늘리는 것. 데이터가 몇 개 없을 때 특히 효과적"
   ]
  },
  {
   "cell_type": "markdown",
   "id": "0a55a6c0-0fb2-4918-8b18-9e89e08b4896",
   "metadata": {},
   "source": [
    "- 층을 깊게 할 때의 이점 :\n",
    "    1. 신경망의 매개변수 수가 줄어든다. (5x5의 합성곱 연산 1회는 3x3 합성곱 연산을 2회 수행하여 대체가능)\n",
    "    \n",
    "        전자의 매개변수 수가 25개(5x5)인 반면 후자는 총 18개 (2x3x3)이며, 매개변수 수는 층을 반복할수록 적어진다.\n",
    "    \n",
    "    2. 학습의 효율성 : 층을 깊게 함으로써 학습 데이터의 양을 줄여 학습을 고속으로 수행 가능.\n",
    "    \n",
    "    3. 정보를 계층적으로 전달할 수 있다. : 층을 깊이 함으로써 각 층이 학습해야 할 문제를 '풀기 쉬운 단순한 문제'로 분해할 수  있어 효율적으로 학습 가능"
   ]
  },
  {
   "cell_type": "markdown",
   "id": "d083f4fe-44fc-4eb1-90a6-9306af5a717d",
   "metadata": {},
   "source": [
    "## 8.2 딥러닝의 초기역사"
   ]
  },
  {
   "cell_type": "markdown",
   "id": "ce29e4f0-1d33-4a15-bc93-769128d823e7",
   "metadata": {},
   "source": [
    "- VGG"
   ]
  },
  {
   "cell_type": "markdown",
   "id": "d5faf1c9-007c-4a70-a541-503851e74473",
   "metadata": {},
   "source": [
    "- GoogLeNet"
   ]
  },
  {
   "cell_type": "markdown",
   "id": "3ab930a2-aad4-4eb0-a47f-b9882bfb8cd6",
   "metadata": {},
   "source": [
    "- ResNet"
   ]
  },
  {
   "cell_type": "markdown",
   "id": "9465ad57-780c-4153-89ec-5a30c0336e99",
   "metadata": {},
   "source": [
    "층이 지나치게 깊으면 학습이 잘 되지 않고, 오히려 성능이 떨어지기도함. ResNet에서는 그런 문제를 해결하기 위해서 스킵 연결(skip connection)을 도입 \n",
    "\n",
    "스킵 연결이란 입력 데이터를 합성곱 계층을 건너뛰어 출력에 바로 더하는 구조\n",
    "\n",
    "층의 깊이에 비례해 성능을 향상시킬 수 있게 한 핵심"
   ]
  },
  {
   "cell_type": "markdown",
   "id": "294fcf49-fdb9-48c4-8ed1-0b0016955d3f",
   "metadata": {},
   "source": [
    "## 8.3 더 빠르게(딥러닝 고속화)"
   ]
  },
  {
   "cell_type": "markdown",
   "id": "c3b49338-f80a-4676-aff5-a3c1079ed3f1",
   "metadata": {
    "tags": []
   },
   "source": [
    "## 8.4 딥러닝의 활용"
   ]
  },
  {
   "cell_type": "markdown",
   "id": "ccae1f6b-0281-4882-bc09-7afb2c2c8890",
   "metadata": {},
   "source": [
    "1. 사물 검출\n",
    "\n",
    "    이미지 속에 담긴 사물의 위치와 종류(클래스)를 알아내는 기술\n",
    "\n",
    "    R-CNN\n",
    "    \n",
    "    입력 이미지 -> 후보영역 추출 -> CNN 특징 계산 -> 영역분류"
   ]
  },
  {
   "cell_type": "markdown",
   "id": "70e60b7a-5530-4152-8f0d-54de6f291949",
   "metadata": {},
   "source": [
    "2. 분할(Segmentation)\n",
    "\n",
    "    이미지를 픽셀 수준에서 분류하는 문제\n",
    "    \n",
    "    가장 단순한 방법 : 모든 픽셀을 각각 추론(긴 시간이 걸림) -> FCN(Fully Convolutional Network)가 고안 : 단 한번의 forward 처리로 모든 픽셀의 클래스를 분류해주는 기법\n",
    "    \n",
    "    일반적인 CNN이 완전연결 계층(Fully connected layer)을 이용하는 반면 FCN은 이 완전연결 계층을 '같은 기능을 하는 합성곱 계층'으로 바꾼다."
   ]
  },
  {
   "cell_type": "markdown",
   "id": "58255023-d1c0-4cff-a883-4017740b4d8f",
   "metadata": {},
   "source": [
    "3. 사진 캡션 생성\n",
    "\n",
    "    사진을 주면 그 사진을 설명하는 글(사진 캡션)을 자동으로 생성하는 연구\n",
    "    \n",
    "    컴퓨터 비전과 자연어를 융합\n",
    "    \n",
    "- 멀티모달 처리 : 사진이나 자연어와 같은 여러 종류의 정보를 조합하고 처리하는 것"
   ]
  },
  {
   "cell_type": "markdown",
   "id": "9a74a997-9b62-4af4-a001-663d28cbcdf2",
   "metadata": {},
   "source": [
    "## 8.5 딥러닝의 미래"
   ]
  },
  {
   "cell_type": "markdown",
   "id": "3c340d43-4f01-40b3-9afa-7d71bc6f3170",
   "metadata": {},
   "source": [
    "1. 이미지 스타일(화풍) 변환"
   ]
  },
  {
   "cell_type": "markdown",
   "id": "a8967965-0655-41fc-9c66-d04bc9751757",
   "metadata": {},
   "source": [
    "2. 이미지 생성\n",
    "\n",
    "    GAN"
   ]
  },
  {
   "cell_type": "markdown",
   "id": "c25247a8-26e3-4af2-9b63-acd4f29dbd9e",
   "metadata": {},
   "source": [
    "3. 자율 주행"
   ]
  },
  {
   "cell_type": "markdown",
   "id": "d1363d17-08b0-4156-8b86-7eb6e86040f7",
   "metadata": {},
   "source": [
    "4. Deep Q-Netwrok(강화학습)\n",
    "\n",
    "    사람이 시행착오를 겪으며 배우듯 컴퓨터도 시행착오 과정에서 스스로 학습하게 하려는 분야\n",
    "    \n",
    "    '가르침'에 의존하는 '지도 학습'과는 다른 분야"
   ]
  },
  {
   "cell_type": "markdown",
   "id": "92b32a3d-915b-45d3-b8f6-1241f9fd641d",
   "metadata": {},
   "source": [
    "---"
   ]
  }
 ],
 "metadata": {
  "kernelspec": {
   "display_name": "Python 3",
   "language": "python",
   "name": "python3"
  },
  "language_info": {
   "codemirror_mode": {
    "name": "ipython",
    "version": 3
   },
   "file_extension": ".py",
   "mimetype": "text/x-python",
   "name": "python",
   "nbconvert_exporter": "python",
   "pygments_lexer": "ipython3",
   "version": "3.8.8"
  }
 },
 "nbformat": 4,
 "nbformat_minor": 5
}
