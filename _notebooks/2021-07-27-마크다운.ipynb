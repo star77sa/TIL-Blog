{
 "cells": [
  {
   "cell_type": "markdown",
   "id": "returning-understanding",
   "metadata": {},
   "source": [
    "# 마크다운\n",
    "> 마크다운 문법, 사용하는 것들\n",
    "\n",
    "- toc: true \n",
    "- badges: true\n",
    "- comments: true\n",
    "- categories: [Markdown]\n",
    "- image: images/"
   ]
  },
  {
   "cell_type": "markdown",
   "id": "narrow-split",
   "metadata": {},
   "source": [
    "이미지 업로드"
   ]
  },
  {
   "cell_type": "markdown",
   "id": "micro-participation",
   "metadata": {},
   "source": [
    "\n",
    "![](my_icons/리스트관련메서드.png)"
   ]
  },
  {
   "cell_type": "code",
   "execution_count": null,
   "id": "characteristic-match",
   "metadata": {},
   "outputs": [],
   "source": []
  }
 ],
 "metadata": {
  "kernelspec": {
   "display_name": "Python 3",
   "language": "python",
   "name": "python3"
  },
  "language_info": {
   "codemirror_mode": {
    "name": "ipython",
    "version": 3
   },
   "file_extension": ".py",
   "mimetype": "text/x-python",
   "name": "python",
   "nbconvert_exporter": "python",
   "pygments_lexer": "ipython3",
   "version": "3.8.8"
  }
 },
 "nbformat": 4,
 "nbformat_minor": 5
}
