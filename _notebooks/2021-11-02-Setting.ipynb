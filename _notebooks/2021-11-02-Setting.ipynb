{
 "cells": [
  {
   "cell_type": "markdown",
   "id": "63af8a47",
   "metadata": {},
   "source": [
    "# 분석 전 기본세팅\n",
    "> 분석 전 기본세팅, 필요코드 (불러오기, 내보내기, random forest, catboost, cross validation ..)\n",
    "\n",
    "- toc: true \n",
    "- badges: true\n",
    "- comments: true\n",
    "- categories: [Python]\n",
    "- image: images/"
   ]
  },
  {
   "cell_type": "markdown",
   "id": "19de0fc4",
   "metadata": {},
   "source": [
    "---"
   ]
  },
  {
   "cell_type": "markdown",
   "id": "5165e684",
   "metadata": {},
   "source": [
    "# 파일"
   ]
  },
  {
   "cell_type": "markdown",
   "id": "8b35fda3",
   "metadata": {},
   "source": [
    "## 파일 불러오기"
   ]
  },
  {
   "cell_type": "markdown",
   "id": "66acc877",
   "metadata": {},
   "source": [
    "``` python\n",
    "data = pd.read_csv(\"G:/내 드라이브/bb/cc/data.csv')\n",
    "```"
   ]
  },
  {
   "cell_type": "markdown",
   "id": "98ea843d",
   "metadata": {},
   "source": [
    "## 파일 내보내기"
   ]
  },
  {
   "cell_type": "markdown",
   "id": "88a5a366",
   "metadata": {},
   "source": [
    "``` python\n",
    "test.to_csv('test.csv', index = False)\n",
    "```"
   ]
  },
  {
   "cell_type": "markdown",
   "id": "2d9b8c8d",
   "metadata": {},
   "source": [
    "- 해당 소스코드가 있는 곳에 파일이 내보내진다."
   ]
  },
  {
   "cell_type": "markdown",
   "id": "48f0e19c",
   "metadata": {},
   "source": [
    "```python\n",
    "test.to_csv('G:/내 드라이브/Github/TIL-Blog/test.csv', index = False)\n",
    "```"
   ]
  },
  {
   "cell_type": "markdown",
   "id": "2f0717ee",
   "metadata": {},
   "source": [
    "- 해당 경로에 파일이 내보내진다."
   ]
  },
  {
   "cell_type": "markdown",
   "id": "694d3c1a",
   "metadata": {},
   "source": [
    "---"
   ]
  },
  {
   "cell_type": "markdown",
   "id": "1e43ebed",
   "metadata": {},
   "source": [
    "# 기본 라이브러리"
   ]
  },
  {
   "cell_type": "code",
   "execution_count": 2,
   "id": "49f67ad0-72db-4575-b5e5-3e5596d84b8c",
   "metadata": {},
   "outputs": [],
   "source": [
    "import pandas as pd # pandas\n",
    "import numpy as np # numpy"
   ]
  },
  {
   "cell_type": "markdown",
   "id": "47698318",
   "metadata": {},
   "source": [
    "``` python\n",
    "\n",
    "\n",
    "import matplotlib.pyplot as plt # matplotlib\n",
    "import matplotlib\n",
    "\n",
    "import seaborn as sns # seaborn\n",
    "```"
   ]
  },
  {
   "cell_type": "markdown",
   "id": "fa178607",
   "metadata": {},
   "source": [
    "---"
   ]
  },
  {
   "cell_type": "markdown",
   "id": "6aad6363",
   "metadata": {},
   "source": [
    "# 전처리"
   ]
  },
  {
   "cell_type": "markdown",
   "id": "be2371fa-69c2-42a7-898b-b5feaf3ec8fb",
   "metadata": {},
   "source": [
    "## train / validation set split"
   ]
  },
  {
   "cell_type": "code",
   "execution_count": 3,
   "id": "7d6d88e4-08ae-41ec-870f-d6b486188dcc",
   "metadata": {},
   "outputs": [],
   "source": [
    "train = pd.read_csv('https://bit.ly/fc-ml-titanic')"
   ]
  },
  {
   "cell_type": "code",
   "execution_count": 4,
   "id": "4f61b0fd-84c2-4b13-9f19-dda56856543d",
   "metadata": {},
   "outputs": [],
   "source": [
    "feature = [\n",
    "    'Pclass', 'Sex', 'Age', 'Fare'\n",
    "]"
   ]
  },
  {
   "cell_type": "code",
   "execution_count": 5,
   "id": "8b049373-f060-43ab-b5cd-cc82ec4f762c",
   "metadata": {},
   "outputs": [],
   "source": [
    "label = [\n",
    "    'Survived'\n",
    "]"
   ]
  },
  {
   "cell_type": "code",
   "execution_count": 6,
   "id": "664ce9c0-fdb5-40bd-9352-601fe8c86c4a",
   "metadata": {},
   "outputs": [],
   "source": [
    "from sklearn.model_selection import train_test_split"
   ]
  },
  {
   "cell_type": "markdown",
   "id": "8994da0d-66fe-4658-8b84-292c6669a9c0",
   "metadata": {},
   "source": [
    "* **test_size**: validation set에 할당할 비율 (20% -> 0.2)\n",
    "* **shuffle**: 셔플 옵션 (기본 True)\n",
    "* **random_state**: 랜덤 시드값"
   ]
  },
  {
   "cell_type": "code",
   "execution_count": 7,
   "id": "05ea7e13-6aa5-4702-9103-08a43b355845",
   "metadata": {},
   "outputs": [],
   "source": [
    "x_train, x_valid, y_train, y_valid = train_test_split(train[feature], train[label], test_size=0.2, shuffle=True, random_state=30)"
   ]
  },
  {
   "cell_type": "markdown",
   "id": "5fcba4dc-2df0-4fd9-8b79-40dfb81f08be",
   "metadata": {},
   "source": [
    "## 결측치 처리"
   ]
  },
  {
   "cell_type": "code",
   "execution_count": 8,
   "id": "51c9938a-71c0-4cdc-ac9f-dbf50726cf0b",
   "metadata": {},
   "outputs": [],
   "source": [
    "from sklearn.impute import SimpleImputer"
   ]
  },
  {
   "cell_type": "markdown",
   "id": "dfea938f-58b5-4579-8eb4-d1eb03069617",
   "metadata": {},
   "source": [
    "### 1. 수치형"
   ]
  },
  {
   "cell_type": "markdown",
   "id": "e0f0d6b8-7df4-48f3-907c-894c21fcccdc",
   "metadata": {},
   "source": [
    "칼럼 1개 처리하는 경우"
   ]
  },
  {
   "cell_type": "markdown",
   "id": "a83e393c-2617-4dcf-b6cb-bbf667d077f7",
   "metadata": {},
   "source": [
    "``` python\n",
    "train['Age'].fillna(train['Age'].mean())\n",
    "```"
   ]
  },
  {
   "cell_type": "markdown",
   "id": "a5425b0c-da94-401d-898d-4eb5f4460123",
   "metadata": {},
   "source": [
    "칼럼 여러개 처리하는 경우"
   ]
  },
  {
   "cell_type": "code",
   "execution_count": 9,
   "id": "f41e5611-844f-4c84-8e85-805a8076f4fb",
   "metadata": {},
   "outputs": [],
   "source": [
    "imputer = SimpleImputer(strategy='median') ## 한번에 여러개 처리. median, mean ...\n",
    "result = imputer.fit_transform(train[['Age', 'Pclass']])\n",
    "train[['Age', 'Pclass']] = result"
   ]
  },
  {
   "cell_type": "markdown",
   "id": "be4070e9-e9fb-4e68-a6f7-1c97f4df38a0",
   "metadata": {},
   "source": [
    "### 2. 범주형"
   ]
  },
  {
   "cell_type": "code",
   "execution_count": 10,
   "id": "569295fe-f9c8-4927-a19e-109222a7970c",
   "metadata": {},
   "outputs": [],
   "source": [
    "#collapse-output\n",
    "train = pd.read_csv('https://bit.ly/fc-ml-titanic')"
   ]
  },
  {
   "cell_type": "markdown",
   "id": "91780f58-c214-46ec-ae88-82792796ab76",
   "metadata": {},
   "source": [
    "컬럼 1개 처리하는 경우"
   ]
  },
  {
   "cell_type": "markdown",
   "id": "ac879aff-3814-42fc-9dbf-56a79ae65805",
   "metadata": {},
   "source": [
    "``` python\n",
    "train['Embarked'].fillna('S')\n",
    "```"
   ]
  },
  {
   "cell_type": "markdown",
   "id": "c2f98bf4-a8e9-4b26-9e14-c1279ef9926a",
   "metadata": {},
   "source": [
    "칼럼 여러개 처리하는 경우"
   ]
  },
  {
   "cell_type": "code",
   "execution_count": 11,
   "id": "3f317a51-77e2-4bc3-bb05-2b0da40b6b60",
   "metadata": {},
   "outputs": [],
   "source": [
    "imputer = SimpleImputer(strategy='most_frequent')\n",
    "result = imputer.fit_transform(train[['Embarked', 'Cabin']])\n",
    "train[['Embarked', 'Cabin']] = result"
   ]
  },
  {
   "cell_type": "markdown",
   "id": "d687a9b4-f192-4039-9f30-b3bcb84c121b",
   "metadata": {},
   "source": [
    "## Label Encoding : 문자를 수치로 변환"
   ]
  },
  {
   "cell_type": "code",
   "execution_count": 12,
   "id": "eaee692e-c85b-4dd7-a5dc-b072ff9caace",
   "metadata": {},
   "outputs": [],
   "source": [
    "from sklearn.preprocessing import LabelEncoder"
   ]
  },
  {
   "cell_type": "code",
   "execution_count": 13,
   "id": "470604c4-53cf-43ff-b126-2160e6135d88",
   "metadata": {},
   "outputs": [],
   "source": [
    "train['Embarked_num'] = LabelEncoder().fit_transform(train['Embarked'])"
   ]
  },
  {
   "cell_type": "code",
   "execution_count": 14,
   "id": "4c01061a-0f74-482b-be4c-5439f4772d97",
   "metadata": {},
   "outputs": [
    {
     "data": {
      "text/plain": [
       "2    646\n",
       "0    168\n",
       "1     77\n",
       "Name: Embarked_num, dtype: int64"
      ]
     },
     "execution_count": 14,
     "metadata": {},
     "output_type": "execute_result"
    }
   ],
   "source": [
    "train['Embarked_num'].value_counts()"
   ]
  },
  {
   "cell_type": "markdown",
   "id": "0804e40e-a91d-4099-98dc-07c059e60175",
   "metadata": {},
   "source": [
    "## 원 핫 인코딩"
   ]
  },
  {
   "cell_type": "code",
   "execution_count": 15,
   "id": "d72eeceb-22fd-4cca-8b8d-595c1140876d",
   "metadata": {},
   "outputs": [
    {
     "data": {
      "text/html": [
       "<div>\n",
       "<style scoped>\n",
       "    .dataframe tbody tr th:only-of-type {\n",
       "        vertical-align: middle;\n",
       "    }\n",
       "\n",
       "    .dataframe tbody tr th {\n",
       "        vertical-align: top;\n",
       "    }\n",
       "\n",
       "    .dataframe thead th {\n",
       "        text-align: right;\n",
       "    }\n",
       "</style>\n",
       "<table border=\"1\" class=\"dataframe\">\n",
       "  <thead>\n",
       "    <tr style=\"text-align: right;\">\n",
       "      <th></th>\n",
       "      <th>Embarked_0</th>\n",
       "      <th>Embarked_1</th>\n",
       "      <th>Embarked_2</th>\n",
       "    </tr>\n",
       "  </thead>\n",
       "  <tbody>\n",
       "    <tr>\n",
       "      <th>0</th>\n",
       "      <td>0</td>\n",
       "      <td>0</td>\n",
       "      <td>1</td>\n",
       "    </tr>\n",
       "    <tr>\n",
       "      <th>1</th>\n",
       "      <td>1</td>\n",
       "      <td>0</td>\n",
       "      <td>0</td>\n",
       "    </tr>\n",
       "    <tr>\n",
       "      <th>2</th>\n",
       "      <td>0</td>\n",
       "      <td>0</td>\n",
       "      <td>1</td>\n",
       "    </tr>\n",
       "    <tr>\n",
       "      <th>3</th>\n",
       "      <td>0</td>\n",
       "      <td>0</td>\n",
       "      <td>1</td>\n",
       "    </tr>\n",
       "    <tr>\n",
       "      <th>4</th>\n",
       "      <td>0</td>\n",
       "      <td>0</td>\n",
       "      <td>1</td>\n",
       "    </tr>\n",
       "    <tr>\n",
       "      <th>...</th>\n",
       "      <td>...</td>\n",
       "      <td>...</td>\n",
       "      <td>...</td>\n",
       "    </tr>\n",
       "    <tr>\n",
       "      <th>886</th>\n",
       "      <td>0</td>\n",
       "      <td>0</td>\n",
       "      <td>1</td>\n",
       "    </tr>\n",
       "    <tr>\n",
       "      <th>887</th>\n",
       "      <td>0</td>\n",
       "      <td>0</td>\n",
       "      <td>1</td>\n",
       "    </tr>\n",
       "    <tr>\n",
       "      <th>888</th>\n",
       "      <td>0</td>\n",
       "      <td>0</td>\n",
       "      <td>1</td>\n",
       "    </tr>\n",
       "    <tr>\n",
       "      <th>889</th>\n",
       "      <td>1</td>\n",
       "      <td>0</td>\n",
       "      <td>0</td>\n",
       "    </tr>\n",
       "    <tr>\n",
       "      <th>890</th>\n",
       "      <td>0</td>\n",
       "      <td>1</td>\n",
       "      <td>0</td>\n",
       "    </tr>\n",
       "  </tbody>\n",
       "</table>\n",
       "<p>891 rows × 3 columns</p>\n",
       "</div>"
      ],
      "text/plain": [
       "     Embarked_0  Embarked_1  Embarked_2\n",
       "0             0           0           1\n",
       "1             1           0           0\n",
       "2             0           0           1\n",
       "3             0           0           1\n",
       "4             0           0           1\n",
       "..          ...         ...         ...\n",
       "886           0           0           1\n",
       "887           0           0           1\n",
       "888           0           0           1\n",
       "889           1           0           0\n",
       "890           0           1           0\n",
       "\n",
       "[891 rows x 3 columns]"
      ]
     },
     "execution_count": 15,
     "metadata": {},
     "output_type": "execute_result"
    }
   ],
   "source": [
    "pd.get_dummies(train['Embarked_num'], prefix = 'Embarked')"
   ]
  },
  {
   "cell_type": "markdown",
   "id": "1fc31514-1ee7-40cc-ae1d-e68f3448ef3a",
   "metadata": {},
   "source": [
    "## 정규화 Normalize (최솟값 0 최대값 1)"
   ]
  },
  {
   "cell_type": "code",
   "execution_count": 16,
   "id": "030ee939-4bcc-4283-b1a9-3a56612244fb",
   "metadata": {},
   "outputs": [],
   "source": [
    "movie = {'naver': [2, 4, 6, 8, 10], \n",
    "         'netflix': [1, 2, 3, 4, 5]}\n",
    "movie = pd.DataFrame(data=movie)"
   ]
  },
  {
   "cell_type": "code",
   "execution_count": 17,
   "id": "524d0f71-25be-40a4-9c44-b971a92c0e00",
   "metadata": {},
   "outputs": [],
   "source": [
    "from sklearn.preprocessing import MinMaxScaler"
   ]
  },
  {
   "cell_type": "code",
   "execution_count": 18,
   "id": "11babaf0-889e-4e09-8d3f-43fe9c417cc6",
   "metadata": {},
   "outputs": [],
   "source": [
    "min_max_movie = MinMaxScaler().fit_transform(movie)"
   ]
  },
  {
   "cell_type": "code",
   "execution_count": 19,
   "id": "638f1a15-5c07-4b4b-b29f-c0c910c7b692",
   "metadata": {},
   "outputs": [
    {
     "data": {
      "text/html": [
       "<div>\n",
       "<style scoped>\n",
       "    .dataframe tbody tr th:only-of-type {\n",
       "        vertical-align: middle;\n",
       "    }\n",
       "\n",
       "    .dataframe tbody tr th {\n",
       "        vertical-align: top;\n",
       "    }\n",
       "\n",
       "    .dataframe thead th {\n",
       "        text-align: right;\n",
       "    }\n",
       "</style>\n",
       "<table border=\"1\" class=\"dataframe\">\n",
       "  <thead>\n",
       "    <tr style=\"text-align: right;\">\n",
       "      <th></th>\n",
       "      <th>naver</th>\n",
       "      <th>netflix</th>\n",
       "    </tr>\n",
       "  </thead>\n",
       "  <tbody>\n",
       "    <tr>\n",
       "      <th>0</th>\n",
       "      <td>0.00</td>\n",
       "      <td>0.00</td>\n",
       "    </tr>\n",
       "    <tr>\n",
       "      <th>1</th>\n",
       "      <td>0.25</td>\n",
       "      <td>0.25</td>\n",
       "    </tr>\n",
       "    <tr>\n",
       "      <th>2</th>\n",
       "      <td>0.50</td>\n",
       "      <td>0.50</td>\n",
       "    </tr>\n",
       "    <tr>\n",
       "      <th>3</th>\n",
       "      <td>0.75</td>\n",
       "      <td>0.75</td>\n",
       "    </tr>\n",
       "    <tr>\n",
       "      <th>4</th>\n",
       "      <td>1.00</td>\n",
       "      <td>1.00</td>\n",
       "    </tr>\n",
       "  </tbody>\n",
       "</table>\n",
       "</div>"
      ],
      "text/plain": [
       "   naver  netflix\n",
       "0   0.00     0.00\n",
       "1   0.25     0.25\n",
       "2   0.50     0.50\n",
       "3   0.75     0.75\n",
       "4   1.00     1.00"
      ]
     },
     "execution_count": 19,
     "metadata": {},
     "output_type": "execute_result"
    }
   ],
   "source": [
    "pd.DataFrame(min_max_movie, columns=['naver', 'netflix'])"
   ]
  },
  {
   "cell_type": "markdown",
   "id": "944d2008-41e1-4974-bc0b-9b496673aac0",
   "metadata": {},
   "source": [
    "## 표준화 Standard Scaling (평균 0 표준편차 1)"
   ]
  },
  {
   "cell_type": "code",
   "execution_count": 20,
   "id": "060b5cf6-884b-47e2-9f30-6f4e8e3b335d",
   "metadata": {},
   "outputs": [],
   "source": [
    "from sklearn.preprocessing import StandardScaler"
   ]
  },
  {
   "cell_type": "code",
   "execution_count": 21,
   "id": "6c38989a-e920-4f1f-9e86-58333e6c8c77",
   "metadata": {},
   "outputs": [],
   "source": [
    "x = np.arange(10)\n",
    "# outlier 추가\n",
    "x[9] = 1000\n",
    "x = x.reshape(-1, 1)"
   ]
  },
  {
   "cell_type": "code",
   "execution_count": 22,
   "id": "9bd6c018-9336-44a2-8c55-c2bdd73de6f0",
   "metadata": {},
   "outputs": [],
   "source": [
    "scaled = StandardScaler().fit_transform(x)"
   ]
  },
  {
   "cell_type": "code",
   "execution_count": 23,
   "id": "12e70d28-35e8-4b1f-b74a-91881cd2b6da",
   "metadata": {},
   "outputs": [
    {
     "data": {
      "text/plain": [
       "(0.0, 1.0)"
      ]
     },
     "execution_count": 23,
     "metadata": {},
     "output_type": "execute_result"
    }
   ],
   "source": [
    "round(scaled.mean(), 2), scaled.std()"
   ]
  },
  {
   "cell_type": "markdown",
   "id": "cd9b1265",
   "metadata": {},
   "source": [
    "---"
   ]
  },
  {
   "cell_type": "markdown",
   "id": "2ce6cdbb-bd8b-4370-8e45-c676d60b66b8",
   "metadata": {},
   "source": [
    "# 검증, 튜닝"
   ]
  },
  {
   "cell_type": "markdown",
   "id": "c96fc2ce-8a84-4a48-a60d-07fb4d821196",
   "metadata": {},
   "source": [
    "## Cross Validation"
   ]
  },
  {
   "cell_type": "code",
   "execution_count": 24,
   "id": "73c38ff4-932d-4a14-8046-0070fdfcb7a8",
   "metadata": {
    "tags": []
   },
   "outputs": [],
   "source": [
    "#collapse-input\n",
    "from sklearn.datasets import load_boston\n",
    "data = load_boston()\n",
    "df = pd.DataFrame(data['data'], columns=data['feature_names'])\n",
    "df['MEDV'] = data['target']\n",
    "from lightgbm import LGBMRegressor, LGBMClassifier\n",
    "from sklearn.metrics import mean_absolute_error, mean_squared_error\n",
    "from sklearn.model_selection import train_test_split\n",
    "x_train, x_test, y_train, y_test = train_test_split(df.drop('MEDV', 1), df['MEDV'], random_state=42)"
   ]
  },
  {
   "cell_type": "code",
   "execution_count": 25,
   "id": "d8bc2dfa-c5c8-40a8-b9c4-73ec79a2fbc9",
   "metadata": {},
   "outputs": [],
   "source": [
    "from sklearn.model_selection import KFold"
   ]
  },
  {
   "cell_type": "code",
   "execution_count": 26,
   "id": "736f9f70-5564-441f-ad32-0557d59ec94f",
   "metadata": {},
   "outputs": [],
   "source": [
    "n_splits = 5\n",
    "kfold = KFold(n_splits=n_splits, shuffle = True, random_state=42)\n",
    "X = np.array(df.drop('MEDV', 1))\n",
    "Y = np.array(df['MEDV'])\n",
    "lgbm_fold = LGBMRegressor(random_state=42)"
   ]
  },
  {
   "cell_type": "code",
   "execution_count": 27,
   "id": "f5dc1118-7208-4826-90d8-b858689f8327",
   "metadata": {},
   "outputs": [
    {
     "name": "stdout",
     "output_type": "stream",
     "text": [
      "Fold = 1, prediction score = 8.34\n",
      "Fold = 2, prediction score = 10.40\n",
      "Fold = 3, prediction score = 17.58\n",
      "Fold = 4, prediction score = 6.94\n",
      "Fold = 5, prediction score = 12.16\n",
      "------------------------------\n",
      "Average Error: 11.083201392666322\n"
     ]
    }
   ],
   "source": [
    "i = 1\n",
    "total_error = 0\n",
    "for train_index, test_index in kfold.split(X):\n",
    "    x_train_fold, x_test_fold = X[train_index], X[test_index]\n",
    "    y_train_fold, y_test_fold = Y[train_index], Y[test_index]\n",
    "    lgbm_pred_fold = lgbm_fold.fit(x_train_fold, y_train_fold).predict(x_test_fold)\n",
    "    error = mean_squared_error(lgbm_pred_fold, y_test_fold)\n",
    "    print('Fold = {}, prediction score = {:.2f}'.format(i, error))\n",
    "    total_error += error\n",
    "    i+=1\n",
    "print('---'*10)\n",
    "print('Average Error: %s' % (total_error / n_splits))"
   ]
  },
  {
   "cell_type": "markdown",
   "id": "120132ed-b5e1-415b-8830-9ddf85b76746",
   "metadata": {},
   "source": [
    "## Hyperparameter 튜닝"
   ]
  },
  {
   "cell_type": "markdown",
   "id": "46c8fa92-e37e-468c-8e91-7720b866ccc5",
   "metadata": {},
   "source": [
    "### 1. RandomizedSearchCV"
   ]
  },
  {
   "cell_type": "code",
   "execution_count": 28,
   "id": "e735103b-1c23-4c6c-83e0-9639c710d893",
   "metadata": {},
   "outputs": [],
   "source": [
    "params = {\n",
    "    'n_estimators': [200, 500, 1000, 2000], \n",
    "    'learning_rate': [0.1, 0.05, 0.01], \n",
    "    'max_depth': [6, 7, 8], \n",
    "    'colsample_bytree': [0.8, 0.9, 1.0], \n",
    "    'subsample': [0.8, 0.9, 1.0],\n",
    "}"
   ]
  },
  {
   "cell_type": "markdown",
   "id": "823567c1-4142-4c0c-9ff6-d93ddc7b9aae",
   "metadata": {},
   "source": [
    "**주요 Hyperparameter (LGBM)**\n",
    "- random_state: 랜덤 시드 고정 값. 고정해두고 튜닝할 것!\n",
    "- n_jobs: CPU 사용 갯수\n",
    "- learning_rate: 학습율. 너무 큰 학습율은 성능을 떨어뜨리고, 너무 작은 학습율은 학습이 느리다. 적절한 값을 찾아야함. n_estimators와 같이 튜닝. default=0.1\n",
    "- n_estimators: 부스팅 스테이지 수. (랜덤포레스트 트리의 갯수 설정과 비슷한 개념). default=100\n",
    "- max_depth: 트리의 깊이. 과대적합 방지용. default=3. \n",
    "- colsample_bytree: 샘플 사용 비율 (max_features와 비슷한 개념). 과대적합 방지용. default=1.0"
   ]
  },
  {
   "cell_type": "code",
   "execution_count": 29,
   "id": "9227638f-3dd7-4538-8551-c5cd4d6baedd",
   "metadata": {},
   "outputs": [],
   "source": [
    "from sklearn.model_selection import RandomizedSearchCV"
   ]
  },
  {
   "cell_type": "markdown",
   "id": "13f33e14-65e5-488e-a397-66781ef6bf5b",
   "metadata": {},
   "source": [
    "`n_iter` 값을 조절하여, 총 몇 회의 시도를 진행할 것인지 정의합니다.\n",
    "\n",
    "(회수가 늘어나면, 더 좋은 parameter를 찾을 확률은 올라가지만, 그만큼 시간이 오래걸립니다.)"
   ]
  },
  {
   "cell_type": "code",
   "execution_count": null,
   "id": "c47cb756-f5ee-4d1f-bb93-796654515480",
   "metadata": {},
   "outputs": [],
   "source": [
    "clf = RandomizedSearchCV(LGBMRegressor(), params, random_state=42, cv=3, n_iter=25, scoring='neg_mean_squared_error')\n",
    "clf.fit(x_train, y_train)"
   ]
  },
  {
   "cell_type": "code",
   "execution_count": null,
   "id": "57b979ed-5c25-4512-9c15-8bf2895c9bf6",
   "metadata": {},
   "outputs": [],
   "source": [
    "clf.best_score_"
   ]
  },
  {
   "cell_type": "code",
   "execution_count": null,
   "id": "d2fd039a-8d4e-498e-be10-4a3ff44cb46d",
   "metadata": {},
   "outputs": [],
   "source": [
    "clf.best_params_"
   ]
  },
  {
   "cell_type": "code",
   "execution_count": null,
   "id": "acabec5a-70b9-4d0f-8547-0b93d74d5ce2",
   "metadata": {},
   "outputs": [],
   "source": [
    "lgbm_best = LGBMRegressor(n_estimators=2000, subsample=0.8, max_depth=7, learning_rate=0.01, colsample_bytree=0.8)\n",
    "lgbm_best_pred = lgbm_best.fit(x_train, y_train).predict(x_test)"
   ]
  },
  {
   "cell_type": "markdown",
   "id": "24887f5c-22fe-45f4-a1ce-abc844b50e07",
   "metadata": {},
   "source": [
    "### 2. GridSearchCV"
   ]
  },
  {
   "cell_type": "markdown",
   "id": "9075e77d-1060-44a6-9b1e-0a895c1cc10d",
   "metadata": {},
   "source": [
    "- 모든 매개 변수 값에 대하여 **완전 탐색**을 시도합니다.\n",
    "- 따라서, 최적화할 parameter가 많다면, **시간이 매우 오래**걸립니다."
   ]
  },
  {
   "cell_type": "code",
   "execution_count": null,
   "id": "242cceab-64b1-43a6-a540-0ad819a71434",
   "metadata": {},
   "outputs": [],
   "source": [
    "params = {\n",
    "    'n_estimators': [500, 1000], \n",
    "    'learning_rate': [0.1, 0.05, 0.01], \n",
    "    'max_depth': [7, 8], \n",
    "    'colsample_bytree': [0.8, 0.9], \n",
    "    'subsample': [0.8, 0.9,],\n",
    "}"
   ]
  },
  {
   "cell_type": "code",
   "execution_count": null,
   "id": "0ddcfc9b-d815-4635-ba14-4fa11476344c",
   "metadata": {},
   "outputs": [],
   "source": [
    "from sklearn.model_selection import GridSearchCV"
   ]
  },
  {
   "cell_type": "code",
   "execution_count": null,
   "id": "6c29980e-1b49-439e-afb6-4bc9d7bb689f",
   "metadata": {},
   "outputs": [],
   "source": [
    "grid_search = GridSearchCV(LGBMRegressor(), params, cv=3, n_jobs=-1, scoring='neg_mean_squared_error')"
   ]
  },
  {
   "cell_type": "code",
   "execution_count": null,
   "id": "040efeff-f1f2-40b7-b132-618fd25843c2",
   "metadata": {},
   "outputs": [],
   "source": [
    "grid_search.fit(x_train, y_train)"
   ]
  },
  {
   "cell_type": "code",
   "execution_count": null,
   "id": "1c422d55-9e6c-418f-bd07-6ee67ab63a48",
   "metadata": {},
   "outputs": [],
   "source": [
    "grid_search.best_score_"
   ]
  },
  {
   "cell_type": "code",
   "execution_count": null,
   "id": "17252346-449d-44b3-bdc0-2c4d27bb9406",
   "metadata": {},
   "outputs": [],
   "source": [
    "grid_search.best_params_"
   ]
  },
  {
   "cell_type": "code",
   "execution_count": null,
   "id": "1962f06b-d7e7-426f-b639-d6a6d6f8537c",
   "metadata": {},
   "outputs": [],
   "source": [
    "lgbm_best = LGBMRegressor(n_estimators=500, subsample=0.8, max_depth=7, learning_rate=0.05, colsample_bytree=0.8)\n",
    "lgbm_best_pred = lgbm_best.fit(x_train, y_train).predict(x_test)"
   ]
  },
  {
   "cell_type": "markdown",
   "id": "b299562e-1a2b-45bd-b30a-20cd21c793b6",
   "metadata": {},
   "source": [
    "---"
   ]
  },
  {
   "cell_type": "markdown",
   "id": "544449a2",
   "metadata": {},
   "source": [
    "# Model"
   ]
  },
  {
   "cell_type": "markdown",
   "id": "2424e4aa",
   "metadata": {},
   "source": [
    "## CatBoost + 예시"
   ]
  },
  {
   "cell_type": "markdown",
   "id": "14a6ad64",
   "metadata": {},
   "source": [
    "``` python\n",
    "from catboost import CatBoostRegressor # 캣부스트 회귀\n",
    "from catboost import CatBoostClassifier # 캣부스트 분류\n",
    "```"
   ]
  },
  {
   "cell_type": "markdown",
   "id": "14ef9b5e",
   "metadata": {},
   "source": [
    "``` python\n",
    "model = CatBoostRegressor()\n",
    "model.fit(X_train, y_train, silent=True)\n",
    "\n",
    "pred = model.predict(X_test)\n",
    "\n",
    "rmse = (np.sqrt(np.mean(mean_squared_error(y_test, pred))))\n",
    "rmse\n",
    "```"
   ]
  },
  {
   "cell_type": "markdown",
   "id": "ee74a4d4",
   "metadata": {},
   "source": [
    "## Random Forest"
   ]
  },
  {
   "cell_type": "markdown",
   "id": "76d33499",
   "metadata": {},
   "source": [
    "```python\n",
    "from sklearn.ensemble import RandomForestRegressor\n",
    "from sklearn.ensemble import RandomForestClassifier\n",
    "```"
   ]
  },
  {
   "cell_type": "markdown",
   "id": "aae49968",
   "metadata": {},
   "source": [
    "```python\n",
    "rf = RandomForestClassifier(n_estimators=100, oob_score=True, random_state=123,max_depth=6)\n",
    "\n",
    "rf.fit(X_train, y_train)\n",
    "```"
   ]
  },
  {
   "cell_type": "markdown",
   "id": "06183db8",
   "metadata": {},
   "source": [
    "## XG BOOST, LightGBM"
   ]
  },
  {
   "cell_type": "markdown",
   "id": "94b3a3ce",
   "metadata": {},
   "source": [
    "``` python\n",
    "from xgboost import XGBRegressor\n",
    "from xgboost import XGBClassifier\n",
    "\n",
    "from lightgbm import LGBMRegressor\n",
    "from lightgbm import LGBMClassifier\n",
    "```"
   ]
  },
  {
   "cell_type": "markdown",
   "id": "482ab427",
   "metadata": {},
   "source": [
    "---"
   ]
  },
  {
   "cell_type": "markdown",
   "id": "ced0cf61",
   "metadata": {},
   "source": [
    "# 평가점수"
   ]
  },
  {
   "cell_type": "markdown",
   "id": "a8582952",
   "metadata": {},
   "source": [
    "## RMSE"
   ]
  },
  {
   "cell_type": "markdown",
   "id": "8760396a",
   "metadata": {},
   "source": [
    "``` python\n",
    "from sklearn.metrics import mean_squared_error\n",
    "\n",
    "rmse = (np.sqrt(np.mean(mean_squared_error(y_test, pred))))\n",
    "rmse\n",
    "```"
   ]
  },
  {
   "cell_type": "markdown",
   "id": "d0645b1b",
   "metadata": {},
   "source": [
    "## Accuracy"
   ]
  },
  {
   "cell_type": "markdown",
   "id": "ec1ed6df",
   "metadata": {},
   "source": [
    "```python\n",
    "from sklearn.metrics import accuracy_score\n",
    "\n",
    "accuracy = accuracy_score(y_test, predicted)\n",
    "```"
   ]
  },
  {
   "cell_type": "code",
   "execution_count": null,
   "id": "6919828f",
   "metadata": {},
   "outputs": [],
   "source": []
  }
 ],
 "metadata": {
  "kernelspec": {
   "display_name": "Python 3",
   "language": "python",
   "name": "python3"
  },
  "language_info": {
   "codemirror_mode": {
    "name": "ipython",
    "version": 3
   },
   "file_extension": ".py",
   "mimetype": "text/x-python",
   "name": "python",
   "nbconvert_exporter": "python",
   "pygments_lexer": "ipython3",
   "version": "3.8.8"
  }
 },
 "nbformat": 4,
 "nbformat_minor": 5
}
