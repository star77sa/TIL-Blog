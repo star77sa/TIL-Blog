{
 "cells": [
  {
   "cell_type": "markdown",
   "id": "ideal-dragon",
   "metadata": {},
   "source": [
    "# CS231n_CNN for Visual Recognition\n",
    "> Stanford University CS231n\n",
    "\n",
    "- toc: true \n",
    "- badges: true\n",
    "- comments: true\n",
    "- categories: [Pytorch]\n",
    "- image: images/"
   ]
  },
  {
   "cell_type": "markdown",
   "id": "brave-participant",
   "metadata": {},
   "source": [
    "---"
   ]
  },
  {
   "cell_type": "markdown",
   "id": "technological-bidding",
   "metadata": {},
   "source": [
    "- http://cs231n.stanford.edu/"
   ]
  },
  {
   "cell_type": "markdown",
   "id": "proved-interference",
   "metadata": {},
   "source": [
    "---\n",
    "# Lecture 2: Image Classification pipeline"
   ]
  },
  {
   "cell_type": "markdown",
   "id": "839fdff3-de7f-4067-b636-d88cdee88178",
   "metadata": {},
   "source": [
    "- **Image Classification** : a core task in Computer Vision"
   ]
  },
  {
   "cell_type": "markdown",
   "id": "0793de3b-2693-4324-b0f6-4e7d34274beb",
   "metadata": {},
   "source": [
    "{dog, cat, truck, plane, ...} 중에서 cat을 분류해 내는 것"
   ]
  },
  {
   "cell_type": "markdown",
   "id": "0095a340-bb2a-4dee-b91e-4c4caae442fa",
   "metadata": {},
   "source": [
    "이미지 분류는 이미지가 주어졌을 때 그에 대한 라벨(각 라벨에 대한 신뢰도를 표시하는 분류)를 예측하는 일이다. 이미지는 0~255 정수 범위를 가지는 Width(너비) x Height(높이) x 3 의 크기의 3차원 배열이다. 3은 Red, Green, Blue로 구성된 3개의 채널을 의미한다."
   ]
  },
  {
   "cell_type": "markdown",
   "id": "98727582-ee79-4136-b5fe-10ef8bcff0b8",
   "metadata": {},
   "source": [
    "- **The problem** : 이미지를 분류하는 일이 사람에게는 대수롭지 않겠지만, 컵퓨터 비전의 관점에서 생각해보면 해결해야 하는 분제들이 있다. 아래에 서술된 해결해야 하는 문제들 처럼, 이미지는 3차원 배열의 값으로 나타내는 것을 염두해두어야 한다."
   ]
  },
  {
   "cell_type": "markdown",
   "id": "d4f55080-341b-499e-b862-f21dca296435",
   "metadata": {},
   "source": [
    "    - Viewpoint variation(시점 변화) : \n",
    "    객체의 단일 인스턴스는 카메라에 의해 시점이 달라질 수 있다.\n",
    "    \n",
    "    - Scale variation(크기 변화) : \n",
    "    비주얼 클래스는 대부분 그것들의 크기의 변화를 나타낸다.(이미지의 크기뿐만 아니라 실제 세계에서의 크기까지 포함)\n",
    "    \n",
    "    - Deformation(변형) : \n",
    "    많은 객체들은 고정된 형태가 없고, 극단적인 형태로 변형될 수 있다.\n",
    "    \n",
    "    - Occlusion(폐색) : \n",
    "    객체들은 전체가 보이지 않을 수 있다. 때로는 물체의 매우 적은 부분(매우 적은 픽셀)만이 보인다.\n",
    "    \n",
    "    - Illumination conditions(조명 상태) : \n",
    "    조명의 영향으로 픽셀 값이 변형된다.\n",
    "    \n",
    "    - Background clutter(배경 분규) : \n",
    "    객체가 주변 황경에 섞여 알아보기 힘들게 된다.\n",
    "    \n",
    "    - Intra-class variation(내부클래스의 다양성) : \n",
    "    분류해야할 클래스는 범위가 큰 것들이 많다. 예를 들어 의자의 경우, 매우 다양한 형태의 객체가 있다."
   ]
  },
  {
   "cell_type": "markdown",
   "id": "224985c8-9c8d-46df-a799-8d6e5358eded",
   "metadata": {},
   "source": [
    "좋은 이미지 분류기는 각 클래스간의 감도를 유지하면서 동시에 이런 다양한 문제들에 대해 변함 없이 분류할 수 있는 성능을 유지해야 한다."
   ]
  },
  {
   "cell_type": "code",
   "execution_count": null,
   "id": "d9484cfb-069e-4d55-a710-f3f165364c3e",
   "metadata": {},
   "outputs": [],
   "source": []
  }
 ],
 "metadata": {
  "kernelspec": {
   "display_name": "Python 3",
   "language": "python",
   "name": "python3"
  },
  "language_info": {
   "codemirror_mode": {
    "name": "ipython",
    "version": 3
   },
   "file_extension": ".py",
   "mimetype": "text/x-python",
   "name": "python",
   "nbconvert_exporter": "python",
   "pygments_lexer": "ipython3",
   "version": "3.8.8"
  }
 },
 "nbformat": 4,
 "nbformat_minor": 5
}
