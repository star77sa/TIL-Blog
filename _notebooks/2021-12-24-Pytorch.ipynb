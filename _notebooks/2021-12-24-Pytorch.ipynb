{
 "cells": [
  {
   "cell_type": "markdown",
   "id": "ideal-dragon",
   "metadata": {},
   "source": [
    "# Pytorch_Tutorial\n",
    "> 파이토치 튜토리얼\n",
    "\n",
    "- toc: true \n",
    "- badges: true\n",
    "- comments: true\n",
    "- categories: [Pytorch]\n",
    "- image: images/"
   ]
  },
  {
   "cell_type": "markdown",
   "id": "brave-participant",
   "metadata": {},
   "source": [
    "---"
   ]
  },
  {
   "cell_type": "markdown",
   "id": "technological-bidding",
   "metadata": {},
   "source": [
    "- https://pytorch.org/tutorials/beginner/basics/intro.html"
   ]
  },
  {
   "cell_type": "markdown",
   "id": "proved-interference",
   "metadata": {},
   "source": [
    "---\n",
    "# 1. TENSORS"
   ]
  },
  {
   "cell_type": "markdown",
   "id": "41c84e8d-fb0c-4b6e-8808-e8fa7a20ba86",
   "metadata": {},
   "source": [
    "- Tensors are similar to NumPy’s ndarrays, except that tensors can run on GPUs or other hardware accelerators."
   ]
  },
  {
   "cell_type": "code",
   "execution_count": 1,
   "id": "bf7e88bb-7ca6-499a-9fe9-7c452677ee97",
   "metadata": {},
   "outputs": [],
   "source": [
    "import torch\n",
    "import numpy as np"
   ]
  },
  {
   "cell_type": "markdown",
   "id": "b68ad362-9f8f-4ba2-a6d8-90e06607a3ce",
   "metadata": {},
   "source": [
    "## Initializing a Tensor"
   ]
  },
  {
   "cell_type": "markdown",
   "id": "87c55ceb-1f32-46d4-b8c1-8d8a72d3a8dd",
   "metadata": {},
   "source": [
    "### Directly from data"
   ]
  },
  {
   "cell_type": "code",
   "execution_count": 2,
   "id": "1dccb541-cd46-4e01-a8d6-8719fdab453c",
   "metadata": {},
   "outputs": [],
   "source": [
    "data = [[1, 2],[3, 4]]\n",
    "x_data = torch.tensor(data)"
   ]
  },
  {
   "cell_type": "code",
   "execution_count": 3,
   "id": "ca5a6692-774e-449c-991b-39f1d5c7f1ce",
   "metadata": {},
   "outputs": [
    {
     "data": {
      "text/plain": [
       "tensor([[1, 2],\n",
       "        [3, 4]])"
      ]
     },
     "execution_count": 3,
     "metadata": {},
     "output_type": "execute_result"
    }
   ],
   "source": [
    "x_data"
   ]
  },
  {
   "cell_type": "markdown",
   "id": "78547667-1fdc-40cd-b95e-5eca0c6f9514",
   "metadata": {},
   "source": [
    "### From a NumPy array"
   ]
  },
  {
   "cell_type": "code",
   "execution_count": 4,
   "id": "11d9f396-ff12-4109-b688-fe57d6231a28",
   "metadata": {},
   "outputs": [],
   "source": [
    "np_array = np.array(data)\n",
    "x_np = torch.from_numpy(np_array)"
   ]
  },
  {
   "cell_type": "code",
   "execution_count": 5,
   "id": "210dcafa-454f-46cb-9c70-16525fcf0786",
   "metadata": {},
   "outputs": [
    {
     "data": {
      "text/plain": [
       "tensor([[1, 2],\n",
       "        [3, 4]], dtype=torch.int32)"
      ]
     },
     "execution_count": 5,
     "metadata": {},
     "output_type": "execute_result"
    }
   ],
   "source": [
    "x_np"
   ]
  },
  {
   "cell_type": "markdown",
   "id": "38d8d68f-2817-468a-8f4d-698c6b1b4cd8",
   "metadata": {},
   "source": [
    "### From another tensor:"
   ]
  },
  {
   "cell_type": "code",
   "execution_count": 6,
   "id": "5bcc4340-aec2-440a-b42c-099f93f05f4f",
   "metadata": {},
   "outputs": [
    {
     "name": "stdout",
     "output_type": "stream",
     "text": [
      "Ones Tensor: \n",
      " tensor([[1, 1],\n",
      "        [1, 1]]) \n",
      "\n",
      "Random Tensor: \n",
      " tensor([[0.7967, 0.9701],\n",
      "        [0.8611, 0.5783]]) \n",
      "\n"
     ]
    }
   ],
   "source": [
    "x_ones = torch.ones_like(x_data) # retains the properties of x_data\n",
    "print(f\"Ones Tensor: \\n {x_ones} \\n\")\n",
    "\n",
    "x_rand = torch.rand_like(x_data, dtype=torch.float) # overrides the datatype of x_data\n",
    "print(f\"Random Tensor: \\n {x_rand} \\n\")"
   ]
  },
  {
   "cell_type": "markdown",
   "id": "3f39da9b-ee74-44c3-b2d2-c75b2a71954a",
   "metadata": {},
   "source": [
    "### With random or constant values:"
   ]
  },
  {
   "cell_type": "code",
   "execution_count": 7,
   "id": "8159bda5-5421-4e8f-8768-62997dcffb97",
   "metadata": {},
   "outputs": [
    {
     "name": "stdout",
     "output_type": "stream",
     "text": [
      "Random Tensor: \n",
      " tensor([[0.8015, 0.6426, 0.2088],\n",
      "        [0.7153, 0.5423, 0.8865]]) \n",
      "\n",
      "Ones Tensor: \n",
      " tensor([[1., 1., 1.],\n",
      "        [1., 1., 1.]]) \n",
      "\n",
      "Zeros Tensor: \n",
      " tensor([[0., 0., 0.],\n",
      "        [0., 0., 0.]])\n"
     ]
    }
   ],
   "source": [
    "shape = (2,3,)\n",
    "rand_tensor = torch.rand(shape)\n",
    "ones_tensor = torch.ones(shape)\n",
    "zeros_tensor = torch.zeros(shape)\n",
    "\n",
    "print(f\"Random Tensor: \\n {rand_tensor} \\n\")\n",
    "print(f\"Ones Tensor: \\n {ones_tensor} \\n\")\n",
    "print(f\"Zeros Tensor: \\n {zeros_tensor}\")"
   ]
  },
  {
   "cell_type": "markdown",
   "id": "5418a7da-f7a9-4686-9d6f-fd4d7932e851",
   "metadata": {},
   "source": [
    "## Attributes of a Tensor"
   ]
  },
  {
   "cell_type": "code",
   "execution_count": 8,
   "id": "55513902-f4ce-4587-a19f-146bb5179858",
   "metadata": {},
   "outputs": [
    {
     "name": "stdout",
     "output_type": "stream",
     "text": [
      "Shape of tensor: torch.Size([3, 4])\n",
      "Datatype of tensor: torch.float32\n",
      "Device tensor is stored on: cpu\n"
     ]
    }
   ],
   "source": [
    "tensor = torch.rand(3,4)\n",
    "\n",
    "print(f\"Shape of tensor: {tensor.shape}\")\n",
    "print(f\"Datatype of tensor: {tensor.dtype}\")\n",
    "print(f\"Device tensor is stored on: {tensor.device}\")"
   ]
  },
  {
   "cell_type": "markdown",
   "id": "255d0615-d3de-4629-9c6c-2ab6ea57d16c",
   "metadata": {},
   "source": [
    "## Operations on Tensors"
   ]
  },
  {
   "cell_type": "markdown",
   "id": "79864992-f93a-436c-8800-fad4d810107a",
   "metadata": {},
   "source": [
    "- By default, tensors are created on the CPU. We need to explicitly move tensors to the GPU using"
   ]
  },
  {
   "cell_type": "code",
   "execution_count": 18,
   "id": "74e52f64-422e-4538-9608-b46bd21f42cb",
   "metadata": {},
   "outputs": [],
   "source": [
    "# We move our tensor to the GPU if available\n",
    "if torch.cuda.is_available():\n",
    "    tensor = tensor.to('cuda')"
   ]
  },
  {
   "cell_type": "markdown",
   "id": "f93d03b1-5e29-40cf-b2cb-f9b97b0a2b44",
   "metadata": {},
   "source": [
    "### Standard numpy-like indexing and slicing:"
   ]
  },
  {
   "cell_type": "code",
   "execution_count": 9,
   "id": "31824c6d-6d73-44d2-ae92-45eb08d9de5c",
   "metadata": {},
   "outputs": [
    {
     "name": "stdout",
     "output_type": "stream",
     "text": [
      "First row:  tensor([1., 1., 1., 1.])\n",
      "First column:  tensor([1., 1., 1., 1.])\n",
      "Last column: tensor([1., 1., 1., 1.])\n",
      "tensor([[1., 0., 1., 1.],\n",
      "        [1., 0., 1., 1.],\n",
      "        [1., 0., 1., 1.],\n",
      "        [1., 0., 1., 1.]])\n"
     ]
    }
   ],
   "source": [
    "tensor = torch.ones(4, 4)\n",
    "print('First row: ', tensor[0])\n",
    "print('First column: ', tensor[:, 0])\n",
    "print('Last column:', tensor[..., -1])\n",
    "tensor[:,1] = 0\n",
    "print(tensor)"
   ]
  },
  {
   "cell_type": "markdown",
   "id": "377be98f-8a62-469d-86b2-33ad0374e6a9",
   "metadata": {},
   "source": [
    "### Joining tensors\n",
    "You can use `torch.cat` to concatenate a sequence of tensors along a given dimension."
   ]
  },
  {
   "cell_type": "code",
   "execution_count": 10,
   "id": "a590a352-b48c-48c5-8281-36ac07614c5c",
   "metadata": {},
   "outputs": [
    {
     "name": "stdout",
     "output_type": "stream",
     "text": [
      "tensor([[1., 0., 1., 1., 1., 0., 1., 1., 1., 0., 1., 1.],\n",
      "        [1., 0., 1., 1., 1., 0., 1., 1., 1., 0., 1., 1.],\n",
      "        [1., 0., 1., 1., 1., 0., 1., 1., 1., 0., 1., 1.],\n",
      "        [1., 0., 1., 1., 1., 0., 1., 1., 1., 0., 1., 1.]])\n"
     ]
    }
   ],
   "source": [
    "t1 = torch.cat([tensor, tensor, tensor], dim=1)\n",
    "print(t1)"
   ]
  },
  {
   "cell_type": "markdown",
   "id": "8e601240-6e0b-4214-9e3f-2c65e8260eb8",
   "metadata": {},
   "source": [
    "### Arithmetic operations"
   ]
  },
  {
   "cell_type": "code",
   "execution_count": 11,
   "id": "99c563bb-20df-44ac-bb24-cab9e07ee168",
   "metadata": {},
   "outputs": [],
   "source": [
    "# This computes the matrix multiplication between two tensors.\n",
    "y1 = tensor @ tensor.T"
   ]
  },
  {
   "cell_type": "code",
   "execution_count": 12,
   "id": "82a3a02b-3eee-43fd-a66a-e3c2766b1a10",
   "metadata": {},
   "outputs": [],
   "source": [
    "# This computes the element-wise product.\n",
    "z1 = tensor * tensor"
   ]
  },
  {
   "cell_type": "markdown",
   "id": "dadaca79-8694-4d0a-a3f8-671939bcaab2",
   "metadata": {},
   "source": [
    "### Single-element tensors\n",
    "If you have a one-element tensor, for example by aggregating all values of a tensor into one value, you can convert it to a Python numerical value using `item()`:"
   ]
  },
  {
   "cell_type": "code",
   "execution_count": 13,
   "id": "7d1a5323-a410-4ab3-9adc-8f213b11cd56",
   "metadata": {},
   "outputs": [
    {
     "name": "stdout",
     "output_type": "stream",
     "text": [
      "12.0 <class 'float'>\n"
     ]
    }
   ],
   "source": [
    "agg = tensor.sum()\n",
    "agg_item = agg.item()\n",
    "print(agg_item, type(agg_item))"
   ]
  },
  {
   "cell_type": "markdown",
   "id": "865ed1df-d292-46b7-8539-47a6a11bc466",
   "metadata": {},
   "source": [
    "---"
   ]
  },
  {
   "cell_type": "markdown",
   "id": "c55c15f8-fc97-4f14-b0d9-3e2057d0cbf0",
   "metadata": {},
   "source": [
    "# 2. DATASETS & DATALOADERS"
   ]
  },
  {
   "cell_type": "markdown",
   "id": "f3ae3865-2207-47e5-aba9-630a571d7c27",
   "metadata": {},
   "source": [
    "- `Dataset` stores the samples and their corresponding labels, and `DataLoader` wraps an iterable around the `Dataset` to enable easy access to the samples."
   ]
  },
  {
   "cell_type": "markdown",
   "id": "e2f58c33-60b6-43aa-88c3-f1c1d0ffc6d1",
   "metadata": {},
   "source": [
    "## Loading a Dataset 데이터셋 불러오기"
   ]
  },
  {
   "cell_type": "markdown",
   "id": "2bd9380e-a848-48fe-994d-867c33ee8460",
   "metadata": {},
   "source": [
    "TorchVision 에서 Fashion-MNIST 데이터셋을 불러오는 예제를 살펴보겠습니다. Fashion-MNIST는 Zalando의 기사 이미지 데이터셋으로 60,000개의 학습 예제와 10,000개의 테스트 예제로 이루어져 있습니다. 각 예제는 흑백(grayscale)의 28x28 이미지와 10개 분류(class) 중 하나인 정답(label)으로 구성됩니다."
   ]
  },
  {
   "cell_type": "markdown",
   "id": "1ada8e9e-e9e5-4444-a3d9-8621af8dded3",
   "metadata": {},
   "source": [
    "We load the FashionMNIST Dataset with the following parameters:\n",
    "- `root` 는 학습/테스트 데이터가 저장되는 경로입니다.\n",
    "- `train` 은 학습용 또는 테스트용 데이터셋 여부를 지정합니다.\n",
    "- `download=True` 는 `root` 에 데이터가 없는 경우 인터넷에서 다운로드합니다.\n",
    "- `transform` 과 `target_transform` 은 특징(feature)과 정답(label) 변형(transform)을 지정합니다."
   ]
  },
  {
   "cell_type": "code",
   "execution_count": 1,
   "id": "87913762-1fcf-41b2-94db-1ce1e67eab52",
   "metadata": {},
   "outputs": [],
   "source": [
    "import torch\n",
    "from torch.utils.data import Dataset\n",
    "from torchvision import datasets\n",
    "from torchvision.transforms import ToTensor\n",
    "import matplotlib.pyplot as plt\n",
    "\n",
    "\n",
    "training_data = datasets.FashionMNIST(\n",
    "    root=\"data\",\n",
    "    train=True,\n",
    "    download=True,\n",
    "    transform=ToTensor()\n",
    ")\n",
    "\n",
    "test_data = datasets.FashionMNIST(\n",
    "    root=\"data\",\n",
    "    train=False,\n",
    "    download=True,\n",
    "    transform=ToTensor()\n",
    ")"
   ]
  },
  {
   "cell_type": "markdown",
   "id": "f8bc528b-0f7f-4955-b57b-3abadf3ff6a9",
   "metadata": {},
   "source": [
    "## Iterating and Visualizing the Dataset 데이터셋을 순회하고 시각화하기"
   ]
  },
  {
   "cell_type": "markdown",
   "id": "03a1fe4d-0d13-434d-a4b4-6e2e939c947e",
   "metadata": {},
   "source": [
    "`Dataset` 에 리스트(list)처럼 직접 접근(index)할 수 있습니다: `training_data[index]`. `matplotlib` 을 사용하여 학습 데이터의 일부를 시각화해보겠습니다.."
   ]
  },
  {
   "cell_type": "markdown",
   "id": "91b828bf-a0bc-4e66-b5d9-69bbf4011bc2",
   "metadata": {},
   "source": [
    "```python\n",
    "import matplotlib.pyplot as plt\n",
    "\n",
    "labels_map = {\n",
    "    0: \"T-Shirt\",\n",
    "    1: \"Trouser\",\n",
    "    2: \"Pullover\",\n",
    "    3: \"Dress\",\n",
    "    4: \"Coat\",\n",
    "    5: \"Sandal\",\n",
    "    6: \"Shirt\",\n",
    "    7: \"Sneaker\",\n",
    "    8: \"Bag\",\n",
    "    9: \"Ankle Boot\",\n",
    "}\n",
    "figure = plt.figure(figsize=(8, 8))\n",
    "cols, rows = 3, 3\n",
    "for i in range(1, cols+1 * rows + 1):\n",
    "    sample_idx = torch.randint(len(training_data), size=(1,)).item()\n",
    "    img, label = training_data[sample_idx]\n",
    "    figure.add_subplot(rows, cols, i)\n",
    "    plt.title(labels_map[label])\n",
    "    plt.axis(\"off\")\n",
    "    plt.imshow(img.squeeze(), cmap=\"gray\")\n",
    "plt.show()\n",
    "```"
   ]
  },
  {
   "attachments": {
    "0a3f2bf9-9a1e-4f99-b1a4-e880a86d6e95.png": {
     "image/png": "[encoded data removed]"
    }
   },
   "cell_type": "markdown",
   "id": "30d5a2a8-f240-4571-be9b-6fa1b22617a9",
   "metadata": {},
   "source": [
    "![image.png](attachment:0a3f2bf9-9a1e-4f99-b1a4-e880a86d6e95.png)"
   ]
  },
  {
   "cell_type": "markdown",
   "id": "c8387536-26c9-4e3b-95e1-eabd28dad8fb",
   "metadata": {},
   "source": [
    "## Creating a Custom Dataset for your files"
   ]
  },
  {
   "cell_type": "markdown",
   "id": "302ac1e9-9715-45d6-80bc-3740f50a447a",
   "metadata": {},
   "source": [
    "사용자 정의 Dataset 클래스는 반드시 3개 함수를 구현해야 합니다: \\_\\_init__, \\_\\_len__, and \\_\\_getitem__. 아래 구현을 살펴보면 FashionMNIST 이미지들은 `img_dir` 디렉토리에 저장되고, 정답은 `annotations_file` csv 파일에 별도로 저장됩니다."
   ]
  },
  {
   "cell_type": "markdown",
   "id": "665bfa04-24b9-40b9-8065-35d7f4e38d1e",
   "metadata": {},
   "source": [
    "In the next sections, we’ll break down what’s happening in each of these functions."
   ]
  },
  {
   "cell_type": "code",
   "execution_count": 2,
   "id": "dd5779e6-65a8-4ef6-a362-95816fe8b3f3",
   "metadata": {},
   "outputs": [],
   "source": [
    "import os\n",
    "import pandas as pd\n",
    "from torchvision.io import read_image\n",
    "\n",
    "class CustomImageDataset(Dataset):\n",
    "    def __init__(self, annotations_file, img_dir, transform=None, target_transform=None):\n",
    "        self.img_labels = pd.read_csv(annotations_file)\n",
    "        self.img_dir = img_dir\n",
    "        self.transform = transform\n",
    "        self.target_transform = target_transform\n",
    "\n",
    "    def __len__(self):\n",
    "        return len(self.img_labels)\n",
    "\n",
    "    def __getitem__(self, idx):\n",
    "        img_path = os.path.join(self.img_dir, self.img_labels.iloc[idx, 0])\n",
    "        image = read_image(img_path)\n",
    "        label = self.img_labels.iloc[idx, 1]\n",
    "        if self.transform:\n",
    "            image = self.transform(image)\n",
    "        if self.target_transform:\n",
    "            label = self.target_transform(label)\n",
    "        return image, label"
   ]
  },
  {
   "cell_type": "markdown",
   "id": "ce66b7ae-51f0-4849-ae73-6954a7eb1572",
   "metadata": {},
   "source": [
    "### \\_\\_init__"
   ]
  },
  {
   "cell_type": "markdown",
   "id": "16196618-44d5-4fda-820f-19221e980c19",
   "metadata": {},
   "source": [
    "\\_\\_init__  함수는 Dataset 객체가 생성(instantiate)될 때 한 번만 실행됩니다. 여기서는 이미지와 주석 파일(annotation_file)이 포함된 디렉토리와 (다음 장에서 자세히 살펴볼) 두가지 변형(transform)을 초기화합니다.\n",
    "\n",
    "labels.csv 파일은 다음과 같습니다:"
   ]
  },
  {
   "cell_type": "markdown",
   "id": "69f56adb-fd4f-4eef-8ca3-04bc766e6216",
   "metadata": {},
   "source": [
    "```\n",
    "tshirt1.jpg, 0\n",
    "tshirt2.jpg, 0\n",
    "......\n",
    "ankleboot999.jpg, 9\n",
    "```"
   ]
  },
  {
   "cell_type": "code",
   "execution_count": 3,
   "id": "471a7f47-147b-45ea-9d5d-c43cf3977a7c",
   "metadata": {},
   "outputs": [],
   "source": [
    "def __init__(self, annotations_file, img_dir, transform=None, target_transform=None):\n",
    "    self.img_labels = pd.read_csv(annotations_file, names=['file_name', 'label'])\n",
    "    self.img_dir = img_dir\n",
    "    self.transform = transform\n",
    "    self.target_transform = target_transform"
   ]
  },
  {
   "cell_type": "markdown",
   "id": "67d4bb4a-f936-4d64-8cf0-1397f9e02820",
   "metadata": {},
   "source": [
    "### \\_\\_len__"
   ]
  },
  {
   "cell_type": "markdown",
   "id": "8c3bae88-9acf-40e9-8b73-c45bd8a38405",
   "metadata": {},
   "source": [
    "\\_\\_len__ 함수는 데이터셋의 샘플 개수를 반환합니다."
   ]
  },
  {
   "cell_type": "markdown",
   "id": "e75b37c8-30a7-453f-a097-4bc392730d2c",
   "metadata": {},
   "source": [
    "Example:"
   ]
  },
  {
   "cell_type": "code",
   "execution_count": 4,
   "id": "7e33a819-7e8e-41ee-a460-242433ccfa8f",
   "metadata": {},
   "outputs": [],
   "source": [
    "def __len__(self):\n",
    "    return len(self.img_labels)"
   ]
  },
  {
   "cell_type": "markdown",
   "id": "1b688629-b287-4166-8604-cb257a0a382d",
   "metadata": {},
   "source": [
    "### \\_\\_getitem__"
   ]
  },
  {
   "cell_type": "markdown",
   "id": "3293d0d1-e6b9-407b-88ef-2038c868025a",
   "metadata": {},
   "source": [
    "\\_\\_getitem__ 함수는 주어진 인덱스 `idx` 에 해당하는 샘플을 데이터셋에서 불러오고 반환합니다. 인덱스를 기반으로, 디스크에서 이미지의 위치를 식별하고, `read_image` 를 사용하여 이미지를 텐서로 변환하고, `self.img_labels` 의 csv 데이터로부터 해당하는 정답(label)을 가져오고, (해당하는 경우) 변형(transform) 함수들을 호출한 뒤, 텐서 이미지와 라벨을 Python 사전(dict)형으로 반환합니다."
   ]
  },
  {
   "cell_type": "code",
   "execution_count": 5,
   "id": "f1ab6657-e3e1-49fa-9464-dae611a116fe",
   "metadata": {},
   "outputs": [],
   "source": [
    "def __getitem__(self, idx):\n",
    "    img_path = os.path.join(self.img_dir, self.img_labels.iloc[idx, 0])\n",
    "    image = read_image(img_path)\n",
    "    label = self.img_labels.iloc[idx, 1]\n",
    "    if self.transform:\n",
    "        image = self.transform(image)\n",
    "    if self.target_transform:\n",
    "        label = self.target_transform(label)\n",
    "    return image, label"
   ]
  },
  {
   "cell_type": "code",
   "execution_count": null,
   "id": "93bbe3fd-88c9-44da-ba21-72c10e099336",
   "metadata": {},
   "outputs": [],
   "source": []
  }
 ],
 "metadata": {
  "kernelspec": {
   "display_name": "Python 3",
   "language": "python",
   "name": "python3"
  },
  "language_info": {
   "codemirror_mode": {
    "name": "ipython",
    "version": 3
   },
   "file_extension": ".py",
   "mimetype": "text/x-python",
   "name": "python",
   "nbconvert_exporter": "python",
   "pygments_lexer": "ipython3",
   "version": "3.8.8"
  }
 },
 "nbformat": 4,
 "nbformat_minor": 5
}
