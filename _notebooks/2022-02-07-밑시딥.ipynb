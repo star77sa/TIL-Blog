{
 "cells": [
  {
   "cell_type": "markdown",
   "id": "ideal-dragon",
   "metadata": {},
   "source": [
    "# 밑바닥 부터 시작하는 딥러닝\n",
    "> 밑바닥 부터 시작하는 딥러닝\n",
    "\n",
    "- toc: true \n",
    "- badges: true\n",
    "- comments: true\n",
    "- categories: [python]\n",
    "- image: images/"
   ]
  },
  {
   "cell_type": "markdown",
   "id": "92db2688-eeeb-487d-8aae-2311b5054ad6",
   "metadata": {},
   "source": [
    "---\n"
   ]
  },
  {
   "cell_type": "markdown",
   "id": "ad7faad9-fee0-4f1f-bf7d-43f591d0d6e4",
   "metadata": {},
   "source": [
    "# 3. 신경망"
   ]
  },
  {
   "cell_type": "markdown",
   "id": "48fe96c6-dddc-4951-b03a-f690f5718cc0",
   "metadata": {},
   "source": [
    "- 활성화 함수는 입력 신호의 총합이 활성화를 일으키는지를 정하는 역할을 한다."
   ]
  },
  {
   "cell_type": "markdown",
   "id": "cb14f3d7-e8db-45d4-9f3e-72889350733a",
   "metadata": {},
   "source": [
    "- 신경망에서는 활성화 함수로 비선형 함수를 사용해야함. 선형 함수를 이용하면 신경망의 층을 깊게하는 의미가 없어지기 때문."
   ]
  },
  {
   "cell_type": "markdown",
   "id": "8adaaeec-7f14-4596-824e-68176c291647",
   "metadata": {},
   "source": [
    "---"
   ]
  },
  {
   "cell_type": "markdown",
   "id": "d584fd7c-bca5-45fc-9f4b-1ca561042940",
   "metadata": {},
   "source": [
    "# 4. 신경망 학습"
   ]
  },
  {
   "cell_type": "markdown",
   "id": "9fac0706-8d95-438a-818c-aab84e085f4f",
   "metadata": {},
   "source": [
    "- 딥러닝을 종단간 기계학습(end-to-end machine learning)이라고도 한다.\n",
    "    여기서 종단간은 '처음부터 끝까지'라는 의미로 데이터(입력)에서 목표한 결과(출력)를 사람의 개입없이 얻는다는 뜻을 담고있다."
   ]
  },
  {
   "cell_type": "markdown",
   "id": "c2eef717-1846-45a0-b87d-4803d37c29cc",
   "metadata": {},
   "source": [
    "- `?` 왜 손실 함수를 설정하는가?\n",
    "\n",
    "    신경망을 학습할 때 정확도를 지표로 삼아서는 안된다. 정확도를 지표로 하면 매개변수의 미분이 대부분의 장소에서 0이 되기 때문이다. --> 손실함수 사용!"
   ]
  },
  {
   "cell_type": "markdown",
   "id": "8f30ad46-95d3-4319-9356-3a0e3cb803f7",
   "metadata": {},
   "source": [
    "- 하이퍼파라미터 : 사람이 직접 설정해야 하는 매개변수. 그냥 매개변수와는 다르다."
   ]
  },
  {
   "cell_type": "markdown",
   "id": "60d4c131-5959-4f0e-ba10-f705fc9863dd",
   "metadata": {},
   "source": [
    "- 교차 엔트로피 오차 : $ E = -\\sum_k t_k logy_k $ 정답일 때의 출력이 전체 값을 정하게 된다. $t_k$가 정답에 해당하는 인덱스의 원소만 1이고 나머지는 0"
   ]
  },
  {
   "cell_type": "markdown",
   "id": "fd8e96dd-7e7f-4ba1-ba97-4089189f6734",
   "metadata": {},
   "source": [
    "---"
   ]
  },
  {
   "cell_type": "markdown",
   "id": "6b3f4e0b-52c1-42e7-83d5-9d1d895ad764",
   "metadata": {},
   "source": [
    "# 6. 학습 관련 기술들"
   ]
  },
  {
   "cell_type": "markdown",
   "id": "525dd86a-4ee3-4349-bbe3-b8646cb4f118",
   "metadata": {},
   "source": [
    "## 6.1 매개변수 갱신"
   ]
  },
  {
   "cell_type": "markdown",
   "id": "2178cdcd-571b-4360-860d-0ca7ab973151",
   "metadata": {},
   "source": [
    "- 확률적 경사 하강법(SGD)"
   ]
  },
  {
   "cell_type": "markdown",
   "id": "ac90db3d-0d3e-4a79-b9fc-fd12ed1505c3",
   "metadata": {},
   "source": [
    "기울어진 방향으로 일정 거리만 가겠다는 단순한 방법"
   ]
  },
  {
   "cell_type": "markdown",
   "id": "f9742818-5d94-4ce0-89c0-2da5a6a01df6",
   "metadata": {},
   "source": [
    "- 모멘텀(Momentum)"
   ]
  },
  {
   "cell_type": "markdown",
   "id": "9496f356-97bf-45f2-a473-54c4ad335650",
   "metadata": {},
   "source": [
    "'운동량'을 뜻하는 단어로 물리와 관계가 있다. 기울기 방향으로 힘을 받아 물체가 가속된다.\n",
    "SGD와 비교하여 지그재그가 덜하다. 공이 그릇 바닥을 구르는듯한 움직임을 보인다."
   ]
  },
  {
   "cell_type": "markdown",
   "id": "d0d1b873-9375-471a-ad59-3be1bdd322f3",
   "metadata": {},
   "source": [
    "- AdaGrad"
   ]
  },
  {
   "cell_type": "markdown",
   "id": "5b470c16-d06a-45c0-b523-bd74eba8014f",
   "metadata": {},
   "source": [
    "신경망 학습에서는 학습률이 중요하다. 이 값이 너무 작으면 학습시간이 너무 길어지고, 반대로 너무 크면 발산하여 학습이 제대로 이뤄지지 않는다.\n",
    "이 학습률을 정하는 효과적 기술로 학습률 감소가 있다. 이는 학습을 진행하면서 학습률을 점차 줄여나가는 방법이다. 이를 더욱 발전시킨 것이 AdaGrad이다.\n",
    "\n",
    "AdaGrad는 '각각의' 매개변수에 '맞춤형' 값을 만들어준다.\n",
    "개별 매개변수에 적응적으로 학습률을 조정하면서 학습을 진행한다.\n",
    "매개변수의 원소중에서 많이 움직인(크게 갱신된) 원소는 학습률이 낮아지며 학습률 감소가 매개변수의 원소마다 다르게 적용된다."
   ]
  },
  {
   "cell_type": "markdown",
   "id": "a888db7c-b087-4dbf-9034-5da2ccd32ace",
   "metadata": {},
   "source": [
    "- Adam"
   ]
  },
  {
   "cell_type": "markdown",
   "id": "486f7c1c-a1b1-4343-8d14-11dcb3b531c5",
   "metadata": {},
   "source": [
    "모멘텀 + AdaGrad을 융합한 듯한 방법\n",
    "\n"
   ]
  },
  {
   "cell_type": "markdown",
   "id": "4b650ce0-d9f8-4eac-ac81-f2c648aa0943",
   "metadata": {},
   "source": [
    "많은 연구에서 SGD를 사용하고 있으며 요즘에는 많은 분이 Adam을 만족해하며 쓰는 중"
   ]
  },
  {
   "cell_type": "markdown",
   "id": "2ec7fb53-c559-4636-996c-667dd6d96a3e",
   "metadata": {},
   "source": [
    "## 6.2 가중치의 초깃값"
   ]
  },
  {
   "cell_type": "markdown",
   "id": "63d71f99-935e-43d6-ad0a-7e9b256e2f5d",
   "metadata": {},
   "source": [
    "- 초깃값을 0으로 했을 때"
   ]
  },
  {
   "cell_type": "markdown",
   "id": "19f546b7-825a-4309-b75a-297a0728ce8c",
   "metadata": {},
   "source": [
    "학습이 올바르게 진행되지 않음.\n",
    "오차역전파법에서 모든 가중치의 값이 똑같이 갱신되기 때문.\n",
    "가중치를 여러 개 갖는 의미를 사라지게 한다. -> 초깃값을 무작위로 설정해야 함!"
   ]
  },
  {
   "cell_type": "markdown",
   "id": "038fdd6a-7a74-43a2-bacf-f0b7038febff",
   "metadata": {},
   "source": [
    "- Xavier 초깃값"
   ]
  },
  {
   "cell_type": "markdown",
   "id": "761e8ccd-b11f-4d65-879b-5d9f722caa31",
   "metadata": {},
   "source": [
    "앞 계층의 노드가 n개라면 표준편차가 $\\frac{1}{\\sqrt{n}}$ 인 분포를 사용\n",
    "\n",
    "활성화 함수가 선형일 때 사용 (sigmoid와 tanh는 좌우 대칭이라 중앙 부근이 선형인 함수라 볼 수 있음)"
   ]
  },
  {
   "cell_type": "markdown",
   "id": "5b0540d6-9b1d-4546-a420-be3231e8b2c6",
   "metadata": {},
   "source": [
    "- He 초깃값"
   ]
  },
  {
   "cell_type": "markdown",
   "id": "67d99bf2-a477-4b9f-90a4-885ac1c6b895",
   "metadata": {},
   "source": [
    "ReLU에 특화된 초깃값\n",
    "앞 계층의 노드가 n개일 때, 표준편차가 $\\sqrt\\frac{2}{n}$ 인 정규분포를 사용. ReLU는 음의 영역이 0이라서 더 넓게 분포시키기 위해 2배의 계수가 필요하다가 (직감적으로) 해석 가능"
   ]
  },
  {
   "cell_type": "markdown",
   "id": "b6b37665-3d8a-4724-a0cb-74307f21ac21",
   "metadata": {},
   "source": [
    "## 6.3 배치 정규화"
   ]
  },
  {
   "cell_type": "markdown",
   "id": "faf1af60-63aa-44ee-b82a-2085ebd450f4",
   "metadata": {},
   "source": [
    "- 가중치의 초깃값을 적절히 설정하면 각 층의 활성화값 분포가 적당히 퍼지면서 학습이 원활하게 수행.\n",
    "\n",
    "    배치 정규화는 각 층이 활성화를 적당히 퍼뜨리도록 '강제'해보는 방법"
   ]
  },
  {
   "cell_type": "code",
   "execution_count": null,
   "id": "a755fffc-69e4-4116-95dd-5ffe5253f9cb",
   "metadata": {},
   "outputs": [],
   "source": []
  }
 ],
 "metadata": {
  "kernelspec": {
   "display_name": "Python 3",
   "language": "python",
   "name": "python3"
  },
  "language_info": {
   "codemirror_mode": {
    "name": "ipython",
    "version": 3
   },
   "file_extension": ".py",
   "mimetype": "text/x-python",
   "name": "python",
   "nbconvert_exporter": "python",
   "pygments_lexer": "ipython3",
   "version": "3.8.8"
  }
 },
 "nbformat": 4,
 "nbformat_minor": 5
}
